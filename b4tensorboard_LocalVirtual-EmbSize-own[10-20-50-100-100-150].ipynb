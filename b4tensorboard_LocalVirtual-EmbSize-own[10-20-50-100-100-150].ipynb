{
 "cells": [
  {
   "cell_type": "markdown",
   "metadata": {},
   "source": [
    "### model.fit() fine tune the embedding_size(r_emb) parameter, r_l = 100\n",
    "#### r_emb= [10, 20, 50 , 100]"
   ]
  },
  {
   "cell_type": "code",
   "execution_count": null,
   "metadata": {},
   "outputs": [],
   "source": [
    "import tensorflow\n",
    "!python -V\n",
    "!python3 -c 'import tensorflow as tf; print(tf.__version__)'\n",
    "!python -c 'import keras; print(keras.__version__)'"
   ]
  },
  {
   "cell_type": "code",
   "execution_count": null,
   "metadata": {},
   "outputs": [],
   "source": [
    "!python train.py -d ks-cooks-1y -b 32 --max_length 60 --min_iter 10 --r_l 100 --r_emb 10"
   ]
  },
  {
   "cell_type": "code",
   "execution_count": null,
   "metadata": {},
   "outputs": [],
   "source": [
    "!python train.py -d ks-cooks-1y -b 32 --max_length 60 --min_iter 10 --r_l 100 --r_emb 20"
   ]
  },
  {
   "cell_type": "code",
   "execution_count": null,
   "metadata": {},
   "outputs": [],
   "source": [
    "!python train.py -d ks-cooks-1y -b 32 --max_length 60 --min_iter 10 --r_l 100 --r_emb 50"
   ]
  },
  {
   "cell_type": "code",
   "execution_count": 2,
   "metadata": {},
   "outputs": [
    {
     "name": "stdout",
     "output_type": "stream",
     "text": [
      "2019-12-12 10:00:59.098522: I tensorflow/core/platform/cpu_feature_guard.cc:142] Your CPU supports instructions that this TensorFlow binary was not compiled to use: AVX2 FMA\n",
      "2019-12-12 10:00:59.109773: I tensorflow/compiler/xla/service/service.cc:168] XLA service 0x7fb27ad725f0 executing computations on platform Host. Devices:\n",
      "2019-12-12 10:00:59.109791: I tensorflow/compiler/xla/service/service.cc:175]   StreamExecutor device (0): Host, Default Version\n",
      "Train on 177316 samples, validate on 629 samples\n",
      "Epoch 1/10\n",
      "\n",
      "Epoch 00001: val_loss improved from inf to 6.91759, saving model to ks-cooks-1y/models/rnn_cce_ml60_bs32_ne2.742_gc100_e100_h100_Ug_lr0.1_nt1.hdf5\n",
      "177316/177316 - 260s - loss: 6.9507 - val_loss: 6.9176\n",
      "Epoch 2/10\n",
      "\n",
      "Epoch 00002: val_loss improved from 6.91759 to 6.87634, saving model to ks-cooks-1y/models/rnn_cce_ml60_bs32_ne2.742_gc100_e100_h100_Ug_lr0.1_nt1.hdf5\n",
      "177316/177316 - 252s - loss: 6.9000 - val_loss: 6.8763\n",
      "Epoch 3/10\n",
      "\n",
      "Epoch 00003: val_loss improved from 6.87634 to 6.86196, saving model to ks-cooks-1y/models/rnn_cce_ml60_bs32_ne2.742_gc100_e100_h100_Ug_lr0.1_nt1.hdf5\n",
      "177316/177316 - 248s - loss: 6.8678 - val_loss: 6.8620\n",
      "Epoch 4/10\n",
      "\n",
      "Epoch 00004: val_loss improved from 6.86196 to 6.84049, saving model to ks-cooks-1y/models/rnn_cce_ml60_bs32_ne2.742_gc100_e100_h100_Ug_lr0.1_nt1.hdf5\n",
      "177316/177316 - 252s - loss: 6.8104 - val_loss: 6.8405\n",
      "Epoch 5/10\n",
      "\n",
      "Epoch 00005: val_loss improved from 6.84049 to 6.80153, saving model to ks-cooks-1y/models/rnn_cce_ml60_bs32_ne2.742_gc100_e100_h100_Ug_lr0.1_nt1.hdf5\n",
      "177316/177316 - 246s - loss: 6.7618 - val_loss: 6.8015\n",
      "Epoch 6/10\n",
      "\n",
      "Epoch 00006: val_loss did not improve from 6.80153\n",
      "177316/177316 - 250s - loss: 6.6910 - val_loss: 6.8828\n",
      "Epoch 7/10\n",
      "\n",
      "Epoch 00007: val_loss improved from 6.80153 to 6.69170, saving model to ks-cooks-1y/models/rnn_cce_ml60_bs32_ne2.742_gc100_e100_h100_Ug_lr0.1_nt1.hdf5\n",
      "177316/177316 - 254s - loss: 6.6518 - val_loss: 6.6917\n",
      "Epoch 8/10\n",
      "\n",
      "Epoch 00008: val_loss improved from 6.69170 to 6.66254, saving model to ks-cooks-1y/models/rnn_cce_ml60_bs32_ne2.742_gc100_e100_h100_Ug_lr0.1_nt1.hdf5\n",
      "177316/177316 - 249s - loss: 6.6214 - val_loss: 6.6625\n",
      "Epoch 9/10\n",
      "\n",
      "Epoch 00009: val_loss improved from 6.66254 to 6.63584, saving model to ks-cooks-1y/models/rnn_cce_ml60_bs32_ne2.742_gc100_e100_h100_Ug_lr0.1_nt1.hdf5\n",
      "177316/177316 - 247s - loss: 6.5891 - val_loss: 6.6358\n",
      "Epoch 10/10\n",
      "\n",
      "Epoch 00010: val_loss improved from 6.63584 to 6.60835, saving model to ks-cooks-1y/models/rnn_cce_ml60_bs32_ne2.742_gc100_e100_h100_Ug_lr0.1_nt1.hdf5\n",
      "177316/177316 - 243s - loss: 6.5535 - val_loss: 6.6083\n",
      "[6.9507259746115135, 6.8999838244087, 6.867809316845147, 6.810411956707251, 6.761843215717609, 6.6910156337215945, 6.651783948231954, 6.621360080016103, 6.589103552169385, 6.553455894913997]\n",
      "Opening file (1)\n",
      "Traceback (most recent call last):\n",
      "  File \"train.py\", line 66, in <module>\n",
      "    early_stopping=EsParse.get_early_stopper(args),\n",
      "  File \"train.py\", line 62, in main\n",
      "    progress=num(args.progress),\n",
      "  File \"/Users/xun/Documents/Thesis/remote/RNN-model/neural_networks/rnn_base.py\", line 222, in train\n",
      "    metrics = self._compute_validation_metrics(self.dataset, metrics)\n",
      "  File \"/Users/xun/Documents/Thesis/remote/RNN-model/neural_networks/rnn_oh_keras.py\", line 190, in _compute_validation_metrics\n",
      "    metrics['uniq_rec'].append(ev.uniq_rec())\n",
      "AttributeError: 'Evaluator' object has no attribute 'intra_list_similarity'\n"
     ]
    }
   ],
   "source": [
    "!python train.py -d ks-cooks-1y -b 32 --max_length 60 --min_iter 10 --r_l 100 --r_emb 100"
   ]
  },
  {
   "cell_type": "code",
   "execution_count": 3,
   "metadata": {},
   "outputs": [
    {
     "name": "stdout",
     "output_type": "stream",
     "text": [
      "2019-12-12 10:49:33.470959: I tensorflow/core/platform/cpu_feature_guard.cc:142] Your CPU supports instructions that this TensorFlow binary was not compiled to use: AVX2 FMA\n",
      "2019-12-12 10:49:33.487016: I tensorflow/compiler/xla/service/service.cc:168] XLA service 0x7fe68692d270 executing computations on platform Host. Devices:\n",
      "2019-12-12 10:49:33.487036: I tensorflow/compiler/xla/service/service.cc:175]   StreamExecutor device (0): Host, Default Version\n",
      "['ks-cooks-1y/models/rnn_cce_ml60_bs32_ne2.742_gc100_e100_h100_Ug_lr0.1_nt1.hdf5']\n",
      "2019-12-12 10:49:34.606294: W tensorflow/c/c_api.cc:326] Operation '{name:'lstm_1/while' id:687 op device:{} def:{{{node lstm_1/while}} = While[T=[DT_INT32, DT_INT32, DT_INT32, DT_VARIANT, DT_FLOAT, ..., DT_VARIANT, DT_VARIANT, DT_VARIANT, DT_VARIANT, DT_VARIANT], _lower_using_switch_merge=true, _num_original_outputs=59, body=lstm_1_while_body_814[], cond=lstm_1_while_cond_813[], output_shapes=[[], [], [], [], [?,100], ..., [], [], [], [], []], parallel_iterations=32](lstm_1/while/loop_counter, lstm_1/while/maximum_iterations, lstm_1/time, lstm_1/TensorArrayV2_1, lstm_1/zeros_like, lstm_1/zeros, lstm_1/zeros_1, lstm_1/strided_slice_1, lstm_1/TensorArrayUnstack/TensorListFromTensor, lstm_1/TensorArrayUnstack_1/TensorListFromTensor, lstm_1/kernel, lstm_1/recurrent_kernel, lstm_1/bias, lstm_1/while/EmptyTensorList, lstm_1/while/EmptyTensorList_1, lstm_1/while/EmptyTensorList_2, lstm_1/while/EmptyTensorList_3, lstm_1/while/EmptyTensorList_4, lstm_1/while/EmptyTensorList_5, lstm_1/while/EmptyTensorList_6, lstm_1/while/EmptyTensorList_7, lstm_1/while/EmptyTensorList_8, lstm_1/while/EmptyTensorList_9, lstm_1/while/EmptyTensorList_10, lstm_1/while/EmptyTensorList_11, lstm_1/while/EmptyTensorList_12, lstm_1/while/EmptyTensorList_13, lstm_1/while/EmptyTensorList_14, lstm_1/while/EmptyTensorList_15, lstm_1/while/EmptyTensorList_16, lstm_1/while/EmptyTensorList_17, lstm_1/while/EmptyTensorList_18, lstm_1/while/EmptyTensorList_19, lstm_1/while/EmptyTensorList_20, lstm_1/while/EmptyTensorList_21, lstm_1/while/EmptyTensorList_22, lstm_1/while/EmptyTensorList_23, lstm_1/while/EmptyTensorList_24, lstm_1/while/EmptyTensorList_25, lstm_1/while/EmptyTensorList_26, lstm_1/while/EmptyTensorList_27, lstm_1/while/EmptyTensorList_28, lstm_1/while/EmptyTensorList_29, lstm_1/while/EmptyTensorList_30, lstm_1/while/EmptyTensorList_31, lstm_1/while/EmptyTensorList_32, lstm_1/while/EmptyTensorList_33, lstm_1/while/EmptyTensorList_34, lstm_1/while/EmptyTensorList_35, lstm_1/while/EmptyTensorList_36, lstm_1/while/EmptyTensorList_37, lstm_1/while/EmptyTensorList_38, lstm_1/while/EmptyTensorList_39, lstm_1/while/EmptyTensorList_40, lstm_1/while/EmptyTensorList_41, lstm_1/while/EmptyTensorList_42, lstm_1/while/EmptyTensorList_43, lstm_1/while/EmptyTensorList_44, lstm_1/while/EmptyTensorList_45)}}' was changed by setting attribute after it was run by a session. This mutation will have no effect, and will trigger an error in the future. Either don't modify nodes after running them or create a new session.\n",
      "Opening file (1)\n",
      "Timer:  7.257276000000001\n",
      "-------------------\n",
      "( 1 / 1 ) results on ks-cooks-1y/models/rnn_cce_ml60_bs32_ne2.742_gc100_e100_h100_Ug_lr0.1_nt1.hdf5\n",
      "sps@10:  0.06677265500794913\n",
      "sps_short@10:  0.06774193548387097\n",
      "sps_long@10:  0.06583072100313479\n",
      "recall@10:  0.052330749028496194\n",
      "precision@10:  0.09554848966613708\n",
      "uniq_rec@10:  233\n",
      "total_item_coverage@10:  601\n",
      "item_coverage@10:  133\n",
      "user_coverage@10:  0.5548489666136724\n",
      "ndcg@10:  0.10158700820692913\n",
      "blockbuster_share@10:  0.40266222961730447\n",
      "intra_list_similarity@10:  7.305862485569353\n"
     ]
    }
   ],
   "source": [
    "!python test.py -d ks-cooks-1y -b 32 --max_length 60 --r_l 100 --r_emb 100 -i 2.742"
   ]
  },
  {
   "cell_type": "code",
   "execution_count": null,
   "metadata": {},
   "outputs": [],
   "source": [
    "!python train.py -d ks-cooks-1y -b 32 --max_length 60 --min_iter 10 --r_l 100 --r_emb 100"
   ]
  },
  {
   "cell_type": "code",
   "execution_count": null,
   "metadata": {},
   "outputs": [],
   "source": [
    "!python train.py -d ks-cooks-1y -b 32 --max_length 60 --min_iter 10 --r_l 100 --r_emb 150"
   ]
  },
  {
   "cell_type": "code",
   "execution_count": null,
   "metadata": {},
   "outputs": [],
   "source": [
    "# !python test.py -d ks-cooks-1y -b 32 --max_length 60 --r_emb 100 --r_l 150 -i 3781.422"
   ]
  }
 ],
 "metadata": {
  "kernelspec": {
   "display_name": "my-python3-virlenv",
   "language": "python",
   "name": "my-python3-virlenv"
  },
  "language_info": {
   "codemirror_mode": {
    "name": "ipython",
    "version": 3
   },
   "file_extension": ".py",
   "mimetype": "text/x-python",
   "name": "python",
   "nbconvert_exporter": "python",
   "pygments_lexer": "ipython3",
   "version": "3.7.2"
  }
 },
 "nbformat": 4,
 "nbformat_minor": 2
}
