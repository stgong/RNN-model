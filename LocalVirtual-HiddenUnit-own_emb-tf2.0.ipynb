{
 "cells": [
  {
   "cell_type": "markdown",
   "metadata": {},
   "source": [
    "### model.fit() fine tune the RNN hidden layer parameter\n",
    "#### layers = [200, 250, 300,'200-100','300-200','200-100-50', '300-200-100']"
   ]
  },
  {
   "cell_type": "code",
   "execution_count": 20,
   "metadata": {},
   "outputs": [
    {
     "name": "stdout",
     "output_type": "stream",
     "text": [
      "Python 3.7.2\n",
      "  remote_PC\u001b[m\n",
      "* \u001b[32mvirtual_mac\u001b[m\n"
     ]
    }
   ],
   "source": [
    "import tensorflow\n",
    "!python -V\n",
    "!git branch"
   ]
  },
  {
   "cell_type": "code",
   "execution_count": 1,
   "metadata": {},
   "outputs": [
    {
     "name": "stdout",
     "output_type": "stream",
     "text": [
      "2019-12-08 17:21:21.195202: I tensorflow/core/platform/cpu_feature_guard.cc:142] Your CPU supports instructions that this TensorFlow binary was not compiled to use: AVX2 FMA\n",
      "2019-12-08 17:21:21.244375: I tensorflow/compiler/xla/service/service.cc:168] XLA service 0x7fd83636fca0 executing computations on platform Host. Devices:\n",
      "2019-12-08 17:21:21.244395: I tensorflow/compiler/xla/service/service.cc:175]   StreamExecutor device (0): Host, Default Version\n",
      "Train on 177316 samples, validate on 629 samples\n",
      "Epoch 1/10\n",
      "2019-12-08 17:21:27.418607: W tensorflow/core/grappler/optimizers/implementation_selector.cc:310] Skipping optimization due to error while loading function libraries: Invalid argument: Functions '__inference___backward_cudnn_lstm_with_fallback_5815_7274' and '__inference___backward_standard_lstm_7392_7991_specialized_for_StatefulPartitionedCall_at___inference_distributed_function_8128' both implement 'lstm_48c631ad-958b-4b65-83f8-a6e267c99e1d' but their signatures do not match.\n",
      "2019-12-08 17:26:27.407042: W tensorflow/core/grappler/optimizers/implementation_selector.cc:310] Skipping optimization due to error while loading function libraries: Invalid argument: Functions '__inference_standard_lstm_19446' and '__inference_standard_lstm_19446_specialized_for_sequential_lstm_StatefulPartitionedCall_at___inference_distributed_function_21314' both implement 'lstm_53929a30-0b4f-46ff-9cb2-fda1701d43c9' but their signatures do not match.\n",
      "\n",
      "Epoch 00001: val_loss improved from inf to 6.89466, saving model to ks-cooks-1y/models/rnn_cce_ml60_bs32_ne2.549_gc100_e100_h100_Ug_lr0.1_nt1.hdf5\n",
      "177316/177316 - 303s - loss: 6.9483 - val_loss: 6.8947\n",
      "Epoch 2/10\n",
      "\n",
      "Epoch 00002: val_loss improved from 6.89466 to 6.85470, saving model to ks-cooks-1y/models/rnn_cce_ml60_bs32_ne2.549_gc100_e100_h100_Ug_lr0.1_nt1.hdf5\n",
      "177316/177316 - 328s - loss: 6.8861 - val_loss: 6.8547\n",
      "Epoch 3/10\n",
      "\n",
      "Epoch 00003: val_loss improved from 6.85470 to 6.82147, saving model to ks-cooks-1y/models/rnn_cce_ml60_bs32_ne2.549_gc100_e100_h100_Ug_lr0.1_nt1.hdf5\n",
      "177316/177316 - 297s - loss: 6.8180 - val_loss: 6.8215\n",
      "Epoch 4/10\n",
      "\n",
      "Epoch 00004: val_loss improved from 6.82147 to 6.73856, saving model to ks-cooks-1y/models/rnn_cce_ml60_bs32_ne2.549_gc100_e100_h100_Ug_lr0.1_nt1.hdf5\n",
      "177316/177316 - 300s - loss: 6.7738 - val_loss: 6.7386\n",
      "Epoch 5/10\n",
      "\n",
      "Epoch 00005: val_loss improved from 6.73856 to 6.70591, saving model to ks-cooks-1y/models/rnn_cce_ml60_bs32_ne2.549_gc100_e100_h100_Ug_lr0.1_nt1.hdf5\n",
      "177316/177316 - 302s - loss: 6.7017 - val_loss: 6.7059\n",
      "Epoch 6/10\n",
      "\n",
      "Epoch 00006: val_loss improved from 6.70591 to 6.67104, saving model to ks-cooks-1y/models/rnn_cce_ml60_bs32_ne2.549_gc100_e100_h100_Ug_lr0.1_nt1.hdf5\n",
      "177316/177316 - 315s - loss: 6.6514 - val_loss: 6.6710\n",
      "Epoch 7/10\n",
      "\n",
      "Epoch 00007: val_loss improved from 6.67104 to 6.64295, saving model to ks-cooks-1y/models/rnn_cce_ml60_bs32_ne2.549_gc100_e100_h100_Ug_lr0.1_nt1.hdf5\n",
      "177316/177316 - 317s - loss: 6.6130 - val_loss: 6.6429\n",
      "Epoch 8/10\n",
      "\n",
      "Epoch 00008: val_loss improved from 6.64295 to 6.56073, saving model to ks-cooks-1y/models/rnn_cce_ml60_bs32_ne2.549_gc100_e100_h100_Ug_lr0.1_nt1.hdf5\n",
      "177316/177316 - 292s - loss: 6.5702 - val_loss: 6.5607\n",
      "Epoch 9/10\n",
      "\n",
      "Epoch 00009: val_loss did not improve from 6.56073\n",
      "177316/177316 - 289s - loss: 6.5267 - val_loss: 6.5925\n",
      "Epoch 10/10\n",
      "\n",
      "Epoch 00010: val_loss improved from 6.56073 to 6.53874, saving model to ks-cooks-1y/models/rnn_cce_ml60_bs32_ne2.549_gc100_e100_h100_Ug_lr0.1_nt1.hdf5\n",
      "177316/177316 - 288s - loss: 6.4856 - val_loss: 6.5387\n",
      "[6.948312314445342, 6.886146217500572, 6.818011437201608, 6.773831617652276, 6.701658616697079, 6.651367706073452, 6.613016679803336, 6.570157914554412, 6.526662965601696, 6.485568068320027]\n",
      "Opening file (1)\n",
      "RNN with categorical cross entropy 0 batchs,  3031.7988798618317  epochs in 3075.9998400211334 s\n",
      "Last train cost :  6.69747335378498\n",
      "recall :  0.050650184451766375\n",
      "precision :  0.08330683624801305\n",
      "sps :  0.057233704292527825\n",
      "Best  sps :  0.057233704292527825\n",
      "user_coverage :  0.519872813990461\n",
      "item_coverage :  129\n",
      "ndcg :  0.08977582296425429\n",
      "blockbuster_share :  0.42366412213740456\n",
      "-----------------\n",
      "Save model in ks-cooks-1y/models/rnn_cce_ml60_bs32_ne3031.799_gc100_e100_h100_Ug_lr0.1_nt1.hdf5\n"
     ]
    }
   ],
   "source": [
    "!python train.py -d ks-cooks-1y -b 32 --max_length 60 --r_emb 100 --min_iter 10 --r_l 100"
   ]
  },
  {
   "cell_type": "code",
   "execution_count": 5,
   "metadata": {},
   "outputs": [
    {
     "name": "stdout",
     "output_type": "stream",
     "text": [
      "2019-12-08 20:13:00.664078: I tensorflow/core/platform/cpu_feature_guard.cc:142] Your CPU supports instructions that this TensorFlow binary was not compiled to use: AVX2 FMA\n",
      "2019-12-08 20:13:00.685969: I tensorflow/compiler/xla/service/service.cc:168] XLA service 0x7f7eebcfa260 executing computations on platform Host. Devices:\n",
      "2019-12-08 20:13:00.685985: I tensorflow/compiler/xla/service/service.cc:175]   StreamExecutor device (0): Host, Default Version\n",
      "Train on 177316 samples, validate on 629 samples\n",
      "Epoch 1/10\n",
      "2019-12-08 20:13:06.958530: W tensorflow/core/grappler/optimizers/implementation_selector.cc:310] Skipping optimization due to error while loading function libraries: Invalid argument: Functions '__inference___backward_cudnn_lstm_with_fallback_5815_7274' and '__inference___backward_standard_lstm_7392_7991_specialized_for_StatefulPartitionedCall_at___inference_distributed_function_8128' both implement 'lstm_ceede8d2-72ad-4c99-94ff-d1d6ed206c0e' but their signatures do not match.\n",
      "2019-12-08 20:19:13.077663: W tensorflow/core/grappler/optimizers/implementation_selector.cc:310] Skipping optimization due to error while loading function libraries: Invalid argument: Functions '__inference_standard_lstm_19446' and '__inference_standard_lstm_19446_specialized_for_sequential_lstm_StatefulPartitionedCall_at___inference_distributed_function_21314' both implement 'lstm_3c02b9ce-8829-48c9-83a1-876fb8882ae9' but their signatures do not match.\n",
      "\n",
      "Epoch 00001: val_loss improved from inf to 6.91040, saving model to ks-cooks-1y/models/rnn_cce_ml60_bs32_ne2.665_gc100_e100_h150_Ug_lr0.1_nt1.hdf5\n",
      "177316/177316 - 369s - loss: 6.9491 - val_loss: 6.9104\n",
      "Epoch 2/10\n",
      "\n",
      "Epoch 00002: val_loss improved from 6.91040 to 6.86931, saving model to ks-cooks-1y/models/rnn_cce_ml60_bs32_ne2.665_gc100_e100_h150_Ug_lr0.1_nt1.hdf5\n",
      "177316/177316 - 375s - loss: 6.9040 - val_loss: 6.8693\n",
      "Epoch 3/10\n",
      "\n",
      "Epoch 00003: val_loss improved from 6.86931 to 6.83485, saving model to ks-cooks-1y/models/rnn_cce_ml60_bs32_ne2.665_gc100_e100_h150_Ug_lr0.1_nt1.hdf5\n",
      "177316/177316 - 379s - loss: 6.8578 - val_loss: 6.8349\n",
      "Epoch 4/10\n",
      "\n",
      "Epoch 00004: val_loss improved from 6.83485 to 6.80209, saving model to ks-cooks-1y/models/rnn_cce_ml60_bs32_ne2.665_gc100_e100_h150_Ug_lr0.1_nt1.hdf5\n",
      "177316/177316 - 377s - loss: 6.8014 - val_loss: 6.8021\n",
      "Epoch 5/10\n",
      "\n",
      "Epoch 00005: val_loss improved from 6.80209 to 6.76355, saving model to ks-cooks-1y/models/rnn_cce_ml60_bs32_ne2.665_gc100_e100_h150_Ug_lr0.1_nt1.hdf5\n",
      "177316/177316 - 378s - loss: 6.7659 - val_loss: 6.7635\n",
      "Epoch 6/10\n",
      "\n",
      "Epoch 00006: val_loss improved from 6.76355 to 6.73745, saving model to ks-cooks-1y/models/rnn_cce_ml60_bs32_ne2.665_gc100_e100_h150_Ug_lr0.1_nt1.hdf5\n",
      "177316/177316 - 376s - loss: 6.7226 - val_loss: 6.7374\n",
      "Epoch 7/10\n",
      "\n",
      "Epoch 00007: val_loss improved from 6.73745 to 6.70239, saving model to ks-cooks-1y/models/rnn_cce_ml60_bs32_ne2.665_gc100_e100_h150_Ug_lr0.1_nt1.hdf5\n",
      "177316/177316 - 377s - loss: 6.6690 - val_loss: 6.7024\n",
      "Epoch 8/10\n",
      "\n",
      "Epoch 00008: val_loss improved from 6.70239 to 6.64165, saving model to ks-cooks-1y/models/rnn_cce_ml60_bs32_ne2.665_gc100_e100_h150_Ug_lr0.1_nt1.hdf5\n",
      "177316/177316 - 381s - loss: 6.6233 - val_loss: 6.6416\n",
      "Epoch 9/10\n",
      "\n",
      "Epoch 00009: val_loss improved from 6.64165 to 6.63865, saving model to ks-cooks-1y/models/rnn_cce_ml60_bs32_ne2.665_gc100_e100_h150_Ug_lr0.1_nt1.hdf5\n",
      "177316/177316 - 386s - loss: 6.5782 - val_loss: 6.6386\n",
      "Epoch 10/10\n",
      "\n",
      "Epoch 00010: val_loss improved from 6.63865 to 6.59051, saving model to ks-cooks-1y/models/rnn_cce_ml60_bs32_ne2.665_gc100_e100_h150_Ug_lr0.1_nt1.hdf5\n",
      "177316/177316 - 385s - loss: 6.5341 - val_loss: 6.5905\n",
      "[6.949124981003877, 6.90404353732009, 6.857788530966869, 6.801386663438223, 6.765866909260737, 6.7225566356207755, 6.66895841494256, 6.623291902456706, 6.578224351870844, 6.534057963813876]\n",
      "Opening file (1)\n",
      "RNN with categorical cross entropy 0 batchs,  3781.4217808246613  epochs in 3825.475031852722 s\n",
      "Last train cost :  6.740529989069456\n",
      "recall :  0.05086212542758446\n",
      "precision :  0.08426073131955525\n",
      "sps :  0.0492845786963434\n",
      "Best  sps :  0.0492845786963434\n",
      "user_coverage :  0.5325914149443561\n",
      "item_coverage :  127\n",
      "ndcg :  0.08593128960605177\n",
      "blockbuster_share :  0.4169811320754717\n",
      "-----------------\n",
      "Save model in ks-cooks-1y/models/rnn_cce_ml60_bs32_ne3781.422_gc100_e100_h150_Ug_lr0.1_nt1.hdf5\n"
     ]
    }
   ],
   "source": [
    "!python train.py -d ks-cooks-1y -b 32 --max_length 60 --r_emb 100 --min_iter 10 --r_l 150"
   ]
  },
  {
   "cell_type": "code",
   "execution_count": 21,
   "metadata": {},
   "outputs": [
    {
     "name": "stdout",
     "output_type": "stream",
     "text": [
      "2019-12-09 13:27:40.102144: I tensorflow/core/platform/cpu_feature_guard.cc:142] Your CPU supports instructions that this TensorFlow binary was not compiled to use: AVX2 FMA\n",
      "2019-12-09 13:27:40.114939: I tensorflow/compiler/xla/service/service.cc:168] XLA service 0x7fc0c66b4990 executing computations on platform Host. Devices:\n",
      "2019-12-09 13:27:40.114978: I tensorflow/compiler/xla/service/service.cc:175]   StreamExecutor device (0): Host, Default Version\n",
      "['ks-cooks-1y/models/rnn_cce_ml60_bs32_ne3031.799_gc100_e100_h100_Ug_lr0.1_nt1.hdf5']\n",
      "2019-12-09 13:27:41.217656: W tensorflow/c/c_api.cc:326] Operation '{name:'lstm_1/while' id:687 op device:{} def:{{{node lstm_1/while}} = While[T=[DT_INT32, DT_INT32, DT_INT32, DT_VARIANT, DT_FLOAT, ..., DT_VARIANT, DT_VARIANT, DT_VARIANT, DT_VARIANT, DT_VARIANT], _lower_using_switch_merge=true, _num_original_outputs=59, body=lstm_1_while_body_814[], cond=lstm_1_while_cond_813[], output_shapes=[[], [], [], [], [?,100], ..., [], [], [], [], []], parallel_iterations=32](lstm_1/while/loop_counter, lstm_1/while/maximum_iterations, lstm_1/time, lstm_1/TensorArrayV2_1, lstm_1/zeros_like, lstm_1/zeros, lstm_1/zeros_1, lstm_1/strided_slice_1, lstm_1/TensorArrayUnstack/TensorListFromTensor, lstm_1/TensorArrayUnstack_1/TensorListFromTensor, lstm_1/kernel, lstm_1/recurrent_kernel, lstm_1/bias, lstm_1/while/EmptyTensorList, lstm_1/while/EmptyTensorList_1, lstm_1/while/EmptyTensorList_2, lstm_1/while/EmptyTensorList_3, lstm_1/while/EmptyTensorList_4, lstm_1/while/EmptyTensorList_5, lstm_1/while/EmptyTensorList_6, lstm_1/while/EmptyTensorList_7, lstm_1/while/EmptyTensorList_8, lstm_1/while/EmptyTensorList_9, lstm_1/while/EmptyTensorList_10, lstm_1/while/EmptyTensorList_11, lstm_1/while/EmptyTensorList_12, lstm_1/while/EmptyTensorList_13, lstm_1/while/EmptyTensorList_14, lstm_1/while/EmptyTensorList_15, lstm_1/while/EmptyTensorList_16, lstm_1/while/EmptyTensorList_17, lstm_1/while/EmptyTensorList_18, lstm_1/while/EmptyTensorList_19, lstm_1/while/EmptyTensorList_20, lstm_1/while/EmptyTensorList_21, lstm_1/while/EmptyTensorList_22, lstm_1/while/EmptyTensorList_23, lstm_1/while/EmptyTensorList_24, lstm_1/while/EmptyTensorList_25, lstm_1/while/EmptyTensorList_26, lstm_1/while/EmptyTensorList_27, lstm_1/while/EmptyTensorList_28, lstm_1/while/EmptyTensorList_29, lstm_1/while/EmptyTensorList_30, lstm_1/while/EmptyTensorList_31, lstm_1/while/EmptyTensorList_32, lstm_1/while/EmptyTensorList_33, lstm_1/while/EmptyTensorList_34, lstm_1/while/EmptyTensorList_35, lstm_1/while/EmptyTensorList_36, lstm_1/while/EmptyTensorList_37, lstm_1/while/EmptyTensorList_38, lstm_1/while/EmptyTensorList_39, lstm_1/while/EmptyTensorList_40, lstm_1/while/EmptyTensorList_41, lstm_1/while/EmptyTensorList_42, lstm_1/while/EmptyTensorList_43, lstm_1/while/EmptyTensorList_44, lstm_1/while/EmptyTensorList_45)}}' was changed by setting attribute after it was run by a session. This mutation will have no effect, and will trigger an error in the future. Either don't modify nodes after running them or create a new session.\n",
      "Opening file (1)\n",
      "Timer:  6.709365\n",
      "-------------------\n",
      "( 1 / 1 ) results on ks-cooks-1y/models/rnn_cce_ml60_bs32_ne3031.799_gc100_e100_h100_Ug_lr0.1_nt1.hdf5\n",
      "sps@10:  0.06995230524642289\n",
      "recall@10:  0.05386023463168978\n",
      "precision@10:  0.09650238473767919\n",
      "item_coverage@10:  173\n",
      "user_coverage@10:  0.5580286168521462\n",
      "ndcg@10:  0.10178927850400785\n",
      "blockbuster_share@10:  0.39209225700164746\n"
     ]
    }
   ],
   "source": [
    "!python test.py -d ks-cooks-1y -b 32 --max_length 60 --r_emb 100 --r_l 100 -i 3031.799"
   ]
  },
  {
   "cell_type": "code",
   "execution_count": 10,
   "metadata": {},
   "outputs": [
    {
     "name": "stdout",
     "output_type": "stream",
     "text": [
      "2019-12-09 01:05:10.281488: I tensorflow/core/platform/cpu_feature_guard.cc:142] Your CPU supports instructions that this TensorFlow binary was not compiled to use: AVX2 FMA\n",
      "2019-12-09 01:05:10.292717: I tensorflow/compiler/xla/service/service.cc:168] XLA service 0x7fbf50e6f5e0 executing computations on platform Host. Devices:\n",
      "2019-12-09 01:05:10.292742: I tensorflow/compiler/xla/service/service.cc:175]   StreamExecutor device (0): Host, Default Version\n",
      "['ks-cooks-1y/models/rnn_cce_ml60_bs32_ne3781.422_gc100_e100_h150_Ug_lr0.1_nt1.hdf5']\n",
      "2019-12-09 01:05:11.547863: W tensorflow/c/c_api.cc:326] Operation '{name:'lstm_1/while' id:687 op device:{} def:{{{node lstm_1/while}} = While[T=[DT_INT32, DT_INT32, DT_INT32, DT_VARIANT, DT_FLOAT, ..., DT_VARIANT, DT_VARIANT, DT_VARIANT, DT_VARIANT, DT_VARIANT], _lower_using_switch_merge=true, _num_original_outputs=59, body=lstm_1_while_body_814[], cond=lstm_1_while_cond_813[], output_shapes=[[], [], [], [], [?,150], ..., [], [], [], [], []], parallel_iterations=32](lstm_1/while/loop_counter, lstm_1/while/maximum_iterations, lstm_1/time, lstm_1/TensorArrayV2_1, lstm_1/zeros_like, lstm_1/zeros, lstm_1/zeros_1, lstm_1/strided_slice_1, lstm_1/TensorArrayUnstack/TensorListFromTensor, lstm_1/TensorArrayUnstack_1/TensorListFromTensor, lstm_1/kernel, lstm_1/recurrent_kernel, lstm_1/bias, lstm_1/while/EmptyTensorList, lstm_1/while/EmptyTensorList_1, lstm_1/while/EmptyTensorList_2, lstm_1/while/EmptyTensorList_3, lstm_1/while/EmptyTensorList_4, lstm_1/while/EmptyTensorList_5, lstm_1/while/EmptyTensorList_6, lstm_1/while/EmptyTensorList_7, lstm_1/while/EmptyTensorList_8, lstm_1/while/EmptyTensorList_9, lstm_1/while/EmptyTensorList_10, lstm_1/while/EmptyTensorList_11, lstm_1/while/EmptyTensorList_12, lstm_1/while/EmptyTensorList_13, lstm_1/while/EmptyTensorList_14, lstm_1/while/EmptyTensorList_15, lstm_1/while/EmptyTensorList_16, lstm_1/while/EmptyTensorList_17, lstm_1/while/EmptyTensorList_18, lstm_1/while/EmptyTensorList_19, lstm_1/while/EmptyTensorList_20, lstm_1/while/EmptyTensorList_21, lstm_1/while/EmptyTensorList_22, lstm_1/while/EmptyTensorList_23, lstm_1/while/EmptyTensorList_24, lstm_1/while/EmptyTensorList_25, lstm_1/while/EmptyTensorList_26, lstm_1/while/EmptyTensorList_27, lstm_1/while/EmptyTensorList_28, lstm_1/while/EmptyTensorList_29, lstm_1/while/EmptyTensorList_30, lstm_1/while/EmptyTensorList_31, lstm_1/while/EmptyTensorList_32, lstm_1/while/EmptyTensorList_33, lstm_1/while/EmptyTensorList_34, lstm_1/while/EmptyTensorList_35, lstm_1/while/EmptyTensorList_36, lstm_1/while/EmptyTensorList_37, lstm_1/while/EmptyTensorList_38, lstm_1/while/EmptyTensorList_39, lstm_1/while/EmptyTensorList_40, lstm_1/while/EmptyTensorList_41, lstm_1/while/EmptyTensorList_42, lstm_1/while/EmptyTensorList_43, lstm_1/while/EmptyTensorList_44, lstm_1/while/EmptyTensorList_45)}}' was changed by setting attribute after it was run by a session. This mutation will have no effect, and will trigger an error in the future. Either don't modify nodes after running them or create a new session.\n",
      "Opening file (1)\n",
      "Timer:  8.839305\n",
      "-------------------\n",
      "( 1 / 1 ) results on ks-cooks-1y/models/rnn_cce_ml60_bs32_ne3781.422_gc100_e100_h150_Ug_lr0.1_nt1.hdf5\n",
      "sps@10:  0.057233704292527825\n",
      "recall@10:  0.05205549425002764\n",
      "precision@10:  0.09348171701112908\n",
      "item_coverage@10:  155\n",
      "user_coverage@10:  0.5389507154213037\n",
      "ndcg@10:  0.09885540152550651\n",
      "blockbuster_share@10:  0.3843537414965986\n"
     ]
    }
   ],
   "source": [
    "!python test.py -d ks-cooks-1y -b 32 --max_length 60 --r_emb 100 --r_l 150 -i 3781.422"
   ]
  },
  {
   "cell_type": "code",
   "execution_count": null,
   "metadata": {},
   "outputs": [],
   "source": [
    "# Can the BEST SPS from h150 trained from local pycharm be reproduced now in virtualenv? \n",
    "# worse than h= 100"
   ]
  },
  {
   "cell_type": "code",
   "execution_count": null,
   "metadata": {},
   "outputs": [],
   "source": [
    "!python train.py -d ks-cooks-1y -b 32 --max_length 60 --r_emb 100 --min_iter 10 --r_l 200"
   ]
  },
  {
   "cell_type": "code",
   "execution_count": null,
   "metadata": {},
   "outputs": [],
   "source": [
    "!python train.py -d ks-cooks-1y -b 32 --max_length 60 --r_emb 100 --min_iter 10 --r_l 300"
   ]
  },
  {
   "cell_type": "code",
   "execution_count": null,
   "metadata": {},
   "outputs": [],
   "source": []
  }
 ],
 "metadata": {
  "kernelspec": {
   "display_name": "my_remote_env_py3",
   "language": "python",
   "name": "my_remote_env_py3"
  },
  "language_info": {
   "codemirror_mode": {
    "name": "ipython",
    "version": 3
   },
   "file_extension": ".py",
   "mimetype": "text/x-python",
   "name": "python",
   "nbconvert_exporter": "python",
   "pygments_lexer": "ipython3",
   "version": "3.6.9"
  }
 },
 "nbformat": 4,
 "nbformat_minor": 2
}
