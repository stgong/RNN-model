{
 "cells": [
  {
   "cell_type": "code",
   "execution_count": 4,
   "metadata": {},
   "outputs": [],
   "source": [
    "import tensorflow as tf\n",
    "import pydot, graphviz\n",
    "from IPython.display import SVG\n",
    "from tensorflow.keras.utils import plot_model\n",
    "from tensorflow.keras.utils import model_to_dot\n",
    "from tensorflow.keras.models import Model, load_model, save_model\n",
    "\n",
    "# SVG(model_to_dot(model).create(prog='dot', format='svg'))"
   ]
  },
  {
   "cell_type": "code",
   "execution_count": 7,
   "metadata": {},
   "outputs": [
    {
     "data": {
      "image/svg+xml": [
       "<svg height=\"547pt\" viewBox=\"0.00 0.00 191.57 410.00\" width=\"255pt\" xmlns=\"http://www.w3.org/2000/svg\" xmlns:xlink=\"http://www.w3.org/1999/xlink\">\n",
       "<g class=\"graph\" id=\"graph0\" transform=\"scale(0.75 0.75) rotate(0) translate(4 406)\">\n",
       "<title>G</title>\n",
       "<polygon fill=\"white\" points=\"-4,4 -4,-406 187.57,-406 187.57,4 -4,4\" stroke=\"transparent\"/>\n",
       "<!-- 5105703120 -->\n",
       "<g class=\"node\" id=\"node1\">\n",
       "<title>5105703120</title>\n",
       "<polygon fill=\"none\" points=\"0,-365.5 0,-401.5 183.57,-401.5 183.57,-365.5 0,-365.5\" stroke=\"black\"/>\n",
       "<text font-family=\"Times,serif\" font-size=\"14.00\" text-anchor=\"middle\" x=\"91.78\" y=\"-379.3\">embedding_input: InputLayer</text>\n",
       "</g>\n",
       "<!-- 5105703176 -->\n",
       "<g class=\"node\" id=\"node2\">\n",
       "<title>5105703176</title>\n",
       "<polygon fill=\"none\" points=\"16.71,-292.5 16.71,-328.5 166.86,-328.5 166.86,-292.5 16.71,-292.5\" stroke=\"black\"/>\n",
       "<text font-family=\"Times,serif\" font-size=\"14.00\" text-anchor=\"middle\" x=\"91.78\" y=\"-306.3\">embedding: Embedding</text>\n",
       "</g>\n",
       "<!-- 5105703120&#45;&gt;5105703176 -->\n",
       "<g class=\"edge\" id=\"edge1\">\n",
       "<title>5105703120-&gt;5105703176</title>\n",
       "<path d=\"M91.78,-365.31C91.78,-357.29 91.78,-347.55 91.78,-338.57\" fill=\"none\" stroke=\"black\"/>\n",
       "<polygon fill=\"black\" points=\"95.28,-338.53 91.78,-328.53 88.28,-338.53 95.28,-338.53\" stroke=\"black\"/>\n",
       "</g>\n",
       "<!-- 5105704184 -->\n",
       "<g class=\"node\" id=\"node3\">\n",
       "<title>5105704184</title>\n",
       "<polygon fill=\"none\" points=\"31.87,-219.5 31.87,-255.5 151.7,-255.5 151.7,-219.5 31.87,-219.5\" stroke=\"black\"/>\n",
       "<text font-family=\"Times,serif\" font-size=\"14.00\" text-anchor=\"middle\" x=\"91.78\" y=\"-233.3\">masking: Masking</text>\n",
       "</g>\n",
       "<!-- 5105703176&#45;&gt;5105704184 -->\n",
       "<g class=\"edge\" id=\"edge2\">\n",
       "<title>5105703176-&gt;5105704184</title>\n",
       "<path d=\"M91.78,-292.31C91.78,-284.29 91.78,-274.55 91.78,-265.57\" fill=\"none\" stroke=\"black\"/>\n",
       "<polygon fill=\"black\" points=\"95.28,-265.53 91.78,-255.53 88.28,-265.53 95.28,-265.53\" stroke=\"black\"/>\n",
       "</g>\n",
       "<!-- 5105703064 -->\n",
       "<g class=\"node\" id=\"node4\">\n",
       "<title>5105703064</title>\n",
       "<polygon fill=\"none\" points=\"49.36,-146.5 49.36,-182.5 134.21,-182.5 134.21,-146.5 49.36,-146.5\" stroke=\"black\"/>\n",
       "<text font-family=\"Times,serif\" font-size=\"14.00\" text-anchor=\"middle\" x=\"91.78\" y=\"-160.3\">lstm: LSTM</text>\n",
       "</g>\n",
       "<!-- 5105704184&#45;&gt;5105703064 -->\n",
       "<g class=\"edge\" id=\"edge3\">\n",
       "<title>5105704184-&gt;5105703064</title>\n",
       "<path d=\"M91.78,-219.31C91.78,-211.29 91.78,-201.55 91.78,-192.57\" fill=\"none\" stroke=\"black\"/>\n",
       "<polygon fill=\"black\" points=\"95.28,-192.53 91.78,-182.53 88.28,-192.53 95.28,-192.53\" stroke=\"black\"/>\n",
       "</g>\n",
       "<!-- 5431687096 -->\n",
       "<g class=\"node\" id=\"node5\">\n",
       "<title>5431687096</title>\n",
       "<polygon fill=\"none\" points=\"46.66,-73.5 46.66,-109.5 136.91,-109.5 136.91,-73.5 46.66,-73.5\" stroke=\"black\"/>\n",
       "<text font-family=\"Times,serif\" font-size=\"14.00\" text-anchor=\"middle\" x=\"91.78\" y=\"-87.3\">dense: Dense</text>\n",
       "</g>\n",
       "<!-- 5105703064&#45;&gt;5431687096 -->\n",
       "<g class=\"edge\" id=\"edge4\">\n",
       "<title>5105703064-&gt;5431687096</title>\n",
       "<path d=\"M91.78,-146.31C91.78,-138.29 91.78,-128.55 91.78,-119.57\" fill=\"none\" stroke=\"black\"/>\n",
       "<polygon fill=\"black\" points=\"95.28,-119.53 91.78,-109.53 88.28,-119.53 95.28,-119.53\" stroke=\"black\"/>\n",
       "</g>\n",
       "<!-- 5432259472 -->\n",
       "<g class=\"node\" id=\"node6\">\n",
       "<title>5432259472</title>\n",
       "<polygon fill=\"none\" points=\"23.32,-0.5 23.32,-36.5 160.25,-36.5 160.25,-0.5 23.32,-0.5\" stroke=\"black\"/>\n",
       "<text font-family=\"Times,serif\" font-size=\"14.00\" text-anchor=\"middle\" x=\"91.78\" y=\"-14.3\">activation: Activation</text>\n",
       "</g>\n",
       "<!-- 5431687096&#45;&gt;5432259472 -->\n",
       "<g class=\"edge\" id=\"edge5\">\n",
       "<title>5431687096-&gt;5432259472</title>\n",
       "<path d=\"M91.78,-73.31C91.78,-65.29 91.78,-55.55 91.78,-46.57\" fill=\"none\" stroke=\"black\"/>\n",
       "<polygon fill=\"black\" points=\"95.28,-46.53 91.78,-36.53 88.28,-46.53 95.28,-46.53\" stroke=\"black\"/>\n",
       "</g>\n",
       "</g>\n",
       "</svg>"
      ],
      "text/plain": [
       "<IPython.core.display.SVG object>"
      ]
     },
     "execution_count": 7,
     "metadata": {},
     "output_type": "execute_result"
    }
   ],
   "source": [
    "# from keras.utils import plot_model\n",
    "path = '/Users/xun/Documents/Thesis/RNN-model/ks-cooks-1y/models/'\n",
    "file_name='rnn_cce_ml60_bs32_ne3378.139_gc100_e100_h100_Ug_lr0.1_nt1.hdf5'\n",
    "model = load_model(path+file_name)\n",
    "# plot_model(model, to_file='model.png')\n",
    "\n",
    "# from IPython.display import SVG\n",
    "# from keras.utils import model_to_dot\n",
    "\n",
    "SVG(model_to_dot(model).create(prog='dot', format='svg'))"
   ]
  },
  {
   "cell_type": "code",
   "execution_count": 8,
   "metadata": {},
   "outputs": [
    {
     "ename": "AttributeError",
     "evalue": "'Sequential' object has no attribute 'history'",
     "output_type": "error",
     "traceback": [
      "\u001b[0;31m---------------------------------------------------------------------------\u001b[0m",
      "\u001b[0;31mAttributeError\u001b[0m                            Traceback (most recent call last)",
      "\u001b[0;32m<ipython-input-8-37691af34917>\u001b[0m in \u001b[0;36m<module>\u001b[0;34m\u001b[0m\n\u001b[0;32m----> 1\u001b[0;31m \u001b[0mmodel\u001b[0m\u001b[0;34m.\u001b[0m\u001b[0mhistory\u001b[0m\u001b[0;34m\u001b[0m\u001b[0;34m\u001b[0m\u001b[0m\n\u001b[0m",
      "\u001b[0;31mAttributeError\u001b[0m: 'Sequential' object has no attribute 'history'"
     ]
    }
   ],
   "source": [
    "model.history"
   ]
  },
  {
   "cell_type": "code",
   "execution_count": 12,
   "metadata": {},
   "outputs": [
    {
     "name": "stdout",
     "output_type": "stream",
     "text": [
      "Python 3.7.2\r\n"
     ]
    }
   ],
   "source": [
    "!python3 -V"
   ]
  },
  {
   "cell_type": "code",
   "execution_count": null,
   "metadata": {},
   "outputs": [],
   "source": []
  }
 ],
 "metadata": {
  "kernelspec": {
   "display_name": "Python 3",
   "language": "python",
   "name": "python3"
  },
  "language_info": {
   "codemirror_mode": {
    "name": "ipython",
    "version": 3
   },
   "file_extension": ".py",
   "mimetype": "text/x-python",
   "name": "python",
   "nbconvert_exporter": "python",
   "pygments_lexer": "ipython3",
   "version": "3.7.2"
  }
 },
 "nbformat": 4,
 "nbformat_minor": 2
}
