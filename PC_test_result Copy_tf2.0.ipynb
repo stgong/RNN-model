{
 "cells": [
  {
   "cell_type": "code",
   "execution_count": null,
   "metadata": {},
   "outputs": [],
   "source": [
    "# 'Remote PC_Hidden_unit 50-100-150-200'"
   ]
  },
  {
   "cell_type": "code",
   "execution_count": 1,
   "metadata": {},
   "outputs": [
    {
     "name": "stdout",
     "output_type": "stream",
     "text": [
      "2019-12-13 18:09:14.664500: I tensorflow/core/platform/cpu_feature_guard.cc:142] Your CPU supports instructions that this TensorFlow binary was not compiled to use: AVX2 FMA\n",
      "2019-12-13 18:09:14.686603: I tensorflow/compiler/xla/service/service.cc:168] XLA service 0x7f88ae26c980 executing computations on platform Host. Devices:\n",
      "2019-12-13 18:09:14.686631: I tensorflow/compiler/xla/service/service.cc:175]   StreamExecutor device (0): Host, Default Version\n",
      "['ks-cooks-1y/models/rnn_cce_ml60_bs32_ne1458.388_gc100_e100_h50_Ug_lr0.1_nt1.hdf5']\n",
      "Opening file (1)\n",
      "Timer:  44.450283\n",
      "-------------------\n",
      "( 1 / 1 ) results on ks-cooks-1y/models/rnn_cce_ml60_bs32_ne1458.388_gc100_e100_h50_Ug_lr0.1_nt1.hdf5\n",
      "sps@10:  0.058823529411764705\n",
      "sps_short@10:  0.06451612903225806\n",
      "sps_long@10:  0.05329153605015674\n",
      "recall@10:  0.05082859052308338\n",
      "precision@10:  0.09109697933227384\n",
      "uniq_rec@10:  280\n",
      "total_item_coverage@10:  573\n",
      "item_coverage@10:  137\n",
      "user_coverage@10:  0.534181240063593\n",
      "ndcg@10:  0.09794399804557066\n",
      "blockbuster_share@10:  0.4223385689354276\n",
      "intra_list_similarity@10:  7.589466122035143\n"
     ]
    }
   ],
   "source": [
    "!python3 test.py -d ks-cooks-1y -b 32 --max_length 60 --r_emb 100 --r_l 50 -i 1458.388"
   ]
  },
  {
   "cell_type": "code",
   "execution_count": 5,
   "metadata": {},
   "outputs": [
    {
     "name": "stdout",
     "output_type": "stream",
     "text": [
      "2019-12-13 18:15:58.882675: I tensorflow/core/platform/cpu_feature_guard.cc:142] Your CPU supports instructions that this TensorFlow binary was not compiled to use: AVX2 FMA\n",
      "2019-12-13 18:15:58.892339: I tensorflow/compiler/xla/service/service.cc:168] XLA service 0x7ff1b7aa3d90 executing computations on platform Host. Devices:\n",
      "2019-12-13 18:15:58.892363: I tensorflow/compiler/xla/service/service.cc:175]   StreamExecutor device (0): Host, Default Version\n",
      "['ks-cooks-1y/models/rnn_cce_ml60_bs32_ne2498.005_gc100_e100_h100_Ug_lr0.1_nt1.hdf5']\n",
      "Opening file (1)\n",
      "Timer:  42.521458\n",
      "-------------------\n",
      "( 1 / 1 ) results on ks-cooks-1y/models/rnn_cce_ml60_bs32_ne2498.005_gc100_e100_h100_Ug_lr0.1_nt1.hdf5\n",
      "sps@10:  0.07631160572337042\n",
      "sps_short@10:  0.06774193548387097\n",
      "sps_long@10:  0.08463949843260188\n",
      "recall@10:  0.052245336584076915\n",
      "precision@10:  0.09236883942766332\n",
      "uniq_rec@10:  287\n",
      "total_item_coverage@10:  581\n",
      "item_coverage@10:  144\n",
      "user_coverage@10:  0.5500794912559619\n",
      "ndcg@10:  0.0981475700676602\n",
      "blockbuster_share@10:  0.40963855421686746\n",
      "intra_list_similarity@10:  7.241215887277673\n"
     ]
    }
   ],
   "source": [
    "!python3 test.py -d ks-cooks-1y -b 32 --max_length 60 --r_emb 100 --r_l 100 -i 2498.005"
   ]
  },
  {
   "cell_type": "code",
   "execution_count": 2,
   "metadata": {},
   "outputs": [
    {
     "name": "stdout",
     "output_type": "stream",
     "text": [
      "2019-12-13 18:10:04.104651: I tensorflow/core/platform/cpu_feature_guard.cc:142] Your CPU supports instructions that this TensorFlow binary was not compiled to use: AVX2 FMA\n",
      "2019-12-13 18:10:04.114879: I tensorflow/compiler/xla/service/service.cc:168] XLA service 0x7fd1a6282b00 executing computations on platform Host. Devices:\n",
      "2019-12-13 18:10:04.114897: I tensorflow/compiler/xla/service/service.cc:175]   StreamExecutor device (0): Host, Default Version\n",
      "['ks-cooks-1y/models/rnn_cce_ml60_bs32_ne3481.97_gc100_e100_h150_Ug_lr0.1_nt1.hdf5']\n",
      "Opening file (1)\n",
      "Timer:  43.693753\n",
      "-------------------\n",
      "( 1 / 1 ) results on ks-cooks-1y/models/rnn_cce_ml60_bs32_ne3481.97_gc100_e100_h150_Ug_lr0.1_nt1.hdf5\n",
      "sps@10:  0.06836248012718601\n",
      "sps_short@10:  0.06129032258064516\n",
      "sps_long@10:  0.07523510971786834\n",
      "recall@10:  0.05337646763512068\n",
      "precision@10:  0.09554848966613705\n",
      "uniq_rec@10:  309\n",
      "total_item_coverage@10:  601\n",
      "item_coverage@10:  155\n",
      "user_coverage@10:  0.548489666136725\n",
      "ndcg@10:  0.10295463058225608\n",
      "blockbuster_share@10:  0.4043261231281198\n",
      "intra_list_similarity@10:  7.492206720983808\n"
     ]
    }
   ],
   "source": [
    "!python3 test.py -d ks-cooks-1y -b 32 --max_length 60 --r_emb 100 --r_l 150 -i 3481.97"
   ]
  },
  {
   "cell_type": "code",
   "execution_count": 3,
   "metadata": {},
   "outputs": [
    {
     "name": "stdout",
     "output_type": "stream",
     "text": [
      "2019-12-13 18:10:52.189027: I tensorflow/core/platform/cpu_feature_guard.cc:142] Your CPU supports instructions that this TensorFlow binary was not compiled to use: AVX2 FMA\n",
      "2019-12-13 18:10:52.199528: I tensorflow/compiler/xla/service/service.cc:168] XLA service 0x7f9f7c871470 executing computations on platform Host. Devices:\n",
      "2019-12-13 18:10:52.199553: I tensorflow/compiler/xla/service/service.cc:175]   StreamExecutor device (0): Host, Default Version\n",
      "['ks-cooks-1y/models/rnn_cce_ml60_bs32_ne4729.155_gc100_e100_h200_Ug_lr0.1_nt1.hdf5']\n",
      "Opening file (1)\n",
      "Timer:  44.698619\n",
      "-------------------\n",
      "( 1 / 1 ) results on ks-cooks-1y/models/rnn_cce_ml60_bs32_ne4729.155_gc100_e100_h200_Ug_lr0.1_nt1.hdf5\n",
      "sps@10:  0.07313195548489666\n",
      "sps_short@10:  0.06774193548387097\n",
      "sps_long@10:  0.07836990595611286\n",
      "recall@10:  0.05027893895986234\n",
      "precision@10:  0.08982511923688423\n",
      "uniq_rec@10:  284\n",
      "total_item_coverage@10:  565\n",
      "item_coverage@10:  148\n",
      "user_coverage@10:  0.5278219395866455\n",
      "ndcg@10:  0.09593323047095247\n",
      "blockbuster_share@10:  0.3929203539823009\n",
      "intra_list_similarity@10:  7.220359203829298\n"
     ]
    }
   ],
   "source": [
    "!python3 test.py -d ks-cooks-1y -b 32 --max_length 60 --r_emb 100 --r_l 200 -i 4729.155"
   ]
  },
  {
   "cell_type": "code",
   "execution_count": 4,
   "metadata": {},
   "outputs": [
    {
     "name": "stdout",
     "output_type": "stream",
     "text": [
      "2019-12-13 18:11:41.401685: I tensorflow/core/platform/cpu_feature_guard.cc:142] Your CPU supports instructions that this TensorFlow binary was not compiled to use: AVX2 FMA\n",
      "2019-12-13 18:11:41.412258: I tensorflow/compiler/xla/service/service.cc:168] XLA service 0x7f99dfb394f0 executing computations on platform Host. Devices:\n",
      "2019-12-13 18:11:41.412275: I tensorflow/compiler/xla/service/service.cc:175]   StreamExecutor device (0): Host, Default Version\n",
      "['ks-cooks-1y/models/rnn_cce_ml60_bs32_ne3674.138_gc100_e100_h100-50_Ug_lr0.1_nt1.hdf5']\n",
      "Opening file (1)\n",
      "Timer:  85.83310300000001\n",
      "-------------------\n",
      "( 1 / 1 ) results on ks-cooks-1y/models/rnn_cce_ml60_bs32_ne3674.138_gc100_e100_h100-50_Ug_lr0.1_nt1.hdf5\n",
      "sps@10:  0.058823529411764705\n",
      "sps_short@10:  0.054838709677419356\n",
      "sps_long@10:  0.06269592476489028\n",
      "recall@10:  0.04994591103606826\n",
      "precision@10:  0.09125596184419747\n",
      "uniq_rec@10:  286\n",
      "total_item_coverage@10:  574\n",
      "item_coverage@10:  134\n",
      "user_coverage@10:  0.5294117647058824\n",
      "ndcg@10:  0.09866098570867336\n",
      "blockbuster_share@10:  0.42334494773519166\n",
      "intra_list_similarity@10:  7.450771612445445\n"
     ]
    }
   ],
   "source": [
    "!python3 test.py -d ks-cooks-1y -b 32 --max_length 60 --r_emb 100 --r_l 100-50 -i 3674.138"
   ]
  },
  {
   "cell_type": "code",
   "execution_count": 6,
   "metadata": {},
   "outputs": [
    {
     "name": "stdout",
     "output_type": "stream",
     "text": [
      "2019-12-13 18:56:32.864807: I tensorflow/core/platform/cpu_feature_guard.cc:142] Your CPU supports instructions that this TensorFlow binary was not compiled to use: AVX2 FMA\n",
      "2019-12-13 18:56:32.878344: I tensorflow/compiler/xla/service/service.cc:168] XLA service 0x7fa61a0d4860 executing computations on platform Host. Devices:\n",
      "2019-12-13 18:56:32.878363: I tensorflow/compiler/xla/service/service.cc:175]   StreamExecutor device (0): Host, Default Version\n",
      "['ks-cooks-1y/models/rnn_cce_ml60_bs32_ne13532.561_gc100_e100_h200-100_Ug_lr0.1_nt1.hdf5']\n",
      "Opening file (1)\n",
      "Timer:  84.38695100000001\n",
      "-------------------\n",
      "( 1 / 1 ) results on ks-cooks-1y/models/rnn_cce_ml60_bs32_ne13532.561_gc100_e100_h200-100_Ug_lr0.1_nt1.hdf5\n",
      "sps@10:  0.06677265500794913\n",
      "sps_short@10:  0.06774193548387097\n",
      "sps_long@10:  0.06583072100313479\n",
      "recall@10:  0.059002173644778756\n",
      "precision@10:  0.10508744038155825\n",
      "uniq_rec@10:  300\n",
      "total_item_coverage@10:  661\n",
      "item_coverage@10:  150\n",
      "user_coverage@10:  0.5739268680445151\n",
      "ndcg@10:  0.11156486001953543\n",
      "blockbuster_share@10:  0.5022692889561271\n",
      "intra_list_similarity@10:  8.192321848724449\n"
     ]
    }
   ],
   "source": [
    "# old run, lstm emb\n",
    "\n",
    "!python3 test.py -d ks-cooks-1y -b 32 --max_length 60 --r_emb 100 --r_l 200-100 -i 13532.561"
   ]
  },
  {
   "cell_type": "code",
   "execution_count": 7,
   "metadata": {},
   "outputs": [
    {
     "name": "stdout",
     "output_type": "stream",
     "text": [
      "2019-12-13 19:02:23.923685: I tensorflow/core/platform/cpu_feature_guard.cc:142] Your CPU supports instructions that this TensorFlow binary was not compiled to use: AVX2 FMA\n",
      "2019-12-13 19:02:23.933425: I tensorflow/compiler/xla/service/service.cc:168] XLA service 0x7ffa1f957790 executing computations on platform Host. Devices:\n",
      "2019-12-13 19:02:23.933462: I tensorflow/compiler/xla/service/service.cc:175]   StreamExecutor device (0): Host, Default Version\n",
      "['ks-cooks-1y/models/rnn_cce_ml60_bs32_ne9439.583_gc100_e100_h200-100-50_Ug_lr0.1_nt1.hdf5']\n",
      "Opening file (1)\n",
      "Timer:  132.11465\n",
      "-------------------\n",
      "( 1 / 1 ) results on ks-cooks-1y/models/rnn_cce_ml60_bs32_ne9439.583_gc100_e100_h200-100-50_Ug_lr0.1_nt1.hdf5\n",
      "sps@10:  0.06200317965023847\n",
      "sps_short@10:  0.04838709677419355\n",
      "sps_long@10:  0.07523510971786834\n",
      "recall@10:  0.05403065604154762\n",
      "precision@10:  0.0961844197138318\n",
      "uniq_rec@10:  264\n",
      "total_item_coverage@10:  605\n",
      "item_coverage@10:  123\n",
      "user_coverage@10:  0.5548489666136724\n",
      "ndcg@10:  0.1006520710823903\n",
      "blockbuster_share@10:  0.4809917355371901\n",
      "intra_list_similarity@10:  8.011856163200955\n"
     ]
    }
   ],
   "source": [
    "!python3 test.py -d ks-cooks-1y -b 32 --max_length 60 --r_emb 100 --r_l 200-100-50 -i 9439.583"
   ]
  },
  {
   "cell_type": "markdown",
   "metadata": {},
   "source": [
    "# \"Compare three emb method\"OLD CODE WITH EAGER TENSOR"
   ]
  },
  {
   "cell_type": "code",
   "execution_count": null,
   "metadata": {},
   "outputs": [],
   "source": [
    "# --r_emb_opt lstm \n",
    "!python3 test.py -d ks-cooks-1y -b 32 --max_length 60 --r_l 100 --r_emb 100 -i 2365.53"
   ]
  },
  {
   "cell_type": "code",
   "execution_count": null,
   "metadata": {},
   "outputs": [],
   "source": [
    "# --r_emb_opt tfidf \n",
    "!python3 test.py -d ks-cooks-1y -b 32 --max_length 60 --r_l 100 --r_emb 100 -i 2402.585"
   ]
  },
  {
   "cell_type": "code",
   "execution_count": null,
   "metadata": {},
   "outputs": [],
   "source": [
    "!python3 test.py -d ks-cooks-1y -b 32 --max_length 60 --r_l 150 --r_emb 300 -i 4839.349"
   ]
  },
  {
   "cell_type": "code",
   "execution_count": null,
   "metadata": {},
   "outputs": [],
   "source": [
    "!python3 test.py -d ks-cooks-1y -b 32 --max_length 60 --r_l 150 --r_emb 300 --r_emb_opt lstm -i 4641.537"
   ]
  },
  {
   "cell_type": "code",
   "execution_count": null,
   "metadata": {},
   "outputs": [],
   "source": [
    "!python3 test.py -d ks-cooks-1y -b 32 --max_length 60 --r_l 150 --r_emb 300 --r_emb_opt tfidf -i 4762.486 "
   ]
  },
  {
   "cell_type": "markdown",
   "metadata": {},
   "source": [
    "# Remote PC_Hidden_unit 50-100-150-200, 200-100, 100-50 results"
   ]
  },
  {
   "cell_type": "code",
   "execution_count": null,
   "metadata": {},
   "outputs": [],
   "source": [
    "!python3 test.py -d ks-cooks-1y -b 32 --max_length 60 --r_emb 100 --r_l 50 -i 3414.812"
   ]
  },
  {
   "cell_type": "code",
   "execution_count": null,
   "metadata": {},
   "outputs": [],
   "source": [
    "!python3 test.py -d ks-cooks-1y -b 32 --max_length 60 --r_emb 100 --r_l 100 -i 3473.665"
   ]
  },
  {
   "cell_type": "code",
   "execution_count": null,
   "metadata": {},
   "outputs": [],
   "source": [
    "!python3 test.py -d ks-cooks-1y -b 32 --max_length 60 --r_emb 100 --r_l 150 -i 5339.613"
   ]
  },
  {
   "cell_type": "code",
   "execution_count": null,
   "metadata": {},
   "outputs": [],
   "source": [
    "!python3 test.py -d ks-cooks-1y -b 32 --max_length 60 --r_emb 100 --r_l 200 -i 7632.472"
   ]
  },
  {
   "cell_type": "code",
   "execution_count": null,
   "metadata": {},
   "outputs": [],
   "source": [
    "!python3 test.py -d ks-cooks-1y -b 32 --max_length 60 --r_emb 100 --r_l 200-100 -i 11823.502"
   ]
  },
  {
   "cell_type": "code",
   "execution_count": null,
   "metadata": {},
   "outputs": [],
   "source": [
    "!python3 test.py -d ks-cooks-1y -b 32 --max_length 60 --r_emb 100 --r_l 100-50 -i 5148.744"
   ]
  },
  {
   "cell_type": "code",
   "execution_count": null,
   "metadata": {},
   "outputs": [],
   "source": []
  }
 ],
 "metadata": {
  "kernelspec": {
   "display_name": "Python 3",
   "language": "python",
   "name": "python3"
  },
  "language_info": {
   "codemirror_mode": {
    "name": "ipython",
    "version": 3
   },
   "file_extension": ".py",
   "mimetype": "text/x-python",
   "name": "python",
   "nbconvert_exporter": "python",
   "pygments_lexer": "ipython3",
   "version": "3.7.2"
  }
 },
 "nbformat": 4,
 "nbformat_minor": 2
}
