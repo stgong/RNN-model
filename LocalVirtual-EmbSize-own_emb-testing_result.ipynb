{
 "cells": [
  {
   "cell_type": "markdown",
   "metadata": {},
   "source": [
    "### model.fit() fine tune the embedding_size(r_emb) parameter, r_l = 100\n",
    "#### r_emb= [10, 20, 50 , 100]"
   ]
  },
  {
   "cell_type": "code",
   "execution_count": 7,
   "metadata": {},
   "outputs": [
    {
     "name": "stdout",
     "output_type": "stream",
     "text": [
      "Python 3.7.2\n",
      "2.0.0\n",
      "Using TensorFlow backend.\n",
      "2.3.1\n"
     ]
    }
   ],
   "source": [
    "import tensorflow\n",
    "!python -V\n",
    "!python3 -c 'import tensorflow as tf; print(tf.__version__)'\n",
    "!python -c 'import keras; print(keras.__version__)'"
   ]
  },
  {
   "cell_type": "code",
   "execution_count": 1,
   "metadata": {},
   "outputs": [
    {
     "name": "stdout",
     "output_type": "stream",
     "text": [
      "2019-12-09 13:42:38.766966: I tensorflow/core/platform/cpu_feature_guard.cc:142] Your CPU supports instructions that this TensorFlow binary was not compiled to use: AVX2 FMA\n",
      "2019-12-09 13:42:38.777077: I tensorflow/compiler/xla/service/service.cc:168] XLA service 0x7fae1175e670 executing computations on platform Host. Devices:\n",
      "2019-12-09 13:42:38.777092: I tensorflow/compiler/xla/service/service.cc:175]   StreamExecutor device (0): Host, Default Version\n",
      "['ks-cooks-1y/models/rnn_cce_ml60_bs32_ne2088.345_gc100_e10_h100_Ug_lr0.1_nt1.hdf5']\n",
      "2019-12-09 13:42:40.009037: W tensorflow/c/c_api.cc:326] Operation '{name:'lstm_1/while' id:687 op device:{} def:{{{node lstm_1/while}} = While[T=[DT_INT32, DT_INT32, DT_INT32, DT_VARIANT, DT_FLOAT, ..., DT_VARIANT, DT_VARIANT, DT_VARIANT, DT_VARIANT, DT_VARIANT], _lower_using_switch_merge=true, _num_original_outputs=59, body=lstm_1_while_body_814[], cond=lstm_1_while_cond_813[], output_shapes=[[], [], [], [], [?,100], ..., [], [], [], [], []], parallel_iterations=32](lstm_1/while/loop_counter, lstm_1/while/maximum_iterations, lstm_1/time, lstm_1/TensorArrayV2_1, lstm_1/zeros_like, lstm_1/zeros, lstm_1/zeros_1, lstm_1/strided_slice_1, lstm_1/TensorArrayUnstack/TensorListFromTensor, lstm_1/TensorArrayUnstack_1/TensorListFromTensor, lstm_1/kernel, lstm_1/recurrent_kernel, lstm_1/bias, lstm_1/while/EmptyTensorList, lstm_1/while/EmptyTensorList_1, lstm_1/while/EmptyTensorList_2, lstm_1/while/EmptyTensorList_3, lstm_1/while/EmptyTensorList_4, lstm_1/while/EmptyTensorList_5, lstm_1/while/EmptyTensorList_6, lstm_1/while/EmptyTensorList_7, lstm_1/while/EmptyTensorList_8, lstm_1/while/EmptyTensorList_9, lstm_1/while/EmptyTensorList_10, lstm_1/while/EmptyTensorList_11, lstm_1/while/EmptyTensorList_12, lstm_1/while/EmptyTensorList_13, lstm_1/while/EmptyTensorList_14, lstm_1/while/EmptyTensorList_15, lstm_1/while/EmptyTensorList_16, lstm_1/while/EmptyTensorList_17, lstm_1/while/EmptyTensorList_18, lstm_1/while/EmptyTensorList_19, lstm_1/while/EmptyTensorList_20, lstm_1/while/EmptyTensorList_21, lstm_1/while/EmptyTensorList_22, lstm_1/while/EmptyTensorList_23, lstm_1/while/EmptyTensorList_24, lstm_1/while/EmptyTensorList_25, lstm_1/while/EmptyTensorList_26, lstm_1/while/EmptyTensorList_27, lstm_1/while/EmptyTensorList_28, lstm_1/while/EmptyTensorList_29, lstm_1/while/EmptyTensorList_30, lstm_1/while/EmptyTensorList_31, lstm_1/while/EmptyTensorList_32, lstm_1/while/EmptyTensorList_33, lstm_1/while/EmptyTensorList_34, lstm_1/while/EmptyTensorList_35, lstm_1/while/EmptyTensorList_36, lstm_1/while/EmptyTensorList_37, lstm_1/while/EmptyTensorList_38, lstm_1/while/EmptyTensorList_39, lstm_1/while/EmptyTensorList_40, lstm_1/while/EmptyTensorList_41, lstm_1/while/EmptyTensorList_42, lstm_1/while/EmptyTensorList_43, lstm_1/while/EmptyTensorList_44, lstm_1/while/EmptyTensorList_45)}}' was changed by setting attribute after it was run by a session. This mutation will have no effect, and will trigger an error in the future. Either don't modify nodes after running them or create a new session.\n",
      "Opening file (1)\n",
      "Timer:  6.835775\n",
      "-------------------\n",
      "( 1 / 1 ) results on ks-cooks-1y/models/rnn_cce_ml60_bs32_ne2088.345_gc100_e10_h100_Ug_lr0.1_nt1.hdf5\n",
      "sps@10:  0.058823529411764705\n",
      "recall@10:  0.05301447001806817\n",
      "precision@10:  0.09554848966613709\n",
      "item_coverage@10:  125\n",
      "user_coverage@10:  0.5564387917329093\n",
      "ndcg@10:  0.09902302981088154\n",
      "blockbuster_share@10:  0.41098169717138106\n"
     ]
    }
   ],
   "source": [
    "!python test.py -d ks-cooks-1y -b 32 --max_length 60 --r_l 100 --r_emb 10 -i 2088.345\n"
   ]
  },
  {
   "cell_type": "code",
   "execution_count": 14,
   "metadata": {},
   "outputs": [
    {
     "name": "stdout",
     "output_type": "stream",
     "text": [
      "2019-12-09 13:56:36.028215: I tensorflow/core/platform/cpu_feature_guard.cc:142] Your CPU supports instructions that this TensorFlow binary was not compiled to use: AVX2 FMA\n",
      "2019-12-09 13:56:36.040517: I tensorflow/compiler/xla/service/service.cc:168] XLA service 0x7fe63e74f0a0 executing computations on platform Host. Devices:\n",
      "2019-12-09 13:56:36.040534: I tensorflow/compiler/xla/service/service.cc:175]   StreamExecutor device (0): Host, Default Version\n",
      "['ks-cooks-1y/models/rnn_cce_ml60_bs32_ne2109.111_gc100_e20_h100_Ug_lr0.1_nt1.hdf5']\n",
      "2019-12-09 13:56:37.223669: W tensorflow/c/c_api.cc:326] Operation '{name:'lstm_1/while' id:687 op device:{} def:{{{node lstm_1/while}} = While[T=[DT_INT32, DT_INT32, DT_INT32, DT_VARIANT, DT_FLOAT, ..., DT_VARIANT, DT_VARIANT, DT_VARIANT, DT_VARIANT, DT_VARIANT], _lower_using_switch_merge=true, _num_original_outputs=59, body=lstm_1_while_body_814[], cond=lstm_1_while_cond_813[], output_shapes=[[], [], [], [], [?,100], ..., [], [], [], [], []], parallel_iterations=32](lstm_1/while/loop_counter, lstm_1/while/maximum_iterations, lstm_1/time, lstm_1/TensorArrayV2_1, lstm_1/zeros_like, lstm_1/zeros, lstm_1/zeros_1, lstm_1/strided_slice_1, lstm_1/TensorArrayUnstack/TensorListFromTensor, lstm_1/TensorArrayUnstack_1/TensorListFromTensor, lstm_1/kernel, lstm_1/recurrent_kernel, lstm_1/bias, lstm_1/while/EmptyTensorList, lstm_1/while/EmptyTensorList_1, lstm_1/while/EmptyTensorList_2, lstm_1/while/EmptyTensorList_3, lstm_1/while/EmptyTensorList_4, lstm_1/while/EmptyTensorList_5, lstm_1/while/EmptyTensorList_6, lstm_1/while/EmptyTensorList_7, lstm_1/while/EmptyTensorList_8, lstm_1/while/EmptyTensorList_9, lstm_1/while/EmptyTensorList_10, lstm_1/while/EmptyTensorList_11, lstm_1/while/EmptyTensorList_12, lstm_1/while/EmptyTensorList_13, lstm_1/while/EmptyTensorList_14, lstm_1/while/EmptyTensorList_15, lstm_1/while/EmptyTensorList_16, lstm_1/while/EmptyTensorList_17, lstm_1/while/EmptyTensorList_18, lstm_1/while/EmptyTensorList_19, lstm_1/while/EmptyTensorList_20, lstm_1/while/EmptyTensorList_21, lstm_1/while/EmptyTensorList_22, lstm_1/while/EmptyTensorList_23, lstm_1/while/EmptyTensorList_24, lstm_1/while/EmptyTensorList_25, lstm_1/while/EmptyTensorList_26, lstm_1/while/EmptyTensorList_27, lstm_1/while/EmptyTensorList_28, lstm_1/while/EmptyTensorList_29, lstm_1/while/EmptyTensorList_30, lstm_1/while/EmptyTensorList_31, lstm_1/while/EmptyTensorList_32, lstm_1/while/EmptyTensorList_33, lstm_1/while/EmptyTensorList_34, lstm_1/while/EmptyTensorList_35, lstm_1/while/EmptyTensorList_36, lstm_1/while/EmptyTensorList_37, lstm_1/while/EmptyTensorList_38, lstm_1/while/EmptyTensorList_39, lstm_1/while/EmptyTensorList_40, lstm_1/while/EmptyTensorList_41, lstm_1/while/EmptyTensorList_42, lstm_1/while/EmptyTensorList_43, lstm_1/while/EmptyTensorList_44, lstm_1/while/EmptyTensorList_45)}}' was changed by setting attribute after it was run by a session. This mutation will have no effect, and will trigger an error in the future. Either don't modify nodes after running them or create a new session.\n",
      "Opening file (1)\n",
      "Timer:  6.118734999999999\n",
      "-------------------\n",
      "( 1 / 1 ) results on ks-cooks-1y/models/rnn_cce_ml60_bs32_ne2109.111_gc100_e20_h100_Ug_lr0.1_nt1.hdf5\n",
      "sps@10:  0.06359300476947535\n",
      "recall@10:  0.05332338540821968\n",
      "precision@10:  0.09554848966613706\n",
      "item_coverage@10:  161\n",
      "user_coverage@10:  0.5468998410174881\n",
      "ndcg@10:  0.09859080446094272\n",
      "blockbuster_share@10:  0.35108153078202997\n"
     ]
    }
   ],
   "source": [
    "!python test.py -d ks-cooks-1y -b 32 --max_length 60 --r_l 100 --r_emb 20 -i 2109.111"
   ]
  },
  {
   "cell_type": "code",
   "execution_count": 13,
   "metadata": {},
   "outputs": [
    {
     "name": "stdout",
     "output_type": "stream",
     "text": [
      "2019-12-09 13:56:05.500877: I tensorflow/core/platform/cpu_feature_guard.cc:142] Your CPU supports instructions that this TensorFlow binary was not compiled to use: AVX2 FMA\n",
      "2019-12-09 13:56:05.516903: I tensorflow/compiler/xla/service/service.cc:168] XLA service 0x7feea9a8d360 executing computations on platform Host. Devices:\n",
      "2019-12-09 13:56:05.516922: I tensorflow/compiler/xla/service/service.cc:175]   StreamExecutor device (0): Host, Default Version\n",
      "['ks-cooks-1y/models/rnn_cce_ml60_bs32_ne2205.682_gc100_e50_h100_Ug_lr0.1_nt1.hdf5']\n",
      "2019-12-09 13:56:06.760519: W tensorflow/c/c_api.cc:326] Operation '{name:'lstm_1/while' id:687 op device:{} def:{{{node lstm_1/while}} = While[T=[DT_INT32, DT_INT32, DT_INT32, DT_VARIANT, DT_FLOAT, ..., DT_VARIANT, DT_VARIANT, DT_VARIANT, DT_VARIANT, DT_VARIANT], _lower_using_switch_merge=true, _num_original_outputs=59, body=lstm_1_while_body_814[], cond=lstm_1_while_cond_813[], output_shapes=[[], [], [], [], [?,100], ..., [], [], [], [], []], parallel_iterations=32](lstm_1/while/loop_counter, lstm_1/while/maximum_iterations, lstm_1/time, lstm_1/TensorArrayV2_1, lstm_1/zeros_like, lstm_1/zeros, lstm_1/zeros_1, lstm_1/strided_slice_1, lstm_1/TensorArrayUnstack/TensorListFromTensor, lstm_1/TensorArrayUnstack_1/TensorListFromTensor, lstm_1/kernel, lstm_1/recurrent_kernel, lstm_1/bias, lstm_1/while/EmptyTensorList, lstm_1/while/EmptyTensorList_1, lstm_1/while/EmptyTensorList_2, lstm_1/while/EmptyTensorList_3, lstm_1/while/EmptyTensorList_4, lstm_1/while/EmptyTensorList_5, lstm_1/while/EmptyTensorList_6, lstm_1/while/EmptyTensorList_7, lstm_1/while/EmptyTensorList_8, lstm_1/while/EmptyTensorList_9, lstm_1/while/EmptyTensorList_10, lstm_1/while/EmptyTensorList_11, lstm_1/while/EmptyTensorList_12, lstm_1/while/EmptyTensorList_13, lstm_1/while/EmptyTensorList_14, lstm_1/while/EmptyTensorList_15, lstm_1/while/EmptyTensorList_16, lstm_1/while/EmptyTensorList_17, lstm_1/while/EmptyTensorList_18, lstm_1/while/EmptyTensorList_19, lstm_1/while/EmptyTensorList_20, lstm_1/while/EmptyTensorList_21, lstm_1/while/EmptyTensorList_22, lstm_1/while/EmptyTensorList_23, lstm_1/while/EmptyTensorList_24, lstm_1/while/EmptyTensorList_25, lstm_1/while/EmptyTensorList_26, lstm_1/while/EmptyTensorList_27, lstm_1/while/EmptyTensorList_28, lstm_1/while/EmptyTensorList_29, lstm_1/while/EmptyTensorList_30, lstm_1/while/EmptyTensorList_31, lstm_1/while/EmptyTensorList_32, lstm_1/while/EmptyTensorList_33, lstm_1/while/EmptyTensorList_34, lstm_1/while/EmptyTensorList_35, lstm_1/while/EmptyTensorList_36, lstm_1/while/EmptyTensorList_37, lstm_1/while/EmptyTensorList_38, lstm_1/while/EmptyTensorList_39, lstm_1/while/EmptyTensorList_40, lstm_1/while/EmptyTensorList_41, lstm_1/while/EmptyTensorList_42, lstm_1/while/EmptyTensorList_43, lstm_1/while/EmptyTensorList_44, lstm_1/while/EmptyTensorList_45)}}' was changed by setting attribute after it was run by a session. This mutation will have no effect, and will trigger an error in the future. Either don't modify nodes after running them or create a new session.\n",
      "Opening file (1)\n",
      "Timer:  8.633453000000001\n",
      "-------------------\n",
      "( 1 / 1 ) results on ks-cooks-1y/models/rnn_cce_ml60_bs32_ne2205.682_gc100_e50_h100_Ug_lr0.1_nt1.hdf5\n",
      "sps@10:  0.05564387917329094\n",
      "recall@10:  0.05036274796246924\n",
      "precision@10:  0.08918918918918953\n",
      "item_coverage@10:  132\n",
      "user_coverage@10:  0.548489666136725\n",
      "ndcg@10:  0.09286813095296766\n",
      "blockbuster_share@10:  0.38146167557932265\n"
     ]
    }
   ],
   "source": [
    "# ks-cooks-1y/models/rnn_cce_ml60_bs32_ne2205.682_gc100_e50_h100_Ug_lr0.1_nt1.hdf5\n",
    "!python test.py -d ks-cooks-1y -b 32 --max_length 60 --r_l 100 --r_emb 50 -i 2205.682\n"
   ]
  },
  {
   "cell_type": "code",
   "execution_count": 15,
   "metadata": {},
   "outputs": [
    {
     "name": "stdout",
     "output_type": "stream",
     "text": [
      "2019-12-09 13:57:22.642766: I tensorflow/core/platform/cpu_feature_guard.cc:142] Your CPU supports instructions that this TensorFlow binary was not compiled to use: AVX2 FMA\n",
      "2019-12-09 13:57:22.657261: I tensorflow/compiler/xla/service/service.cc:168] XLA service 0x7fb78ff6e250 executing computations on platform Host. Devices:\n",
      "2019-12-09 13:57:22.657279: I tensorflow/compiler/xla/service/service.cc:175]   StreamExecutor device (0): Host, Default Version\n",
      "['ks-cooks-1y/models/rnn_cce_ml60_bs32_ne2506.271_gc100_e100_h100_Ug_lr0.1_nt1.hdf5']\n",
      "2019-12-09 13:57:23.778058: W tensorflow/c/c_api.cc:326] Operation '{name:'lstm_1/while' id:687 op device:{} def:{{{node lstm_1/while}} = While[T=[DT_INT32, DT_INT32, DT_INT32, DT_VARIANT, DT_FLOAT, ..., DT_VARIANT, DT_VARIANT, DT_VARIANT, DT_VARIANT, DT_VARIANT], _lower_using_switch_merge=true, _num_original_outputs=59, body=lstm_1_while_body_814[], cond=lstm_1_while_cond_813[], output_shapes=[[], [], [], [], [?,100], ..., [], [], [], [], []], parallel_iterations=32](lstm_1/while/loop_counter, lstm_1/while/maximum_iterations, lstm_1/time, lstm_1/TensorArrayV2_1, lstm_1/zeros_like, lstm_1/zeros, lstm_1/zeros_1, lstm_1/strided_slice_1, lstm_1/TensorArrayUnstack/TensorListFromTensor, lstm_1/TensorArrayUnstack_1/TensorListFromTensor, lstm_1/kernel, lstm_1/recurrent_kernel, lstm_1/bias, lstm_1/while/EmptyTensorList, lstm_1/while/EmptyTensorList_1, lstm_1/while/EmptyTensorList_2, lstm_1/while/EmptyTensorList_3, lstm_1/while/EmptyTensorList_4, lstm_1/while/EmptyTensorList_5, lstm_1/while/EmptyTensorList_6, lstm_1/while/EmptyTensorList_7, lstm_1/while/EmptyTensorList_8, lstm_1/while/EmptyTensorList_9, lstm_1/while/EmptyTensorList_10, lstm_1/while/EmptyTensorList_11, lstm_1/while/EmptyTensorList_12, lstm_1/while/EmptyTensorList_13, lstm_1/while/EmptyTensorList_14, lstm_1/while/EmptyTensorList_15, lstm_1/while/EmptyTensorList_16, lstm_1/while/EmptyTensorList_17, lstm_1/while/EmptyTensorList_18, lstm_1/while/EmptyTensorList_19, lstm_1/while/EmptyTensorList_20, lstm_1/while/EmptyTensorList_21, lstm_1/while/EmptyTensorList_22, lstm_1/while/EmptyTensorList_23, lstm_1/while/EmptyTensorList_24, lstm_1/while/EmptyTensorList_25, lstm_1/while/EmptyTensorList_26, lstm_1/while/EmptyTensorList_27, lstm_1/while/EmptyTensorList_28, lstm_1/while/EmptyTensorList_29, lstm_1/while/EmptyTensorList_30, lstm_1/while/EmptyTensorList_31, lstm_1/while/EmptyTensorList_32, lstm_1/while/EmptyTensorList_33, lstm_1/while/EmptyTensorList_34, lstm_1/while/EmptyTensorList_35, lstm_1/while/EmptyTensorList_36, lstm_1/while/EmptyTensorList_37, lstm_1/while/EmptyTensorList_38, lstm_1/while/EmptyTensorList_39, lstm_1/while/EmptyTensorList_40, lstm_1/while/EmptyTensorList_41, lstm_1/while/EmptyTensorList_42, lstm_1/while/EmptyTensorList_43, lstm_1/while/EmptyTensorList_44, lstm_1/while/EmptyTensorList_45)}}' was changed by setting attribute after it was run by a session. This mutation will have no effect, and will trigger an error in the future. Either don't modify nodes after running them or create a new session.\n",
      "Opening file (1)\n",
      "Timer:  6.864833000000001\n",
      "-------------------\n",
      "( 1 / 1 ) results on ks-cooks-1y/models/rnn_cce_ml60_bs32_ne2506.271_gc100_e100_h100_Ug_lr0.1_nt1.hdf5\n",
      "sps@10:  0.07313195548489666\n",
      "recall@10:  0.05584596585807256\n",
      "precision@10:  0.09856915739268708\n",
      "item_coverage@10:  161\n",
      "user_coverage@10:  0.5548489666136724\n",
      "ndcg@10:  0.10410828022909803\n",
      "blockbuster_share@10:  0.3741935483870968\n"
     ]
    }
   ],
   "source": [
    "# ks-cooks-1y/models/rnn_cce_ml60_bs32_ne2506.271_gc100_e100_h100_Ug_lr0.1_nt1.hdf5\n",
    "!python test.py -d ks-cooks-1y -b 32 --max_length 60 --r_l 100 --r_emb 100 -i 2506.271\n"
   ]
  },
  {
   "cell_type": "code",
   "execution_count": 16,
   "metadata": {},
   "outputs": [
    {
     "name": "stdout",
     "output_type": "stream",
     "text": [
      "2019-12-09 13:58:29.187160: I tensorflow/core/platform/cpu_feature_guard.cc:142] Your CPU supports instructions that this TensorFlow binary was not compiled to use: AVX2 FMA\n",
      "2019-12-09 13:58:29.198564: I tensorflow/compiler/xla/service/service.cc:168] XLA service 0x7fc259949bf0 executing computations on platform Host. Devices:\n",
      "2019-12-09 13:58:29.198582: I tensorflow/compiler/xla/service/service.cc:175]   StreamExecutor device (0): Host, Default Version\n",
      "['ks-cooks-1y/models/rnn_cce_ml60_bs32_ne2635.428_gc100_e100_h100_Ug_lr0.1_nt1.hdf5']\n",
      "2019-12-09 13:58:30.365809: W tensorflow/c/c_api.cc:326] Operation '{name:'lstm_1/while' id:687 op device:{} def:{{{node lstm_1/while}} = While[T=[DT_INT32, DT_INT32, DT_INT32, DT_VARIANT, DT_FLOAT, ..., DT_VARIANT, DT_VARIANT, DT_VARIANT, DT_VARIANT, DT_VARIANT], _lower_using_switch_merge=true, _num_original_outputs=59, body=lstm_1_while_body_814[], cond=lstm_1_while_cond_813[], output_shapes=[[], [], [], [], [?,100], ..., [], [], [], [], []], parallel_iterations=32](lstm_1/while/loop_counter, lstm_1/while/maximum_iterations, lstm_1/time, lstm_1/TensorArrayV2_1, lstm_1/zeros_like, lstm_1/zeros, lstm_1/zeros_1, lstm_1/strided_slice_1, lstm_1/TensorArrayUnstack/TensorListFromTensor, lstm_1/TensorArrayUnstack_1/TensorListFromTensor, lstm_1/kernel, lstm_1/recurrent_kernel, lstm_1/bias, lstm_1/while/EmptyTensorList, lstm_1/while/EmptyTensorList_1, lstm_1/while/EmptyTensorList_2, lstm_1/while/EmptyTensorList_3, lstm_1/while/EmptyTensorList_4, lstm_1/while/EmptyTensorList_5, lstm_1/while/EmptyTensorList_6, lstm_1/while/EmptyTensorList_7, lstm_1/while/EmptyTensorList_8, lstm_1/while/EmptyTensorList_9, lstm_1/while/EmptyTensorList_10, lstm_1/while/EmptyTensorList_11, lstm_1/while/EmptyTensorList_12, lstm_1/while/EmptyTensorList_13, lstm_1/while/EmptyTensorList_14, lstm_1/while/EmptyTensorList_15, lstm_1/while/EmptyTensorList_16, lstm_1/while/EmptyTensorList_17, lstm_1/while/EmptyTensorList_18, lstm_1/while/EmptyTensorList_19, lstm_1/while/EmptyTensorList_20, lstm_1/while/EmptyTensorList_21, lstm_1/while/EmptyTensorList_22, lstm_1/while/EmptyTensorList_23, lstm_1/while/EmptyTensorList_24, lstm_1/while/EmptyTensorList_25, lstm_1/while/EmptyTensorList_26, lstm_1/while/EmptyTensorList_27, lstm_1/while/EmptyTensorList_28, lstm_1/while/EmptyTensorList_29, lstm_1/while/EmptyTensorList_30, lstm_1/while/EmptyTensorList_31, lstm_1/while/EmptyTensorList_32, lstm_1/while/EmptyTensorList_33, lstm_1/while/EmptyTensorList_34, lstm_1/while/EmptyTensorList_35, lstm_1/while/EmptyTensorList_36, lstm_1/while/EmptyTensorList_37, lstm_1/while/EmptyTensorList_38, lstm_1/while/EmptyTensorList_39, lstm_1/while/EmptyTensorList_40, lstm_1/while/EmptyTensorList_41, lstm_1/while/EmptyTensorList_42, lstm_1/while/EmptyTensorList_43, lstm_1/while/EmptyTensorList_44, lstm_1/while/EmptyTensorList_45)}}' was changed by setting attribute after it was run by a session. This mutation will have no effect, and will trigger an error in the future. Either don't modify nodes after running them or create a new session.\n",
      "Opening file (1)\n",
      "Timer:  7.050526\n",
      "-------------------\n",
      "( 1 / 1 ) results on ks-cooks-1y/models/rnn_cce_ml60_bs32_ne2635.428_gc100_e100_h100_Ug_lr0.1_nt1.hdf5\n",
      "sps@10:  0.0794912559618442\n",
      "recall@10:  0.05542981568634982\n",
      "precision@10:  0.09729729729729766\n",
      "item_coverage@10:  169\n",
      "user_coverage@10:  0.5866454689984102\n",
      "ndcg@10:  0.10186320583909783\n",
      "blockbuster_share@10:  0.3431372549019608\n"
     ]
    }
   ],
   "source": [
    "# Save model in ks-cooks-1y/models/rnn_cce_ml60_bs32_ne2635.428_gc100_e100_h100_Ug_lr0.1_nt1.hdf5\n",
    "\n",
    "!python test.py -d ks-cooks-1y -b 32 --max_length 60 --r_l 100 --r_emb 100 -i 2635.428\n"
   ]
  },
  {
   "cell_type": "code",
   "execution_count": 19,
   "metadata": {},
   "outputs": [
    {
     "name": "stdout",
     "output_type": "stream",
     "text": [
      "2019-12-09 14:02:07.661792: I tensorflow/core/platform/cpu_feature_guard.cc:142] Your CPU supports instructions that this TensorFlow binary was not compiled to use: AVX2 FMA\n",
      "2019-12-09 14:02:07.673990: I tensorflow/compiler/xla/service/service.cc:168] XLA service 0x7fbce5e7d6e0 executing computations on platform Host. Devices:\n",
      "2019-12-09 14:02:07.674027: I tensorflow/compiler/xla/service/service.cc:175]   StreamExecutor device (0): Host, Default Version\n",
      "['ks-cooks-1y/models/rnn_cce_ml60_bs32_ne2434.362_gc100_e100_h100_Ug_lr0.1_nt1.hdf5']\n",
      "2019-12-09 14:02:08.804085: W tensorflow/c/c_api.cc:326] Operation '{name:'lstm_1/while' id:687 op device:{} def:{{{node lstm_1/while}} = While[T=[DT_INT32, DT_INT32, DT_INT32, DT_VARIANT, DT_FLOAT, ..., DT_VARIANT, DT_VARIANT, DT_VARIANT, DT_VARIANT, DT_VARIANT], _lower_using_switch_merge=true, _num_original_outputs=59, body=lstm_1_while_body_814[], cond=lstm_1_while_cond_813[], output_shapes=[[], [], [], [], [?,100], ..., [], [], [], [], []], parallel_iterations=32](lstm_1/while/loop_counter, lstm_1/while/maximum_iterations, lstm_1/time, lstm_1/TensorArrayV2_1, lstm_1/zeros_like, lstm_1/zeros, lstm_1/zeros_1, lstm_1/strided_slice_1, lstm_1/TensorArrayUnstack/TensorListFromTensor, lstm_1/TensorArrayUnstack_1/TensorListFromTensor, lstm_1/kernel, lstm_1/recurrent_kernel, lstm_1/bias, lstm_1/while/EmptyTensorList, lstm_1/while/EmptyTensorList_1, lstm_1/while/EmptyTensorList_2, lstm_1/while/EmptyTensorList_3, lstm_1/while/EmptyTensorList_4, lstm_1/while/EmptyTensorList_5, lstm_1/while/EmptyTensorList_6, lstm_1/while/EmptyTensorList_7, lstm_1/while/EmptyTensorList_8, lstm_1/while/EmptyTensorList_9, lstm_1/while/EmptyTensorList_10, lstm_1/while/EmptyTensorList_11, lstm_1/while/EmptyTensorList_12, lstm_1/while/EmptyTensorList_13, lstm_1/while/EmptyTensorList_14, lstm_1/while/EmptyTensorList_15, lstm_1/while/EmptyTensorList_16, lstm_1/while/EmptyTensorList_17, lstm_1/while/EmptyTensorList_18, lstm_1/while/EmptyTensorList_19, lstm_1/while/EmptyTensorList_20, lstm_1/while/EmptyTensorList_21, lstm_1/while/EmptyTensorList_22, lstm_1/while/EmptyTensorList_23, lstm_1/while/EmptyTensorList_24, lstm_1/while/EmptyTensorList_25, lstm_1/while/EmptyTensorList_26, lstm_1/while/EmptyTensorList_27, lstm_1/while/EmptyTensorList_28, lstm_1/while/EmptyTensorList_29, lstm_1/while/EmptyTensorList_30, lstm_1/while/EmptyTensorList_31, lstm_1/while/EmptyTensorList_32, lstm_1/while/EmptyTensorList_33, lstm_1/while/EmptyTensorList_34, lstm_1/while/EmptyTensorList_35, lstm_1/while/EmptyTensorList_36, lstm_1/while/EmptyTensorList_37, lstm_1/while/EmptyTensorList_38, lstm_1/while/EmptyTensorList_39, lstm_1/while/EmptyTensorList_40, lstm_1/while/EmptyTensorList_41, lstm_1/while/EmptyTensorList_42, lstm_1/while/EmptyTensorList_43, lstm_1/while/EmptyTensorList_44, lstm_1/while/EmptyTensorList_45)}}' was changed by setting attribute after it was run by a session. This mutation will have no effect, and will trigger an error in the future. Either don't modify nodes after running them or create a new session.\n",
      "Opening file (1)\n",
      "Timer:  6.980483999999999\n",
      "-------------------\n",
      "( 1 / 1 ) results on ks-cooks-1y/models/rnn_cce_ml60_bs32_ne2434.362_gc100_e100_h100_Ug_lr0.1_nt1.hdf5\n",
      "sps@10:  0.07631160572337042\n",
      "recall@10:  0.052245336584076915\n",
      "precision@10:  0.09236883942766332\n",
      "item_coverage@10:  144\n",
      "user_coverage@10:  0.5500794912559619\n",
      "ndcg@10:  0.0981475700676602\n",
      "blockbuster_share@10:  0.40963855421686746\n"
     ]
    }
   ],
   "source": [
    "# Save model in ks-cooks-1y/models/rnn_cce_ml60_bs32_ne2434.362_gc100_e100_h100_Ug_lr0.1_nt1.hdf5\n",
    "### THIS IS FROM REMOTE_PC before diabling Eagertensor in \"Compare three emb method\"\n",
    "!python test.py -d ks-cooks-1y -b 32 --max_length 60 --r_l 100 --r_emb 100 -i 2434.362"
   ]
  },
  {
   "cell_type": "code",
   "execution_count": 20,
   "metadata": {},
   "outputs": [
    {
     "name": "stdout",
     "output_type": "stream",
     "text": [
      "2019-12-09 14:03:55.622828: I tensorflow/core/platform/cpu_feature_guard.cc:142] Your CPU supports instructions that this TensorFlow binary was not compiled to use: AVX2 FMA\n",
      "2019-12-09 14:03:55.634176: I tensorflow/compiler/xla/service/service.cc:168] XLA service 0x7fafe0b10790 executing computations on platform Host. Devices:\n",
      "2019-12-09 14:03:55.634193: I tensorflow/compiler/xla/service/service.cc:175]   StreamExecutor device (0): Host, Default Version\n",
      "['ks-cooks-1y/models/rnn_cce_ml60_bs32_ne2478.667_gc100_e100_h100_Ug_lr0.1_nt1.hdf5']\n",
      "2019-12-09 14:03:56.927168: W tensorflow/c/c_api.cc:326] Operation '{name:'lstm_1/while' id:687 op device:{} def:{{{node lstm_1/while}} = While[T=[DT_INT32, DT_INT32, DT_INT32, DT_VARIANT, DT_FLOAT, ..., DT_VARIANT, DT_VARIANT, DT_VARIANT, DT_VARIANT, DT_VARIANT], _lower_using_switch_merge=true, _num_original_outputs=59, body=lstm_1_while_body_814[], cond=lstm_1_while_cond_813[], output_shapes=[[], [], [], [], [?,100], ..., [], [], [], [], []], parallel_iterations=32](lstm_1/while/loop_counter, lstm_1/while/maximum_iterations, lstm_1/time, lstm_1/TensorArrayV2_1, lstm_1/zeros_like, lstm_1/zeros, lstm_1/zeros_1, lstm_1/strided_slice_1, lstm_1/TensorArrayUnstack/TensorListFromTensor, lstm_1/TensorArrayUnstack_1/TensorListFromTensor, lstm_1/kernel, lstm_1/recurrent_kernel, lstm_1/bias, lstm_1/while/EmptyTensorList, lstm_1/while/EmptyTensorList_1, lstm_1/while/EmptyTensorList_2, lstm_1/while/EmptyTensorList_3, lstm_1/while/EmptyTensorList_4, lstm_1/while/EmptyTensorList_5, lstm_1/while/EmptyTensorList_6, lstm_1/while/EmptyTensorList_7, lstm_1/while/EmptyTensorList_8, lstm_1/while/EmptyTensorList_9, lstm_1/while/EmptyTensorList_10, lstm_1/while/EmptyTensorList_11, lstm_1/while/EmptyTensorList_12, lstm_1/while/EmptyTensorList_13, lstm_1/while/EmptyTensorList_14, lstm_1/while/EmptyTensorList_15, lstm_1/while/EmptyTensorList_16, lstm_1/while/EmptyTensorList_17, lstm_1/while/EmptyTensorList_18, lstm_1/while/EmptyTensorList_19, lstm_1/while/EmptyTensorList_20, lstm_1/while/EmptyTensorList_21, lstm_1/while/EmptyTensorList_22, lstm_1/while/EmptyTensorList_23, lstm_1/while/EmptyTensorList_24, lstm_1/while/EmptyTensorList_25, lstm_1/while/EmptyTensorList_26, lstm_1/while/EmptyTensorList_27, lstm_1/while/EmptyTensorList_28, lstm_1/while/EmptyTensorList_29, lstm_1/while/EmptyTensorList_30, lstm_1/while/EmptyTensorList_31, lstm_1/while/EmptyTensorList_32, lstm_1/while/EmptyTensorList_33, lstm_1/while/EmptyTensorList_34, lstm_1/while/EmptyTensorList_35, lstm_1/while/EmptyTensorList_36, lstm_1/while/EmptyTensorList_37, lstm_1/while/EmptyTensorList_38, lstm_1/while/EmptyTensorList_39, lstm_1/while/EmptyTensorList_40, lstm_1/while/EmptyTensorList_41, lstm_1/while/EmptyTensorList_42, lstm_1/while/EmptyTensorList_43, lstm_1/while/EmptyTensorList_44, lstm_1/while/EmptyTensorList_45)}}' was changed by setting attribute after it was run by a session. This mutation will have no effect, and will trigger an error in the future. Either don't modify nodes after running them or create a new session.\n",
      "Opening file (1)\n",
      "Timer:  9.616082\n",
      "-------------------\n",
      "( 1 / 1 ) results on ks-cooks-1y/models/rnn_cce_ml60_bs32_ne2478.667_gc100_e100_h100_Ug_lr0.1_nt1.hdf5\n",
      "sps@10:  0.07631160572337042\n",
      "recall@10:  0.052245336584076915\n",
      "precision@10:  0.09236883942766332\n",
      "item_coverage@10:  144\n",
      "user_coverage@10:  0.5500794912559619\n",
      "ndcg@10:  0.0981475700676602\n",
      "blockbuster_share@10:  0.40963855421686746\n"
     ]
    }
   ],
   "source": [
    "# EXACT FROM ABOVE, SAME MACHINE, SAME TRAINGING LOSS/VAL_LOSS WHEN TRAINING\n",
    "\n",
    "!python test.py -d ks-cooks-1y -b 32 --max_length 60 --r_l 100 --r_emb 100 -i 2478.667"
   ]
  },
  {
   "cell_type": "code",
   "execution_count": 18,
   "metadata": {},
   "outputs": [
    {
     "name": "stdout",
     "output_type": "stream",
     "text": [
      "2019-12-09 13:59:48.184933: I tensorflow/core/platform/cpu_feature_guard.cc:142] Your CPU supports instructions that this TensorFlow binary was not compiled to use: AVX2 FMA\n",
      "2019-12-09 13:59:48.195191: I tensorflow/compiler/xla/service/service.cc:168] XLA service 0x7ff198151450 executing computations on platform Host. Devices:\n",
      "2019-12-09 13:59:48.195211: I tensorflow/compiler/xla/service/service.cc:175]   StreamExecutor device (0): Host, Default Version\n",
      "['ks-cooks-1y/models/rnn_cce_ml60_bs32_ne2856.891_gc100_e150_h100_Ug_lr0.1_nt1.hdf5']\n",
      "2019-12-09 13:59:49.276173: W tensorflow/c/c_api.cc:326] Operation '{name:'lstm_1/while' id:687 op device:{} def:{{{node lstm_1/while}} = While[T=[DT_INT32, DT_INT32, DT_INT32, DT_VARIANT, DT_FLOAT, ..., DT_VARIANT, DT_VARIANT, DT_VARIANT, DT_VARIANT, DT_VARIANT], _lower_using_switch_merge=true, _num_original_outputs=59, body=lstm_1_while_body_814[], cond=lstm_1_while_cond_813[], output_shapes=[[], [], [], [], [?,100], ..., [], [], [], [], []], parallel_iterations=32](lstm_1/while/loop_counter, lstm_1/while/maximum_iterations, lstm_1/time, lstm_1/TensorArrayV2_1, lstm_1/zeros_like, lstm_1/zeros, lstm_1/zeros_1, lstm_1/strided_slice_1, lstm_1/TensorArrayUnstack/TensorListFromTensor, lstm_1/TensorArrayUnstack_1/TensorListFromTensor, lstm_1/kernel, lstm_1/recurrent_kernel, lstm_1/bias, lstm_1/while/EmptyTensorList, lstm_1/while/EmptyTensorList_1, lstm_1/while/EmptyTensorList_2, lstm_1/while/EmptyTensorList_3, lstm_1/while/EmptyTensorList_4, lstm_1/while/EmptyTensorList_5, lstm_1/while/EmptyTensorList_6, lstm_1/while/EmptyTensorList_7, lstm_1/while/EmptyTensorList_8, lstm_1/while/EmptyTensorList_9, lstm_1/while/EmptyTensorList_10, lstm_1/while/EmptyTensorList_11, lstm_1/while/EmptyTensorList_12, lstm_1/while/EmptyTensorList_13, lstm_1/while/EmptyTensorList_14, lstm_1/while/EmptyTensorList_15, lstm_1/while/EmptyTensorList_16, lstm_1/while/EmptyTensorList_17, lstm_1/while/EmptyTensorList_18, lstm_1/while/EmptyTensorList_19, lstm_1/while/EmptyTensorList_20, lstm_1/while/EmptyTensorList_21, lstm_1/while/EmptyTensorList_22, lstm_1/while/EmptyTensorList_23, lstm_1/while/EmptyTensorList_24, lstm_1/while/EmptyTensorList_25, lstm_1/while/EmptyTensorList_26, lstm_1/while/EmptyTensorList_27, lstm_1/while/EmptyTensorList_28, lstm_1/while/EmptyTensorList_29, lstm_1/while/EmptyTensorList_30, lstm_1/while/EmptyTensorList_31, lstm_1/while/EmptyTensorList_32, lstm_1/while/EmptyTensorList_33, lstm_1/while/EmptyTensorList_34, lstm_1/while/EmptyTensorList_35, lstm_1/while/EmptyTensorList_36, lstm_1/while/EmptyTensorList_37, lstm_1/while/EmptyTensorList_38, lstm_1/while/EmptyTensorList_39, lstm_1/while/EmptyTensorList_40, lstm_1/while/EmptyTensorList_41, lstm_1/while/EmptyTensorList_42, lstm_1/while/EmptyTensorList_43, lstm_1/while/EmptyTensorList_44, lstm_1/while/EmptyTensorList_45)}}' was changed by setting attribute after it was run by a session. This mutation will have no effect, and will trigger an error in the future. Either don't modify nodes after running them or create a new session.\n",
      "Opening file (1)\n",
      "Timer:  6.845995\n",
      "-------------------\n",
      "( 1 / 1 ) results on ks-cooks-1y/models/rnn_cce_ml60_bs32_ne2856.891_gc100_e150_h100_Ug_lr0.1_nt1.hdf5\n",
      "sps@10:  0.07154213036565978\n",
      "recall@10:  0.053142681817833375\n",
      "precision@10:  0.09459459459459492\n",
      "item_coverage@10:  164\n",
      "user_coverage@10:  0.5421303656597775\n",
      "ndcg@10:  0.10293591447638312\n",
      "blockbuster_share@10:  0.3630252100840336\n"
     ]
    }
   ],
   "source": [
    "# Save model in ks-cooks-1y/models/rnn_cce_ml60_bs32_ne2856.891_gc100_e150_h100_Ug_lr0.1_nt1.hdf5\n",
    "# 12.09 morning before leaving\n",
    "!python test.py -d ks-cooks-1y -b 32 --max_length 60 --r_l 100 --r_emb 150 -i 2856.891"
   ]
  },
  {
   "cell_type": "code",
   "execution_count": null,
   "metadata": {},
   "outputs": [],
   "source": []
  }
 ],
 "metadata": {
  "kernelspec": {
   "display_name": "my-python3-virlenv",
   "language": "python",
   "name": "my-python3-virlenv"
  },
  "language_info": {
   "codemirror_mode": {
    "name": "ipython",
    "version": 3
   },
   "file_extension": ".py",
   "mimetype": "text/x-python",
   "name": "python",
   "nbconvert_exporter": "python",
   "pygments_lexer": "ipython3",
   "version": "3.7.2"
  }
 },
 "nbformat": 4,
 "nbformat_minor": 2
}
