{
 "cells": [
  {
   "cell_type": "code",
   "execution_count": null,
   "metadata": {},
   "outputs": [],
   "source": [
    "# new run in 'Remote PC_Hidden_unit 50-100-150-200'"
   ]
  },
  {
   "cell_type": "code",
   "execution_count": 5,
   "metadata": {},
   "outputs": [
    {
     "name": "stdout",
     "output_type": "stream",
     "text": [
      "2019-12-09 18:21:34.185075: I tensorflow/core/platform/cpu_feature_guard.cc:142] Your CPU supports instructions that this TensorFlow binary was not compiled to use: AVX2 FMA\n",
      "2019-12-09 18:21:34.211442: I tensorflow/core/platform/profile_utils/cpu_utils.cc:94] CPU Frequency: 1895585000 Hz\n",
      "2019-12-09 18:21:34.211834: I tensorflow/compiler/xla/service/service.cc:168] XLA service 0x34a3e20 executing computations on platform Host. Devices:\n",
      "2019-12-09 18:21:34.211872: I tensorflow/compiler/xla/service/service.cc:175]   StreamExecutor device (0): Host, Default Version\n",
      "['ks-cooks-1y/models/rnn_cce_ml60_bs32_ne3473.665_gc100_e100_h100_Ug_lr0.1_nt1.hdf5']\n",
      "2019-12-09 18:21:37.534441: W tensorflow/c/c_api.cc:326] Operation '{name:'lstm_1/while' id:687 op device:{} def:{{{node lstm_1/while}} = While[T=[DT_INT32, DT_INT32, DT_INT32, DT_VARIANT, DT_FLOAT, ..., DT_VARIANT, DT_VARIANT, DT_VARIANT, DT_VARIANT, DT_VARIANT], _lower_using_switch_merge=true, _num_original_outputs=59, body=lstm_1_while_body_814[], cond=lstm_1_while_cond_813[], output_shapes=[[], [], [], [], [?,100], ..., [], [], [], [], []], parallel_iterations=32](lstm_1/while/loop_counter, lstm_1/while/maximum_iterations, lstm_1/time, lstm_1/TensorArrayV2_1, lstm_1/zeros_like, lstm_1/zeros, lstm_1/zeros_1, lstm_1/strided_slice_1, lstm_1/TensorArrayUnstack/TensorListFromTensor, lstm_1/TensorArrayUnstack_1/TensorListFromTensor, lstm_1/kernel, lstm_1/recurrent_kernel, lstm_1/bias, lstm_1/while/EmptyTensorList, lstm_1/while/EmptyTensorList_1, lstm_1/while/EmptyTensorList_2, lstm_1/while/EmptyTensorList_3, lstm_1/while/EmptyTensorList_4, lstm_1/while/EmptyTensorList_5, lstm_1/while/EmptyTensorList_6, lstm_1/while/EmptyTensorList_7, lstm_1/while/EmptyTensorList_8, lstm_1/while/EmptyTensorList_9, lstm_1/while/EmptyTensorList_10, lstm_1/while/EmptyTensorList_11, lstm_1/while/EmptyTensorList_12, lstm_1/while/EmptyTensorList_13, lstm_1/while/EmptyTensorList_14, lstm_1/while/EmptyTensorList_15, lstm_1/while/EmptyTensorList_16, lstm_1/while/EmptyTensorList_17, lstm_1/while/EmptyTensorList_18, lstm_1/while/EmptyTensorList_19, lstm_1/while/EmptyTensorList_20, lstm_1/while/EmptyTensorList_21, lstm_1/while/EmptyTensorList_22, lstm_1/while/EmptyTensorList_23, lstm_1/while/EmptyTensorList_24, lstm_1/while/EmptyTensorList_25, lstm_1/while/EmptyTensorList_26, lstm_1/while/EmptyTensorList_27, lstm_1/while/EmptyTensorList_28, lstm_1/while/EmptyTensorList_29, lstm_1/while/EmptyTensorList_30, lstm_1/while/EmptyTensorList_31, lstm_1/while/EmptyTensorList_32, lstm_1/while/EmptyTensorList_33, lstm_1/while/EmptyTensorList_34, lstm_1/while/EmptyTensorList_35, lstm_1/while/EmptyTensorList_36, lstm_1/while/EmptyTensorList_37, lstm_1/while/EmptyTensorList_38, lstm_1/while/EmptyTensorList_39, lstm_1/while/EmptyTensorList_40, lstm_1/while/EmptyTensorList_41, lstm_1/while/EmptyTensorList_42, lstm_1/while/EmptyTensorList_43, lstm_1/while/EmptyTensorList_44, lstm_1/while/EmptyTensorList_45)}}' was changed by setting attribute after it was run by a session. This mutation will have no effect, and will trigger an error in the future. Either don't modify nodes after running them or create a new session.\n",
      "Opening file (1)\n",
      "Timer:  11.690028419999999\n",
      "-------------------\n",
      "( 1 / 1 ) results on ks-cooks-1y/models/rnn_cce_ml60_bs32_ne3473.665_gc100_e100_h100_Ug_lr0.1_nt1.hdf5\n",
      "sps@10:  0.07472178060413355\n",
      "recall@10:  0.05478240120967721\n",
      "precision@10:  0.09586645468998443\n",
      "item_coverage@10:  172\n",
      "user_coverage@10:  0.5596184419713831\n",
      "ndcg@10:  0.10334906108236652\n",
      "blockbuster_share@10:  0.36981757877280264\n"
     ]
    }
   ],
   "source": [
    "!python test.py -d ks-cooks-1y -b 32 --max_length 60 --r_l 100 --r_emb 100 -i 3473.665"
   ]
  },
  {
   "cell_type": "code",
   "execution_count": null,
   "metadata": {},
   "outputs": [],
   "source": [
    "# new run in 'Remote PC_Embedding_Size 100-150-200', same env as above"
   ]
  },
  {
   "cell_type": "code",
   "execution_count": 1,
   "metadata": {},
   "outputs": [
    {
     "name": "stdout",
     "output_type": "stream",
     "text": [
      "2019-12-09 15:44:24.809646: I tensorflow/core/platform/cpu_feature_guard.cc:142] Your CPU supports instructions that this TensorFlow binary was not compiled to use: AVX2 FMA\n",
      "2019-12-09 15:44:24.835328: I tensorflow/core/platform/profile_utils/cpu_utils.cc:94] CPU Frequency: 1895585000 Hz\n",
      "2019-12-09 15:44:24.835668: I tensorflow/compiler/xla/service/service.cc:168] XLA service 0x530c1e0 executing computations on platform Host. Devices:\n",
      "2019-12-09 15:44:24.835694: I tensorflow/compiler/xla/service/service.cc:175]   StreamExecutor device (0): Host, Default Version\n",
      "['ks-cooks-1y/models/rnn_cce_ml60_bs32_ne3469.824_gc100_e100_h100_Ug_lr0.1_nt1.hdf5']\n",
      "2019-12-09 15:44:27.973642: W tensorflow/c/c_api.cc:326] Operation '{name:'lstm_1/while' id:687 op device:{} def:{{{node lstm_1/while}} = While[T=[DT_INT32, DT_INT32, DT_INT32, DT_VARIANT, DT_FLOAT, ..., DT_VARIANT, DT_VARIANT, DT_VARIANT, DT_VARIANT, DT_VARIANT], _lower_using_switch_merge=true, _num_original_outputs=59, body=lstm_1_while_body_814[], cond=lstm_1_while_cond_813[], output_shapes=[[], [], [], [], [?,100], ..., [], [], [], [], []], parallel_iterations=32](lstm_1/while/loop_counter, lstm_1/while/maximum_iterations, lstm_1/time, lstm_1/TensorArrayV2_1, lstm_1/zeros_like, lstm_1/zeros, lstm_1/zeros_1, lstm_1/strided_slice_1, lstm_1/TensorArrayUnstack/TensorListFromTensor, lstm_1/TensorArrayUnstack_1/TensorListFromTensor, lstm_1/kernel, lstm_1/recurrent_kernel, lstm_1/bias, lstm_1/while/EmptyTensorList, lstm_1/while/EmptyTensorList_1, lstm_1/while/EmptyTensorList_2, lstm_1/while/EmptyTensorList_3, lstm_1/while/EmptyTensorList_4, lstm_1/while/EmptyTensorList_5, lstm_1/while/EmptyTensorList_6, lstm_1/while/EmptyTensorList_7, lstm_1/while/EmptyTensorList_8, lstm_1/while/EmptyTensorList_9, lstm_1/while/EmptyTensorList_10, lstm_1/while/EmptyTensorList_11, lstm_1/while/EmptyTensorList_12, lstm_1/while/EmptyTensorList_13, lstm_1/while/EmptyTensorList_14, lstm_1/while/EmptyTensorList_15, lstm_1/while/EmptyTensorList_16, lstm_1/while/EmptyTensorList_17, lstm_1/while/EmptyTensorList_18, lstm_1/while/EmptyTensorList_19, lstm_1/while/EmptyTensorList_20, lstm_1/while/EmptyTensorList_21, lstm_1/while/EmptyTensorList_22, lstm_1/while/EmptyTensorList_23, lstm_1/while/EmptyTensorList_24, lstm_1/while/EmptyTensorList_25, lstm_1/while/EmptyTensorList_26, lstm_1/while/EmptyTensorList_27, lstm_1/while/EmptyTensorList_28, lstm_1/while/EmptyTensorList_29, lstm_1/while/EmptyTensorList_30, lstm_1/while/EmptyTensorList_31, lstm_1/while/EmptyTensorList_32, lstm_1/while/EmptyTensorList_33, lstm_1/while/EmptyTensorList_34, lstm_1/while/EmptyTensorList_35, lstm_1/while/EmptyTensorList_36, lstm_1/while/EmptyTensorList_37, lstm_1/while/EmptyTensorList_38, lstm_1/while/EmptyTensorList_39, lstm_1/while/EmptyTensorList_40, lstm_1/while/EmptyTensorList_41, lstm_1/while/EmptyTensorList_42, lstm_1/while/EmptyTensorList_43, lstm_1/while/EmptyTensorList_44, lstm_1/while/EmptyTensorList_45)}}' was changed by setting attribute after it was run by a session. This mutation will have no effect, and will trigger an error in the future. Either don't modify nodes after running them or create a new session.\n",
      "Opening file (1)\n",
      "Timer:  12.257120894999998\n",
      "-------------------\n",
      "( 1 / 1 ) results on ks-cooks-1y/models/rnn_cce_ml60_bs32_ne3469.824_gc100_e100_h100_Ug_lr0.1_nt1.hdf5\n",
      "sps@10:  0.07313195548489666\n",
      "recall@10:  0.05320595503796421\n",
      "precision@10:  0.09459459459459495\n",
      "item_coverage@10:  152\n",
      "user_coverage@10:  0.5453100158982512\n",
      "ndcg@10:  0.09935400753136915\n",
      "blockbuster_share@10:  0.32941176470588235\n"
     ]
    }
   ],
   "source": [
    "# Save model in ks-cooks-1y/models/rnn_cce_ml60_bs32_ne3469.824_gc100_e100_h100_Ug_lr0.1_nt1.hdf5\n",
    "!python test.py -d ks-cooks-1y -b 32 --max_length 60 --r_l 100 --r_emb 100 -i 3469.824"
   ]
  },
  {
   "cell_type": "code",
   "execution_count": 2,
   "metadata": {},
   "outputs": [
    {
     "name": "stdout",
     "output_type": "stream",
     "text": [
      "2019-12-09 15:49:31.789467: I tensorflow/core/platform/cpu_feature_guard.cc:142] Your CPU supports instructions that this TensorFlow binary was not compiled to use: AVX2 FMA\n",
      "2019-12-09 15:49:31.815345: I tensorflow/core/platform/profile_utils/cpu_utils.cc:94] CPU Frequency: 1895585000 Hz\n",
      "2019-12-09 15:49:31.815688: I tensorflow/compiler/xla/service/service.cc:168] XLA service 0x3954f80 executing computations on platform Host. Devices:\n",
      "2019-12-09 15:49:31.815724: I tensorflow/compiler/xla/service/service.cc:175]   StreamExecutor device (0): Host, Default Version\n",
      "['ks-cooks-1y/models/rnn_cce_ml60_bs32_ne3901.554_gc100_e150_h100_Ug_lr0.1_nt1.hdf5']\n",
      "2019-12-09 15:49:34.954203: W tensorflow/c/c_api.cc:326] Operation '{name:'lstm_1/while' id:687 op device:{} def:{{{node lstm_1/while}} = While[T=[DT_INT32, DT_INT32, DT_INT32, DT_VARIANT, DT_FLOAT, ..., DT_VARIANT, DT_VARIANT, DT_VARIANT, DT_VARIANT, DT_VARIANT], _lower_using_switch_merge=true, _num_original_outputs=59, body=lstm_1_while_body_814[], cond=lstm_1_while_cond_813[], output_shapes=[[], [], [], [], [?,100], ..., [], [], [], [], []], parallel_iterations=32](lstm_1/while/loop_counter, lstm_1/while/maximum_iterations, lstm_1/time, lstm_1/TensorArrayV2_1, lstm_1/zeros_like, lstm_1/zeros, lstm_1/zeros_1, lstm_1/strided_slice_1, lstm_1/TensorArrayUnstack/TensorListFromTensor, lstm_1/TensorArrayUnstack_1/TensorListFromTensor, lstm_1/kernel, lstm_1/recurrent_kernel, lstm_1/bias, lstm_1/while/EmptyTensorList, lstm_1/while/EmptyTensorList_1, lstm_1/while/EmptyTensorList_2, lstm_1/while/EmptyTensorList_3, lstm_1/while/EmptyTensorList_4, lstm_1/while/EmptyTensorList_5, lstm_1/while/EmptyTensorList_6, lstm_1/while/EmptyTensorList_7, lstm_1/while/EmptyTensorList_8, lstm_1/while/EmptyTensorList_9, lstm_1/while/EmptyTensorList_10, lstm_1/while/EmptyTensorList_11, lstm_1/while/EmptyTensorList_12, lstm_1/while/EmptyTensorList_13, lstm_1/while/EmptyTensorList_14, lstm_1/while/EmptyTensorList_15, lstm_1/while/EmptyTensorList_16, lstm_1/while/EmptyTensorList_17, lstm_1/while/EmptyTensorList_18, lstm_1/while/EmptyTensorList_19, lstm_1/while/EmptyTensorList_20, lstm_1/while/EmptyTensorList_21, lstm_1/while/EmptyTensorList_22, lstm_1/while/EmptyTensorList_23, lstm_1/while/EmptyTensorList_24, lstm_1/while/EmptyTensorList_25, lstm_1/while/EmptyTensorList_26, lstm_1/while/EmptyTensorList_27, lstm_1/while/EmptyTensorList_28, lstm_1/while/EmptyTensorList_29, lstm_1/while/EmptyTensorList_30, lstm_1/while/EmptyTensorList_31, lstm_1/while/EmptyTensorList_32, lstm_1/while/EmptyTensorList_33, lstm_1/while/EmptyTensorList_34, lstm_1/while/EmptyTensorList_35, lstm_1/while/EmptyTensorList_36, lstm_1/while/EmptyTensorList_37, lstm_1/while/EmptyTensorList_38, lstm_1/while/EmptyTensorList_39, lstm_1/while/EmptyTensorList_40, lstm_1/while/EmptyTensorList_41, lstm_1/while/EmptyTensorList_42, lstm_1/while/EmptyTensorList_43, lstm_1/while/EmptyTensorList_44, lstm_1/while/EmptyTensorList_45)}}' was changed by setting attribute after it was run by a session. This mutation will have no effect, and will trigger an error in the future. Either don't modify nodes after running them or create a new session.\n",
      "Opening file (1)\n",
      "Timer:  11.753987794\n",
      "-------------------\n",
      "( 1 / 1 ) results on ks-cooks-1y/models/rnn_cce_ml60_bs32_ne3901.554_gc100_e150_h100_Ug_lr0.1_nt1.hdf5\n",
      "sps@10:  0.07472178060413355\n",
      "recall@10:  0.04992458045960024\n",
      "precision@10:  0.09205087440381585\n",
      "item_coverage@10:  156\n",
      "user_coverage@10:  0.5166931637519873\n",
      "ndcg@10:  0.09828095029871087\n",
      "blockbuster_share@10:  0.35233160621761656\n"
     ]
    }
   ],
   "source": [
    "!python test.py -d ks-cooks-1y -b 32 --max_length 60 --r_l 100 --r_emb 150 -i 3901.554 "
   ]
  },
  {
   "cell_type": "code",
   "execution_count": 3,
   "metadata": {},
   "outputs": [
    {
     "name": "stdout",
     "output_type": "stream",
     "text": [
      "2019-12-09 17:47:36.574196: I tensorflow/core/platform/cpu_feature_guard.cc:142] Your CPU supports instructions that this TensorFlow binary was not compiled to use: AVX2 FMA\n",
      "2019-12-09 17:47:36.603319: I tensorflow/core/platform/profile_utils/cpu_utils.cc:94] CPU Frequency: 1895585000 Hz\n",
      "2019-12-09 17:47:36.603962: I tensorflow/compiler/xla/service/service.cc:168] XLA service 0x531df30 executing computations on platform Host. Devices:\n",
      "2019-12-09 17:47:36.604006: I tensorflow/compiler/xla/service/service.cc:175]   StreamExecutor device (0): Host, Default Version\n",
      "['ks-cooks-1y/models/rnn_cce_ml60_bs32_ne5207.841_gc100_e200_h100_Ug_lr0.1_nt1.hdf5']\n",
      "2019-12-09 17:47:39.541285: W tensorflow/c/c_api.cc:326] Operation '{name:'lstm_1/while' id:687 op device:{} def:{{{node lstm_1/while}} = While[T=[DT_INT32, DT_INT32, DT_INT32, DT_VARIANT, DT_FLOAT, ..., DT_VARIANT, DT_VARIANT, DT_VARIANT, DT_VARIANT, DT_VARIANT], _lower_using_switch_merge=true, _num_original_outputs=59, body=lstm_1_while_body_814[], cond=lstm_1_while_cond_813[], output_shapes=[[], [], [], [], [?,100], ..., [], [], [], [], []], parallel_iterations=32](lstm_1/while/loop_counter, lstm_1/while/maximum_iterations, lstm_1/time, lstm_1/TensorArrayV2_1, lstm_1/zeros_like, lstm_1/zeros, lstm_1/zeros_1, lstm_1/strided_slice_1, lstm_1/TensorArrayUnstack/TensorListFromTensor, lstm_1/TensorArrayUnstack_1/TensorListFromTensor, lstm_1/kernel, lstm_1/recurrent_kernel, lstm_1/bias, lstm_1/while/EmptyTensorList, lstm_1/while/EmptyTensorList_1, lstm_1/while/EmptyTensorList_2, lstm_1/while/EmptyTensorList_3, lstm_1/while/EmptyTensorList_4, lstm_1/while/EmptyTensorList_5, lstm_1/while/EmptyTensorList_6, lstm_1/while/EmptyTensorList_7, lstm_1/while/EmptyTensorList_8, lstm_1/while/EmptyTensorList_9, lstm_1/while/EmptyTensorList_10, lstm_1/while/EmptyTensorList_11, lstm_1/while/EmptyTensorList_12, lstm_1/while/EmptyTensorList_13, lstm_1/while/EmptyTensorList_14, lstm_1/while/EmptyTensorList_15, lstm_1/while/EmptyTensorList_16, lstm_1/while/EmptyTensorList_17, lstm_1/while/EmptyTensorList_18, lstm_1/while/EmptyTensorList_19, lstm_1/while/EmptyTensorList_20, lstm_1/while/EmptyTensorList_21, lstm_1/while/EmptyTensorList_22, lstm_1/while/EmptyTensorList_23, lstm_1/while/EmptyTensorList_24, lstm_1/while/EmptyTensorList_25, lstm_1/while/EmptyTensorList_26, lstm_1/while/EmptyTensorList_27, lstm_1/while/EmptyTensorList_28, lstm_1/while/EmptyTensorList_29, lstm_1/while/EmptyTensorList_30, lstm_1/while/EmptyTensorList_31, lstm_1/while/EmptyTensorList_32, lstm_1/while/EmptyTensorList_33, lstm_1/while/EmptyTensorList_34, lstm_1/while/EmptyTensorList_35, lstm_1/while/EmptyTensorList_36, lstm_1/while/EmptyTensorList_37, lstm_1/while/EmptyTensorList_38, lstm_1/while/EmptyTensorList_39, lstm_1/while/EmptyTensorList_40, lstm_1/while/EmptyTensorList_41, lstm_1/while/EmptyTensorList_42, lstm_1/while/EmptyTensorList_43, lstm_1/while/EmptyTensorList_44, lstm_1/while/EmptyTensorList_45)}}' was changed by setting attribute after it was run by a session. This mutation will have no effect, and will trigger an error in the future. Either don't modify nodes after running them or create a new session.\n",
      "Opening file (1)\n",
      "Timer:  12.096435115999999\n",
      "-------------------\n",
      "( 1 / 1 ) results on ks-cooks-1y/models/rnn_cce_ml60_bs32_ne5207.841_gc100_e200_h100_Ug_lr0.1_nt1.hdf5\n",
      "sps@10:  0.05405405405405406\n",
      "recall@10:  0.051864642333619815\n",
      "precision@10:  0.09348171701112915\n",
      "item_coverage@10:  107\n",
      "user_coverage@10:  0.5564387917329093\n",
      "ndcg@10:  0.09783779489099322\n",
      "blockbuster_share@10:  0.43537414965986393\n"
     ]
    }
   ],
   "source": [
    "# Save model in ks-cooks-1y/models/rnn_cce_ml60_bs32_ne5207.841_gc100_e200_h100_Ug_lr0.1_nt1.hdf5\n",
    "!python test.py -d ks-cooks-1y -b 32 --max_length 60 --r_l 100 --r_emb 200 -i 5207.841"
   ]
  },
  {
   "cell_type": "markdown",
   "metadata": {},
   "source": [
    "# OLD CODE WITH EAGER TENSOR"
   ]
  },
  {
   "cell_type": "code",
   "execution_count": 4,
   "metadata": {},
   "outputs": [
    {
     "name": "stdout",
     "output_type": "stream",
     "text": [
      "2019-12-09 18:00:09.068552: I tensorflow/core/platform/cpu_feature_guard.cc:142] Your CPU supports instructions that this TensorFlow binary was not compiled to use: AVX2 FMA\n",
      "2019-12-09 18:00:09.095297: I tensorflow/core/platform/profile_utils/cpu_utils.cc:94] CPU Frequency: 1895585000 Hz\n",
      "2019-12-09 18:00:09.095831: I tensorflow/compiler/xla/service/service.cc:168] XLA service 0x49dc9a0 executing computations on platform Host. Devices:\n",
      "2019-12-09 18:00:09.095885: I tensorflow/compiler/xla/service/service.cc:175]   StreamExecutor device (0): Host, Default Version\n",
      "['ks-cooks-1y/models/rnn_cce_ml60_bs32_ne3277.952_gc100_e300_h100_Ug_lr0.1_nt1.hdf5']\n",
      "2019-12-09 18:00:13.397589: W tensorflow/c/c_api.cc:326] Operation '{name:'lstm_1/while' id:687 op device:{} def:{{{node lstm_1/while}} = While[T=[DT_INT32, DT_INT32, DT_INT32, DT_VARIANT, DT_FLOAT, ..., DT_VARIANT, DT_VARIANT, DT_VARIANT, DT_VARIANT, DT_VARIANT], _lower_using_switch_merge=true, _num_original_outputs=59, body=lstm_1_while_body_814[], cond=lstm_1_while_cond_813[], output_shapes=[[], [], [], [], [?,100], ..., [], [], [], [], []], parallel_iterations=32](lstm_1/while/loop_counter, lstm_1/while/maximum_iterations, lstm_1/time, lstm_1/TensorArrayV2_1, lstm_1/zeros_like, lstm_1/zeros, lstm_1/zeros_1, lstm_1/strided_slice_1, lstm_1/TensorArrayUnstack/TensorListFromTensor, lstm_1/TensorArrayUnstack_1/TensorListFromTensor, lstm_1/kernel, lstm_1/recurrent_kernel, lstm_1/bias, lstm_1/while/EmptyTensorList, lstm_1/while/EmptyTensorList_1, lstm_1/while/EmptyTensorList_2, lstm_1/while/EmptyTensorList_3, lstm_1/while/EmptyTensorList_4, lstm_1/while/EmptyTensorList_5, lstm_1/while/EmptyTensorList_6, lstm_1/while/EmptyTensorList_7, lstm_1/while/EmptyTensorList_8, lstm_1/while/EmptyTensorList_9, lstm_1/while/EmptyTensorList_10, lstm_1/while/EmptyTensorList_11, lstm_1/while/EmptyTensorList_12, lstm_1/while/EmptyTensorList_13, lstm_1/while/EmptyTensorList_14, lstm_1/while/EmptyTensorList_15, lstm_1/while/EmptyTensorList_16, lstm_1/while/EmptyTensorList_17, lstm_1/while/EmptyTensorList_18, lstm_1/while/EmptyTensorList_19, lstm_1/while/EmptyTensorList_20, lstm_1/while/EmptyTensorList_21, lstm_1/while/EmptyTensorList_22, lstm_1/while/EmptyTensorList_23, lstm_1/while/EmptyTensorList_24, lstm_1/while/EmptyTensorList_25, lstm_1/while/EmptyTensorList_26, lstm_1/while/EmptyTensorList_27, lstm_1/while/EmptyTensorList_28, lstm_1/while/EmptyTensorList_29, lstm_1/while/EmptyTensorList_30, lstm_1/while/EmptyTensorList_31, lstm_1/while/EmptyTensorList_32, lstm_1/while/EmptyTensorList_33, lstm_1/while/EmptyTensorList_34, lstm_1/while/EmptyTensorList_35, lstm_1/while/EmptyTensorList_36, lstm_1/while/EmptyTensorList_37, lstm_1/while/EmptyTensorList_38, lstm_1/while/EmptyTensorList_39, lstm_1/while/EmptyTensorList_40, lstm_1/while/EmptyTensorList_41, lstm_1/while/EmptyTensorList_42, lstm_1/while/EmptyTensorList_43, lstm_1/while/EmptyTensorList_44, lstm_1/while/EmptyTensorList_45)}}' was changed by setting attribute after it was run by a session. This mutation will have no effect, and will trigger an error in the future. Either don't modify nodes after running them or create a new session.\n",
      "Opening file (1)\n",
      "Timer:  12.481447783\n",
      "-------------------\n",
      "( 1 / 1 ) results on ks-cooks-1y/models/rnn_cce_ml60_bs32_ne3277.952_gc100_e300_h100_Ug_lr0.1_nt1.hdf5\n",
      "sps@10:  0.07154213036565978\n",
      "recall@10:  0.051840219457285217\n",
      "precision@10:  0.09284578696343439\n",
      "item_coverage@10:  154\n",
      "user_coverage@10:  0.5310015898251192\n",
      "ndcg@10:  0.09822290855975518\n",
      "blockbuster_share@10:  0.3904109589041096\n"
     ]
    }
   ],
   "source": [
    "# !python train.py -d ks-cooks-1y -b 32 --max_length 60 --r_l 100 --min_iter 10 --r_emb 300 \n",
    "# Save model in ks-cooks-1y/models/rnn_cce_ml60_bs32_ne3277.952_gc100_e300_h100_Ug_lr0.1_nt1.hdf5\n",
    "!python test.py -d ks-cooks-1y -b 32 --max_length 60 --r_l 100 --r_emb 300 -i 3277.952"
   ]
  },
  {
   "cell_type": "code",
   "execution_count": 7,
   "metadata": {},
   "outputs": [
    {
     "name": "stdout",
     "output_type": "stream",
     "text": [
      "2019-12-09 18:31:57.260464: I tensorflow/core/platform/cpu_feature_guard.cc:142] Your CPU supports instructions that this TensorFlow binary was not compiled to use: AVX2 FMA\n",
      "2019-12-09 18:31:57.287347: I tensorflow/core/platform/profile_utils/cpu_utils.cc:94] CPU Frequency: 1895585000 Hz\n",
      "2019-12-09 18:31:57.287728: I tensorflow/compiler/xla/service/service.cc:168] XLA service 0x3d88c10 executing computations on platform Host. Devices:\n",
      "2019-12-09 18:31:57.287761: I tensorflow/compiler/xla/service/service.cc:175]   StreamExecutor device (0): Host, Default Version\n",
      "['ks-cooks-1y/models/rnn_cce_ml60_bs32_ne3129.249_gc100_e300_h100_Ug_lr0.1_nt1.hdf5']\n",
      "2019-12-09 18:32:02.000076: W tensorflow/c/c_api.cc:326] Operation '{name:'lstm_1/while' id:696 op device:{} def:{{{node lstm_1/while}} = While[T=[DT_INT32, DT_INT32, DT_INT32, DT_VARIANT, DT_FLOAT, ..., DT_VARIANT, DT_VARIANT, DT_VARIANT, DT_VARIANT, DT_VARIANT], _lower_using_switch_merge=true, _num_original_outputs=59, body=lstm_1_while_body_821[], cond=lstm_1_while_cond_820[], output_shapes=[[], [], [], [], [?,100], ..., [], [], [], [], []], parallel_iterations=32](lstm_1/while/loop_counter, lstm_1/while/maximum_iterations, lstm_1/time, lstm_1/TensorArrayV2_1, lstm_1/zeros_like, lstm_1/zeros, lstm_1/zeros_1, lstm_1/strided_slice_1, lstm_1/TensorArrayUnstack/TensorListFromTensor, lstm_1/TensorArrayUnstack_1/TensorListFromTensor, lstm_1/kernel, lstm_1/recurrent_kernel, lstm_1/bias, lstm_1/while/EmptyTensorList, lstm_1/while/EmptyTensorList_1, lstm_1/while/EmptyTensorList_2, lstm_1/while/EmptyTensorList_3, lstm_1/while/EmptyTensorList_4, lstm_1/while/EmptyTensorList_5, lstm_1/while/EmptyTensorList_6, lstm_1/while/EmptyTensorList_7, lstm_1/while/EmptyTensorList_8, lstm_1/while/EmptyTensorList_9, lstm_1/while/EmptyTensorList_10, lstm_1/while/EmptyTensorList_11, lstm_1/while/EmptyTensorList_12, lstm_1/while/EmptyTensorList_13, lstm_1/while/EmptyTensorList_14, lstm_1/while/EmptyTensorList_15, lstm_1/while/EmptyTensorList_16, lstm_1/while/EmptyTensorList_17, lstm_1/while/EmptyTensorList_18, lstm_1/while/EmptyTensorList_19, lstm_1/while/EmptyTensorList_20, lstm_1/while/EmptyTensorList_21, lstm_1/while/EmptyTensorList_22, lstm_1/while/EmptyTensorList_23, lstm_1/while/EmptyTensorList_24, lstm_1/while/EmptyTensorList_25, lstm_1/while/EmptyTensorList_26, lstm_1/while/EmptyTensorList_27, lstm_1/while/EmptyTensorList_28, lstm_1/while/EmptyTensorList_29, lstm_1/while/EmptyTensorList_30, lstm_1/while/EmptyTensorList_31, lstm_1/while/EmptyTensorList_32, lstm_1/while/EmptyTensorList_33, lstm_1/while/EmptyTensorList_34, lstm_1/while/EmptyTensorList_35, lstm_1/while/EmptyTensorList_36, lstm_1/while/EmptyTensorList_37, lstm_1/while/EmptyTensorList_38, lstm_1/while/EmptyTensorList_39, lstm_1/while/EmptyTensorList_40, lstm_1/while/EmptyTensorList_41, lstm_1/while/EmptyTensorList_42, lstm_1/while/EmptyTensorList_43, lstm_1/while/EmptyTensorList_44, lstm_1/while/EmptyTensorList_45)}}' was changed by setting attribute after it was run by a session. This mutation will have no effect, and will trigger an error in the future. Either don't modify nodes after running them or create a new session.\n",
      "Opening file (1)\n",
      "Timer:  12.44798527\n",
      "-------------------\n",
      "( 1 / 1 ) results on ks-cooks-1y/models/rnn_cce_ml60_bs32_ne3129.249_gc100_e300_h100_Ug_lr0.1_nt1.hdf5\n",
      "sps@10:  0.06677265500794913\n",
      "recall@10:  0.05746885145846949\n",
      "precision@10:  0.10127186009538987\n",
      "item_coverage@10:  154\n",
      "user_coverage@10:  0.5786963434022258\n",
      "ndcg@10:  0.1081547617976318\n",
      "blockbuster_share@10:  0.4317111459968603\n"
     ]
    }
   ],
   "source": [
    "#Save model in ks-cooks-1y/models/rnn_cce_ml60_bs32_ne3129.249_gc100_e300_h100_Ug_lr0.1_nt1.hdf5\n",
    "!python test.py -d ks-cooks-1y -b 32 --max_length 60 --r_l 100 --r_emb 300 --r_emb_opt lstm -i 3129.249"
   ]
  },
  {
   "cell_type": "code",
   "execution_count": 6,
   "metadata": {},
   "outputs": [
    {
     "name": "stdout",
     "output_type": "stream",
     "text": [
      "2019-12-09 18:30:07.221679: I tensorflow/core/platform/cpu_feature_guard.cc:142] Your CPU supports instructions that this TensorFlow binary was not compiled to use: AVX2 FMA\n",
      "2019-12-09 18:30:07.247852: I tensorflow/core/platform/profile_utils/cpu_utils.cc:94] CPU Frequency: 1895585000 Hz\n",
      "2019-12-09 18:30:07.248210: I tensorflow/compiler/xla/service/service.cc:168] XLA service 0x4606cf0 executing computations on platform Host. Devices:\n",
      "2019-12-09 18:30:07.248248: I tensorflow/compiler/xla/service/service.cc:175]   StreamExecutor device (0): Host, Default Version\n",
      "['ks-cooks-1y/models/rnn_cce_ml60_bs32_ne4641.537_gc100_e300_h150_Ug_lr0.1_nt1.hdf5']\n",
      "2019-12-09 18:30:13.581791: W tensorflow/c/c_api.cc:326] Operation '{name:'lstm_1/while' id:696 op device:{} def:{{{node lstm_1/while}} = While[T=[DT_INT32, DT_INT32, DT_INT32, DT_VARIANT, DT_FLOAT, ..., DT_VARIANT, DT_VARIANT, DT_VARIANT, DT_VARIANT, DT_VARIANT], _lower_using_switch_merge=true, _num_original_outputs=59, body=lstm_1_while_body_821[], cond=lstm_1_while_cond_820[], output_shapes=[[], [], [], [], [?,150], ..., [], [], [], [], []], parallel_iterations=32](lstm_1/while/loop_counter, lstm_1/while/maximum_iterations, lstm_1/time, lstm_1/TensorArrayV2_1, lstm_1/zeros_like, lstm_1/zeros, lstm_1/zeros_1, lstm_1/strided_slice_1, lstm_1/TensorArrayUnstack/TensorListFromTensor, lstm_1/TensorArrayUnstack_1/TensorListFromTensor, lstm_1/kernel, lstm_1/recurrent_kernel, lstm_1/bias, lstm_1/while/EmptyTensorList, lstm_1/while/EmptyTensorList_1, lstm_1/while/EmptyTensorList_2, lstm_1/while/EmptyTensorList_3, lstm_1/while/EmptyTensorList_4, lstm_1/while/EmptyTensorList_5, lstm_1/while/EmptyTensorList_6, lstm_1/while/EmptyTensorList_7, lstm_1/while/EmptyTensorList_8, lstm_1/while/EmptyTensorList_9, lstm_1/while/EmptyTensorList_10, lstm_1/while/EmptyTensorList_11, lstm_1/while/EmptyTensorList_12, lstm_1/while/EmptyTensorList_13, lstm_1/while/EmptyTensorList_14, lstm_1/while/EmptyTensorList_15, lstm_1/while/EmptyTensorList_16, lstm_1/while/EmptyTensorList_17, lstm_1/while/EmptyTensorList_18, lstm_1/while/EmptyTensorList_19, lstm_1/while/EmptyTensorList_20, lstm_1/while/EmptyTensorList_21, lstm_1/while/EmptyTensorList_22, lstm_1/while/EmptyTensorList_23, lstm_1/while/EmptyTensorList_24, lstm_1/while/EmptyTensorList_25, lstm_1/while/EmptyTensorList_26, lstm_1/while/EmptyTensorList_27, lstm_1/while/EmptyTensorList_28, lstm_1/while/EmptyTensorList_29, lstm_1/while/EmptyTensorList_30, lstm_1/while/EmptyTensorList_31, lstm_1/while/EmptyTensorList_32, lstm_1/while/EmptyTensorList_33, lstm_1/while/EmptyTensorList_34, lstm_1/while/EmptyTensorList_35, lstm_1/while/EmptyTensorList_36, lstm_1/while/EmptyTensorList_37, lstm_1/while/EmptyTensorList_38, lstm_1/while/EmptyTensorList_39, lstm_1/while/EmptyTensorList_40, lstm_1/while/EmptyTensorList_41, lstm_1/while/EmptyTensorList_42, lstm_1/while/EmptyTensorList_43, lstm_1/while/EmptyTensorList_44, lstm_1/while/EmptyTensorList_45)}}' was changed by setting attribute after it was run by a session. This mutation will have no effect, and will trigger an error in the future. Either don't modify nodes after running them or create a new session.\n",
      "Opening file (1)\n",
      "Timer:  14.289055865\n",
      "-------------------\n",
      "( 1 / 1 ) results on ks-cooks-1y/models/rnn_cce_ml60_bs32_ne4641.537_gc100_e300_h150_Ug_lr0.1_nt1.hdf5\n",
      "sps@10:  0.06836248012718601\n",
      "recall@10:  0.05308580983930573\n",
      "precision@10:  0.09538950715421343\n",
      "item_coverage@10:  164\n",
      "user_coverage@10:  0.56120826709062\n",
      "ndcg@10:  0.1002533991546482\n",
      "blockbuster_share@10:  0.4033333333333333\n"
     ]
    }
   ],
   "source": [
    "#!python train.py -d ks-cooks-1y -b 32 --max_length 60 --r_l 150 --min_iter 10 --r_emb 300 --r_emb_opt lstm\n",
    "\n",
    "# Save model in ks-cooks-1y/models/rnn_cce_ml60_bs32_ne4641.537_gc100_e300_h150_Ug_lr0.1_nt1.hdf5\n",
    "\n",
    "!python test.py -d ks-cooks-1y -b 32 --max_length 60 --r_l 150 --r_emb 300 --r_emb_opt lstm -i 4641.537"
   ]
  },
  {
   "cell_type": "code",
   "execution_count": 8,
   "metadata": {},
   "outputs": [],
   "source": [
    "import logging"
   ]
  },
  {
   "cell_type": "code",
   "execution_count": 9,
   "metadata": {},
   "outputs": [],
   "source": [
    "logging.getLogger('tensorflow').disable = True"
   ]
  },
  {
   "cell_type": "markdown",
   "metadata": {},
   "source": [
    "# Remote PC_Hidden_unit 50-100-150-200 results"
   ]
  },
  {
   "cell_type": "code",
   "execution_count": 10,
   "metadata": {},
   "outputs": [
    {
     "name": "stdout",
     "output_type": "stream",
     "text": [
      "2019-12-09 20:28:59.979903: I tensorflow/core/platform/cpu_feature_guard.cc:142] Your CPU supports instructions that this TensorFlow binary was not compiled to use: AVX2 FMA\n",
      "2019-12-09 20:29:00.009307: I tensorflow/core/platform/profile_utils/cpu_utils.cc:94] CPU Frequency: 1895585000 Hz\n",
      "2019-12-09 20:29:00.011346: I tensorflow/compiler/xla/service/service.cc:168] XLA service 0x4ec1040 executing computations on platform Host. Devices:\n",
      "2019-12-09 20:29:00.011384: I tensorflow/compiler/xla/service/service.cc:175]   StreamExecutor device (0): Host, Default Version\n",
      "['ks-cooks-1y/models/rnn_cce_ml60_bs32_ne3414.812_gc100_e100_h50_Ug_lr0.1_nt1.hdf5']\n",
      "2019-12-09 20:29:03.594808: W tensorflow/c/c_api.cc:326] Operation '{name:'lstm_1/while' id:687 op device:{} def:{{{node lstm_1/while}} = While[T=[DT_INT32, DT_INT32, DT_INT32, DT_VARIANT, DT_FLOAT, ..., DT_VARIANT, DT_VARIANT, DT_VARIANT, DT_VARIANT, DT_VARIANT], _lower_using_switch_merge=true, _num_original_outputs=59, body=lstm_1_while_body_814[], cond=lstm_1_while_cond_813[], output_shapes=[[], [], [], [], [?,50], ..., [], [], [], [], []], parallel_iterations=32](lstm_1/while/loop_counter, lstm_1/while/maximum_iterations, lstm_1/time, lstm_1/TensorArrayV2_1, lstm_1/zeros_like, lstm_1/zeros, lstm_1/zeros_1, lstm_1/strided_slice_1, lstm_1/TensorArrayUnstack/TensorListFromTensor, lstm_1/TensorArrayUnstack_1/TensorListFromTensor, lstm_1/kernel, lstm_1/recurrent_kernel, lstm_1/bias, lstm_1/while/EmptyTensorList, lstm_1/while/EmptyTensorList_1, lstm_1/while/EmptyTensorList_2, lstm_1/while/EmptyTensorList_3, lstm_1/while/EmptyTensorList_4, lstm_1/while/EmptyTensorList_5, lstm_1/while/EmptyTensorList_6, lstm_1/while/EmptyTensorList_7, lstm_1/while/EmptyTensorList_8, lstm_1/while/EmptyTensorList_9, lstm_1/while/EmptyTensorList_10, lstm_1/while/EmptyTensorList_11, lstm_1/while/EmptyTensorList_12, lstm_1/while/EmptyTensorList_13, lstm_1/while/EmptyTensorList_14, lstm_1/while/EmptyTensorList_15, lstm_1/while/EmptyTensorList_16, lstm_1/while/EmptyTensorList_17, lstm_1/while/EmptyTensorList_18, lstm_1/while/EmptyTensorList_19, lstm_1/while/EmptyTensorList_20, lstm_1/while/EmptyTensorList_21, lstm_1/while/EmptyTensorList_22, lstm_1/while/EmptyTensorList_23, lstm_1/while/EmptyTensorList_24, lstm_1/while/EmptyTensorList_25, lstm_1/while/EmptyTensorList_26, lstm_1/while/EmptyTensorList_27, lstm_1/while/EmptyTensorList_28, lstm_1/while/EmptyTensorList_29, lstm_1/while/EmptyTensorList_30, lstm_1/while/EmptyTensorList_31, lstm_1/while/EmptyTensorList_32, lstm_1/while/EmptyTensorList_33, lstm_1/while/EmptyTensorList_34, lstm_1/while/EmptyTensorList_35, lstm_1/while/EmptyTensorList_36, lstm_1/while/EmptyTensorList_37, lstm_1/while/EmptyTensorList_38, lstm_1/while/EmptyTensorList_39, lstm_1/while/EmptyTensorList_40, lstm_1/while/EmptyTensorList_41, lstm_1/while/EmptyTensorList_42, lstm_1/while/EmptyTensorList_43, lstm_1/while/EmptyTensorList_44, lstm_1/while/EmptyTensorList_45)}}' was changed by setting attribute after it was run by a session. This mutation will have no effect, and will trigger an error in the future. Either don't modify nodes after running them or create a new session.\n",
      "Opening file (1)\n",
      "Timer:  10.923885367\n",
      "-------------------\n",
      "( 1 / 1 ) results on ks-cooks-1y/models/rnn_cce_ml60_bs32_ne3414.812_gc100_e100_h50_Ug_lr0.1_nt1.hdf5\n",
      "sps@10:  0.06041335453100159\n",
      "recall@10:  0.05583423706240237\n",
      "precision@10:  0.09841017488076344\n",
      "item_coverage@10:  152\n",
      "user_coverage@10:  0.5643879173290938\n",
      "ndcg@10:  0.10298967110267154\n",
      "blockbuster_share@10:  0.38126009693053314\n"
     ]
    }
   ],
   "source": [
    "!python test.py -d ks-cooks-1y -b 32 --max_length 60 --r_emb 100 --r_l 50 -i 3414.812"
   ]
  },
  {
   "cell_type": "code",
   "execution_count": 2,
   "metadata": {},
   "outputs": [
    {
     "name": "stdout",
     "output_type": "stream",
     "text": [
      "2019-12-10 12:40:11.314190: I tensorflow/core/platform/cpu_feature_guard.cc:142] Your CPU supports instructions that this TensorFlow binary was not compiled to use: AVX2 FMA\n",
      "2019-12-10 12:40:11.325013: I tensorflow/compiler/xla/service/service.cc:168] XLA service 0x7ff19ed725d0 executing computations on platform Host. Devices:\n",
      "2019-12-10 12:40:11.325032: I tensorflow/compiler/xla/service/service.cc:175]   StreamExecutor device (0): Host, Default Version\n",
      "['ks-cooks-1y/models/rnn_cce_ml60_bs32_ne3473.665_gc100_e100_h100_Ug_lr0.1_nt1.hdf5']\n",
      "2019-12-10 12:40:12.441274: W tensorflow/c/c_api.cc:326] Operation '{name:'lstm_1/while' id:687 op device:{} def:{{{node lstm_1/while}} = While[T=[DT_INT32, DT_INT32, DT_INT32, DT_VARIANT, DT_FLOAT, ..., DT_VARIANT, DT_VARIANT, DT_VARIANT, DT_VARIANT, DT_VARIANT], _lower_using_switch_merge=true, _num_original_outputs=59, body=lstm_1_while_body_814[], cond=lstm_1_while_cond_813[], output_shapes=[[], [], [], [], [?,100], ..., [], [], [], [], []], parallel_iterations=32](lstm_1/while/loop_counter, lstm_1/while/maximum_iterations, lstm_1/time, lstm_1/TensorArrayV2_1, lstm_1/zeros_like, lstm_1/zeros, lstm_1/zeros_1, lstm_1/strided_slice_1, lstm_1/TensorArrayUnstack/TensorListFromTensor, lstm_1/TensorArrayUnstack_1/TensorListFromTensor, lstm_1/kernel, lstm_1/recurrent_kernel, lstm_1/bias, lstm_1/while/EmptyTensorList, lstm_1/while/EmptyTensorList_1, lstm_1/while/EmptyTensorList_2, lstm_1/while/EmptyTensorList_3, lstm_1/while/EmptyTensorList_4, lstm_1/while/EmptyTensorList_5, lstm_1/while/EmptyTensorList_6, lstm_1/while/EmptyTensorList_7, lstm_1/while/EmptyTensorList_8, lstm_1/while/EmptyTensorList_9, lstm_1/while/EmptyTensorList_10, lstm_1/while/EmptyTensorList_11, lstm_1/while/EmptyTensorList_12, lstm_1/while/EmptyTensorList_13, lstm_1/while/EmptyTensorList_14, lstm_1/while/EmptyTensorList_15, lstm_1/while/EmptyTensorList_16, lstm_1/while/EmptyTensorList_17, lstm_1/while/EmptyTensorList_18, lstm_1/while/EmptyTensorList_19, lstm_1/while/EmptyTensorList_20, lstm_1/while/EmptyTensorList_21, lstm_1/while/EmptyTensorList_22, lstm_1/while/EmptyTensorList_23, lstm_1/while/EmptyTensorList_24, lstm_1/while/EmptyTensorList_25, lstm_1/while/EmptyTensorList_26, lstm_1/while/EmptyTensorList_27, lstm_1/while/EmptyTensorList_28, lstm_1/while/EmptyTensorList_29, lstm_1/while/EmptyTensorList_30, lstm_1/while/EmptyTensorList_31, lstm_1/while/EmptyTensorList_32, lstm_1/while/EmptyTensorList_33, lstm_1/while/EmptyTensorList_34, lstm_1/while/EmptyTensorList_35, lstm_1/while/EmptyTensorList_36, lstm_1/while/EmptyTensorList_37, lstm_1/while/EmptyTensorList_38, lstm_1/while/EmptyTensorList_39, lstm_1/while/EmptyTensorList_40, lstm_1/while/EmptyTensorList_41, lstm_1/while/EmptyTensorList_42, lstm_1/while/EmptyTensorList_43, lstm_1/while/EmptyTensorList_44, lstm_1/while/EmptyTensorList_45)}}' was changed by setting attribute after it was run by a session. This mutation will have no effect, and will trigger an error in the future. Either don't modify nodes after running them or create a new session.\n",
      "Opening file (1)\n",
      "Timer:  6.9966040000000005\n",
      "-------------------\n",
      "( 1 / 1 ) results on ks-cooks-1y/models/rnn_cce_ml60_bs32_ne3473.665_gc100_e100_h100_Ug_lr0.1_nt1.hdf5\n",
      "sps@10:  0.07472178060413355\n",
      "recall@10:  0.05478240120967721\n",
      "precision@10:  0.09586645468998443\n",
      "item_coverage@10:  172\n",
      "user_coverage@10:  0.5596184419713831\n",
      "ndcg@10:  0.10334906108236652\n",
      "blockbuster_share@10:  0.36981757877280264\n"
     ]
    }
   ],
   "source": [
    "!python3 test.py -d ks-cooks-1y -b 32 --max_length 60 --r_emb 100 --r_l 100 -i 3473.665"
   ]
  },
  {
   "cell_type": "code",
   "execution_count": 3,
   "metadata": {},
   "outputs": [
    {
     "name": "stdout",
     "output_type": "stream",
     "text": [
      "2019-12-10 12:46:10.372772: I tensorflow/core/platform/cpu_feature_guard.cc:142] Your CPU supports instructions that this TensorFlow binary was not compiled to use: AVX2 FMA\n",
      "2019-12-10 12:46:10.385416: I tensorflow/compiler/xla/service/service.cc:168] XLA service 0x7f8b12350540 executing computations on platform Host. Devices:\n",
      "2019-12-10 12:46:10.385435: I tensorflow/compiler/xla/service/service.cc:175]   StreamExecutor device (0): Host, Default Version\n",
      "['ks-cooks-1y/models/rnn_cce_ml60_bs32_ne5339.613_gc100_e100_h150_Ug_lr0.1_nt1.hdf5']\n",
      "2019-12-10 12:46:11.584012: W tensorflow/c/c_api.cc:326] Operation '{name:'lstm_1/while' id:687 op device:{} def:{{{node lstm_1/while}} = While[T=[DT_INT32, DT_INT32, DT_INT32, DT_VARIANT, DT_FLOAT, ..., DT_VARIANT, DT_VARIANT, DT_VARIANT, DT_VARIANT, DT_VARIANT], _lower_using_switch_merge=true, _num_original_outputs=59, body=lstm_1_while_body_814[], cond=lstm_1_while_cond_813[], output_shapes=[[], [], [], [], [?,150], ..., [], [], [], [], []], parallel_iterations=32](lstm_1/while/loop_counter, lstm_1/while/maximum_iterations, lstm_1/time, lstm_1/TensorArrayV2_1, lstm_1/zeros_like, lstm_1/zeros, lstm_1/zeros_1, lstm_1/strided_slice_1, lstm_1/TensorArrayUnstack/TensorListFromTensor, lstm_1/TensorArrayUnstack_1/TensorListFromTensor, lstm_1/kernel, lstm_1/recurrent_kernel, lstm_1/bias, lstm_1/while/EmptyTensorList, lstm_1/while/EmptyTensorList_1, lstm_1/while/EmptyTensorList_2, lstm_1/while/EmptyTensorList_3, lstm_1/while/EmptyTensorList_4, lstm_1/while/EmptyTensorList_5, lstm_1/while/EmptyTensorList_6, lstm_1/while/EmptyTensorList_7, lstm_1/while/EmptyTensorList_8, lstm_1/while/EmptyTensorList_9, lstm_1/while/EmptyTensorList_10, lstm_1/while/EmptyTensorList_11, lstm_1/while/EmptyTensorList_12, lstm_1/while/EmptyTensorList_13, lstm_1/while/EmptyTensorList_14, lstm_1/while/EmptyTensorList_15, lstm_1/while/EmptyTensorList_16, lstm_1/while/EmptyTensorList_17, lstm_1/while/EmptyTensorList_18, lstm_1/while/EmptyTensorList_19, lstm_1/while/EmptyTensorList_20, lstm_1/while/EmptyTensorList_21, lstm_1/while/EmptyTensorList_22, lstm_1/while/EmptyTensorList_23, lstm_1/while/EmptyTensorList_24, lstm_1/while/EmptyTensorList_25, lstm_1/while/EmptyTensorList_26, lstm_1/while/EmptyTensorList_27, lstm_1/while/EmptyTensorList_28, lstm_1/while/EmptyTensorList_29, lstm_1/while/EmptyTensorList_30, lstm_1/while/EmptyTensorList_31, lstm_1/while/EmptyTensorList_32, lstm_1/while/EmptyTensorList_33, lstm_1/while/EmptyTensorList_34, lstm_1/while/EmptyTensorList_35, lstm_1/while/EmptyTensorList_36, lstm_1/while/EmptyTensorList_37, lstm_1/while/EmptyTensorList_38, lstm_1/while/EmptyTensorList_39, lstm_1/while/EmptyTensorList_40, lstm_1/while/EmptyTensorList_41, lstm_1/while/EmptyTensorList_42, lstm_1/while/EmptyTensorList_43, lstm_1/while/EmptyTensorList_44, lstm_1/while/EmptyTensorList_45)}}' was changed by setting attribute after it was run by a session. This mutation will have no effect, and will trigger an error in the future. Either don't modify nodes after running them or create a new session.\n",
      "Opening file (1)\n",
      "Timer:  8.659685\n",
      "-------------------\n",
      "( 1 / 1 ) results on ks-cooks-1y/models/rnn_cce_ml60_bs32_ne5339.613_gc100_e100_h150_Ug_lr0.1_nt1.hdf5\n",
      "sps@10:  0.07631160572337042\n",
      "recall@10:  0.05365517537511142\n",
      "precision@10:  0.09427662957074755\n",
      "item_coverage@10:  157\n",
      "user_coverage@10:  0.5564387917329093\n",
      "ndcg@10:  0.0989977477054676\n",
      "blockbuster_share@10:  0.3440134907251265\n"
     ]
    }
   ],
   "source": [
    "!python3 test.py -d ks-cooks-1y -b 32 --max_length 60 --r_emb 100 --r_l 150 -i 5339.613"
   ]
  },
  {
   "cell_type": "code",
   "execution_count": 7,
   "metadata": {},
   "outputs": [
    {
     "name": "stdout",
     "output_type": "stream",
     "text": [
      "2019-12-10 13:18:22.420930: I tensorflow/core/platform/cpu_feature_guard.cc:142] Your CPU supports instructions that this TensorFlow binary was not compiled to use: AVX2 FMA\n",
      "2019-12-10 13:18:22.431992: I tensorflow/compiler/xla/service/service.cc:168] XLA service 0x7fe3de110480 executing computations on platform Host. Devices:\n",
      "2019-12-10 13:18:22.432030: I tensorflow/compiler/xla/service/service.cc:175]   StreamExecutor device (0): Host, Default Version\n",
      "['ks-cooks-1y/models/rnn_cce_ml60_bs32_ne2.953_gc100_e100_h150_Ug_lr0.1_nt1.hdf5']\n",
      "2019-12-10 13:18:23.502795: W tensorflow/c/c_api.cc:326] Operation '{name:'lstm_1/while' id:687 op device:{} def:{{{node lstm_1/while}} = While[T=[DT_INT32, DT_INT32, DT_INT32, DT_VARIANT, DT_FLOAT, ..., DT_VARIANT, DT_VARIANT, DT_VARIANT, DT_VARIANT, DT_VARIANT], _lower_using_switch_merge=true, _num_original_outputs=59, body=lstm_1_while_body_814[], cond=lstm_1_while_cond_813[], output_shapes=[[], [], [], [], [?,150], ..., [], [], [], [], []], parallel_iterations=32](lstm_1/while/loop_counter, lstm_1/while/maximum_iterations, lstm_1/time, lstm_1/TensorArrayV2_1, lstm_1/zeros_like, lstm_1/zeros, lstm_1/zeros_1, lstm_1/strided_slice_1, lstm_1/TensorArrayUnstack/TensorListFromTensor, lstm_1/TensorArrayUnstack_1/TensorListFromTensor, lstm_1/kernel, lstm_1/recurrent_kernel, lstm_1/bias, lstm_1/while/EmptyTensorList, lstm_1/while/EmptyTensorList_1, lstm_1/while/EmptyTensorList_2, lstm_1/while/EmptyTensorList_3, lstm_1/while/EmptyTensorList_4, lstm_1/while/EmptyTensorList_5, lstm_1/while/EmptyTensorList_6, lstm_1/while/EmptyTensorList_7, lstm_1/while/EmptyTensorList_8, lstm_1/while/EmptyTensorList_9, lstm_1/while/EmptyTensorList_10, lstm_1/while/EmptyTensorList_11, lstm_1/while/EmptyTensorList_12, lstm_1/while/EmptyTensorList_13, lstm_1/while/EmptyTensorList_14, lstm_1/while/EmptyTensorList_15, lstm_1/while/EmptyTensorList_16, lstm_1/while/EmptyTensorList_17, lstm_1/while/EmptyTensorList_18, lstm_1/while/EmptyTensorList_19, lstm_1/while/EmptyTensorList_20, lstm_1/while/EmptyTensorList_21, lstm_1/while/EmptyTensorList_22, lstm_1/while/EmptyTensorList_23, lstm_1/while/EmptyTensorList_24, lstm_1/while/EmptyTensorList_25, lstm_1/while/EmptyTensorList_26, lstm_1/while/EmptyTensorList_27, lstm_1/while/EmptyTensorList_28, lstm_1/while/EmptyTensorList_29, lstm_1/while/EmptyTensorList_30, lstm_1/while/EmptyTensorList_31, lstm_1/while/EmptyTensorList_32, lstm_1/while/EmptyTensorList_33, lstm_1/while/EmptyTensorList_34, lstm_1/while/EmptyTensorList_35, lstm_1/while/EmptyTensorList_36, lstm_1/while/EmptyTensorList_37, lstm_1/while/EmptyTensorList_38, lstm_1/while/EmptyTensorList_39, lstm_1/while/EmptyTensorList_40, lstm_1/while/EmptyTensorList_41, lstm_1/while/EmptyTensorList_42, lstm_1/while/EmptyTensorList_43, lstm_1/while/EmptyTensorList_44, lstm_1/while/EmptyTensorList_45)}}' was changed by setting attribute after it was run by a session. This mutation will have no effect, and will trigger an error in the future. Either don't modify nodes after running them or create a new session.\n",
      "Opening file (1)\n",
      "Timer:  7.693098\n",
      "-------------------\n",
      "( 1 / 1 ) results on ks-cooks-1y/models/rnn_cce_ml60_bs32_ne2.953_gc100_e100_h150_Ug_lr0.1_nt1.hdf5\n",
      "sps@10:  0.07631160572337042\n",
      "recall@10:  0.05365517537511142\n",
      "precision@10:  0.09427662957074755\n",
      "item_coverage@10:  157\n",
      "user_coverage@10:  0.5564387917329093\n",
      "ndcg@10:  0.0989977477054676\n",
      "blockbuster_share@10:  0.3440134907251265\n"
     ]
    }
   ],
   "source": [
    "!python3 test.py -d ks-cooks-1y -b 32 --max_length 60 --r_emb 100 --r_l 150 -i 2.953"
   ]
  },
  {
   "cell_type": "code",
   "execution_count": 4,
   "metadata": {},
   "outputs": [
    {
     "name": "stdout",
     "output_type": "stream",
     "text": [
      "2019-12-10 12:49:56.965130: I tensorflow/core/platform/cpu_feature_guard.cc:142] Your CPU supports instructions that this TensorFlow binary was not compiled to use: AVX2 FMA\n",
      "2019-12-10 12:49:56.976368: I tensorflow/compiler/xla/service/service.cc:168] XLA service 0x7fcceb9136c0 executing computations on platform Host. Devices:\n",
      "2019-12-10 12:49:56.976396: I tensorflow/compiler/xla/service/service.cc:175]   StreamExecutor device (0): Host, Default Version\n",
      "['ks-cooks-1y/models/rnn_cce_ml60_bs32_ne7632.472_gc100_e100_h200_Ug_lr0.1_nt1.hdf5']\n",
      "2019-12-10 12:49:58.102212: W tensorflow/c/c_api.cc:326] Operation '{name:'lstm_1/while' id:687 op device:{} def:{{{node lstm_1/while}} = While[T=[DT_INT32, DT_INT32, DT_INT32, DT_VARIANT, DT_FLOAT, ..., DT_VARIANT, DT_VARIANT, DT_VARIANT, DT_VARIANT, DT_VARIANT], _lower_using_switch_merge=true, _num_original_outputs=59, body=lstm_1_while_body_814[], cond=lstm_1_while_cond_813[], output_shapes=[[], [], [], [], [?,200], ..., [], [], [], [], []], parallel_iterations=32](lstm_1/while/loop_counter, lstm_1/while/maximum_iterations, lstm_1/time, lstm_1/TensorArrayV2_1, lstm_1/zeros_like, lstm_1/zeros, lstm_1/zeros_1, lstm_1/strided_slice_1, lstm_1/TensorArrayUnstack/TensorListFromTensor, lstm_1/TensorArrayUnstack_1/TensorListFromTensor, lstm_1/kernel, lstm_1/recurrent_kernel, lstm_1/bias, lstm_1/while/EmptyTensorList, lstm_1/while/EmptyTensorList_1, lstm_1/while/EmptyTensorList_2, lstm_1/while/EmptyTensorList_3, lstm_1/while/EmptyTensorList_4, lstm_1/while/EmptyTensorList_5, lstm_1/while/EmptyTensorList_6, lstm_1/while/EmptyTensorList_7, lstm_1/while/EmptyTensorList_8, lstm_1/while/EmptyTensorList_9, lstm_1/while/EmptyTensorList_10, lstm_1/while/EmptyTensorList_11, lstm_1/while/EmptyTensorList_12, lstm_1/while/EmptyTensorList_13, lstm_1/while/EmptyTensorList_14, lstm_1/while/EmptyTensorList_15, lstm_1/while/EmptyTensorList_16, lstm_1/while/EmptyTensorList_17, lstm_1/while/EmptyTensorList_18, lstm_1/while/EmptyTensorList_19, lstm_1/while/EmptyTensorList_20, lstm_1/while/EmptyTensorList_21, lstm_1/while/EmptyTensorList_22, lstm_1/while/EmptyTensorList_23, lstm_1/while/EmptyTensorList_24, lstm_1/while/EmptyTensorList_25, lstm_1/while/EmptyTensorList_26, lstm_1/while/EmptyTensorList_27, lstm_1/while/EmptyTensorList_28, lstm_1/while/EmptyTensorList_29, lstm_1/while/EmptyTensorList_30, lstm_1/while/EmptyTensorList_31, lstm_1/while/EmptyTensorList_32, lstm_1/while/EmptyTensorList_33, lstm_1/while/EmptyTensorList_34, lstm_1/while/EmptyTensorList_35, lstm_1/while/EmptyTensorList_36, lstm_1/while/EmptyTensorList_37, lstm_1/while/EmptyTensorList_38, lstm_1/while/EmptyTensorList_39, lstm_1/while/EmptyTensorList_40, lstm_1/while/EmptyTensorList_41, lstm_1/while/EmptyTensorList_42, lstm_1/while/EmptyTensorList_43, lstm_1/while/EmptyTensorList_44, lstm_1/while/EmptyTensorList_45)}}' was changed by setting attribute after it was run by a session. This mutation will have no effect, and will trigger an error in the future. Either don't modify nodes after running them or create a new session.\n",
      "Opening file (1)\n",
      "Timer:  8.578213\n",
      "-------------------\n",
      "( 1 / 1 ) results on ks-cooks-1y/models/rnn_cce_ml60_bs32_ne7632.472_gc100_e100_h200_Ug_lr0.1_nt1.hdf5\n",
      "sps@10:  0.07154213036565978\n",
      "recall@10:  0.05513846066840073\n",
      "precision@10:  0.09666136724960289\n",
      "item_coverage@10:  163\n",
      "user_coverage@10:  0.5643879173290938\n",
      "ndcg@10:  0.10311028963603856\n",
      "blockbuster_share@10:  0.3618421052631579\n"
     ]
    }
   ],
   "source": [
    "!python3 test.py -d ks-cooks-1y -b 32 --max_length 60 --r_emb 100 --r_l 200 -i 7632.472"
   ]
  },
  {
   "cell_type": "code",
   "execution_count": 5,
   "metadata": {},
   "outputs": [
    {
     "name": "stdout",
     "output_type": "stream",
     "text": [
      "2019-12-10 12:55:49.431807: I tensorflow/core/platform/cpu_feature_guard.cc:142] Your CPU supports instructions that this TensorFlow binary was not compiled to use: AVX2 FMA\n",
      "2019-12-10 12:55:49.445493: I tensorflow/compiler/xla/service/service.cc:168] XLA service 0x7fc9c50de590 executing computations on platform Host. Devices:\n",
      "2019-12-10 12:55:49.445511: I tensorflow/compiler/xla/service/service.cc:175]   StreamExecutor device (0): Host, Default Version\n",
      "['ks-cooks-1y/models/rnn_cce_ml60_bs32_ne11823.502_gc100_e100_h200-100_Ug_lr0.1_nt1.hdf5']\n",
      "2019-12-10 12:55:51.509679: W tensorflow/c/c_api.cc:326] Operation '{name:'lstm_2/while' id:1003 op device:{} def:{{{node lstm_2/while}} = While[T=[DT_INT32, DT_INT32, DT_INT32, DT_VARIANT, DT_FLOAT, ..., DT_VARIANT, DT_VARIANT, DT_VARIANT, DT_VARIANT, DT_VARIANT], _lower_using_switch_merge=true, _num_original_outputs=59, body=lstm_2_while_body_1400[], cond=lstm_2_while_cond_1399[], output_shapes=[[], [], [], [], [?,200], ..., [], [], [], [], []], parallel_iterations=32](lstm_2/while/loop_counter, lstm_2/while/maximum_iterations, lstm_2/time, lstm_2/TensorArrayV2_1, lstm_2/zeros_like, lstm_2/zeros, lstm_2/zeros_1, lstm_2/strided_slice_1, lstm_2/TensorArrayUnstack/TensorListFromTensor, lstm_2/TensorArrayUnstack_1/TensorListFromTensor, lstm_2/kernel, lstm_2/recurrent_kernel, lstm_2/bias, lstm_2/while/EmptyTensorList, lstm_2/while/EmptyTensorList_1, lstm_2/while/EmptyTensorList_2, lstm_2/while/EmptyTensorList_3, lstm_2/while/EmptyTensorList_4, lstm_2/while/EmptyTensorList_5, lstm_2/while/EmptyTensorList_6, lstm_2/while/EmptyTensorList_7, lstm_2/while/EmptyTensorList_8, lstm_2/while/EmptyTensorList_9, lstm_2/while/EmptyTensorList_10, lstm_2/while/EmptyTensorList_11, lstm_2/while/EmptyTensorList_12, lstm_2/while/EmptyTensorList_13, lstm_2/while/EmptyTensorList_14, lstm_2/while/EmptyTensorList_15, lstm_2/while/EmptyTensorList_16, lstm_2/while/EmptyTensorList_17, lstm_2/while/EmptyTensorList_18, lstm_2/while/EmptyTensorList_19, lstm_2/while/EmptyTensorList_20, lstm_2/while/EmptyTensorList_21, lstm_2/while/EmptyTensorList_22, lstm_2/while/EmptyTensorList_23, lstm_2/while/EmptyTensorList_24, lstm_2/while/EmptyTensorList_25, lstm_2/while/EmptyTensorList_26, lstm_2/while/EmptyTensorList_27, lstm_2/while/EmptyTensorList_28, lstm_2/while/EmptyTensorList_29, lstm_2/while/EmptyTensorList_30, lstm_2/while/EmptyTensorList_31, lstm_2/while/EmptyTensorList_32, lstm_2/while/EmptyTensorList_33, lstm_2/while/EmptyTensorList_34, lstm_2/while/EmptyTensorList_35, lstm_2/while/EmptyTensorList_36, lstm_2/while/EmptyTensorList_37, lstm_2/while/EmptyTensorList_38, lstm_2/while/EmptyTensorList_39, lstm_2/while/EmptyTensorList_40, lstm_2/while/EmptyTensorList_41, lstm_2/while/EmptyTensorList_42, lstm_2/while/EmptyTensorList_43, lstm_2/while/EmptyTensorList_44, lstm_2/while/EmptyTensorList_45)}}' was changed by setting attribute after it was run by a session. This mutation will have no effect, and will trigger an error in the future. Either don't modify nodes after running them or create a new session.\n",
      "Opening file (1)\n",
      "Timer:  14.828054999999999\n",
      "-------------------\n",
      "( 1 / 1 ) results on ks-cooks-1y/models/rnn_cce_ml60_bs32_ne11823.502_gc100_e100_h200-100_Ug_lr0.1_nt1.hdf5\n",
      "sps@10:  0.06995230524642289\n",
      "recall@10:  0.05346601555692033\n",
      "precision@10:  0.09523052464228969\n",
      "item_coverage@10:  157\n",
      "user_coverage@10:  0.548489666136725\n",
      "ndcg@10:  0.0999885723727754\n",
      "blockbuster_share@10:  0.3572621035058431\n"
     ]
    }
   ],
   "source": [
    "!python3 test.py -d ks-cooks-1y -b 32 --max_length 60 --r_emb 100 --r_l 200-100 -i 11823.502"
   ]
  },
  {
   "cell_type": "code",
   "execution_count": 6,
   "metadata": {},
   "outputs": [
    {
     "name": "stdout",
     "output_type": "stream",
     "text": [
      "2019-12-10 12:56:14.543109: I tensorflow/core/platform/cpu_feature_guard.cc:142] Your CPU supports instructions that this TensorFlow binary was not compiled to use: AVX2 FMA\n",
      "2019-12-10 12:56:14.553444: I tensorflow/compiler/xla/service/service.cc:168] XLA service 0x7fcdbb5fbf00 executing computations on platform Host. Devices:\n",
      "2019-12-10 12:56:14.553461: I tensorflow/compiler/xla/service/service.cc:175]   StreamExecutor device (0): Host, Default Version\n",
      "['ks-cooks-1y/models/rnn_cce_ml60_bs32_ne5148.744_gc100_e100_h100-50_Ug_lr0.1_nt1.hdf5']\n",
      "2019-12-10 12:56:16.641903: W tensorflow/c/c_api.cc:326] Operation '{name:'lstm_2/while' id:1003 op device:{} def:{{{node lstm_2/while}} = While[T=[DT_INT32, DT_INT32, DT_INT32, DT_VARIANT, DT_FLOAT, ..., DT_VARIANT, DT_VARIANT, DT_VARIANT, DT_VARIANT, DT_VARIANT], _lower_using_switch_merge=true, _num_original_outputs=59, body=lstm_2_while_body_1400[], cond=lstm_2_while_cond_1399[], output_shapes=[[], [], [], [], [?,100], ..., [], [], [], [], []], parallel_iterations=32](lstm_2/while/loop_counter, lstm_2/while/maximum_iterations, lstm_2/time, lstm_2/TensorArrayV2_1, lstm_2/zeros_like, lstm_2/zeros, lstm_2/zeros_1, lstm_2/strided_slice_1, lstm_2/TensorArrayUnstack/TensorListFromTensor, lstm_2/TensorArrayUnstack_1/TensorListFromTensor, lstm_2/kernel, lstm_2/recurrent_kernel, lstm_2/bias, lstm_2/while/EmptyTensorList, lstm_2/while/EmptyTensorList_1, lstm_2/while/EmptyTensorList_2, lstm_2/while/EmptyTensorList_3, lstm_2/while/EmptyTensorList_4, lstm_2/while/EmptyTensorList_5, lstm_2/while/EmptyTensorList_6, lstm_2/while/EmptyTensorList_7, lstm_2/while/EmptyTensorList_8, lstm_2/while/EmptyTensorList_9, lstm_2/while/EmptyTensorList_10, lstm_2/while/EmptyTensorList_11, lstm_2/while/EmptyTensorList_12, lstm_2/while/EmptyTensorList_13, lstm_2/while/EmptyTensorList_14, lstm_2/while/EmptyTensorList_15, lstm_2/while/EmptyTensorList_16, lstm_2/while/EmptyTensorList_17, lstm_2/while/EmptyTensorList_18, lstm_2/while/EmptyTensorList_19, lstm_2/while/EmptyTensorList_20, lstm_2/while/EmptyTensorList_21, lstm_2/while/EmptyTensorList_22, lstm_2/while/EmptyTensorList_23, lstm_2/while/EmptyTensorList_24, lstm_2/while/EmptyTensorList_25, lstm_2/while/EmptyTensorList_26, lstm_2/while/EmptyTensorList_27, lstm_2/while/EmptyTensorList_28, lstm_2/while/EmptyTensorList_29, lstm_2/while/EmptyTensorList_30, lstm_2/while/EmptyTensorList_31, lstm_2/while/EmptyTensorList_32, lstm_2/while/EmptyTensorList_33, lstm_2/while/EmptyTensorList_34, lstm_2/while/EmptyTensorList_35, lstm_2/while/EmptyTensorList_36, lstm_2/while/EmptyTensorList_37, lstm_2/while/EmptyTensorList_38, lstm_2/while/EmptyTensorList_39, lstm_2/while/EmptyTensorList_40, lstm_2/while/EmptyTensorList_41, lstm_2/while/EmptyTensorList_42, lstm_2/while/EmptyTensorList_43, lstm_2/while/EmptyTensorList_44, lstm_2/while/EmptyTensorList_45)}}' was changed by setting attribute after it was run by a session. This mutation will have no effect, and will trigger an error in the future. Either don't modify nodes after running them or create a new session.\n",
      "Opening file (1)\n",
      "Timer:  13.067409999999999\n",
      "-------------------\n",
      "( 1 / 1 ) results on ks-cooks-1y/models/rnn_cce_ml60_bs32_ne5148.744_gc100_e100_h100-50_Ug_lr0.1_nt1.hdf5\n",
      "sps@10:  0.08585055643879173\n",
      "recall@10:  0.0526529791167847\n",
      "precision@10:  0.09523052464228969\n",
      "item_coverage@10:  166\n",
      "user_coverage@10:  0.56120826709062\n",
      "ndcg@10:  0.10116845648901632\n",
      "blockbuster_share@10:  0.337228714524207\n"
     ]
    }
   ],
   "source": [
    "!python3 test.py -d ks-cooks-1y -b 32 --max_length 60 --r_emb 100 --r_l 100-50 -i 5148.744"
   ]
  },
  {
   "cell_type": "markdown",
   "metadata": {},
   "source": [
    "### \"Compare three emb method\" WITH EAGER"
   ]
  },
  {
   "cell_type": "code",
   "execution_count": 11,
   "metadata": {},
   "outputs": [
    {
     "name": "stdout",
     "output_type": "stream",
     "text": [
      "2019-12-09 21:19:49.929218: I tensorflow/core/platform/cpu_feature_guard.cc:142] Your CPU supports instructions that this TensorFlow binary was not compiled to use: AVX2 FMA\n",
      "2019-12-09 21:19:49.955684: I tensorflow/core/platform/profile_utils/cpu_utils.cc:94] CPU Frequency: 1895585000 Hz\n",
      "2019-12-09 21:19:49.956095: I tensorflow/compiler/xla/service/service.cc:168] XLA service 0x3ab2610 executing computations on platform Host. Devices:\n",
      "2019-12-09 21:19:49.956138: I tensorflow/compiler/xla/service/service.cc:175]   StreamExecutor device (0): Host, Default Version\n",
      "['ks-cooks-1y/models/rnn_cce_ml60_bs32_ne2434.362_gc100_e100_h100_Ug_lr0.1_nt1.hdf5']\n",
      "2019-12-09 21:19:54.128595: W tensorflow/c/c_api.cc:326] Operation '{name:'lstm_1/while' id:687 op device:{} def:{{{node lstm_1/while}} = While[T=[DT_INT32, DT_INT32, DT_INT32, DT_VARIANT, DT_FLOAT, ..., DT_VARIANT, DT_VARIANT, DT_VARIANT, DT_VARIANT, DT_VARIANT], _lower_using_switch_merge=true, _num_original_outputs=59, body=lstm_1_while_body_814[], cond=lstm_1_while_cond_813[], output_shapes=[[], [], [], [], [?,100], ..., [], [], [], [], []], parallel_iterations=32](lstm_1/while/loop_counter, lstm_1/while/maximum_iterations, lstm_1/time, lstm_1/TensorArrayV2_1, lstm_1/zeros_like, lstm_1/zeros, lstm_1/zeros_1, lstm_1/strided_slice_1, lstm_1/TensorArrayUnstack/TensorListFromTensor, lstm_1/TensorArrayUnstack_1/TensorListFromTensor, lstm_1/kernel, lstm_1/recurrent_kernel, lstm_1/bias, lstm_1/while/EmptyTensorList, lstm_1/while/EmptyTensorList_1, lstm_1/while/EmptyTensorList_2, lstm_1/while/EmptyTensorList_3, lstm_1/while/EmptyTensorList_4, lstm_1/while/EmptyTensorList_5, lstm_1/while/EmptyTensorList_6, lstm_1/while/EmptyTensorList_7, lstm_1/while/EmptyTensorList_8, lstm_1/while/EmptyTensorList_9, lstm_1/while/EmptyTensorList_10, lstm_1/while/EmptyTensorList_11, lstm_1/while/EmptyTensorList_12, lstm_1/while/EmptyTensorList_13, lstm_1/while/EmptyTensorList_14, lstm_1/while/EmptyTensorList_15, lstm_1/while/EmptyTensorList_16, lstm_1/while/EmptyTensorList_17, lstm_1/while/EmptyTensorList_18, lstm_1/while/EmptyTensorList_19, lstm_1/while/EmptyTensorList_20, lstm_1/while/EmptyTensorList_21, lstm_1/while/EmptyTensorList_22, lstm_1/while/EmptyTensorList_23, lstm_1/while/EmptyTensorList_24, lstm_1/while/EmptyTensorList_25, lstm_1/while/EmptyTensorList_26, lstm_1/while/EmptyTensorList_27, lstm_1/while/EmptyTensorList_28, lstm_1/while/EmptyTensorList_29, lstm_1/while/EmptyTensorList_30, lstm_1/while/EmptyTensorList_31, lstm_1/while/EmptyTensorList_32, lstm_1/while/EmptyTensorList_33, lstm_1/while/EmptyTensorList_34, lstm_1/while/EmptyTensorList_35, lstm_1/while/EmptyTensorList_36, lstm_1/while/EmptyTensorList_37, lstm_1/while/EmptyTensorList_38, lstm_1/while/EmptyTensorList_39, lstm_1/while/EmptyTensorList_40, lstm_1/while/EmptyTensorList_41, lstm_1/while/EmptyTensorList_42, lstm_1/while/EmptyTensorList_43, lstm_1/while/EmptyTensorList_44, lstm_1/while/EmptyTensorList_45)}}' was changed by setting attribute after it was run by a session. This mutation will have no effect, and will trigger an error in the future. Either don't modify nodes after running them or create a new session.\n",
      "Opening file (1)\n",
      "Timer:  12.881461090999998\n",
      "-------------------\n",
      "( 1 / 1 ) results on ks-cooks-1y/models/rnn_cce_ml60_bs32_ne2434.362_gc100_e100_h100_Ug_lr0.1_nt1.hdf5\n",
      "sps@10:  0.07631160572337042\n",
      "recall@10:  0.052245336584076915\n",
      "precision@10:  0.09236883942766332\n",
      "item_coverage@10:  144\n",
      "user_coverage@10:  0.5500794912559619\n",
      "ndcg@10:  0.0981475700676602\n",
      "blockbuster_share@10:  0.40963855421686746\n"
     ]
    }
   ],
   "source": [
    "# THIS IS FROM \"Compare three emb method\" WITH EAGER ON THE OTHER MACHINE RUN OVERNIGH(2nd Floor)\n",
    "!python test.py -d ks-cooks-1y -b 32 --max_length 60 --r_l 100 --r_emb 100 -i 2434.362"
   ]
  },
  {
   "cell_type": "code",
   "execution_count": null,
   "metadata": {},
   "outputs": [],
   "source": []
  }
 ],
 "metadata": {
  "kernelspec": {
   "display_name": "my-python3-virlenv",
   "language": "python",
   "name": "my-python3-virlenv"
  },
  "language_info": {
   "codemirror_mode": {
    "name": "ipython",
    "version": 3
   },
   "file_extension": ".py",
   "mimetype": "text/x-python",
   "name": "python",
   "nbconvert_exporter": "python",
   "pygments_lexer": "ipython3",
   "version": "3.7.2"
  }
 },
 "nbformat": 4,
 "nbformat_minor": 2
}
