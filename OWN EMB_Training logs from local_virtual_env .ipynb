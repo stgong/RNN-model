{
 "cells": [
  {
   "cell_type": "markdown",
   "metadata": {},
   "source": [
    "### model.fit() fine tune the RNN hidden layer parameter\n",
    "#### layers = [200, 250, 300,'200-100','300-200','200-100-50', '300-200-100']"
   ]
  },
  {
   "cell_type": "code",
   "execution_count": 4,
   "metadata": {},
   "outputs": [
    {
     "name": "stdout",
     "output_type": "stream",
     "text": [
      "Python 3.7.2\n",
      "/bin/sh: tensorflow.__version__: command not found\n"
     ]
    }
   ],
   "source": [
    "!python -V\n",
    "!tensorflow.__version__"
   ]
  },
  {
   "cell_type": "code",
   "execution_count": 1,
   "metadata": {},
   "outputs": [
    {
     "name": "stdout",
     "output_type": "stream",
     "text": [
      "2019-12-08 17:21:21.195202: I tensorflow/core/platform/cpu_feature_guard.cc:142] Your CPU supports instructions that this TensorFlow binary was not compiled to use: AVX2 FMA\n",
      "2019-12-08 17:21:21.244375: I tensorflow/compiler/xla/service/service.cc:168] XLA service 0x7fd83636fca0 executing computations on platform Host. Devices:\n",
      "2019-12-08 17:21:21.244395: I tensorflow/compiler/xla/service/service.cc:175]   StreamExecutor device (0): Host, Default Version\n",
      "Train on 177316 samples, validate on 629 samples\n",
      "Epoch 1/10\n",
      "2019-12-08 17:21:27.418607: W tensorflow/core/grappler/optimizers/implementation_selector.cc:310] Skipping optimization due to error while loading function libraries: Invalid argument: Functions '__inference___backward_cudnn_lstm_with_fallback_5815_7274' and '__inference___backward_standard_lstm_7392_7991_specialized_for_StatefulPartitionedCall_at___inference_distributed_function_8128' both implement 'lstm_48c631ad-958b-4b65-83f8-a6e267c99e1d' but their signatures do not match.\n",
      "2019-12-08 17:26:27.407042: W tensorflow/core/grappler/optimizers/implementation_selector.cc:310] Skipping optimization due to error while loading function libraries: Invalid argument: Functions '__inference_standard_lstm_19446' and '__inference_standard_lstm_19446_specialized_for_sequential_lstm_StatefulPartitionedCall_at___inference_distributed_function_21314' both implement 'lstm_53929a30-0b4f-46ff-9cb2-fda1701d43c9' but their signatures do not match.\n",
      "\n",
      "Epoch 00001: val_loss improved from inf to 6.89466, saving model to ks-cooks-1y/models/rnn_cce_ml60_bs32_ne2.549_gc100_e100_h100_Ug_lr0.1_nt1.hdf5\n",
      "177316/177316 - 303s - loss: 6.9483 - val_loss: 6.8947\n",
      "Epoch 2/10\n",
      "\n",
      "Epoch 00002: val_loss improved from 6.89466 to 6.85470, saving model to ks-cooks-1y/models/rnn_cce_ml60_bs32_ne2.549_gc100_e100_h100_Ug_lr0.1_nt1.hdf5\n",
      "177316/177316 - 328s - loss: 6.8861 - val_loss: 6.8547\n",
      "Epoch 3/10\n",
      "\n",
      "Epoch 00003: val_loss improved from 6.85470 to 6.82147, saving model to ks-cooks-1y/models/rnn_cce_ml60_bs32_ne2.549_gc100_e100_h100_Ug_lr0.1_nt1.hdf5\n",
      "177316/177316 - 297s - loss: 6.8180 - val_loss: 6.8215\n",
      "Epoch 4/10\n",
      "\n",
      "Epoch 00004: val_loss improved from 6.82147 to 6.73856, saving model to ks-cooks-1y/models/rnn_cce_ml60_bs32_ne2.549_gc100_e100_h100_Ug_lr0.1_nt1.hdf5\n",
      "177316/177316 - 300s - loss: 6.7738 - val_loss: 6.7386\n",
      "Epoch 5/10\n",
      "\n",
      "Epoch 00005: val_loss improved from 6.73856 to 6.70591, saving model to ks-cooks-1y/models/rnn_cce_ml60_bs32_ne2.549_gc100_e100_h100_Ug_lr0.1_nt1.hdf5\n",
      "177316/177316 - 302s - loss: 6.7017 - val_loss: 6.7059\n",
      "Epoch 6/10\n",
      "\n",
      "Epoch 00006: val_loss improved from 6.70591 to 6.67104, saving model to ks-cooks-1y/models/rnn_cce_ml60_bs32_ne2.549_gc100_e100_h100_Ug_lr0.1_nt1.hdf5\n",
      "177316/177316 - 315s - loss: 6.6514 - val_loss: 6.6710\n",
      "Epoch 7/10\n",
      "\n",
      "Epoch 00007: val_loss improved from 6.67104 to 6.64295, saving model to ks-cooks-1y/models/rnn_cce_ml60_bs32_ne2.549_gc100_e100_h100_Ug_lr0.1_nt1.hdf5\n",
      "177316/177316 - 317s - loss: 6.6130 - val_loss: 6.6429\n",
      "Epoch 8/10\n",
      "\n",
      "Epoch 00008: val_loss improved from 6.64295 to 6.56073, saving model to ks-cooks-1y/models/rnn_cce_ml60_bs32_ne2.549_gc100_e100_h100_Ug_lr0.1_nt1.hdf5\n",
      "177316/177316 - 292s - loss: 6.5702 - val_loss: 6.5607\n",
      "Epoch 9/10\n",
      "\n",
      "Epoch 00009: val_loss did not improve from 6.56073\n",
      "177316/177316 - 289s - loss: 6.5267 - val_loss: 6.5925\n",
      "Epoch 10/10\n",
      "\n",
      "Epoch 00010: val_loss improved from 6.56073 to 6.53874, saving model to ks-cooks-1y/models/rnn_cce_ml60_bs32_ne2.549_gc100_e100_h100_Ug_lr0.1_nt1.hdf5\n",
      "177316/177316 - 288s - loss: 6.4856 - val_loss: 6.5387\n",
      "[6.948312314445342, 6.886146217500572, 6.818011437201608, 6.773831617652276, 6.701658616697079, 6.651367706073452, 6.613016679803336, 6.570157914554412, 6.526662965601696, 6.485568068320027]\n",
      "Opening file (1)\n",
      "RNN with categorical cross entropy 0 batchs,  3031.7988798618317  epochs in 3075.9998400211334 s\n",
      "Last train cost :  6.69747335378498\n",
      "recall :  0.050650184451766375\n",
      "precision :  0.08330683624801305\n",
      "sps :  0.057233704292527825\n",
      "Best  sps :  0.057233704292527825\n",
      "user_coverage :  0.519872813990461\n",
      "item_coverage :  129\n",
      "ndcg :  0.08977582296425429\n",
      "blockbuster_share :  0.42366412213740456\n",
      "-----------------\n",
      "Save model in ks-cooks-1y/models/rnn_cce_ml60_bs32_ne3031.799_gc100_e100_h100_Ug_lr0.1_nt1.hdf5\n"
     ]
    }
   ],
   "source": [
    "!python train.py -d ks-cooks-1y -b 32 --max_length 60 --r_emb 100 --min_iter 10 --r_l 100"
   ]
  },
  {
   "cell_type": "code",
   "execution_count": null,
   "metadata": {},
   "outputs": [],
   "source": [
    "# Can the BEST SPS from h150 trained from local pycharm be reproduced now in virtualenv?"
   ]
  },
  {
   "cell_type": "code",
   "execution_count": null,
   "metadata": {},
   "outputs": [],
   "source": [
    "!python train.py -d ks-cooks-1y -b 32 --max_length 60 --r_emb 100 --min_iter 10 --r_l 150"
   ]
  }
 ],
 "metadata": {
  "kernelspec": {
   "display_name": "my-python3-virlenv",
   "language": "python",
   "name": "my-python3-virlenv"
  },
  "language_info": {
   "codemirror_mode": {
    "name": "ipython",
    "version": 3
   },
   "file_extension": ".py",
   "mimetype": "text/x-python",
   "name": "python",
   "nbconvert_exporter": "python",
   "pygments_lexer": "ipython3",
   "version": "3.7.2"
  }
 },
 "nbformat": 4,
 "nbformat_minor": 2
}
