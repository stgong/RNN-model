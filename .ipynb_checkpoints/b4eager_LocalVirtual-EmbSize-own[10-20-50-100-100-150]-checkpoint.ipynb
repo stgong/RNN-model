{
 "cells": [
  {
   "cell_type": "markdown",
   "metadata": {},
   "source": [
    "### model.fit() fine tune the embedding_size(r_emb) parameter, r_l = 100\n",
    "#### r_emb= [10, 20, 50 , 100]"
   ]
  },
  {
   "cell_type": "code",
   "execution_count": null,
   "metadata": {},
   "outputs": [],
   "source": [
    "import tensorflow\n",
    "!python -V\n",
    "!python3 -c 'import tensorflow as tf; print(tf.__version__)'\n",
    "!python -c 'import keras; print(keras.__version__)'"
   ]
  },
  {
   "cell_type": "code",
   "execution_count": null,
   "metadata": {},
   "outputs": [],
   "source": [
    "!python train.py -d ks-cooks-1y -b 32 --max_length 60 --min_iter 10 --r_l 100 --r_emb 10"
   ]
  },
  {
   "cell_type": "code",
   "execution_count": null,
   "metadata": {},
   "outputs": [],
   "source": [
    "!python train.py -d ks-cooks-1y -b 32 --max_length 60 --min_iter 10 --r_l 100 --r_emb 20"
   ]
  },
  {
   "cell_type": "code",
   "execution_count": null,
   "metadata": {},
   "outputs": [],
   "source": [
    "!python train.py -d ks-cooks-1y -b 32 --max_length 60 --min_iter 10 --r_l 100 --r_emb 50"
   ]
  },
  {
   "cell_type": "code",
   "execution_count": 4,
   "metadata": {},
   "outputs": [
    {
     "name": "stdout",
     "output_type": "stream",
     "text": [
      "2019-12-12 12:51:51.299108: I tensorflow/core/platform/cpu_feature_guard.cc:142] Your CPU supports instructions that this TensorFlow binary was not compiled to use: AVX2 FMA\n",
      "2019-12-12 12:51:51.310720: I tensorflow/compiler/xla/service/service.cc:168] XLA service 0x7fd473f42190 executing computations on platform Host. Devices:\n",
      "2019-12-12 12:51:51.310747: I tensorflow/compiler/xla/service/service.cc:175]   StreamExecutor device (0): Host, Default Version\n",
      "Train on 177316 samples, validate on 629 samples\n",
      "Epoch 1/10\n",
      "2019-12-12 12:51:57.670412: W tensorflow/core/grappler/optimizers/implementation_selector.cc:310] Skipping optimization due to error while loading function libraries: Invalid argument: Functions '__inference___backward_standard_lstm_7410_8009' and '__inference___backward_standard_lstm_7410_8009_specialized_for_StatefulPartitionedCall_at___inference_distributed_function_8146' both implement 'lstm_95144d43-fd85-49dd-9d7e-bb5a1bf70184' but their signatures do not match.\n",
      "2019-12-12 12:51:58.155639: I tensorflow/core/profiler/lib/profiler_session.cc:184] Profiler session started.\n",
      "WARNING:tensorflow:Method (on_train_batch_end) is slow compared to the batch update (0.220702). Check your callbacks.\n",
      "2019-12-12 12:56:33.640332: W tensorflow/core/grappler/optimizers/implementation_selector.cc:310] Skipping optimization due to error while loading function libraries: Invalid argument: Functions '__inference_cudnn_lstm_with_fallback_19815' and '__inference_standard_lstm_19472_specialized_for_sequential_lstm_StatefulPartitionedCall_at___inference_distributed_function_21340' both implement 'lstm_6390d907-1ca8-45d6-8ec8-0c3d2cdc1379' but their signatures do not match.\n",
      "\n",
      "Epoch 00001: val_loss improved from inf to 6.89466, saving model to ks-cooks-1y/models/rnn_cce_ml60_bs32_ne2.645_gc100_e100_h100_Ug_lr0.1_nt1.hdf5\n",
      "177316/177316 - 279s - loss: 6.9483 - val_loss: 6.8947\n",
      "Epoch 2/10\n",
      "\n",
      "Epoch 00002: val_loss improved from 6.89466 to 6.85470, saving model to ks-cooks-1y/models/rnn_cce_ml60_bs32_ne2.645_gc100_e100_h100_Ug_lr0.1_nt1.hdf5\n",
      "177316/177316 - 266s - loss: 6.8861 - val_loss: 6.8547\n",
      "Epoch 3/10\n",
      "\n",
      "Epoch 00003: val_loss improved from 6.85470 to 6.82147, saving model to ks-cooks-1y/models/rnn_cce_ml60_bs32_ne2.645_gc100_e100_h100_Ug_lr0.1_nt1.hdf5\n",
      "177316/177316 - 267s - loss: 6.8180 - val_loss: 6.8215\n",
      "Epoch 4/10\n",
      "\n",
      "Epoch 00004: val_loss improved from 6.82147 to 6.73856, saving model to ks-cooks-1y/models/rnn_cce_ml60_bs32_ne2.645_gc100_e100_h100_Ug_lr0.1_nt1.hdf5\n",
      "177316/177316 - 266s - loss: 6.7738 - val_loss: 6.7386\n",
      "Epoch 5/10\n",
      "\n",
      "Epoch 00005: val_loss improved from 6.73856 to 6.70591, saving model to ks-cooks-1y/models/rnn_cce_ml60_bs32_ne2.645_gc100_e100_h100_Ug_lr0.1_nt1.hdf5\n",
      "177316/177316 - 264s - loss: 6.7017 - val_loss: 6.7059\n",
      "Epoch 6/10\n",
      "\n",
      "Epoch 00006: val_loss improved from 6.70591 to 6.67104, saving model to ks-cooks-1y/models/rnn_cce_ml60_bs32_ne2.645_gc100_e100_h100_Ug_lr0.1_nt1.hdf5\n",
      "177316/177316 - 266s - loss: 6.6514 - val_loss: 6.6710\n",
      "Epoch 7/10\n",
      "\n",
      "Epoch 00007: val_loss improved from 6.67104 to 6.64295, saving model to ks-cooks-1y/models/rnn_cce_ml60_bs32_ne2.645_gc100_e100_h100_Ug_lr0.1_nt1.hdf5\n",
      "177316/177316 - 266s - loss: 6.6130 - val_loss: 6.6429\n",
      "Epoch 8/10\n",
      "\n",
      "Epoch 00008: val_loss improved from 6.64295 to 6.56073, saving model to ks-cooks-1y/models/rnn_cce_ml60_bs32_ne2.645_gc100_e100_h100_Ug_lr0.1_nt1.hdf5\n",
      "177316/177316 - 265s - loss: 6.5702 - val_loss: 6.5607\n",
      "Epoch 9/10\n",
      "\n",
      "Epoch 00009: val_loss did not improve from 6.56073\n",
      "177316/177316 - 266s - loss: 6.5267 - val_loss: 6.5925\n",
      "Epoch 10/10\n",
      "\n",
      "Epoch 00010: val_loss improved from 6.56073 to 6.53874, saving model to ks-cooks-1y/models/rnn_cce_ml60_bs32_ne2.645_gc100_e100_h100_Ug_lr0.1_nt1.hdf5\n",
      "177316/177316 - 272s - loss: 6.4856 - val_loss: 6.5387\n",
      "[6.948312314445342, 6.886146217500572, 6.818011437201608, 6.773831617652276, 6.701658616697079, 6.651367706073452, 6.613016679803336, 6.570157914554412, 6.526662965601696, 6.485568068320027]\n",
      "Opening file (1)\n",
      "RNN with categorical cross entropy 0 batchs,  2678.712891817093  epochs in 2725.5220408439636 s\n",
      "Last train cost :  6.69747335378498\n",
      "recall :  0.050650184451766375\n",
      "precision :  0.08330683624801305\n",
      "sps :  0.057233704292527825\n",
      "Best  sps :  0.057233704292527825\n",
      "sps_short :  0.049342105263157895\n",
      "sps_long :  0.06461538461538462\n",
      "user_coverage :  0.519872813990461\n",
      "item_coverage :  129\n",
      "total_item_coverage :  524\n",
      "uniq_rec :  290\n",
      "ndcg :  0.08977582296425429\n",
      "blockbuster_share :  0.42366412213740456\n",
      "intra_list_similarity :  7.513353875816777\n",
      "-----------------\n",
      "Save model in ks-cooks-1y/models/rnn_cce_ml60_bs32_ne2678.713_gc100_e100_h100_Ug_lr0.1_nt1.hdf5\n"
     ]
    }
   ],
   "source": [
    "!python train.py -d ks-cooks-1y -b 32 --max_length 60 --min_iter 10 --r_l 100 --r_emb 100"
   ]
  },
  {
   "cell_type": "code",
   "execution_count": null,
   "metadata": {},
   "outputs": [],
   "source": [
    "!python test.py -d ks-cooks-1y -b 32 --max_length 60 --r_l 100 --r_emb 100 -i 2.742"
   ]
  },
  {
   "cell_type": "code",
   "execution_count": null,
   "metadata": {},
   "outputs": [],
   "source": [
    "!python train.py -d ks-cooks-1y -b 32 --max_length 60 --min_iter 10 --r_l 100 --r_emb 100"
   ]
  },
  {
   "cell_type": "code",
   "execution_count": null,
   "metadata": {},
   "outputs": [],
   "source": [
    "!python test.py -d ks-cooks-1y -b 32 --max_length 60 --r_l 100 --r_emb 100 -i 2487.171"
   ]
  },
  {
   "cell_type": "code",
   "execution_count": null,
   "metadata": {},
   "outputs": [],
   "source": [
    "!python train.py -d ks-cooks-1y -b 32 --max_length 60 --min_iter 1 --r_l 100 --r_emb 100"
   ]
  },
  {
   "cell_type": "code",
   "execution_count": null,
   "metadata": {},
   "outputs": [],
   "source": [
    "!python train.py -d ks-cooks-1y -b 32 --max_length 60 --min_iter 10 --r_l 100 --r_emb 150"
   ]
  },
  {
   "cell_type": "code",
   "execution_count": null,
   "metadata": {},
   "outputs": [],
   "source": [
    "# !python test.py -d ks-cooks-1y -b 32 --max_length 60 --r_emb 100 --r_l 150 -i 3781.422"
   ]
  }
 ],
 "metadata": {
  "kernelspec": {
   "display_name": "my-python3-virlenv",
   "language": "python",
   "name": "my-python3-virlenv"
  },
  "language_info": {
   "codemirror_mode": {
    "name": "ipython",
    "version": 3
   },
   "file_extension": ".py",
   "mimetype": "text/x-python",
   "name": "python",
   "nbconvert_exporter": "python",
   "pygments_lexer": "ipython3",
   "version": "3.7.2"
  }
 },
 "nbformat": 4,
 "nbformat_minor": 2
}
