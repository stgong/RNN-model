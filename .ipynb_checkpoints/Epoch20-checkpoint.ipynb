{
 "cells": [
  {
   "cell_type": "markdown",
   "metadata": {},
   "source": [
    "### model.fit() fine tune the RNN hidden layer parameter\n",
    "#### layers = [200, 250, 300,'200-100','300-200','200-100-50', '300-200-100']"
   ]
  },
  {
   "cell_type": "code",
   "execution_count": null,
   "metadata": {},
   "outputs": [],
   "source": [
    "%autosave 1"
   ]
  },
  {
   "cell_type": "code",
   "execution_count": null,
   "metadata": {},
   "outputs": [],
   "source": [
    "import tensorflow\n",
    "!python -V\n",
    "!git branch"
   ]
  },
  {
   "cell_type": "code",
   "execution_count": 2,
   "metadata": {
    "scrolled": false
   },
   "outputs": [
    {
     "name": "stdout",
     "output_type": "stream",
     "text": [
      "2019-12-13 22:01:40.199693: I tensorflow/core/platform/cpu_feature_guard.cc:142] Your CPU supports instructions that this TensorFlow binary was not compiled to use: AVX2 FMA\n",
      "2019-12-13 22:01:40.210489: I tensorflow/compiler/xla/service/service.cc:168] XLA service 0x7ffd261c2180 executing computations on platform Host. Devices:\n",
      "2019-12-13 22:01:40.210525: I tensorflow/compiler/xla/service/service.cc:175]   StreamExecutor device (0): Host, Default Version\n",
      "Train on 177316 samples, validate on 629 samples\n",
      "Epoch 1/20\n",
      "2019-12-13 22:01:49.453637: W tensorflow/core/grappler/optimizers/implementation_selector.cc:310] Skipping optimization due to error while loading function libraries: Invalid argument: Functions '__inference___backward_standard_lstm_14848_15447' and '__inference___backward_standard_lstm_14848_15447_specialized_for_StatefulPartitionedCall_1_at___inference_distributed_function_15611' both implement 'lstm_13b1fa4a-6569-42ec-a645-73d9531ccd53' but their signatures do not match.\n",
      "2019-12-13 22:01:50.408176: I tensorflow/core/profiler/lib/profiler_session.cc:184] Profiler session started.\n",
      "WARNING:tensorflow:Method (on_train_batch_end) is slow compared to the batch update (0.406199). Check your callbacks.\n",
      "2019-12-13 22:09:06.141759: W tensorflow/core/grappler/optimizers/implementation_selector.cc:310] Skipping optimization due to error while loading function libraries: Invalid argument: Functions '__inference_cudnn_lstm_with_fallback_27280' and '__inference_standard_lstm_26937_specialized_for_sequential_lstm_StatefulPartitionedCall_at___inference_distributed_function_30813' both implement 'lstm_5e209276-6c8a-4fc0-a49b-91b9347672a6' but their signatures do not match.\n",
      "\n",
      "Epoch 00001: saving model to ks-cooks-1y/models/rnn_cce_ml60_bs32_ne2.576_gc100_e100_h100-50_Ug_lr0.1_nt1001.hdf5\n",
      "177316/177316 - 442s - loss: 6.9444 - val_loss: 6.9441\n",
      "Epoch 2/20\n",
      "\n",
      "Epoch 00002: saving model to ks-cooks-1y/models/rnn_cce_ml60_bs32_ne2.576_gc100_e100_h100-50_Ug_lr0.1_nt1002.hdf5\n",
      "177316/177316 - 410s - loss: 6.8892 - val_loss: 6.8489\n",
      "Epoch 3/20\n",
      "\n",
      "Epoch 00003: saving model to ks-cooks-1y/models/rnn_cce_ml60_bs32_ne2.576_gc100_e100_h100-50_Ug_lr0.1_nt1003.hdf5\n",
      "177316/177316 - 410s - loss: 6.8337 - val_loss: 6.8244\n",
      "Epoch 4/20\n",
      "\n",
      "Epoch 00004: saving model to ks-cooks-1y/models/rnn_cce_ml60_bs32_ne2.576_gc100_e100_h100-50_Ug_lr0.1_nt1004.hdf5\n",
      "177316/177316 - 402s - loss: 6.7939 - val_loss: 6.8187\n",
      "Epoch 5/20\n",
      "\n",
      "Epoch 00005: saving model to ks-cooks-1y/models/rnn_cce_ml60_bs32_ne2.576_gc100_e100_h100-50_Ug_lr0.1_nt1005.hdf5\n",
      "177316/177316 - 399s - loss: 6.7394 - val_loss: 6.7735\n",
      "Epoch 6/20\n",
      "\n",
      "Epoch 00006: saving model to ks-cooks-1y/models/rnn_cce_ml60_bs32_ne2.576_gc100_e100_h100-50_Ug_lr0.1_nt1006.hdf5\n",
      "177316/177316 - 404s - loss: 6.6746 - val_loss: 6.7330\n",
      "Epoch 7/20\n",
      "\n",
      "Epoch 00007: saving model to ks-cooks-1y/models/rnn_cce_ml60_bs32_ne2.576_gc100_e100_h100-50_Ug_lr0.1_nt1007.hdf5\n",
      "177316/177316 - 408s - loss: 6.6297 - val_loss: 6.6608\n",
      "Epoch 8/20\n",
      "\n",
      "Epoch 00008: saving model to ks-cooks-1y/models/rnn_cce_ml60_bs32_ne2.576_gc100_e100_h100-50_Ug_lr0.1_nt1008.hdf5\n",
      "177316/177316 - 409s - loss: 6.5881 - val_loss: 6.5765\n",
      "Epoch 9/20\n",
      "\n",
      "Epoch 00009: saving model to ks-cooks-1y/models/rnn_cce_ml60_bs32_ne2.576_gc100_e100_h100-50_Ug_lr0.1_nt1009.hdf5\n",
      "177316/177316 - 404s - loss: 6.5475 - val_loss: 6.5984\n",
      "Epoch 10/20\n",
      "\n",
      "Epoch 00010: saving model to ks-cooks-1y/models/rnn_cce_ml60_bs32_ne2.576_gc100_e100_h100-50_Ug_lr0.1_nt1010.hdf5\n",
      "177316/177316 - 402s - loss: 6.5096 - val_loss: 6.5644\n",
      "Epoch 11/20\n",
      "\n",
      "Epoch 00011: saving model to ks-cooks-1y/models/rnn_cce_ml60_bs32_ne2.576_gc100_e100_h100-50_Ug_lr0.1_nt1011.hdf5\n",
      "177316/177316 - 405s - loss: 6.4746 - val_loss: 6.5421\n",
      "Epoch 12/20\n",
      "\n",
      "Epoch 00012: saving model to ks-cooks-1y/models/rnn_cce_ml60_bs32_ne2.576_gc100_e100_h100-50_Ug_lr0.1_nt1012.hdf5\n",
      "177316/177316 - 422s - loss: 6.4429 - val_loss: 6.5567\n",
      "Epoch 13/20\n",
      "\n",
      "Epoch 00013: saving model to ks-cooks-1y/models/rnn_cce_ml60_bs32_ne2.576_gc100_e100_h100-50_Ug_lr0.1_nt1013.hdf5\n",
      "177316/177316 - 442s - loss: 6.4157 - val_loss: 6.5207\n",
      "Epoch 14/20\n",
      "\n",
      "Epoch 00014: saving model to ks-cooks-1y/models/rnn_cce_ml60_bs32_ne2.576_gc100_e100_h100-50_Ug_lr0.1_nt1014.hdf5\n",
      "177316/177316 - 765s - loss: 6.3905 - val_loss: 6.4988\n",
      "Epoch 15/20\n",
      "\n",
      "Epoch 00015: saving model to ks-cooks-1y/models/rnn_cce_ml60_bs32_ne2.576_gc100_e100_h100-50_Ug_lr0.1_nt1015.hdf5\n",
      "177316/177316 - 836s - loss: 6.3653 - val_loss: 6.5137\n",
      "Epoch 16/20\n",
      "\n",
      "Epoch 00016: saving model to ks-cooks-1y/models/rnn_cce_ml60_bs32_ne2.576_gc100_e100_h100-50_Ug_lr0.1_nt1016.hdf5\n",
      "177316/177316 - 819s - loss: 6.3413 - val_loss: 6.4951\n",
      "Epoch 17/20\n",
      "\n",
      "Epoch 00017: saving model to ks-cooks-1y/models/rnn_cce_ml60_bs32_ne2.576_gc100_e100_h100-50_Ug_lr0.1_nt1017.hdf5\n",
      "177316/177316 - 826s - loss: 6.3189 - val_loss: 6.4701\n",
      "Epoch 18/20\n",
      "\n",
      "Epoch 00018: saving model to ks-cooks-1y/models/rnn_cce_ml60_bs32_ne2.576_gc100_e100_h100-50_Ug_lr0.1_nt1018.hdf5\n",
      "177316/177316 - 757s - loss: 6.2989 - val_loss: 6.5031\n",
      "Epoch 19/20\n",
      "\n",
      "Epoch 00019: saving model to ks-cooks-1y/models/rnn_cce_ml60_bs32_ne2.576_gc100_e100_h100-50_Ug_lr0.1_nt1019.hdf5\n",
      "177316/177316 - 549s - loss: 6.2789 - val_loss: 6.4792\n",
      "Epoch 20/20\n",
      "\n",
      "Epoch 00020: saving model to ks-cooks-1y/models/rnn_cce_ml60_bs32_ne2.576_gc100_e100_h100-50_Ug_lr0.1_nt1020.hdf5\n",
      "177316/177316 - 522s - loss: 6.2596 - val_loss: 6.4696\n",
      "[6.944421616883655, 6.889225065717572, 6.833749039872478, 6.79392995101599, 6.739444542851932, 6.674617846740511, 6.629689777794814, 6.588068167547851, 6.547510174266344, 6.509551110754169, 6.474602182911473, 6.442852407851853, 6.415742964050648, 6.39049502235937, 6.36525393185285, 6.341304538832395, 6.318877901208374, 6.298863571903358, 6.2789230521800015, 6.259618217906536]\n",
      "Opening file (1)\n",
      "RNN with categorical cross entropy 0 batchs,  10433.25148177147  epochs in 10517.103693008423 s\n",
      "Last train cost :  6.536837054225108\n",
      "recall :  0.050476963401044996\n",
      "precision :  0.08282988871224209\n",
      "sps :  0.07790143084260731\n",
      "Best  sps :  0.07790143084260731\n",
      "sps_short :  0.0756578947368421\n",
      "sps_long :  0.08\n",
      "user_coverage :  0.548489666136725\n",
      "item_coverage :  184\n",
      "total_item_coverage :  521\n",
      "uniq_rec :  572\n",
      "ndcg :  0.086476445160453\n",
      "blockbuster_share :  0.3435700575815739\n",
      "intra_list_similarity :  6.752738772373542\n",
      "-----------------\n",
      "Save model in ks-cooks-1y/models/rnn_cce_ml60_bs32_ne10433.251_gc100_e100_h100-50_Ug_lr0.1_nt1.hdf5\n"
     ]
    }
   ],
   "source": [
    "!python train.py -d ks-cooks-1y -b 32 --max_length 60 --r_emb 100 --min_iter 20 --r_l 100-50"
   ]
  },
  {
   "cell_type": "code",
   "execution_count": 4,
   "metadata": {},
   "outputs": [
    {
     "name": "stdout",
     "output_type": "stream",
     "text": [
      "2019-12-14 00:59:01.030836: I tensorflow/core/platform/cpu_feature_guard.cc:142] Your CPU supports instructions that this TensorFlow binary was not compiled to use: AVX2 FMA\n",
      "2019-12-14 00:59:01.046628: I tensorflow/compiler/xla/service/service.cc:168] XLA service 0x7f930a87dec0 executing computations on platform Host. Devices:\n",
      "2019-12-14 00:59:01.046655: I tensorflow/compiler/xla/service/service.cc:175]   StreamExecutor device (0): Host, Default Version\n",
      "['ks-cooks-1y/models/rnn_cce_ml60_bs32_ne10433.251_gc100_e100_h100-50_Ug_lr0.1_nt1.hdf5']\n",
      "Opening file (1)\n",
      "Timer:  83.14101500000001\n",
      "-------------------\n",
      "( 1 / 1 ) results on ks-cooks-1y/models/rnn_cce_ml60_bs32_ne10433.251_gc100_e100_h100-50_Ug_lr0.1_nt1.hdf5\n",
      "sps@10:  0.06995230524642289\n",
      "sps_short@10:  0.06451612903225806\n",
      "sps_long@10:  0.07523510971786834\n",
      "recall@10:  0.052100286474256734\n",
      "precision@10:  0.09316375198728175\n",
      "uniq_rec@10:  601\n",
      "total_item_coverage@10:  586\n",
      "item_coverage@10:  210\n",
      "user_coverage@10:  0.5532591414944356\n",
      "ndcg@10:  0.09808912101234939\n",
      "blockbuster_share@10:  0.3310580204778157\n",
      "intra_list_similarity@10:  6.4742341525130715\n"
     ]
    }
   ],
   "source": [
    "!python test.py -d ks-cooks-1y -b 32 --max_length 60 --r_emb 100 --r_l 100-50 -i 10433.251"
   ]
  },
  {
   "cell_type": "code",
   "execution_count": null,
   "metadata": {
    "scrolled": false
   },
   "outputs": [
    {
     "name": "stdout",
     "output_type": "stream",
     "text": [
      "2019-12-14 01:02:21.930419: I tensorflow/core/platform/cpu_feature_guard.cc:142] Your CPU supports instructions that this TensorFlow binary was not compiled to use: AVX2 FMA\n",
      "2019-12-14 01:02:21.940989: I tensorflow/compiler/xla/service/service.cc:168] XLA service 0x7fd54dbb76d0 executing computations on platform Host. Devices:\n",
      "2019-12-14 01:02:21.941028: I tensorflow/compiler/xla/service/service.cc:175]   StreamExecutor device (0): Host, Default Version\n",
      "Train on 177316 samples, validate on 629 samples\n",
      "Epoch 1/20\n",
      "2019-12-14 01:02:28.335977: W tensorflow/core/grappler/optimizers/implementation_selector.cc:310] Skipping optimization due to error while loading function libraries: Invalid argument: Functions '__inference___backward_standard_lstm_7410_8009' and '__inference___backward_standard_lstm_7410_8009_specialized_for_StatefulPartitionedCall_at___inference_distributed_function_8146' both implement 'lstm_6521765a-ccb3-4b5b-9b86-1f4eb101f493' but their signatures do not match.\n",
      "2019-12-14 01:02:28.811292: I tensorflow/core/profiler/lib/profiler_session.cc:184] Profiler session started.\n",
      "WARNING:tensorflow:Method (on_train_batch_end) is slow compared to the batch update (0.206092). Check your callbacks.\n"
     ]
    }
   ],
   "source": [
    "!python train.py -d ks-cooks-1y -b 32 --max_length 60 --r_emb 100 --min_iter 20 --r_l 100"
   ]
  },
  {
   "cell_type": "code",
   "execution_count": null,
   "metadata": {},
   "outputs": [],
   "source": [
    "# !python test.py -d ks-cooks-1y -b 32 --max_length 60 --r_emb 100 --r_l 100 -i 2498.005"
   ]
  },
  {
   "cell_type": "code",
   "execution_count": null,
   "metadata": {},
   "outputs": [],
   "source": [
    "# !python test.py -d ks-cooks-1y -b 32 --max_length 60 --r_emb 100 --r_l 100 -i 4903.255"
   ]
  },
  {
   "cell_type": "code",
   "execution_count": null,
   "metadata": {
    "scrolled": true
   },
   "outputs": [],
   "source": [
    "!git pull origin tf2.0_tensorboard\n",
    "!git add .\n",
    "!git commit -m 'epoch 20, h100,100-50 train'\n",
    "!git push -u origin tf2.0_tensorboard"
   ]
  },
  {
   "cell_type": "code",
   "execution_count": null,
   "metadata": {},
   "outputs": [],
   "source": [
    "!python train.py -d ks-cooks-1y -b 32 --max_length 60 --r_emb 100 --min_iter 20 --r_l 50"
   ]
  },
  {
   "cell_type": "code",
   "execution_count": null,
   "metadata": {},
   "outputs": [],
   "source": [
    "!python train.py -d ks-cooks-1y -b 32 --max_length 60 --r_emb 100 --min_iter 20 --r_l 75"
   ]
  },
  {
   "cell_type": "code",
   "execution_count": null,
   "metadata": {},
   "outputs": [],
   "source": [
    "!python train.py -d ks-cooks-1y -b 32 --max_length 60 --r_emb 100 --min_iter 20 --r_l 100"
   ]
  },
  {
   "cell_type": "code",
   "execution_count": null,
   "metadata": {},
   "outputs": [],
   "source": [
    "!python train.py -d ks-cooks-1y -b 32 --max_length 60 --r_emb 100 --min_iter 20 --r_l 125"
   ]
  },
  {
   "cell_type": "code",
   "execution_count": null,
   "metadata": {},
   "outputs": [],
   "source": [
    "!git pull origin tf2.0_tensorboard\n",
    "!git add .\n",
    "!git commit -m 'epoch 20, h50,150,200'\n",
    "!git push -u origin tf2.0_tensorboard"
   ]
  }
 ],
 "metadata": {
  "kernelspec": {
   "display_name": "my-python3-virlenv",
   "language": "python",
   "name": "my-python3-virlenv"
  },
  "language_info": {
   "codemirror_mode": {
    "name": "ipython",
    "version": 3
   },
   "file_extension": ".py",
   "mimetype": "text/x-python",
   "name": "python",
   "nbconvert_exporter": "python",
   "pygments_lexer": "ipython3",
   "version": "3.7.2"
  }
 },
 "nbformat": 4,
 "nbformat_minor": 2
}
