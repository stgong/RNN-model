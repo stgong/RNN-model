{
 "cells": [
  {
   "cell_type": "code",
   "execution_count": 1,
   "metadata": {},
   "outputs": [
    {
     "name": "stdout",
     "output_type": "stream",
     "text": [
      "Traceback (most recent call last):\r\n",
      "  File \"/Users/xun/Documents/Thesis/Improving-RNN-recommendation-model/test.py\", line 9, in <module>\r\n",
      "    import numpy as np\r\n",
      "ImportError: No module named numpy\r\n"
     ]
    }
   ],
   "source": [
    "!python /Users/xun/Documents/Thesis/Improving-RNN-recommendation-model/test.py -d ks-cooks-1y -mp rnn-8emb-l1h50-v3.h5 -ne 1 --save -fr ktf\n"
   ]
  },
  {
   "cell_type": "code",
   "execution_count": null,
   "metadata": {},
   "outputs": [],
   "source": []
  }
 ],
 "metadata": {
  "kernelspec": {
   "display_name": "Python 3",
   "language": "python",
   "name": "python3"
  },
  "language_info": {
   "codemirror_mode": {
    "name": "ipython",
    "version": 3
   },
   "file_extension": ".py",
   "mimetype": "text/x-python",
   "name": "python",
   "nbconvert_exporter": "python",
   "pygments_lexer": "ipython3",
   "version": "3.7.2"
  }
 },
 "nbformat": 4,
 "nbformat_minor": 1
}
