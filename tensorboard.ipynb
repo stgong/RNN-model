{
 "cells": [
  {
   "cell_type": "code",
   "execution_count": 1,
   "metadata": {},
   "outputs": [
    {
     "name": "stdout",
     "output_type": "stream",
     "text": [
      "2019-12-12 03:30:37.002618: I tensorflow/core/platform/cpu_feature_guard.cc:142] Your CPU supports instructions that this TensorFlow binary was not compiled to use: AVX2 FMA\n",
      "2019-12-12 03:30:37.020972: I tensorflow/compiler/xla/service/service.cc:168] XLA service 0x7f8853f99af0 executing computations on platform Host. Devices:\n",
      "2019-12-12 03:30:37.020991: I tensorflow/compiler/xla/service/service.cc:175]   StreamExecutor device (0): Host, Default Version\n",
      "Train on 100 samples, validate on 100 samples\n",
      "2019-12-12 03:30:39.758070: I tensorflow/core/profiler/lib/profiler_session.cc:184] Profiler session started.\n",
      "\n",
      "Epoch 00001: val_loss improved from inf to 7.29749, saving model to ks-cooks-1y/models/rnn_cce_ml60_bs32_ne1.43_gc100_e100_h100_Ug_lr0.1_nt1.hdf5\n",
      "100/100 - 1s - loss: 7.2978 - val_loss: 7.2975\n",
      "[7.29784912109375]\n",
      "Opening file (1)\n",
      "RNN with categorical cross entropy 0 batchs,  1.5026919841766357  epochs in 5.6546549797058105 s\n",
      "Last train cost :  7.29784912109375\n",
      "recall :  0.01995399351810769\n",
      "precision :  0.03338632750397458\n",
      "sps :  0.017488076311605722\n",
      "Best  sps :  0.017488076311605722\n",
      "sps_short :  0.013157894736842105\n",
      "sps_long :  0.021538461538461538\n",
      "user_coverage :  0.2861685214626391\n",
      "item_coverage :  10\n",
      "total_item_coverage :  210\n",
      "uniq_rec :  10\n",
      "ndcg :  0.028739678633851275\n",
      "blockbuster_share :  0.3333333333333333\n",
      "intra_list_similarity :  4.027607198118711\n",
      "-----------------\n",
      "Save model in ks-cooks-1y/models/rnn_cce_ml60_bs32_ne1.503_gc100_e100_h100_Ug_lr0.1_nt1.hdf5\n"
     ]
    }
   ],
   "source": [
    "!python train.py -d ks-cooks-1y -b 32 --max_length 60 --r_emb 100 --r_l 100 --min_iter 1"
   ]
  },
  {
   "cell_type": "code",
   "execution_count": 5,
   "metadata": {},
   "outputs": [],
   "source": [
    "%load_ext tensorboard"
   ]
  },
  {
   "cell_type": "code",
   "execution_count": 7,
   "metadata": {},
   "outputs": [
    {
     "data": {
      "text/plain": [
       "ERROR: Failed to launch TensorBoard (exited with 1).\n",
       "Contents of stderr:\n",
       "Traceback (most recent call last):\n",
       "  File \"/usr/local/bin/tensorboard\", line 8, in <module>\n",
       "    sys.exit(run_main())\n",
       "  File \"/usr/local/lib/python3.7/site-packages/tensorboard/main.py\", line 59, in run_main\n",
       "    default.get_plugins() + default.get_dynamic_plugins(),\n",
       "  File \"/usr/local/lib/python3.7/site-packages/tensorboard/default.py\", line 110, in get_dynamic_plugins\n",
       "    for entry_point in pkg_resources.iter_entry_points('tensorboard_plugins')\n",
       "  File \"/usr/local/lib/python3.7/site-packages/tensorboard/default.py\", line 110, in <listcomp>\n",
       "    for entry_point in pkg_resources.iter_entry_points('tensorboard_plugins')\n",
       "  File \"/usr/local/lib/python3.7/site-packages/pkg_resources/__init__.py\", line 2442, in load\n",
       "    self.require(*args, **kwargs)\n",
       "  File \"/usr/local/lib/python3.7/site-packages/pkg_resources/__init__.py\", line 2465, in require\n",
       "    items = working_set.resolve(reqs, env, installer, extras=self.extras)\n",
       "  File \"/usr/local/lib/python3.7/site-packages/pkg_resources/__init__.py\", line 791, in resolve\n",
       "    raise VersionConflict(dist, req).with_context(dependent_req)\n",
       "pkg_resources.ContextualVersionConflict: (pyasn1 0.4.5 (/usr/local/lib/python3.7/site-packages), Requirement.parse('pyasn1<0.5.0,>=0.4.6'), {'pyasn1-modules'})"
      ]
     },
     "metadata": {},
     "output_type": "display_data"
    }
   ],
   "source": [
    "%tensorboard --logdir logs"
   ]
  },
  {
   "cell_type": "code",
   "execution_count": 8,
   "metadata": {},
   "outputs": [
    {
     "name": "stdout",
     "output_type": "stream",
     "text": [
      "Collecting pyasn1\n",
      "  Using cached https://files.pythonhosted.org/packages/62/1e/a94a8d635fa3ce4cfc7f506003548d0a2447ae76fd5ca53932970fe3053f/pyasn1-0.4.8-py2.py3-none-any.whl\n",
      "Installing collected packages: pyasn1\n",
      "  Found existing installation: pyasn1 0.4.5\n",
      "    Uninstalling pyasn1-0.4.5:\n",
      "      Successfully uninstalled pyasn1-0.4.5\n",
      "Successfully installed pyasn1-0.4.8\n"
     ]
    }
   ],
   "source": [
    "!pip install pyasn1 --upgrade"
   ]
  },
  {
   "cell_type": "code",
   "execution_count": 9,
   "metadata": {},
   "outputs": [
    {
     "data": {
      "text/html": [
       "\n",
       "      <iframe id=\"tensorboard-frame-4fd5c82e43548ac3\" width=\"100%\" height=\"800\" frameborder=\"0\">\n",
       "      </iframe>\n",
       "      <script>\n",
       "        (function() {\n",
       "          const frame = document.getElementById(\"tensorboard-frame-4fd5c82e43548ac3\");\n",
       "          const url = new URL(\"/\", window.location);\n",
       "          url.port = 6006;\n",
       "          frame.src = url;\n",
       "        })();\n",
       "      </script>\n",
       "  "
      ],
      "text/plain": [
       "<IPython.core.display.HTML object>"
      ]
     },
     "metadata": {},
     "output_type": "display_data"
    }
   ],
   "source": [
    "%tensorboard --logdir logs"
   ]
  },
  {
   "cell_type": "code",
   "execution_count": 10,
   "metadata": {},
   "outputs": [],
   "source": [
    "!rm -rf ./logs/ "
   ]
  },
  {
   "cell_type": "code",
   "execution_count": null,
   "metadata": {},
   "outputs": [],
   "source": []
  }
 ],
 "metadata": {
  "kernelspec": {
   "display_name": "my-python3-virlenv",
   "language": "python",
   "name": "my-python3-virlenv"
  },
  "language_info": {
   "codemirror_mode": {
    "name": "ipython",
    "version": 3
   },
   "file_extension": ".py",
   "mimetype": "text/x-python",
   "name": "python",
   "nbconvert_exporter": "python",
   "pygments_lexer": "ipython3",
   "version": "3.7.2"
  }
 },
 "nbformat": 4,
 "nbformat_minor": 2
}
