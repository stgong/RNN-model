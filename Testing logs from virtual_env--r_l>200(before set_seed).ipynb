{
 "cells": [
  {
   "cell_type": "code",
   "execution_count": 1,
   "metadata": {},
   "outputs": [
    {
     "name": "stdout",
     "output_type": "stream",
     "text": [
      "Using TensorFlow backend.\n",
      "2019-12-07 09:16:52.449180: I tensorflow/core/platform/cpu_feature_guard.cc:142] Your CPU supports instructions that this TensorFlow binary was not compiled to use: AVX2 FMA\n",
      "2019-12-07 09:16:52.469601: I tensorflow/compiler/xla/service/service.cc:168] XLA service 0x7fec4565b270 executing computations on platform Host. Devices:\n",
      "2019-12-07 09:16:52.469630: I tensorflow/compiler/xla/service/service.cc:175]   StreamExecutor device (0): Host, Default Version\n",
      "['ks-cooks-1y/models/rnn_cce_ml60_bs32_ne4575.433_gc100_e100_h200_Ug_lr0.1_nt1.hdf5']\n",
      "Opening file (1)\n",
      "Timer:  18.165764\n",
      "-------------------\n",
      "( 1 / 1 ) results on ks-cooks-1y/models/rnn_cce_ml60_bs32_ne4575.433_gc100_e100_h200_Ug_lr0.1_nt1.hdf5\n",
      "sps@10:  0.057233704292527825\n",
      "recall@10:  0.05624962176978958\n",
      "precision@10:  0.09920508744038191\n",
      "item_coverage@10:  161\n",
      "user_coverage@10:  0.5596184419713831\n",
      "ndcg@10:  0.10381065642966118\n",
      "blockbuster_share@10:  0.47115384615384615\n"
     ]
    }
   ],
   "source": [
    "!python test.py -d ks-cooks-1y -b 32 --max_length 60 --r_emb 100 --r_l 200 -i 4575.433"
   ]
  },
  {
   "cell_type": "code",
   "execution_count": 4,
   "metadata": {},
   "outputs": [
    {
     "name": "stdout",
     "output_type": "stream",
     "text": [
      "Using TensorFlow backend.\n",
      "2019-12-07 13:24:21.034999: I tensorflow/core/platform/cpu_feature_guard.cc:142] Your CPU supports instructions that this TensorFlow binary was not compiled to use: AVX2 FMA\n",
      "2019-12-07 13:24:21.051777: I tensorflow/compiler/xla/service/service.cc:168] XLA service 0x7ffa683782e0 executing computations on platform Host. Devices:\n",
      "2019-12-07 13:24:21.051806: I tensorflow/compiler/xla/service/service.cc:175]   StreamExecutor device (0): Host, Default Version\n",
      "['ks-cooks-1y/models/rnn_cce_ml60_bs32_ne13532.561_gc100_e100_h200-100_Ug_lr0.1_nt1.hdf5']\n",
      "Opening file (1)\n",
      "Timer:  29.790132\n",
      "-------------------\n",
      "( 1 / 1 ) results on ks-cooks-1y/models/rnn_cce_ml60_bs32_ne13532.561_gc100_e100_h200-100_Ug_lr0.1_nt1.hdf5\n",
      "sps@10:  0.06677265500794913\n",
      "recall@10:  0.059002173644778756\n",
      "precision@10:  0.10508744038155825\n",
      "item_coverage@10:  150\n",
      "user_coverage@10:  0.5739268680445151\n",
      "ndcg@10:  0.11156486001953543\n",
      "blockbuster_share@10:  0.5022692889561271\n"
     ]
    }
   ],
   "source": [
    "!python test.py -d ks-cooks-1y -b 32 --max_length 60 --r_emb 100 --r_l 200-100 -i 13532.561"
   ]
  },
  {
   "cell_type": "code",
   "execution_count": 5,
   "metadata": {},
   "outputs": [
    {
     "name": "stdout",
     "output_type": "stream",
     "text": [
      "Using TensorFlow backend.\n",
      "2019-12-07 14:55:49.288684: I tensorflow/core/platform/cpu_feature_guard.cc:142] Your CPU supports instructions that this TensorFlow binary was not compiled to use: AVX2 FMA\n",
      "2019-12-07 14:55:49.299448: I tensorflow/compiler/xla/service/service.cc:168] XLA service 0x7fba8a5cc6a0 executing computations on platform Host. Devices:\n",
      "2019-12-07 14:55:49.299468: I tensorflow/compiler/xla/service/service.cc:175]   StreamExecutor device (0): Host, Default Version\n",
      "['ks-cooks-1y/models/rnn_cce_ml60_bs32_ne9439.583_gc100_e100_h200-100-50_Ug_lr0.1_nt1.hdf5']\n",
      "Opening file (1)\n",
      "Timer:  23.096607\n",
      "-------------------\n",
      "( 1 / 1 ) results on ks-cooks-1y/models/rnn_cce_ml60_bs32_ne9439.583_gc100_e100_h200-100-50_Ug_lr0.1_nt1.hdf5\n",
      "sps@10:  0.06200317965023847\n",
      "recall@10:  0.05403065604154762\n",
      "precision@10:  0.0961844197138318\n",
      "item_coverage@10:  123\n",
      "user_coverage@10:  0.5548489666136724\n",
      "ndcg@10:  0.1006520710823903\n",
      "blockbuster_share@10:  0.4809917355371901\n"
     ]
    }
   ],
   "source": [
    "!python test.py -d ks-cooks-1y -b 32 --max_length 60 --r_emb 100 --r_l 200-100-50 -i 9439.583"
   ]
  },
  {
   "cell_type": "code",
   "execution_count": 2,
   "metadata": {},
   "outputs": [
    {
     "name": "stdout",
     "output_type": "stream",
     "text": [
      "Using TensorFlow backend.\n",
      "2019-12-07 09:31:27.646760: I tensorflow/core/platform/cpu_feature_guard.cc:142] Your CPU supports instructions that this TensorFlow binary was not compiled to use: AVX2 FMA\n",
      "2019-12-07 09:31:27.662830: I tensorflow/compiler/xla/service/service.cc:168] XLA service 0x7fa1e3190c20 executing computations on platform Host. Devices:\n",
      "2019-12-07 09:31:27.662858: I tensorflow/compiler/xla/service/service.cc:175]   StreamExecutor device (0): Host, Default Version\n",
      "['ks-cooks-1y/models/rnn_cce_ml60_bs32_ne5802.175_gc100_e100_h250_Ug_lr0.1_nt1.hdf5']\n",
      "Opening file (1)\n",
      "Timer:  17.548585000000003\n",
      "-------------------\n",
      "( 1 / 1 ) results on ks-cooks-1y/models/rnn_cce_ml60_bs32_ne5802.175_gc100_e100_h250_Ug_lr0.1_nt1.hdf5\n",
      "sps@10:  0.06677265500794913\n",
      "recall@10:  0.052604322096420644\n",
      "precision@10:  0.08950715421303694\n",
      "item_coverage@10:  163\n",
      "user_coverage@10:  0.5580286168521462\n",
      "ndcg@10:  0.0941944929603718\n",
      "blockbuster_share@10:  0.4280639431616341\n"
     ]
    }
   ],
   "source": [
    "!python test.py -d ks-cooks-1y -b 32 --max_length 60 --r_emb 100 --r_l 250 -i 5802.175"
   ]
  },
  {
   "cell_type": "code",
   "execution_count": 3,
   "metadata": {},
   "outputs": [
    {
     "name": "stdout",
     "output_type": "stream",
     "text": [
      "Using TensorFlow backend.\n",
      "2019-12-07 09:32:30.068684: I tensorflow/core/platform/cpu_feature_guard.cc:142] Your CPU supports instructions that this TensorFlow binary was not compiled to use: AVX2 FMA\n",
      "2019-12-07 09:32:30.087328: I tensorflow/compiler/xla/service/service.cc:168] XLA service 0x7fd8d5bbc4b0 executing computations on platform Host. Devices:\n",
      "2019-12-07 09:32:30.087350: I tensorflow/compiler/xla/service/service.cc:175]   StreamExecutor device (0): Host, Default Version\n",
      "['ks-cooks-1y/models/rnn_cce_ml60_bs32_ne8801.998_gc100_e100_h300_Ug_lr0.1_nt1.hdf5']\n",
      "Opening file (1)\n",
      "Timer:  18.655271\n",
      "-------------------\n",
      "( 1 / 1 ) results on ks-cooks-1y/models/rnn_cce_ml60_bs32_ne8801.998_gc100_e100_h300_Ug_lr0.1_nt1.hdf5\n",
      "sps@10:  0.06041335453100159\n",
      "recall@10:  0.04900447391498874\n",
      "precision@10:  0.08600953895071572\n",
      "item_coverage@10:  164\n",
      "user_coverage@10:  0.5103338632750397\n",
      "ndcg@10:  0.08864690585230402\n",
      "blockbuster_share@10:  0.4399260628465804\n"
     ]
    }
   ],
   "source": [
    "!python test.py -d ks-cooks-1y -b 32 --max_length 60 --r_emb 100 --r_l 300 -i 8801.998"
   ]
  },
  {
   "cell_type": "code",
   "execution_count": 6,
   "metadata": {},
   "outputs": [
    {
     "data": {
      "text/plain": [
       "'2.0.0'"
      ]
     },
     "execution_count": 6,
     "metadata": {},
     "output_type": "execute_result"
    }
   ],
   "source": [
    "import tensorflow as tf\n",
    "tf.__version__"
   ]
  },
  {
   "cell_type": "code",
   "execution_count": null,
   "metadata": {},
   "outputs": [],
   "source": []
  }
 ],
 "metadata": {
  "kernelspec": {
   "display_name": "my-python3-virlenv",
   "language": "python",
   "name": "my-python3-virlenv"
  },
  "language_info": {
   "codemirror_mode": {
    "name": "ipython",
    "version": 3
   },
   "file_extension": ".py",
   "mimetype": "text/x-python",
   "name": "python",
   "nbconvert_exporter": "python",
   "pygments_lexer": "ipython3",
   "version": "3.7.2"
  }
 },
 "nbformat": 4,
 "nbformat_minor": 2
}
