{
 "cells": [
  {
   "cell_type": "markdown",
   "metadata": {},
   "source": [
    "### model.fit() fine tune the embedding_size(r_emb) parameter, r_l = 100\n",
    "#### r_emb= [10, 20, 50 , 100]"
   ]
  },
  {
   "cell_type": "code",
   "execution_count": null,
   "metadata": {},
   "outputs": [],
   "source": [
    "import tensorflow\n",
    "!python -V\n",
    "!python3 -c 'import tensorflow as tf; print(tf.__version__)'\n",
    "!python -c 'import keras; print(keras.__version__)'"
   ]
  },
  {
   "cell_type": "code",
   "execution_count": null,
   "metadata": {},
   "outputs": [],
   "source": [
    "!python train.py -d ks-cooks-1y -b 32 --max_length 60 --min_iter 10 --r_l 100 --r_emb 10"
   ]
  },
  {
   "cell_type": "code",
   "execution_count": null,
   "metadata": {},
   "outputs": [],
   "source": [
    "!python train.py -d ks-cooks-1y -b 32 --max_length 60 --min_iter 10 --r_l 100 --r_emb 20"
   ]
  },
  {
   "cell_type": "code",
   "execution_count": null,
   "metadata": {},
   "outputs": [],
   "source": [
    "!python train.py -d ks-cooks-1y -b 32 --max_length 60 --min_iter 10 --r_l 100 --r_emb 50"
   ]
  },
  {
   "cell_type": "code",
   "execution_count": 1,
   "metadata": {},
   "outputs": [
    {
     "name": "stdout",
     "output_type": "stream",
     "text": [
      "2019-12-12 12:32:58.148459: I tensorflow/core/platform/cpu_feature_guard.cc:142] Your CPU supports instructions that this TensorFlow binary was not compiled to use: AVX2 FMA\n",
      "2019-12-12 12:32:58.173859: I tensorflow/compiler/xla/service/service.cc:168] XLA service 0x7fb1b16573d0 executing computations on platform Host. Devices:\n",
      "2019-12-12 12:32:58.173884: I tensorflow/compiler/xla/service/service.cc:175]   StreamExecutor device (0): Host, Default Version\n",
      "Train on 177316 samples, validate on 629 samples\n",
      "Epoch 1/10\n",
      "2019-12-12 12:33:04.539411: W tensorflow/core/grappler/optimizers/implementation_selector.cc:310] Skipping optimization due to error while loading function libraries: Invalid argument: Functions '__inference___backward_cudnn_lstm_with_fallback_5815_7274' and '__inference___backward_standard_lstm_7392_7991_specialized_for_StatefulPartitionedCall_at___inference_distributed_function_8128' both implement 'lstm_bbc49145-d7cb-4632-b08e-56bac437e10a' but their signatures do not match.\n",
      "^C\n",
      "WARNING:tensorflow:Can save best model only with val_loss available, skipping.\n",
      "Training interrupted\n",
      "Traceback (most recent call last):\n",
      "  File \"train.py\", line 66, in <module>\n",
      "    main()\n",
      "  File \"train.py\", line 62, in main\n",
      "    validation_metrics = args.metrics.split(','))\n",
      "  File \"/Users/xun/Documents/Thesis/remote/RNN-model/neural_networks/rnn_base.py\", line 252, in train\n",
      "    np.array(metrics[validation_metrics[0]]) * self.metrics[validation_metrics[0]]['direction'])\n",
      "  File \"<__array_function__ internals>\", line 6, in argmax\n",
      "  File \"/Users/xun/Documents/Thesis/remote/remote_env/lib/python3.7/site-packages/numpy/core/fromnumeric.py\", line 1153, in argmax\n",
      "    return _wrapfunc(a, 'argmax', axis=axis, out=out)\n",
      "  File \"/Users/xun/Documents/Thesis/remote/remote_env/lib/python3.7/site-packages/numpy/core/fromnumeric.py\", line 61, in _wrapfunc\n",
      "    return bound(*args, **kwds)\n",
      "ValueError: attempt to get argmax of an empty sequence\n"
     ]
    }
   ],
   "source": [
    "!python train.py -d ks-cooks-1y -b 32 --max_length 60 --min_iter 10 --r_l 100 --r_emb 100"
   ]
  },
  {
   "cell_type": "code",
   "execution_count": null,
   "metadata": {},
   "outputs": [],
   "source": [
    "!python test.py -d ks-cooks-1y -b 32 --max_length 60 --r_l 100 --r_emb 100 -i 2.742"
   ]
  },
  {
   "cell_type": "code",
   "execution_count": null,
   "metadata": {},
   "outputs": [],
   "source": [
    "!python train.py -d ks-cooks-1y -b 32 --max_length 60 --min_iter 10 --r_l 100 --r_emb 100"
   ]
  },
  {
   "cell_type": "code",
   "execution_count": null,
   "metadata": {},
   "outputs": [],
   "source": [
    "!python test.py -d ks-cooks-1y -b 32 --max_length 60 --r_l 100 --r_emb 100 -i 2487.171"
   ]
  },
  {
   "cell_type": "code",
   "execution_count": null,
   "metadata": {},
   "outputs": [],
   "source": [
    "!python train.py -d ks-cooks-1y -b 32 --max_length 60 --min_iter 1 --r_l 100 --r_emb 100"
   ]
  },
  {
   "cell_type": "code",
   "execution_count": null,
   "metadata": {},
   "outputs": [],
   "source": [
    "!python train.py -d ks-cooks-1y -b 32 --max_length 60 --min_iter 10 --r_l 100 --r_emb 150"
   ]
  },
  {
   "cell_type": "code",
   "execution_count": null,
   "metadata": {},
   "outputs": [],
   "source": [
    "# !python test.py -d ks-cooks-1y -b 32 --max_length 60 --r_emb 100 --r_l 150 -i 3781.422"
   ]
  }
 ],
 "metadata": {
  "kernelspec": {
   "display_name": "my-python3-virlenv",
   "language": "python",
   "name": "my-python3-virlenv"
  },
  "language_info": {
   "codemirror_mode": {
    "name": "ipython",
    "version": 3
   },
   "file_extension": ".py",
   "mimetype": "text/x-python",
   "name": "python",
   "nbconvert_exporter": "python",
   "pygments_lexer": "ipython3",
   "version": "3.7.2"
  }
 },
 "nbformat": 4,
 "nbformat_minor": 2
}
