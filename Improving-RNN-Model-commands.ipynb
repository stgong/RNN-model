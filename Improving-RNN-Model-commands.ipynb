{
 "cells": [
  {
   "cell_type": "code",
   "execution_count": 1,
   "metadata": {},
   "outputs": [
    {
     "name": "stderr",
     "output_type": "stream",
     "text": [
      "Using TensorFlow backend.\n"
     ]
    },
    {
     "name": "stdout",
     "output_type": "stream",
     "text": [
      "WARNING:tensorflow:From /Users/xun/Library/Python/3.7/lib/python/site-packages/tensorflow/python/framework/op_def_library.py:263: colocate_with (from tensorflow.python.framework.ops) is deprecated and will be removed in a future version.\n",
      "Instructions for updating:\n",
      "Colocations handled automatically by placer.\n",
      "['/Users/xun/Documents/Thesis/Improving-RNN-recommendation-model/Dataset/ks-cooks-1y/models/ktf/rnn_cce_ml30_bs32_ne10.0_gc100_e8_h50_Ug_lr0.1_nt1.ktf']\n",
      "WARNING:tensorflow:From /Users/xun/Library/Python/3.7/lib/python/site-packages/tensorflow/python/ops/math_ops.py:3066: to_int32 (from tensorflow.python.ops.math_ops) is deprecated and will be removed in a future version.\n",
      "Instructions for updating:\n",
      "Use tf.cast instead.\n",
      "Opening file (1)\n",
      "Timer:  8.520657\n",
      "-------------------\n",
      "( 1 / 1 ) results on /Users/xun/Documents/Thesis/Improving-RNN-recommendation-model/Dataset/ks-cooks-1y/models/ktf/rnn_cce_ml30_bs32_ne10.0_gc100_e8_h50_Ug_lr0.1_nt1.ktf\n",
      "sps@10:  0.06359300476947535\n",
      "recall@10:  0.052172491229024884\n",
      "precision@10:  0.0872813990461053\n",
      "item_coverage@10:  184\n",
      "user_coverage@10:  0.5421303656597775\n",
      "ndcg@10:  0.09215538207998435\n",
      "blockbuster_share@10:  0.3570127504553734\n"
     ]
    }
   ],
   "source": [
    "%run -i test.py -d ks-cooks-1y -b 32 --max_length 30 -i 10.0"
   ]
  },
  {
   "cell_type": "code",
   "execution_count": 2,
   "metadata": {},
   "outputs": [
    {
     "name": "stdout",
     "output_type": "stream",
     "text": [
      "['/Users/xun/Documents/Thesis/Improving-RNN-recommendation-model/Dataset/ks-cooks-1y/models/ktf/rnn_cce_ml60_bs64_ne1547.55_gc100_e8_h50_Ug_lr0.1_nt1.ktf']\n",
      "Opening file (1)\n",
      "Timer:  15.482088000000001\n",
      "-------------------\n",
      "( 1 / 1 ) results on /Users/xun/Documents/Thesis/Improving-RNN-recommendation-model/Dataset/ks-cooks-1y/models/ktf/rnn_cce_ml60_bs64_ne1547.55_gc100_e8_h50_Ug_lr0.1_nt1.ktf\n",
      "sps@10:  0.06677265500794913\n",
      "recall@10:  0.04846479550385751\n",
      "precision@10:  0.08648648648648685\n",
      "item_coverage@10:  164\n",
      "user_coverage@10:  0.5357710651828299\n",
      "ndcg@10:  0.09286435007582435\n",
      "blockbuster_share@10:  0.3952205882352941\n"
     ]
    }
   ],
   "source": [
    "%run -i test.py -d ks-cooks-1y -b 64 --max_length 60 -i 1547.55"
   ]
  },
  {
   "cell_type": "code",
   "execution_count": null,
   "metadata": {},
   "outputs": [],
   "source": []
  }
 ],
 "metadata": {
  "kernelspec": {
   "display_name": "Python 3",
   "language": "python",
   "name": "python3"
  },
  "language_info": {
   "codemirror_mode": {
    "name": "ipython",
    "version": 3
   },
   "file_extension": ".py",
   "mimetype": "text/x-python",
   "name": "python",
   "nbconvert_exporter": "python",
   "pygments_lexer": "ipython3",
   "version": "3.7.2"
  }
 },
 "nbformat": 4,
 "nbformat_minor": 2
}
