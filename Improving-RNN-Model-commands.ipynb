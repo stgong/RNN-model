{
 "cells": [
  {
   "cell_type": "code",
   "execution_count": 4,
   "metadata": {},
   "outputs": [
    {
     "name": "stdout",
     "output_type": "stream",
     "text": [
      "Python 3.7.2\r\n"
     ]
    }
   ],
   "source": [
    "!python3 -V"
   ]
  },
  {
   "cell_type": "code",
   "execution_count": 6,
   "metadata": {},
   "outputs": [
    {
     "name": "stdout",
     "output_type": "stream",
     "text": [
      "Using TensorFlow backend.\n",
      "2019-12-02 18:11:26.232175: I tensorflow/core/platform/cpu_feature_guard.cc:141] Your CPU supports instructions that this TensorFlow binary was not compiled to use: AVX2 FMA\n",
      "WARNING:tensorflow:From /Users/xun/Library/Python/3.7/lib/python/site-packages/tensorflow/python/framework/op_def_library.py:263: colocate_with (from tensorflow.python.framework.ops) is deprecated and will be removed in a future version.\n",
      "Instructions for updating:\n",
      "Colocations handled automatically by placer.\n",
      "WARNING:tensorflow:From /Users/xun/Library/Python/3.7/lib/python/site-packages/tensorflow/python/ops/math_ops.py:3066: to_int32 (from tensorflow.python.ops.math_ops) is deprecated and will be removed in a future version.\n",
      "Instructions for updating:\n",
      "Use tf.cast instead.\n",
      "Epoch 1/10\n",
      "Opening file (1)\n",
      "Opening file (1)\n",
      "Opening file (2)\n",
      "Opening file (3)\n",
      "Opening file (4)\n",
      "Opening file (5)\n",
      "Opening file (2)\n",
      " - 52s - loss: 7.0305 - val_loss: 6.9686\n",
      "\n",
      "Epoch 00001: val_loss improved from inf to 6.96864, saving model to ks-cooks-1y/models/rnn_cce_ml60_bs32_ne0.0_gc100_e100_h50_Ug_lr0.1_nt1.hdf5\n",
      "Epoch 2/10\n",
      "Opening file (6)\n",
      "Opening file (7)\n",
      "Opening file (8)\n",
      "Opening file (9)\n",
      "^C\n",
      "Training interrupted\n",
      "Traceback (most recent call last):\n",
      "  File \"train.py\", line 61, in <module>\n",
      "    main()\n",
      "  File \"train.py\", line 57, in main\n",
      "    validation_metrics = args.metrics.split(','))\n",
      "  File \"/Users/xun/Documents/Thesis/RNN-model/neural_networks/rnn_base.py\", line 227, in train\n",
      "    np.array(metrics[validation_metrics[0]]) * self.metrics[validation_metrics[0]]['direction'])\n",
      "  File \"/Users/xun/Library/Python/3.7/lib/python/site-packages/numpy/core/fromnumeric.py\", line 1103, in argmax\n",
      "    return _wrapfunc(a, 'argmax', axis=axis, out=out)\n",
      "  File \"/Users/xun/Library/Python/3.7/lib/python/site-packages/numpy/core/fromnumeric.py\", line 56, in _wrapfunc\n",
      "    return getattr(obj, method)(*args, **kwds)\n",
      "ValueError: attempt to get argmax of an empty sequence\n"
     ]
    }
   ],
   "source": [
    "!python3 train.py -d ks-cooks-1y -b 32 --max_length 60 --r_emb 100 --progress 1000 --min_iter 10"
   ]
  },
  {
   "cell_type": "code",
   "execution_count": 1,
   "metadata": {},
   "outputs": [
    {
     "name": "stdout",
     "output_type": "stream",
     "text": [
      "Cloning into 'RRS'...\n",
      "remote: Enumerating objects: 26, done.\u001b[K\n",
      "remote: Counting objects: 100% (26/26), done.\u001b[K\n",
      "remote: Compressing objects: 100% (22/22), done.\u001b[K\n",
      "^Cceiving objects:  98% (334/339), 61.68 MiB | 13.22 MiB/s   \n",
      "/bin/sh: line 0: cd: RRS/Model/RNN: No such file or directory\n",
      "Traceback (most recent call last):\n",
      "  File \"train.py\", line 3, in <module>\n",
      "    import numpy as np\n",
      "ImportError: No module named numpy\n"
     ]
    }
   ],
   "source": [
    "!git clone https://github.com/stgong/RRS.git\n",
    "\n",
    "!cd RRS/Model/RNN\n",
    "!python train.py -d ks-cooks-1y -b 32 --max_length 30 --r_emb 100 --progress 5000 --min_iter 10 --max_iter 20"
   ]
  },
  {
   "cell_type": "code",
   "execution_count": 1,
   "metadata": {},
   "outputs": [
    {
     "name": "stderr",
     "output_type": "stream",
     "text": [
      "Using TensorFlow backend.\n"
     ]
    },
    {
     "name": "stdout",
     "output_type": "stream",
     "text": [
      "WARNING:tensorflow:From /Users/xun/Library/Python/3.7/lib/python/site-packages/tensorflow/python/framework/op_def_library.py:263: colocate_with (from tensorflow.python.framework.ops) is deprecated and will be removed in a future version.\n",
      "Instructions for updating:\n",
      "Colocations handled automatically by placer.\n",
      "['/Users/xun/Documents/Thesis/Improving-RNN-recommendation-model/Dataset/ks-cooks-1y/models/ktf/rnn_cce_ml30_bs32_ne10.0_gc100_e8_h50_Ug_lr0.1_nt1.ktf']\n",
      "WARNING:tensorflow:From /Users/xun/Library/Python/3.7/lib/python/site-packages/tensorflow/python/ops/math_ops.py:3066: to_int32 (from tensorflow.python.ops.math_ops) is deprecated and will be removed in a future version.\n",
      "Instructions for updating:\n",
      "Use tf.cast instead.\n",
      "Opening file (1)\n",
      "Timer:  8.520657\n",
      "-------------------\n",
      "( 1 / 1 ) results on /Users/xun/Documents/Thesis/Improving-RNN-recommendation-model/Dataset/ks-cooks-1y/models/ktf/rnn_cce_ml30_bs32_ne10.0_gc100_e8_h50_Ug_lr0.1_nt1.ktf\n",
      "sps@10:  0.06359300476947535\n",
      "recall@10:  0.052172491229024884\n",
      "precision@10:  0.0872813990461053\n",
      "item_coverage@10:  184\n",
      "user_coverage@10:  0.5421303656597775\n",
      "ndcg@10:  0.09215538207998435\n",
      "blockbuster_share@10:  0.3570127504553734\n"
     ]
    }
   ],
   "source": [
    "%run -i test.py -d ks-cooks-1y -b 32 --max_length 30 -i 10.0"
   ]
  },
  {
   "cell_type": "code",
   "execution_count": 2,
   "metadata": {},
   "outputs": [
    {
     "name": "stdout",
     "output_type": "stream",
     "text": [
      "['/Users/xun/Documents/Thesis/Improving-RNN-recommendation-model/Dataset/ks-cooks-1y/models/ktf/rnn_cce_ml60_bs64_ne1547.55_gc100_e8_h50_Ug_lr0.1_nt1.ktf']\n",
      "Opening file (1)\n",
      "Timer:  15.482088000000001\n",
      "-------------------\n",
      "( 1 / 1 ) results on /Users/xun/Documents/Thesis/Improving-RNN-recommendation-model/Dataset/ks-cooks-1y/models/ktf/rnn_cce_ml60_bs64_ne1547.55_gc100_e8_h50_Ug_lr0.1_nt1.ktf\n",
      "sps@10:  0.06677265500794913\n",
      "recall@10:  0.04846479550385751\n",
      "precision@10:  0.08648648648648685\n",
      "item_coverage@10:  164\n",
      "user_coverage@10:  0.5357710651828299\n",
      "ndcg@10:  0.09286435007582435\n",
      "blockbuster_share@10:  0.3952205882352941\n"
     ]
    }
   ],
   "source": [
    "%run -i test.py -d ks-cooks-1y -b 64 --max_length 60 -i 1547.55"
   ]
  },
  {
   "cell_type": "code",
   "execution_count": null,
   "metadata": {},
   "outputs": [],
   "source": []
  }
 ],
 "metadata": {
  "kernelspec": {
   "display_name": "Python 3",
   "language": "python",
   "name": "python3"
  },
  "language_info": {
   "codemirror_mode": {
    "name": "ipython",
    "version": 3
   },
   "file_extension": ".py",
   "mimetype": "text/x-python",
   "name": "python",
   "nbconvert_exporter": "python",
   "pygments_lexer": "ipython3",
   "version": "3.7.2"
  }
 },
 "nbformat": 4,
 "nbformat_minor": 2
}
