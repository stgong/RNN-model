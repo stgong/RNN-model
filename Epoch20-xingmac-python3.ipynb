{
 "cells": [
  {
   "cell_type": "markdown",
   "metadata": {},
   "source": [
    "### model.fit() fine tune the RNN hidden layer parameter\n",
    "#### layers = [200, 250, 300,'200-100','300-200','200-100-50', '300-200-100']"
   ]
  },
  {
   "cell_type": "code",
   "execution_count": null,
   "metadata": {},
   "outputs": [],
   "source": [
    "%autosave 1"
   ]
  },
  {
   "cell_type": "code",
   "execution_count": 5,
   "metadata": {},
   "outputs": [
    {
     "name": "stdout",
     "output_type": "stream",
     "text": [
      "Python 3.7.5\n",
      "2.0.0\n"
     ]
    }
   ],
   "source": [
    "import tensorflow\n",
    "!python3 -V\n",
    "!python3 -c 'import tensorflow as tf; print(tf.__version__)'"
   ]
  },
  {
   "cell_type": "code",
   "execution_count": 6,
   "metadata": {
    "scrolled": false
   },
   "outputs": [
    {
     "name": "stdout",
     "output_type": "stream",
     "text": [
      "2019-12-14 01:25:13.540017: I tensorflow/core/platform/cpu_feature_guard.cc:142] Your CPU supports instructions that this TensorFlow binary was not compiled to use: AVX2 FMA\n",
      "2019-12-14 01:25:13.552693: I tensorflow/compiler/xla/service/service.cc:168] XLA service 0x7f8519562600 executing computations on platform Host. Devices:\n",
      "2019-12-14 01:25:13.552710: I tensorflow/compiler/xla/service/service.cc:175]   StreamExecutor device (0): Host, Default Version\n",
      "Train on 177316 samples, validate on 629 samples\n",
      "Epoch 1/20\n",
      "2019-12-14 01:25:22.280138: W tensorflow/core/grappler/optimizers/implementation_selector.cc:310] Skipping optimization due to error while loading function libraries: Invalid argument: Functions '__inference___backward_standard_lstm_14848_15447' and '__inference___backward_standard_lstm_14848_15447_specialized_for_StatefulPartitionedCall_1_at___inference_distributed_function_15611' both implement 'lstm_e84ad5a1-853a-4144-90c2-564134aef988' but their signatures do not match.\n",
      "2019-12-14 01:25:23.091632: I tensorflow/core/profiler/lib/profiler_session.cc:184] Profiler session started.\n",
      "WARNING:tensorflow:Method (on_train_batch_end) is slow compared to the batch update (0.386997). Check your callbacks.\n",
      "2019-12-14 01:30:37.837804: W tensorflow/core/grappler/optimizers/implementation_selector.cc:310] Skipping optimization due to error while loading function libraries: Invalid argument: Functions '__inference_cudnn_lstm_with_fallback_27280' and '__inference_standard_lstm_26937_specialized_for_sequential_lstm_StatefulPartitionedCall_at___inference_distributed_function_30813' both implement 'lstm_c31fae2e-73c3-4e33-b6fd-30ee2aae313b' but their signatures do not match.\n",
      "\n",
      "Epoch 00001: saving model to ks-cooks-1y/models/rnn_cce_ml60_bs32_ne2.453_gc100_e100_h100-50_Ug_lr0.1_nt1001.hdf5\n",
      "177316/177316 - 321s - loss: 6.9428 - val_loss: 6.8926\n",
      "Epoch 2/20\n",
      "\n",
      "Epoch 00002: saving model to ks-cooks-1y/models/rnn_cce_ml60_bs32_ne2.453_gc100_e100_h100-50_Ug_lr0.1_nt1002.hdf5\n",
      "177316/177316 - 295s - loss: 6.9024 - val_loss: 6.8612\n",
      "Epoch 3/20\n",
      "\n",
      "Epoch 00003: saving model to ks-cooks-1y/models/rnn_cce_ml60_bs32_ne2.453_gc100_e100_h100-50_Ug_lr0.1_nt1003.hdf5\n",
      "177316/177316 - 285s - loss: 6.8648 - val_loss: 6.8372\n",
      "Epoch 4/20\n",
      "\n",
      "Epoch 00004: saving model to ks-cooks-1y/models/rnn_cce_ml60_bs32_ne2.453_gc100_e100_h100-50_Ug_lr0.1_nt1004.hdf5\n",
      "177316/177316 - 425s - loss: 6.8079 - val_loss: 6.8255\n",
      "Epoch 5/20\n",
      "\n",
      "Epoch 00005: saving model to ks-cooks-1y/models/rnn_cce_ml60_bs32_ne2.453_gc100_e100_h100-50_Ug_lr0.1_nt1005.hdf5\n",
      "177316/177316 - 288s - loss: 6.7532 - val_loss: 6.7394\n",
      "Epoch 6/20\n",
      "\n",
      "Epoch 00006: saving model to ks-cooks-1y/models/rnn_cce_ml60_bs32_ne2.453_gc100_e100_h100-50_Ug_lr0.1_nt1006.hdf5\n",
      "177316/177316 - 289s - loss: 6.6900 - val_loss: 6.8317\n",
      "Epoch 7/20\n",
      "\n",
      "Epoch 00007: saving model to ks-cooks-1y/models/rnn_cce_ml60_bs32_ne2.453_gc100_e100_h100-50_Ug_lr0.1_nt1007.hdf5\n",
      "177316/177316 - 288s - loss: 6.6471 - val_loss: 6.6578\n",
      "Epoch 8/20\n",
      "\n",
      "Epoch 00008: saving model to ks-cooks-1y/models/rnn_cce_ml60_bs32_ne2.453_gc100_e100_h100-50_Ug_lr0.1_nt1008.hdf5\n",
      "177316/177316 - 287s - loss: 6.6095 - val_loss: 6.6182\n",
      "Epoch 9/20\n",
      "\n",
      "Epoch 00009: saving model to ks-cooks-1y/models/rnn_cce_ml60_bs32_ne2.453_gc100_e100_h100-50_Ug_lr0.1_nt1009.hdf5\n",
      "177316/177316 - 286s - loss: 6.5738 - val_loss: 6.6520\n",
      "Epoch 10/20\n",
      "\n",
      "Epoch 00010: saving model to ks-cooks-1y/models/rnn_cce_ml60_bs32_ne2.453_gc100_e100_h100-50_Ug_lr0.1_nt1010.hdf5\n",
      "177316/177316 - 288s - loss: 6.5386 - val_loss: 6.6222\n",
      "Epoch 11/20\n",
      "\n",
      "Epoch 00011: saving model to ks-cooks-1y/models/rnn_cce_ml60_bs32_ne2.453_gc100_e100_h100-50_Ug_lr0.1_nt1011.hdf5\n",
      "177316/177316 - 288s - loss: 6.5059 - val_loss: 6.6292\n",
      "Epoch 12/20\n",
      "\n",
      "Epoch 00012: saving model to ks-cooks-1y/models/rnn_cce_ml60_bs32_ne2.453_gc100_e100_h100-50_Ug_lr0.1_nt1012.hdf5\n",
      "177316/177316 - 285s - loss: 6.4713 - val_loss: 6.5541\n",
      "Epoch 13/20\n",
      "\n",
      "Epoch 00013: saving model to ks-cooks-1y/models/rnn_cce_ml60_bs32_ne2.453_gc100_e100_h100-50_Ug_lr0.1_nt1013.hdf5\n",
      "177316/177316 - 286s - loss: 6.4387 - val_loss: 6.5322\n",
      "Epoch 14/20\n",
      "\n",
      "Epoch 00014: saving model to ks-cooks-1y/models/rnn_cce_ml60_bs32_ne2.453_gc100_e100_h100-50_Ug_lr0.1_nt1014.hdf5\n",
      "177316/177316 - 285s - loss: 6.4095 - val_loss: 6.5290\n",
      "Epoch 15/20\n",
      "\n",
      "Epoch 00015: saving model to ks-cooks-1y/models/rnn_cce_ml60_bs32_ne2.453_gc100_e100_h100-50_Ug_lr0.1_nt1015.hdf5\n",
      "177316/177316 - 284s - loss: 6.3833 - val_loss: 6.5335\n",
      "Epoch 16/20\n",
      "\n",
      "Epoch 00016: saving model to ks-cooks-1y/models/rnn_cce_ml60_bs32_ne2.453_gc100_e100_h100-50_Ug_lr0.1_nt1016.hdf5\n",
      "177316/177316 - 286s - loss: 6.3585 - val_loss: 6.5110\n",
      "Epoch 17/20\n",
      "\n",
      "Epoch 00017: saving model to ks-cooks-1y/models/rnn_cce_ml60_bs32_ne2.453_gc100_e100_h100-50_Ug_lr0.1_nt1017.hdf5\n",
      "177316/177316 - 287s - loss: 6.3352 - val_loss: 6.4810\n",
      "Epoch 18/20\n",
      "\n",
      "Epoch 00018: saving model to ks-cooks-1y/models/rnn_cce_ml60_bs32_ne2.453_gc100_e100_h100-50_Ug_lr0.1_nt1018.hdf5\n",
      "177316/177316 - 285s - loss: 6.3137 - val_loss: 6.4888\n",
      "Epoch 19/20\n",
      "\n",
      "Epoch 00019: saving model to ks-cooks-1y/models/rnn_cce_ml60_bs32_ne2.453_gc100_e100_h100-50_Ug_lr0.1_nt1019.hdf5\n",
      "177316/177316 - 286s - loss: 6.2949 - val_loss: 6.5348\n",
      "Epoch 20/20\n",
      "\n",
      "Epoch 00020: saving model to ks-cooks-1y/models/rnn_cce_ml60_bs32_ne2.453_gc100_e100_h100-50_Ug_lr0.1_nt1020.hdf5\n",
      "177316/177316 - 287s - loss: 6.2758 - val_loss: 6.4969\n",
      "[6.942753381201398, 6.902410490539901, 6.864822546056581, 6.807892587006397, 6.753223830302705, 6.690047276598496, 6.64705806078725, 6.6094688892461315, 6.5737951302846245, 6.53860680082251, 6.505948855807057, 6.471302780658313, 6.4387337158775555, 6.409530537114841, 6.3832802551255075, 6.358493019536341, 6.335211038584099, 6.3137152437595905, 6.294866403227191, 6.275820802003478]\n",
      "Opening file (1)\n",
      "RNN with categorical cross entropy 0 batchs,  5909.683522939682  epochs in 5977.176996946335 s\n",
      "Last train cost :  6.555849082226997\n",
      "recall :  0.050130929173992575\n",
      "precision :  0.08203497615262355\n",
      "sps :  0.06518282988871224\n",
      "Best  sps :  0.06518282988871224\n",
      "sps_short :  0.05921052631578947\n",
      "sps_long :  0.07076923076923076\n",
      "user_coverage :  0.5230524642289348\n",
      "item_coverage :  176\n",
      "total_item_coverage :  516\n",
      "uniq_rec :  532\n",
      "ndcg :  0.08566363344295479\n",
      "blockbuster_share :  0.3817829457364341\n",
      "intra_list_similarity :  6.914008378900365\n",
      "-----------------\n",
      "Save model in ks-cooks-1y/models/rnn_cce_ml60_bs32_ne5909.684_gc100_e100_h100-50_Ug_lr0.1_nt1.hdf5\n"
     ]
    }
   ],
   "source": [
    "!python3 train.py -d ks-cooks-1y -b 32 --max_length 60 --r_emb 100 --min_iter 20 --r_l 100-50"
   ]
  },
  {
   "cell_type": "code",
   "execution_count": 15,
   "metadata": {},
   "outputs": [
    {
     "name": "stdout",
     "output_type": "stream",
     "text": [
      "2019-12-14 12:40:25.438508: I tensorflow/core/platform/cpu_feature_guard.cc:142] Your CPU supports instructions that this TensorFlow binary was not compiled to use: AVX2 FMA\n",
      "2019-12-14 12:40:25.463856: I tensorflow/compiler/xla/service/service.cc:168] XLA service 0x7fdac6253be0 executing computations on platform Host. Devices:\n",
      "2019-12-14 12:40:25.463884: I tensorflow/compiler/xla/service/service.cc:175]   StreamExecutor device (0): Host, Default Version\n",
      "['ks-cooks-1y/models/rnn_cce_ml60_bs32_ne5909.684_gc100_e100_h100-50_Ug_lr0.1_nt1.hdf5']\n",
      "Opening file (1)\n",
      "Timer:  66.534666\n",
      "-------------------\n",
      "( 1 / 1 ) results on ks-cooks-1y/models/rnn_cce_ml60_bs32_ne5909.684_gc100_e100_h100-50_Ug_lr0.1_nt1.hdf5\n",
      "sps@10:  0.08426073131955485\n",
      "sps_short@10:  0.07741935483870968\n",
      "sps_long@10:  0.09090909090909091\n",
      "recall@10:  0.05098439767191381\n",
      "precision@10:  0.09109697933227384\n",
      "uniq_rec@10:  590\n",
      "total_item_coverage@10:  573\n",
      "item_coverage@10:  202\n",
      "user_coverage@10:  0.5437201907790143\n",
      "ndcg@10:  0.09257934657171997\n",
      "blockbuster_share@10:  0.34904013961605584\n",
      "intra_list_similarity@10:  6.667806474811178\n"
     ]
    }
   ],
   "source": [
    "!python3 test.py -d ks-cooks-1y -b 32 --max_length 60 --r_emb 100 --r_l 100-50 -i 5909.684"
   ]
  },
  {
   "cell_type": "code",
   "execution_count": 25,
   "metadata": {},
   "outputs": [
    {
     "name": "stdout",
     "output_type": "stream",
     "text": [
      "2019-12-14 13:42:15.984760: I tensorflow/core/platform/cpu_feature_guard.cc:142] Your CPU supports instructions that this TensorFlow binary was not compiled to use: AVX2 FMA\n",
      "2019-12-14 13:42:16.000249: I tensorflow/compiler/xla/service/service.cc:168] XLA service 0x7ff793c2d650 executing computations on platform Host. Devices:\n",
      "2019-12-14 13:42:16.000278: I tensorflow/compiler/xla/service/service.cc:175]   StreamExecutor device (0): Host, Default Version\n",
      "['ks-cooks-1y/models/rnn_cce_ml60_bs32_ne245.3_gc100_e100_h100-50_Ug_lr0.1_nt1.hdf5']\n",
      "Opening file (1)\n",
      "Timer:  67.15465599999999\n",
      "-------------------\n",
      "( 1 / 1 ) results on ks-cooks-1y/models/rnn_cce_ml60_bs32_ne245.3_gc100_e100_h100-50_Ug_lr0.1_nt1.hdf5\n",
      "sps@10:  0.07154213036565978\n",
      "sps_short@10:  0.06774193548387097\n",
      "sps_long@10:  0.07523510971786834\n",
      "recall@10:  0.05215669340184589\n",
      "precision@10:  0.09284578696343433\n",
      "uniq_rec@10:  277\n",
      "total_item_coverage@10:  584\n",
      "item_coverage@10:  135\n",
      "user_coverage@10:  0.5405405405405406\n",
      "ndcg@10:  0.09738505579560604\n",
      "blockbuster_share@10:  0.4589041095890411\n",
      "intra_list_similarity@10:  7.730221012459517\n"
     ]
    }
   ],
   "source": [
    "# 10th epoch \n",
    "!python3 test.py -d ks-cooks-1y -b 32 --max_length 60 --r_emb 100 --r_l 100-50 -i 245.3"
   ]
  },
  {
   "cell_type": "code",
   "execution_count": 8,
   "metadata": {
    "scrolled": false
   },
   "outputs": [
    {
     "name": "stdout",
     "output_type": "stream",
     "text": [
      "2019-12-14 03:04:57.820674: I tensorflow/core/platform/cpu_feature_guard.cc:142] Your CPU supports instructions that this TensorFlow binary was not compiled to use: AVX2 FMA\n",
      "2019-12-14 03:04:57.833520: I tensorflow/compiler/xla/service/service.cc:168] XLA service 0x7fab1cc88c40 executing computations on platform Host. Devices:\n",
      "2019-12-14 03:04:57.833540: I tensorflow/compiler/xla/service/service.cc:175]   StreamExecutor device (0): Host, Default Version\n",
      "Train on 177316 samples, validate on 629 samples\n",
      "Epoch 1/20\n",
      "2019-12-14 03:05:03.626461: W tensorflow/core/grappler/optimizers/implementation_selector.cc:310] Skipping optimization due to error while loading function libraries: Invalid argument: Functions '__inference___backward_standard_lstm_7410_8009' and '__inference___backward_standard_lstm_7410_8009_specialized_for_StatefulPartitionedCall_at___inference_distributed_function_8146' both implement 'lstm_eb9eacc7-4b7b-49bf-9cd0-04304021dc54' but their signatures do not match.\n",
      "2019-12-14 03:05:04.034836: I tensorflow/core/profiler/lib/profiler_session.cc:184] Profiler session started.\n",
      "WARNING:tensorflow:Method (on_train_batch_end) is slow compared to the batch update (0.193973). Check your callbacks.\n",
      "2019-12-14 03:07:50.381392: W tensorflow/core/grappler/optimizers/implementation_selector.cc:310] Skipping optimization due to error while loading function libraries: Invalid argument: Functions '__inference_cudnn_lstm_with_fallback_19815' and '__inference_standard_lstm_19472_specialized_for_sequential_lstm_StatefulPartitionedCall_at___inference_distributed_function_21340' both implement 'lstm_dc89ec9a-e808-4510-8283-c52a3cfbc955' but their signatures do not match.\n",
      "\n",
      "Epoch 00001: saving model to ks-cooks-1y/models/rnn_cce_ml60_bs32_ne2.502_gc100_e100_h100_Ug_lr0.1_nt1001.hdf5\n",
      "177316/177316 - 169s - loss: 6.9481 - val_loss: 6.8998\n",
      "Epoch 2/20\n",
      "\n",
      "Epoch 00002: saving model to ks-cooks-1y/models/rnn_cce_ml60_bs32_ne2.502_gc100_e100_h100_Ug_lr0.1_nt1002.hdf5\n",
      "177316/177316 - 172s - loss: 6.8798 - val_loss: 6.8456\n",
      "Epoch 3/20\n",
      "\n",
      "Epoch 00003: saving model to ks-cooks-1y/models/rnn_cce_ml60_bs32_ne2.502_gc100_e100_h100_Ug_lr0.1_nt1003.hdf5\n",
      "177316/177316 - 173s - loss: 6.8139 - val_loss: 6.8152\n",
      "Epoch 4/20\n",
      "\n",
      "Epoch 00004: saving model to ks-cooks-1y/models/rnn_cce_ml60_bs32_ne2.502_gc100_e100_h100_Ug_lr0.1_nt1004.hdf5\n",
      "177316/177316 - 175s - loss: 6.7790 - val_loss: 6.7710\n",
      "Epoch 5/20\n",
      "\n",
      "Epoch 00005: saving model to ks-cooks-1y/models/rnn_cce_ml60_bs32_ne2.502_gc100_e100_h100_Ug_lr0.1_nt1005.hdf5\n",
      "177316/177316 - 170s - loss: 6.7390 - val_loss: 6.7601\n",
      "Epoch 6/20\n",
      "\n",
      "Epoch 00006: saving model to ks-cooks-1y/models/rnn_cce_ml60_bs32_ne2.502_gc100_e100_h100_Ug_lr0.1_nt1006.hdf5\n",
      "177316/177316 - 167s - loss: 6.6815 - val_loss: 6.6783\n",
      "Epoch 7/20\n",
      "\n",
      "Epoch 00007: saving model to ks-cooks-1y/models/rnn_cce_ml60_bs32_ne2.502_gc100_e100_h100_Ug_lr0.1_nt1007.hdf5\n",
      "177316/177316 - 167s - loss: 6.6361 - val_loss: 6.6625\n",
      "Epoch 8/20\n",
      "\n",
      "Epoch 00008: saving model to ks-cooks-1y/models/rnn_cce_ml60_bs32_ne2.502_gc100_e100_h100_Ug_lr0.1_nt1008.hdf5\n",
      "177316/177316 - 169s - loss: 6.6008 - val_loss: 6.5996\n",
      "Epoch 9/20\n",
      "\n",
      "Epoch 00009: saving model to ks-cooks-1y/models/rnn_cce_ml60_bs32_ne2.502_gc100_e100_h100_Ug_lr0.1_nt1009.hdf5\n",
      "177316/177316 - 168s - loss: 6.5580 - val_loss: 6.6360\n",
      "Epoch 10/20\n",
      "\n",
      "Epoch 00010: saving model to ks-cooks-1y/models/rnn_cce_ml60_bs32_ne2.502_gc100_e100_h100_Ug_lr0.1_nt1010.hdf5\n",
      "177316/177316 - 167s - loss: 6.5192 - val_loss: 6.5893\n",
      "Epoch 11/20\n",
      "\n",
      "Epoch 00011: saving model to ks-cooks-1y/models/rnn_cce_ml60_bs32_ne2.502_gc100_e100_h100_Ug_lr0.1_nt1011.hdf5\n",
      "177316/177316 - 168s - loss: 6.4839 - val_loss: 6.5957\n",
      "Epoch 12/20\n",
      "\n",
      "Epoch 00012: saving model to ks-cooks-1y/models/rnn_cce_ml60_bs32_ne2.502_gc100_e100_h100_Ug_lr0.1_nt1012.hdf5\n",
      "177316/177316 - 167s - loss: 6.4467 - val_loss: 6.5720\n",
      "Epoch 13/20\n",
      "\n",
      "Epoch 00013: saving model to ks-cooks-1y/models/rnn_cce_ml60_bs32_ne2.502_gc100_e100_h100_Ug_lr0.1_nt1013.hdf5\n",
      "177316/177316 - 167s - loss: 6.4110 - val_loss: 6.5448\n",
      "Epoch 14/20\n",
      "\n",
      "Epoch 00014: saving model to ks-cooks-1y/models/rnn_cce_ml60_bs32_ne2.502_gc100_e100_h100_Ug_lr0.1_nt1014.hdf5\n",
      "177316/177316 - 167s - loss: 6.3780 - val_loss: 6.5435\n",
      "Epoch 15/20\n",
      "\n",
      "Epoch 00015: saving model to ks-cooks-1y/models/rnn_cce_ml60_bs32_ne2.502_gc100_e100_h100_Ug_lr0.1_nt1015.hdf5\n",
      "177316/177316 - 168s - loss: 6.3461 - val_loss: 6.5555\n",
      "Epoch 16/20\n",
      "\n",
      "Epoch 00016: saving model to ks-cooks-1y/models/rnn_cce_ml60_bs32_ne2.502_gc100_e100_h100_Ug_lr0.1_nt1016.hdf5\n",
      "177316/177316 - 167s - loss: 6.3153 - val_loss: 6.5096\n",
      "Epoch 17/20\n",
      "\n",
      "Epoch 00017: saving model to ks-cooks-1y/models/rnn_cce_ml60_bs32_ne2.502_gc100_e100_h100_Ug_lr0.1_nt1017.hdf5\n",
      "177316/177316 - 168s - loss: 6.2866 - val_loss: 6.5396\n",
      "Epoch 18/20\n",
      "\n",
      "Epoch 00018: saving model to ks-cooks-1y/models/rnn_cce_ml60_bs32_ne2.502_gc100_e100_h100_Ug_lr0.1_nt1018.hdf5\n",
      "177316/177316 - 168s - loss: 6.2597 - val_loss: 6.5373\n",
      "Epoch 19/20\n",
      "\n",
      "Epoch 00019: saving model to ks-cooks-1y/models/rnn_cce_ml60_bs32_ne2.502_gc100_e100_h100_Ug_lr0.1_nt1019.hdf5\n",
      "177316/177316 - 170s - loss: 6.2336 - val_loss: 6.5422\n",
      "Epoch 20/20\n",
      "\n",
      "Epoch 00020: saving model to ks-cooks-1y/models/rnn_cce_ml60_bs32_ne2.502_gc100_e100_h100_Ug_lr0.1_nt1020.hdf5\n",
      "177316/177316 - 169s - loss: 6.2091 - val_loss: 6.5529\n",
      "[6.948097785667105, 6.87980716417643, 6.813927179003647, 6.779027860060141, 6.738957145002226, 6.681542892744766, 6.636131391929938, 6.6007736663820085, 6.558002043427625, 6.519180761511669, 6.4839297299371195, 6.446698130243359, 6.41103322817521, 6.377986089766272, 6.3460540316687855, 6.315323897719763, 6.28662618554559, 6.259669165637191, 6.233629018325804, 6.209109954355953]\n",
      "Opening file (1)\n",
      "RNN with categorical cross entropy 0 batchs,  3378.138508796692  epochs in 3413.368356704712 s\n",
      "Last train cost :  6.52627536606403\n",
      "recall :  0.051599507957822414\n",
      "precision :  0.0829888712241657\n",
      "sps :  0.057233704292527825\n",
      "Best  sps :  0.057233704292527825\n",
      "sps_short :  0.06578947368421052\n",
      "sps_long :  0.04923076923076923\n",
      "user_coverage :  0.5294117647058824\n",
      "item_coverage :  207\n",
      "total_item_coverage :  522\n",
      "uniq_rec :  643\n",
      "ndcg :  0.08439746225364704\n",
      "blockbuster_share :  0.32567049808429116\n",
      "intra_list_similarity :  6.362235926780996\n",
      "-----------------\n",
      "Save model in ks-cooks-1y/models/rnn_cce_ml60_bs32_ne3378.139_gc100_e100_h100_Ug_lr0.1_nt1.hdf5\n"
     ]
    }
   ],
   "source": [
    "!python3 train.py -d ks-cooks-1y -b 32 --max_length 60 --r_emb 100 --min_iter 20 --r_l 100"
   ]
  },
  {
   "cell_type": "code",
   "execution_count": 17,
   "metadata": {},
   "outputs": [
    {
     "name": "stdout",
     "output_type": "stream",
     "text": [
      "2019-12-14 12:41:59.778354: I tensorflow/core/platform/cpu_feature_guard.cc:142] Your CPU supports instructions that this TensorFlow binary was not compiled to use: AVX2 FMA\n",
      "2019-12-14 12:41:59.789721: I tensorflow/compiler/xla/service/service.cc:168] XLA service 0x7f8605d2b580 executing computations on platform Host. Devices:\n",
      "2019-12-14 12:41:59.789741: I tensorflow/compiler/xla/service/service.cc:175]   StreamExecutor device (0): Host, Default Version\n",
      "['ks-cooks-1y/models/rnn_cce_ml60_bs32_ne3378.139_gc100_e100_h100_Ug_lr0.1_nt1.hdf5']\n",
      "Opening file (1)\n",
      "Timer:  37.088424\n",
      "-------------------\n",
      "( 1 / 1 ) results on ks-cooks-1y/models/rnn_cce_ml60_bs32_ne3378.139_gc100_e100_h100_Ug_lr0.1_nt1.hdf5\n",
      "sps@10:  0.07154213036565978\n",
      "sps_short@10:  0.08387096774193549\n",
      "sps_long@10:  0.05956112852664577\n",
      "recall@10:  0.051923948496190336\n",
      "precision@10:  0.09077901430842639\n",
      "uniq_rec@10:  699\n",
      "total_item_coverage@10:  571\n",
      "item_coverage@10:  239\n",
      "user_coverage@10:  0.534181240063593\n",
      "ndcg@10:  0.09251025847494679\n",
      "blockbuster_share@10:  0.3257443082311734\n",
      "intra_list_similarity@10:  6.127754327229515\n"
     ]
    }
   ],
   "source": [
    "!python3 test.py -d ks-cooks-1y -b 32 --max_length 60 --r_emb 100 --r_l 100 -i 3378.139"
   ]
  },
  {
   "cell_type": "code",
   "execution_count": 35,
   "metadata": {},
   "outputs": [
    {
     "name": "stdout",
     "output_type": "stream",
     "text": [
      "2019-12-14 21:01:40.086597: I tensorflow/core/platform/cpu_feature_guard.cc:142] Your CPU supports instructions that this TensorFlow binary was not compiled to use: AVX2 FMA\n",
      "2019-12-14 21:01:40.099933: I tensorflow/compiler/xla/service/service.cc:168] XLA service 0x7ff44f4ea140 executing computations on platform Host. Devices:\n",
      "2019-12-14 21:01:40.099954: I tensorflow/compiler/xla/service/service.cc:175]   StreamExecutor device (0): Host, Default Version\n",
      "['ks-cooks-1y/models/rnn_cce_ml60_bs32_ne3251.557_gc100_e100_h100_Ug_lr0.1_nt1.hdf5']\n",
      "Opening file (1)\n",
      "Timer:  52.330731\n",
      "-------------------\n",
      "( 1 / 1 ) results on ks-cooks-1y/models/rnn_cce_ml60_bs32_ne3251.557_gc100_e100_h100_Ug_lr0.1_nt1.hdf5\n",
      "sps@10:  0.07154213036565978\n",
      "sps_short@10:  0.06774193548387097\n",
      "sps_long@10:  0.07523510971786834\n",
      "recall@10:  0.05413209705901021\n",
      "precision@10:  0.0952305246422897\n",
      "uniq_rec@10:  614\n",
      "total_item_coverage@10:  599\n",
      "item_coverage@10:  198\n",
      "user_coverage@10:  0.5516693163751988\n",
      "ndcg@10:  0.09764414684823007\n",
      "blockbuster_share@10:  0.42070116861435725\n",
      "intra_list_similarity@10:  6.824273320734993\n"
     ]
    }
   ],
   "source": [
    "# lstm recipe embedding, epoch 20\n",
    "!python3 test.py -d ks-cooks-1y -b 32 --max_length 60 --r_emb 100 --r_l 100 -i 3251.557"
   ]
  },
  {
   "cell_type": "code",
   "execution_count": 22,
   "metadata": {},
   "outputs": [
    {
     "name": "stdout",
     "output_type": "stream",
     "text": [
      "2019-12-14 13:26:59.243489: I tensorflow/core/platform/cpu_feature_guard.cc:142] Your CPU supports instructions that this TensorFlow binary was not compiled to use: AVX2 FMA\n",
      "2019-12-14 13:26:59.258924: I tensorflow/compiler/xla/service/service.cc:168] XLA service 0x7fcb28a41fd0 executing computations on platform Host. Devices:\n",
      "2019-12-14 13:26:59.258949: I tensorflow/compiler/xla/service/service.cc:175]   StreamExecutor device (0): Host, Default Version\n",
      "['ks-cooks-1y/models/rnn_cce_ml60_bs32_ne3508.235_gc100_e100_h100_Ug_lr0.1_nt1.hdf5']\n",
      "Opening file (1)\n",
      "Timer:  34.630237\n",
      "-------------------\n",
      "( 1 / 1 ) results on ks-cooks-1y/models/rnn_cce_ml60_bs32_ne3508.235_gc100_e100_h100_Ug_lr0.1_nt1.hdf5\n",
      "sps@10:  0.07154213036565978\n",
      "sps_short@10:  0.08387096774193549\n",
      "sps_long@10:  0.05956112852664577\n",
      "recall@10:  0.051923948496190336\n",
      "precision@10:  0.09077901430842639\n",
      "uniq_rec@10:  699\n",
      "total_item_coverage@10:  571\n",
      "item_coverage@10:  239\n",
      "user_coverage@10:  0.534181240063593\n",
      "ndcg@10:  0.09251025847494679\n",
      "blockbuster_share@10:  0.3257443082311734\n",
      "intra_list_similarity@10:  6.127754327229515\n"
     ]
    }
   ],
   "source": [
    "# same run emb100h100, exact result as above, reproducible result\n",
    "!python3 test.py -d ks-cooks-1y -b 32 --max_length 60 --r_emb 100 --r_l 100 -i 3508.235"
   ]
  },
  {
   "cell_type": "code",
   "execution_count": 24,
   "metadata": {},
   "outputs": [
    {
     "name": "stdout",
     "output_type": "stream",
     "text": [
      "2019-12-14 13:30:31.078589: I tensorflow/core/platform/cpu_feature_guard.cc:142] Your CPU supports instructions that this TensorFlow binary was not compiled to use: AVX2 FMA\n",
      "2019-12-14 13:30:31.091974: I tensorflow/compiler/xla/service/service.cc:168] XLA service 0x7fb15a427070 executing computations on platform Host. Devices:\n",
      "2019-12-14 13:30:31.091993: I tensorflow/compiler/xla/service/service.cc:175]   StreamExecutor device (0): Host, Default Version\n",
      "['ks-cooks-1y/models/rnn_cce_ml60_bs32_ne250.2_gc100_e100_h100_Ug_lr0.1_nt1.hdf5']\n",
      "Opening file (1)\n",
      "Timer:  35.282165\n",
      "-------------------\n",
      "( 1 / 1 ) results on ks-cooks-1y/models/rnn_cce_ml60_bs32_ne250.2_gc100_e100_h100_Ug_lr0.1_nt1.hdf5\n",
      "sps@10:  0.07790143084260731\n",
      "sps_short@10:  0.06129032258064516\n",
      "sps_long@10:  0.09404388714733543\n",
      "recall@10:  0.05408302006408228\n",
      "precision@10:  0.09538950715421333\n",
      "uniq_rec@10:  292\n",
      "total_item_coverage@10:  600\n",
      "item_coverage@10:  150\n",
      "user_coverage@10:  0.5500794912559619\n",
      "ndcg@10:  0.09975477618738085\n",
      "blockbuster_share@10:  0.41833333333333333\n",
      "intra_list_similarity@10:  7.441162703623812\n"
     ]
    }
   ],
   "source": [
    "# the 10th epoch of -i 3378.139 best sps_long\n",
    "!python3 test.py -d ks-cooks-1y -b 32 --max_length 60 --r_emb 100 --r_l 100 -i 250.2"
   ]
  },
  {
   "cell_type": "code",
   "execution_count": 30,
   "metadata": {},
   "outputs": [
    {
     "name": "stdout",
     "output_type": "stream",
     "text": [
      "2019-12-14 16:04:56.302636: I tensorflow/core/platform/cpu_feature_guard.cc:142] Your CPU supports instructions that this TensorFlow binary was not compiled to use: AVX2 FMA\n",
      "2019-12-14 16:04:56.316329: I tensorflow/compiler/xla/service/service.cc:168] XLA service 0x7ff58ab7be90 executing computations on platform Host. Devices:\n",
      "2019-12-14 16:04:56.316349: I tensorflow/compiler/xla/service/service.cc:175]   StreamExecutor device (0): Host, Default Version\n",
      "['ks-cooks-1y/models/rnn_cce_ml60_bs32_ne250.14_gc100_e100_h100_Ug_lr0.1_nt1.hdf5']\n",
      "Opening file (1)\n",
      "Timer:  34.777287\n",
      "-------------------\n",
      "( 1 / 1 ) results on ks-cooks-1y/models/rnn_cce_ml60_bs32_ne250.14_gc100_e100_h100_Ug_lr0.1_nt1.hdf5\n",
      "sps@10:  0.07154213036565978\n",
      "sps_short@10:  0.08387096774193549\n",
      "sps_long@10:  0.05956112852664577\n",
      "recall@10:  0.05187585043605198\n",
      "precision@10:  0.09141494435612117\n",
      "uniq_rec@10:  429\n",
      "total_item_coverage@10:  575\n",
      "item_coverage@10:  177\n",
      "user_coverage@10:  0.5294117647058824\n",
      "ndcg@10:  0.09499292985902294\n",
      "blockbuster_share@10:  0.39304347826086955\n",
      "intra_list_similarity@10:  7.1202126510301476\n"
     ]
    }
   ],
   "source": [
    "# the 14th epoch of h100 -i 3378.139\n",
    "!python3 test.py -d ks-cooks-1y -b 32 --max_length 60 --r_emb 100 --r_l 100 -i 250.14"
   ]
  },
  {
   "cell_type": "code",
   "execution_count": 27,
   "metadata": {},
   "outputs": [
    {
     "name": "stdout",
     "output_type": "stream",
     "text": [
      "2019-12-14 15:13:48.215663: I tensorflow/core/platform/cpu_feature_guard.cc:142] Your CPU supports instructions that this TensorFlow binary was not compiled to use: AVX2 FMA\n",
      "2019-12-14 15:13:48.229479: I tensorflow/compiler/xla/service/service.cc:168] XLA service 0x7fa573d01c30 executing computations on platform Host. Devices:\n",
      "2019-12-14 15:13:48.229498: I tensorflow/compiler/xla/service/service.cc:175]   StreamExecutor device (0): Host, Default Version\n",
      "['ks-cooks-1y/models/rnn_cce_ml60_bs32_ne250.15_gc100_e100_h100_Ug_lr0.1_nt1.hdf5']\n",
      "Opening file (1)\n",
      "Timer:  34.410221\n",
      "-------------------\n",
      "( 1 / 1 ) results on ks-cooks-1y/models/rnn_cce_ml60_bs32_ne250.15_gc100_e100_h100_Ug_lr0.1_nt1.hdf5\n",
      "sps@10:  0.08744038155802862\n",
      "sps_short@10:  0.1\n",
      "sps_long@10:  0.07523510971786834\n",
      "recall@10:  0.05375438093885002\n",
      "precision@10:  0.09332273449920549\n",
      "uniq_rec@10:  508\n",
      "total_item_coverage@10:  587\n",
      "item_coverage@10:  191\n",
      "user_coverage@10:  0.5516693163751988\n",
      "ndcg@10:  0.0974122593809734\n",
      "blockbuster_share@10:  0.3901192504258944\n",
      "intra_list_similarity@10:  6.899925633125814\n"
     ]
    }
   ],
   "source": [
    "# the 15th epoch of h100 -i 3378.139 best result\n",
    "!python3 test.py -d ks-cooks-1y -b 32 --max_length 60 --r_emb 100 --r_l 100 -i 250.15"
   ]
  },
  {
   "cell_type": "code",
   "execution_count": 28,
   "metadata": {},
   "outputs": [
    {
     "name": "stdout",
     "output_type": "stream",
     "text": [
      "2019-12-14 15:17:20.060527: I tensorflow/core/platform/cpu_feature_guard.cc:142] Your CPU supports instructions that this TensorFlow binary was not compiled to use: AVX2 FMA\n",
      "2019-12-14 15:17:20.074481: I tensorflow/compiler/xla/service/service.cc:168] XLA service 0x7f9e6bf632d0 executing computations on platform Host. Devices:\n",
      "2019-12-14 15:17:20.074503: I tensorflow/compiler/xla/service/service.cc:175]   StreamExecutor device (0): Host, Default Version\n",
      "['ks-cooks-1y/models/rnn_cce_ml60_bs32_ne250.16_gc100_e100_h100_Ug_lr0.1_nt1.hdf5']\n",
      "Opening file (1)\n",
      "Timer:  34.937663\n",
      "-------------------\n",
      "( 1 / 1 ) results on ks-cooks-1y/models/rnn_cce_ml60_bs32_ne250.16_gc100_e100_h100_Ug_lr0.1_nt1.hdf5\n",
      "sps@10:  0.07472178060413355\n",
      "sps_short@10:  0.09032258064516129\n",
      "sps_long@10:  0.05956112852664577\n",
      "recall@10:  0.05405381906470059\n",
      "precision@10:  0.09491255961844242\n",
      "uniq_rec@10:  524\n",
      "total_item_coverage@10:  597\n",
      "item_coverage@10:  205\n",
      "user_coverage@10:  0.56120826709062\n",
      "ndcg@10:  0.0973447821329042\n",
      "blockbuster_share@10:  0.37185929648241206\n",
      "intra_list_similarity@10:  6.732501350687387\n"
     ]
    }
   ],
   "source": [
    "# the 16th epoch of h100 -i 3378.139 lowest validation loss\n",
    "!python3 test.py -d ks-cooks-1y -b 32 --max_length 60 --r_emb 100 --r_l 100 -i 250.16"
   ]
  },
  {
   "cell_type": "code",
   "execution_count": 32,
   "metadata": {},
   "outputs": [
    {
     "name": "stdout",
     "output_type": "stream",
     "text": [
      "2019-12-14 16:07:44.863586: I tensorflow/core/platform/cpu_feature_guard.cc:142] Your CPU supports instructions that this TensorFlow binary was not compiled to use: AVX2 FMA\n",
      "2019-12-14 16:07:44.876982: I tensorflow/compiler/xla/service/service.cc:168] XLA service 0x7f8d3fd1aa90 executing computations on platform Host. Devices:\n",
      "2019-12-14 16:07:44.877001: I tensorflow/compiler/xla/service/service.cc:175]   StreamExecutor device (0): Host, Default Version\n",
      "['ks-cooks-1y/models/rnn_cce_ml60_bs32_ne250.17_gc100_e100_h100_Ug_lr0.1_nt1.hdf5']\n",
      "Opening file (1)\n",
      "Timer:  33.005312\n",
      "-------------------\n",
      "( 1 / 1 ) results on ks-cooks-1y/models/rnn_cce_ml60_bs32_ne250.17_gc100_e100_h100_Ug_lr0.1_nt1.hdf5\n",
      "sps@10:  0.08108108108108109\n",
      "sps_short@10:  0.08709677419354839\n",
      "sps_long@10:  0.07523510971786834\n",
      "recall@10:  0.051453224064995376\n",
      "precision@10:  0.09141494435612121\n",
      "uniq_rec@10:  581\n",
      "total_item_coverage@10:  575\n",
      "item_coverage@10:  216\n",
      "user_coverage@10:  0.5421303656597775\n",
      "ndcg@10:  0.09738825211831159\n",
      "blockbuster_share@10:  0.3356521739130435\n",
      "intra_list_similarity@10:  6.644906346594595\n"
     ]
    }
   ],
   "source": [
    "# the 17 th epoch of h100 -i 3378.139\n",
    "!python3 test.py -d ks-cooks-1y -b 32 --max_length 60 --r_emb 100 --r_l 100 -i 250.17"
   ]
  },
  {
   "cell_type": "code",
   "execution_count": 29,
   "metadata": {},
   "outputs": [
    {
     "name": "stdout",
     "output_type": "stream",
     "text": [
      "2019-12-14 15:21:37.231831: I tensorflow/core/platform/cpu_feature_guard.cc:142] Your CPU supports instructions that this TensorFlow binary was not compiled to use: AVX2 FMA\n",
      "2019-12-14 15:21:37.245549: I tensorflow/compiler/xla/service/service.cc:168] XLA service 0x7fa09ad291a0 executing computations on platform Host. Devices:\n",
      "2019-12-14 15:21:37.245571: I tensorflow/compiler/xla/service/service.cc:175]   StreamExecutor device (0): Host, Default Version\n",
      "['ks-cooks-1y/models/rnn_cce_ml60_bs32_ne245.17_gc100_e100_h100-50_Ug_lr0.1_nt1.hdf5']\n",
      "Opening file (1)\n",
      "Timer:  68.377132\n",
      "-------------------\n",
      "( 1 / 1 ) results on ks-cooks-1y/models/rnn_cce_ml60_bs32_ne245.17_gc100_e100_h100-50_Ug_lr0.1_nt1.hdf5\n",
      "sps@10:  0.09062003179650238\n",
      "sps_short@10:  0.09032258064516129\n",
      "sps_long@10:  0.09090909090909091\n",
      "recall@10:  0.05543199054366633\n",
      "precision@10:  0.09729729729729757\n",
      "uniq_rec@10:  504\n",
      "total_item_coverage@10:  612\n",
      "item_coverage@10:  206\n",
      "user_coverage@10:  0.5500794912559619\n",
      "ndcg@10:  0.09941682686033944\n",
      "blockbuster_share@10:  0.3382352941176471\n",
      "intra_list_similarity@10:  6.775034464990016\n"
     ]
    }
   ],
   "source": [
    "# the 17th epoch of h150-50 lowest validation loss\n",
    "!python3 test.py -d ks-cooks-1y -b 32 --max_length 60 --r_emb 100 --r_l 100-50 -i 245.17"
   ]
  },
  {
   "cell_type": "code",
   "execution_count": 10,
   "metadata": {},
   "outputs": [],
   "source": [
    "# !python test.py -d ks-cooks-1y -b 32 --max_length 60 --r_emb 100 --r_l 100 -i 4903.255"
   ]
  },
  {
   "cell_type": "markdown",
   "metadata": {},
   "source": [
    "### test hiddenunit and intra_list_similartity"
   ]
  },
  {
   "cell_type": "code",
   "execution_count": 11,
   "metadata": {
    "scrolled": false
   },
   "outputs": [
    {
     "name": "stdout",
     "output_type": "stream",
     "text": [
      "2019-12-14 04:01:56.925336: I tensorflow/core/platform/cpu_feature_guard.cc:142] Your CPU supports instructions that this TensorFlow binary was not compiled to use: AVX2 FMA\n",
      "2019-12-14 04:01:56.937848: I tensorflow/compiler/xla/service/service.cc:168] XLA service 0x7f9ae74593c0 executing computations on platform Host. Devices:\n",
      "2019-12-14 04:01:56.937865: I tensorflow/compiler/xla/service/service.cc:175]   StreamExecutor device (0): Host, Default Version\n",
      "Train on 177316 samples, validate on 629 samples\n",
      "Epoch 1/20\n",
      "2019-12-14 04:02:02.748148: W tensorflow/core/grappler/optimizers/implementation_selector.cc:310] Skipping optimization due to error while loading function libraries: Invalid argument: Functions '__inference___backward_standard_lstm_7410_8009' and '__inference___backward_standard_lstm_7410_8009_specialized_for_StatefulPartitionedCall_at___inference_distributed_function_8146' both implement 'lstm_0fd19b08-1475-4194-94bc-38d5c8fadaa3' but their signatures do not match.\n",
      "2019-12-14 04:02:03.138075: I tensorflow/core/profiler/lib/profiler_session.cc:184] Profiler session started.\n",
      "WARNING:tensorflow:Method (on_train_batch_end) is slow compared to the batch update (0.199595). Check your callbacks.\n",
      "2019-12-14 04:04:35.829436: W tensorflow/core/grappler/optimizers/implementation_selector.cc:310] Skipping optimization due to error while loading function libraries: Invalid argument: Functions '__inference_cudnn_lstm_with_fallback_19815' and '__inference_standard_lstm_19472_specialized_for_sequential_lstm_StatefulPartitionedCall_at___inference_distributed_function_21340' both implement 'lstm_ccf6befd-cdfc-43fd-b6b0-f8f6fcc11724' but their signatures do not match.\n",
      "\n",
      "Epoch 00001: saving model to ks-cooks-1y/models/rnn_cce_ml60_bs32_ne2.576_gc100_e100_h50_Ug_lr0.1_nt1001.hdf5\n",
      "177316/177316 - 156s - loss: 6.9522 - val_loss: 6.9131\n",
      "Epoch 2/20\n",
      "\n",
      "Epoch 00002: saving model to ks-cooks-1y/models/rnn_cce_ml60_bs32_ne2.576_gc100_e100_h50_Ug_lr0.1_nt1002.hdf5\n",
      "177316/177316 - 147s - loss: 6.8991 - val_loss: 6.8822\n",
      "Epoch 3/20\n",
      "\n",
      "Epoch 00003: saving model to ks-cooks-1y/models/rnn_cce_ml60_bs32_ne2.576_gc100_e100_h50_Ug_lr0.1_nt1003.hdf5\n",
      "177316/177316 - 148s - loss: 6.8604 - val_loss: 6.8681\n",
      "Epoch 4/20\n",
      "\n",
      "Epoch 00004: saving model to ks-cooks-1y/models/rnn_cce_ml60_bs32_ne2.576_gc100_e100_h50_Ug_lr0.1_nt1004.hdf5\n",
      "177316/177316 - 147s - loss: 6.8093 - val_loss: 6.8495\n",
      "Epoch 5/20\n",
      "\n",
      "Epoch 00005: saving model to ks-cooks-1y/models/rnn_cce_ml60_bs32_ne2.576_gc100_e100_h50_Ug_lr0.1_nt1005.hdf5\n",
      "177316/177316 - 144s - loss: 6.7590 - val_loss: 6.7824\n",
      "Epoch 6/20\n",
      "\n",
      "Epoch 00006: saving model to ks-cooks-1y/models/rnn_cce_ml60_bs32_ne2.576_gc100_e100_h50_Ug_lr0.1_nt1006.hdf5\n",
      "177316/177316 - 144s - loss: 6.6945 - val_loss: 6.7222\n",
      "Epoch 7/20\n",
      "\n",
      "Epoch 00007: saving model to ks-cooks-1y/models/rnn_cce_ml60_bs32_ne2.576_gc100_e100_h50_Ug_lr0.1_nt1007.hdf5\n",
      "177316/177316 - 144s - loss: 6.6651 - val_loss: 6.6714\n",
      "Epoch 8/20\n",
      "\n",
      "Epoch 00008: saving model to ks-cooks-1y/models/rnn_cce_ml60_bs32_ne2.576_gc100_e100_h50_Ug_lr0.1_nt1008.hdf5\n",
      "177316/177316 - 145s - loss: 6.6405 - val_loss: 6.6528\n",
      "Epoch 9/20\n",
      "\n",
      "Epoch 00009: saving model to ks-cooks-1y/models/rnn_cce_ml60_bs32_ne2.576_gc100_e100_h50_Ug_lr0.1_nt1009.hdf5\n",
      "177316/177316 - 144s - loss: 6.6184 - val_loss: 6.6439\n",
      "Epoch 10/20\n",
      "\n",
      "Epoch 00010: saving model to ks-cooks-1y/models/rnn_cce_ml60_bs32_ne2.576_gc100_e100_h50_Ug_lr0.1_nt1010.hdf5\n",
      "177316/177316 - 144s - loss: 6.5938 - val_loss: 6.6419\n",
      "Epoch 11/20\n",
      "\n",
      "Epoch 00011: saving model to ks-cooks-1y/models/rnn_cce_ml60_bs32_ne2.576_gc100_e100_h50_Ug_lr0.1_nt1011.hdf5\n",
      "177316/177316 - 145s - loss: 6.5690 - val_loss: 6.6573\n",
      "Epoch 12/20\n",
      "\n",
      "Epoch 00012: saving model to ks-cooks-1y/models/rnn_cce_ml60_bs32_ne2.576_gc100_e100_h50_Ug_lr0.1_nt1012.hdf5\n",
      "177316/177316 - 144s - loss: 6.5365 - val_loss: 6.6096\n",
      "Epoch 13/20\n",
      "\n",
      "Epoch 00013: saving model to ks-cooks-1y/models/rnn_cce_ml60_bs32_ne2.576_gc100_e100_h50_Ug_lr0.1_nt1013.hdf5\n",
      "177316/177316 - 144s - loss: 6.5058 - val_loss: 6.5790\n",
      "Epoch 14/20\n",
      "\n",
      "Epoch 00014: saving model to ks-cooks-1y/models/rnn_cce_ml60_bs32_ne2.576_gc100_e100_h50_Ug_lr0.1_nt1014.hdf5\n",
      "177316/177316 - 144s - loss: 6.4789 - val_loss: 6.5719\n",
      "Epoch 15/20\n",
      "\n",
      "Epoch 00015: saving model to ks-cooks-1y/models/rnn_cce_ml60_bs32_ne2.576_gc100_e100_h50_Ug_lr0.1_nt1015.hdf5\n",
      "177316/177316 - 145s - loss: 6.4526 - val_loss: 6.5916\n",
      "Epoch 16/20\n",
      "\n",
      "Epoch 00016: saving model to ks-cooks-1y/models/rnn_cce_ml60_bs32_ne2.576_gc100_e100_h50_Ug_lr0.1_nt1016.hdf5\n",
      "177316/177316 - 144s - loss: 6.4295 - val_loss: 6.5410\n",
      "Epoch 17/20\n",
      "\n",
      "Epoch 00017: saving model to ks-cooks-1y/models/rnn_cce_ml60_bs32_ne2.576_gc100_e100_h50_Ug_lr0.1_nt1017.hdf5\n",
      "177316/177316 - 144s - loss: 6.4076 - val_loss: 6.5538\n",
      "Epoch 18/20\n",
      "\n",
      "Epoch 00018: saving model to ks-cooks-1y/models/rnn_cce_ml60_bs32_ne2.576_gc100_e100_h50_Ug_lr0.1_nt1018.hdf5\n",
      "177316/177316 - 144s - loss: 6.3867 - val_loss: 6.5452\n",
      "Epoch 19/20\n",
      "\n",
      "Epoch 00019: saving model to ks-cooks-1y/models/rnn_cce_ml60_bs32_ne2.576_gc100_e100_h50_Ug_lr0.1_nt1019.hdf5\n",
      "177316/177316 - 145s - loss: 6.3669 - val_loss: 6.5549\n",
      "Epoch 20/20\n",
      "\n",
      "Epoch 00020: saving model to ks-cooks-1y/models/rnn_cce_ml60_bs32_ne2.576_gc100_e100_h50_Ug_lr0.1_nt1020.hdf5\n",
      "177316/177316 - 145s - loss: 6.3471 - val_loss: 6.5351\n",
      "[6.952175554925523, 6.89907970817647, 6.860433699913707, 6.809292961854132, 6.758953057220947, 6.694472216062471, 6.665085424014332, 6.64052990615622, 6.6183986435451985, 6.593772977938139, 6.56899042136401, 6.536549269223929, 6.50579372831673, 6.4789095468681825, 6.452603411380301, 6.429510703144187, 6.407585543097874, 6.386730312566937, 6.36690967766947, 6.3470606124711155]\n",
      "Opening file (1)\n",
      "RNN with categorical cross entropy 0 batchs,  2906.46239900589  epochs in 2941.2317588329315 s\n",
      "Last train cost :  6.598641868795494\n",
      "recall :  0.0528163322305782\n",
      "precision :  0.08569157392686841\n",
      "sps :  0.05564387917329094\n",
      "Best  sps :  0.05564387917329094\n",
      "sps_short :  0.0625\n",
      "sps_long :  0.04923076923076923\n",
      "user_coverage :  0.5437201907790143\n",
      "item_coverage :  169\n",
      "total_item_coverage :  539\n",
      "uniq_rec :  433\n",
      "ndcg :  0.08895848151223587\n",
      "blockbuster_share :  0.38961038961038963\n",
      "intra_list_similarity :  7.1419589025854044\n",
      "-----------------\n",
      "Save model in ks-cooks-1y/models/rnn_cce_ml60_bs32_ne2906.462_gc100_e100_h50_Ug_lr0.1_nt1.hdf5\n"
     ]
    }
   ],
   "source": [
    "!python3 train.py -d ks-cooks-1y -b 32 --max_length 60 --r_emb 100 --min_iter 20 --r_l 50"
   ]
  },
  {
   "cell_type": "code",
   "execution_count": 18,
   "metadata": {},
   "outputs": [
    {
     "name": "stdout",
     "output_type": "stream",
     "text": [
      "2019-12-14 12:51:55.757423: I tensorflow/core/platform/cpu_feature_guard.cc:142] Your CPU supports instructions that this TensorFlow binary was not compiled to use: AVX2 FMA\n",
      "2019-12-14 12:51:55.770797: I tensorflow/compiler/xla/service/service.cc:168] XLA service 0x7f7ed1fbcfc0 executing computations on platform Host. Devices:\n",
      "2019-12-14 12:51:55.770821: I tensorflow/compiler/xla/service/service.cc:175]   StreamExecutor device (0): Host, Default Version\n",
      "['ks-cooks-1y/models/rnn_cce_ml60_bs32_ne2906.462_gc100_e100_h50_Ug_lr0.1_nt1.hdf5']\n",
      "Opening file (1)\n",
      "Timer:  34.087928999999995\n",
      "-------------------\n",
      "( 1 / 1 ) results on ks-cooks-1y/models/rnn_cce_ml60_bs32_ne2906.462_gc100_e100_h50_Ug_lr0.1_nt1.hdf5\n",
      "sps@10:  0.08585055643879173\n",
      "sps_short@10:  0.07096774193548387\n",
      "sps_long@10:  0.10031347962382445\n",
      "recall@10:  0.053017122894495464\n",
      "precision@10:  0.09427662957074755\n",
      "uniq_rec@10:  476\n",
      "total_item_coverage@10:  593\n",
      "item_coverage@10:  191\n",
      "user_coverage@10:  0.5453100158982512\n",
      "ndcg@10:  0.0979325304632788\n",
      "blockbuster_share@10:  0.36593591905564926\n",
      "intra_list_similarity@10:  6.90207855277104\n"
     ]
    }
   ],
   "source": [
    "!python3 test.py -d ks-cooks-1y -b 32 --max_length 60 --r_emb 100 --r_l 50 -i 2906.462"
   ]
  },
  {
   "cell_type": "code",
   "execution_count": 12,
   "metadata": {
    "scrolled": false
   },
   "outputs": [
    {
     "name": "stdout",
     "output_type": "stream",
     "text": [
      "2019-12-14 04:51:04.187273: I tensorflow/core/platform/cpu_feature_guard.cc:142] Your CPU supports instructions that this TensorFlow binary was not compiled to use: AVX2 FMA\n",
      "2019-12-14 04:51:04.201660: I tensorflow/compiler/xla/service/service.cc:168] XLA service 0x7f894e44ce90 executing computations on platform Host. Devices:\n",
      "2019-12-14 04:51:04.201681: I tensorflow/compiler/xla/service/service.cc:175]   StreamExecutor device (0): Host, Default Version\n",
      "Train on 177316 samples, validate on 629 samples\n",
      "Epoch 1/20\n",
      "2019-12-14 04:51:10.086090: W tensorflow/core/grappler/optimizers/implementation_selector.cc:310] Skipping optimization due to error while loading function libraries: Invalid argument: Functions '__inference___backward_standard_lstm_7410_8009' and '__inference___backward_standard_lstm_7410_8009_specialized_for_StatefulPartitionedCall_at___inference_distributed_function_8146' both implement 'lstm_8f07d87b-674d-4cd0-be0d-e038195cc96c' but their signatures do not match.\n",
      "2019-12-14 04:51:10.497501: I tensorflow/core/profiler/lib/profiler_session.cc:184] Profiler session started.\n",
      "WARNING:tensorflow:Method (on_train_batch_end) is slow compared to the batch update (0.185793). Check your callbacks.\n",
      "2019-12-14 04:53:47.069786: W tensorflow/core/grappler/optimizers/implementation_selector.cc:310] Skipping optimization due to error while loading function libraries: Invalid argument: Functions '__inference_cudnn_lstm_with_fallback_19815' and '__inference_standard_lstm_19472_specialized_for_sequential_lstm_StatefulPartitionedCall_at___inference_distributed_function_21340' both implement 'lstm_4d2519d9-2484-4fa6-bd0f-922ed503cee9' but their signatures do not match.\n",
      "\n",
      "Epoch 00001: saving model to ks-cooks-1y/models/rnn_cce_ml60_bs32_ne2.544_gc100_e100_h75_Ug_lr0.1_nt1001.hdf5\n",
      "177316/177316 - 160s - loss: 6.9493 - val_loss: 6.9085\n",
      "Epoch 2/20\n",
      "\n",
      "Epoch 00002: saving model to ks-cooks-1y/models/rnn_cce_ml60_bs32_ne2.544_gc100_e100_h75_Ug_lr0.1_nt1002.hdf5\n",
      "177316/177316 - 164s - loss: 6.8990 - val_loss: 6.8611\n",
      "Epoch 3/20\n",
      "\n",
      "Epoch 00003: saving model to ks-cooks-1y/models/rnn_cce_ml60_bs32_ne2.544_gc100_e100_h75_Ug_lr0.1_nt1003.hdf5\n",
      "177316/177316 - 162s - loss: 6.8392 - val_loss: 6.8345\n",
      "Epoch 4/20\n",
      "\n",
      "Epoch 00004: saving model to ks-cooks-1y/models/rnn_cce_ml60_bs32_ne2.544_gc100_e100_h75_Ug_lr0.1_nt1004.hdf5\n",
      "177316/177316 - 163s - loss: 6.7560 - val_loss: 6.7463\n",
      "Epoch 5/20\n",
      "\n",
      "Epoch 00005: saving model to ks-cooks-1y/models/rnn_cce_ml60_bs32_ne2.544_gc100_e100_h75_Ug_lr0.1_nt1005.hdf5\n",
      "177316/177316 - 163s - loss: 6.6807 - val_loss: 6.7246\n",
      "Epoch 6/20\n",
      "\n",
      "Epoch 00006: saving model to ks-cooks-1y/models/rnn_cce_ml60_bs32_ne2.544_gc100_e100_h75_Ug_lr0.1_nt1006.hdf5\n",
      "177316/177316 - 155s - loss: 6.6442 - val_loss: 6.6891\n",
      "Epoch 7/20\n",
      "\n",
      "Epoch 00007: saving model to ks-cooks-1y/models/rnn_cce_ml60_bs32_ne2.544_gc100_e100_h75_Ug_lr0.1_nt1007.hdf5\n",
      "177316/177316 - 154s - loss: 6.6066 - val_loss: 6.6413\n",
      "Epoch 8/20\n",
      "\n",
      "Epoch 00008: saving model to ks-cooks-1y/models/rnn_cce_ml60_bs32_ne2.544_gc100_e100_h75_Ug_lr0.1_nt1008.hdf5\n",
      "177316/177316 - 155s - loss: 6.5582 - val_loss: 6.5585\n",
      "Epoch 9/20\n",
      "\n",
      "Epoch 00009: saving model to ks-cooks-1y/models/rnn_cce_ml60_bs32_ne2.544_gc100_e100_h75_Ug_lr0.1_nt1009.hdf5\n",
      "177316/177316 - 154s - loss: 6.5143 - val_loss: 6.5574\n",
      "Epoch 10/20\n",
      "\n",
      "Epoch 00010: saving model to ks-cooks-1y/models/rnn_cce_ml60_bs32_ne2.544_gc100_e100_h75_Ug_lr0.1_nt1010.hdf5\n",
      "177316/177316 - 154s - loss: 6.4756 - val_loss: 6.5443\n",
      "Epoch 11/20\n",
      "\n",
      "Epoch 00011: saving model to ks-cooks-1y/models/rnn_cce_ml60_bs32_ne2.544_gc100_e100_h75_Ug_lr0.1_nt1011.hdf5\n",
      "177316/177316 - 155s - loss: 6.4428 - val_loss: 6.5707\n",
      "Epoch 12/20\n",
      "\n",
      "Epoch 00012: saving model to ks-cooks-1y/models/rnn_cce_ml60_bs32_ne2.544_gc100_e100_h75_Ug_lr0.1_nt1012.hdf5\n",
      "177316/177316 - 155s - loss: 6.4108 - val_loss: 6.5209\n",
      "Epoch 13/20\n",
      "\n",
      "Epoch 00013: saving model to ks-cooks-1y/models/rnn_cce_ml60_bs32_ne2.544_gc100_e100_h75_Ug_lr0.1_nt1013.hdf5\n",
      "177316/177316 - 154s - loss: 6.3810 - val_loss: 6.5066\n",
      "Epoch 14/20\n",
      "\n",
      "Epoch 00014: saving model to ks-cooks-1y/models/rnn_cce_ml60_bs32_ne2.544_gc100_e100_h75_Ug_lr0.1_nt1014.hdf5\n",
      "177316/177316 - 155s - loss: 6.3527 - val_loss: 6.5040\n",
      "Epoch 15/20\n",
      "\n",
      "Epoch 00015: saving model to ks-cooks-1y/models/rnn_cce_ml60_bs32_ne2.544_gc100_e100_h75_Ug_lr0.1_nt1015.hdf5\n",
      "177316/177316 - 154s - loss: 6.3282 - val_loss: 6.5417\n",
      "Epoch 16/20\n",
      "\n",
      "Epoch 00016: saving model to ks-cooks-1y/models/rnn_cce_ml60_bs32_ne2.544_gc100_e100_h75_Ug_lr0.1_nt1016.hdf5\n",
      "177316/177316 - 154s - loss: 6.3037 - val_loss: 6.4804\n",
      "Epoch 17/20\n",
      "\n",
      "Epoch 00017: saving model to ks-cooks-1y/models/rnn_cce_ml60_bs32_ne2.544_gc100_e100_h75_Ug_lr0.1_nt1017.hdf5\n",
      "177316/177316 - 156s - loss: 6.2807 - val_loss: 6.4873\n",
      "Epoch 18/20\n",
      "\n",
      "Epoch 00018: saving model to ks-cooks-1y/models/rnn_cce_ml60_bs32_ne2.544_gc100_e100_h75_Ug_lr0.1_nt1018.hdf5\n",
      "177316/177316 - 155s - loss: 6.2595 - val_loss: 6.4889\n",
      "Epoch 19/20\n",
      "\n",
      "Epoch 00019: saving model to ks-cooks-1y/models/rnn_cce_ml60_bs32_ne2.544_gc100_e100_h75_Ug_lr0.1_nt1019.hdf5\n",
      "177316/177316 - 154s - loss: 6.2382 - val_loss: 6.4887\n",
      "Epoch 20/20\n",
      "\n",
      "Epoch 00020: saving model to ks-cooks-1y/models/rnn_cce_ml60_bs32_ne2.544_gc100_e100_h75_Ug_lr0.1_nt1020.hdf5\n",
      "177316/177316 - 154s - loss: 6.2190 - val_loss: 6.5239\n",
      "[6.949265612823156, 6.898980127110983, 6.83921988477412, 6.755982221811946, 6.680697040658544, 6.6441665216582875, 6.606582422572074, 6.558204231407639, 6.514264795851123, 6.475624842126229, 6.442772095013381, 6.410833247410495, 6.381048933362334, 6.352690450579742, 6.32817489813816, 6.3036771860260155, 6.28073530301054, 6.25953428165856, 6.238170910189235, 6.218962367827835]\n",
      "Opening file (1)\n",
      "RNN with categorical cross entropy 0 batchs,  3129.82638835907  epochs in 3165.729552268982 s\n",
      "Last train cost :  6.50697936870052\n",
      "recall :  0.05005162137523473\n",
      "precision :  0.08060413354531032\n",
      "sps :  0.0794912559618442\n",
      "Best  sps :  0.0794912559618442\n",
      "sps_short :  0.08552631578947369\n",
      "sps_long :  0.07384615384615385\n",
      "user_coverage :  0.5151033386327504\n",
      "item_coverage :  181\n",
      "total_item_coverage :  507\n",
      "uniq_rec :  624\n",
      "ndcg :  0.08334753357122186\n",
      "blockbuster_share :  0.3806706114398422\n",
      "intra_list_similarity :  6.520261283654246\n",
      "-----------------\n",
      "Save model in ks-cooks-1y/models/rnn_cce_ml60_bs32_ne3129.826_gc100_e100_h75_Ug_lr0.1_nt1.hdf5\n"
     ]
    }
   ],
   "source": [
    "!python3 train.py -d ks-cooks-1y -b 32 --max_length 60 --r_emb 100 --min_iter 20 --r_l 75"
   ]
  },
  {
   "cell_type": "code",
   "execution_count": 19,
   "metadata": {},
   "outputs": [
    {
     "name": "stdout",
     "output_type": "stream",
     "text": [
      "2019-12-14 12:52:33.839992: I tensorflow/core/platform/cpu_feature_guard.cc:142] Your CPU supports instructions that this TensorFlow binary was not compiled to use: AVX2 FMA\n",
      "2019-12-14 12:52:33.852861: I tensorflow/compiler/xla/service/service.cc:168] XLA service 0x7fc9b3ca8120 executing computations on platform Host. Devices:\n",
      "2019-12-14 12:52:33.852878: I tensorflow/compiler/xla/service/service.cc:175]   StreamExecutor device (0): Host, Default Version\n",
      "['ks-cooks-1y/models/rnn_cce_ml60_bs32_ne3129.826_gc100_e100_h75_Ug_lr0.1_nt1.hdf5']\n",
      "Opening file (1)\n",
      "Timer:  34.252399\n",
      "-------------------\n",
      "( 1 / 1 ) results on ks-cooks-1y/models/rnn_cce_ml60_bs32_ne3129.826_gc100_e100_h75_Ug_lr0.1_nt1.hdf5\n",
      "sps@10:  0.08267090620031796\n",
      "sps_short@10:  0.07741935483870968\n",
      "sps_long@10:  0.0877742946708464\n",
      "recall@10:  0.05082311897883494\n",
      "precision@10:  0.09125596184419751\n",
      "uniq_rec@10:  671\n",
      "total_item_coverage@10:  574\n",
      "item_coverage@10:  218\n",
      "user_coverage@10:  0.5437201907790143\n",
      "ndcg@10:  0.0974588590035755\n",
      "blockbuster_share@10:  0.3397212543554007\n",
      "intra_list_similarity@10:  6.345152488414477\n"
     ]
    }
   ],
   "source": [
    "!python3 test.py -d ks-cooks-1y -b 32 --max_length 60 --r_emb 100 --r_l 75 -i 3129.826"
   ]
  },
  {
   "cell_type": "code",
   "execution_count": 14,
   "metadata": {
    "scrolled": false
   },
   "outputs": [
    {
     "name": "stdout",
     "output_type": "stream",
     "text": [
      "2019-12-14 06:43:05.424130: I tensorflow/core/platform/cpu_feature_guard.cc:142] Your CPU supports instructions that this TensorFlow binary was not compiled to use: AVX2 FMA\n",
      "2019-12-14 06:43:05.438630: I tensorflow/compiler/xla/service/service.cc:168] XLA service 0x7fac69cb7990 executing computations on platform Host. Devices:\n",
      "2019-12-14 06:43:05.438651: I tensorflow/compiler/xla/service/service.cc:175]   StreamExecutor device (0): Host, Default Version\n",
      "Train on 177316 samples, validate on 629 samples\n",
      "Epoch 1/20\n",
      "2019-12-14 06:43:11.236293: W tensorflow/core/grappler/optimizers/implementation_selector.cc:310] Skipping optimization due to error while loading function libraries: Invalid argument: Functions '__inference___backward_standard_lstm_7410_8009' and '__inference___backward_standard_lstm_7410_8009_specialized_for_StatefulPartitionedCall_at___inference_distributed_function_8146' both implement 'lstm_5c703c57-bfc0-476d-9744-7bf095bd2600' but their signatures do not match.\n",
      "2019-12-14 06:43:11.667579: I tensorflow/core/profiler/lib/profiler_session.cc:184] Profiler session started.\n",
      "WARNING:tensorflow:Method (on_train_batch_end) is slow compared to the batch update (0.199792). Check your callbacks.\n",
      "2019-12-14 06:46:22.187318: W tensorflow/core/grappler/optimizers/implementation_selector.cc:310] Skipping optimization due to error while loading function libraries: Invalid argument: Functions '__inference_cudnn_lstm_with_fallback_19815' and '__inference_standard_lstm_19472_specialized_for_sequential_lstm_StatefulPartitionedCall_at___inference_distributed_function_21340' both implement 'lstm_b7a87b09-14ed-4b22-b388-4cfc12082b4c' but their signatures do not match.\n",
      "\n",
      "Epoch 00001: saving model to ks-cooks-1y/models/rnn_cce_ml60_bs32_ne2.522_gc100_e100_h125_Ug_lr0.1_nt1001.hdf5\n",
      "177316/177316 - 194s - loss: 6.9503 - val_loss: 6.9221\n",
      "Epoch 2/20\n",
      "\n",
      "Epoch 00002: saving model to ks-cooks-1y/models/rnn_cce_ml60_bs32_ne2.522_gc100_e100_h125_Ug_lr0.1_nt1002.hdf5\n",
      "177316/177316 - 180s - loss: 6.8975 - val_loss: 6.8549\n",
      "Epoch 3/20\n",
      "\n",
      "Epoch 00003: saving model to ks-cooks-1y/models/rnn_cce_ml60_bs32_ne2.522_gc100_e100_h125_Ug_lr0.1_nt1003.hdf5\n",
      "177316/177316 - 181s - loss: 6.8269 - val_loss: 6.8096\n",
      "Epoch 4/20\n",
      "\n",
      "Epoch 00004: saving model to ks-cooks-1y/models/rnn_cce_ml60_bs32_ne2.522_gc100_e100_h125_Ug_lr0.1_nt1004.hdf5\n",
      "177316/177316 - 182s - loss: 6.7906 - val_loss: 6.7781\n",
      "Epoch 5/20\n",
      "\n",
      "Epoch 00005: saving model to ks-cooks-1y/models/rnn_cce_ml60_bs32_ne2.522_gc100_e100_h125_Ug_lr0.1_nt1005.hdf5\n",
      "177316/177316 - 182s - loss: 6.7501 - val_loss: 6.7282\n",
      "Epoch 6/20\n",
      "\n",
      "Epoch 00006: saving model to ks-cooks-1y/models/rnn_cce_ml60_bs32_ne2.522_gc100_e100_h125_Ug_lr0.1_nt1006.hdf5\n",
      "177316/177316 - 178s - loss: 6.6878 - val_loss: 6.7112\n",
      "Epoch 7/20\n",
      "\n",
      "Epoch 00007: saving model to ks-cooks-1y/models/rnn_cce_ml60_bs32_ne2.522_gc100_e100_h125_Ug_lr0.1_nt1007.hdf5\n",
      "177316/177316 - 179s - loss: 6.6433 - val_loss: 6.7145\n",
      "Epoch 8/20\n",
      "\n",
      "Epoch 00008: saving model to ks-cooks-1y/models/rnn_cce_ml60_bs32_ne2.522_gc100_e100_h125_Ug_lr0.1_nt1008.hdf5\n",
      "177316/177316 - 179s - loss: 6.6098 - val_loss: 6.6713\n",
      "Epoch 9/20\n",
      "\n",
      "Epoch 00009: saving model to ks-cooks-1y/models/rnn_cce_ml60_bs32_ne2.522_gc100_e100_h125_Ug_lr0.1_nt1009.hdf5\n",
      "177316/177316 - 178s - loss: 6.5746 - val_loss: 6.6844\n",
      "Epoch 10/20\n",
      "\n",
      "Epoch 00010: saving model to ks-cooks-1y/models/rnn_cce_ml60_bs32_ne2.522_gc100_e100_h125_Ug_lr0.1_nt1010.hdf5\n",
      "177316/177316 - 178s - loss: 6.5367 - val_loss: 6.5769\n",
      "Epoch 11/20\n",
      "\n",
      "Epoch 00011: saving model to ks-cooks-1y/models/rnn_cce_ml60_bs32_ne2.522_gc100_e100_h125_Ug_lr0.1_nt1011.hdf5\n",
      "177316/177316 - 178s - loss: 6.4992 - val_loss: 6.5950\n",
      "Epoch 12/20\n",
      "\n",
      "Epoch 00012: saving model to ks-cooks-1y/models/rnn_cce_ml60_bs32_ne2.522_gc100_e100_h125_Ug_lr0.1_nt1012.hdf5\n",
      "177316/177316 - 180s - loss: 6.4560 - val_loss: 6.5442\n",
      "Epoch 13/20\n",
      "\n",
      "Epoch 00013: saving model to ks-cooks-1y/models/rnn_cce_ml60_bs32_ne2.522_gc100_e100_h125_Ug_lr0.1_nt1013.hdf5\n",
      "177316/177316 - 178s - loss: 6.4180 - val_loss: 6.5093\n",
      "Epoch 14/20\n",
      "\n",
      "Epoch 00014: saving model to ks-cooks-1y/models/rnn_cce_ml60_bs32_ne2.522_gc100_e100_h125_Ug_lr0.1_nt1014.hdf5\n",
      "177316/177316 - 178s - loss: 6.3834 - val_loss: 6.5065\n",
      "Epoch 15/20\n",
      "\n",
      "Epoch 00015: saving model to ks-cooks-1y/models/rnn_cce_ml60_bs32_ne2.522_gc100_e100_h125_Ug_lr0.1_nt1015.hdf5\n",
      "177316/177316 - 179s - loss: 6.3509 - val_loss: 6.4989\n",
      "Epoch 16/20\n",
      "\n",
      "Epoch 00016: saving model to ks-cooks-1y/models/rnn_cce_ml60_bs32_ne2.522_gc100_e100_h125_Ug_lr0.1_nt1016.hdf5\n",
      "177316/177316 - 178s - loss: 6.3189 - val_loss: 6.4723\n",
      "Epoch 17/20\n",
      "\n",
      "Epoch 00017: saving model to ks-cooks-1y/models/rnn_cce_ml60_bs32_ne2.522_gc100_e100_h125_Ug_lr0.1_nt1017.hdf5\n",
      "177316/177316 - 178s - loss: 6.2900 - val_loss: 6.4925\n",
      "Epoch 18/20\n",
      "\n",
      "Epoch 00018: saving model to ks-cooks-1y/models/rnn_cce_ml60_bs32_ne2.522_gc100_e100_h125_Ug_lr0.1_nt1018.hdf5\n",
      "177316/177316 - 178s - loss: 6.2604 - val_loss: 6.5120\n",
      "Epoch 19/20\n",
      "\n",
      "Epoch 00019: saving model to ks-cooks-1y/models/rnn_cce_ml60_bs32_ne2.522_gc100_e100_h125_Ug_lr0.1_nt1019.hdf5\n",
      "177316/177316 - 179s - loss: 6.2342 - val_loss: 6.5182\n",
      "Epoch 20/20\n",
      "\n",
      "Epoch 00020: saving model to ks-cooks-1y/models/rnn_cce_ml60_bs32_ne2.522_gc100_e100_h125_Ug_lr0.1_nt1020.hdf5\n",
      "177316/177316 - 179s - loss: 6.2079 - val_loss: 6.5148\n",
      "[6.950259713731383, 6.897457527418894, 6.826912927833018, 6.790643110171788, 6.750125580582226, 6.687757928575432, 6.643332386079235, 6.609846914835631, 6.574635616901341, 6.536682651943765, 6.499226206001744, 6.455960065469964, 6.418040117933167, 6.383365222711728, 6.350915497237684, 6.318875805035281, 6.2899917330478665, 6.260365961831202, 6.234240422094696, 6.207918389230942]\n",
      "Opening file (1)\n",
      "RNN with categorical cross entropy 0 batchs,  3597.251368045807  epochs in 3634.1177229881287 s\n",
      "Last train cost :  6.53432768893335\n",
      "recall :  0.05116489012459574\n",
      "precision :  0.08251192368839462\n",
      "sps :  0.057233704292527825\n",
      "Best  sps :  0.057233704292527825\n",
      "sps_short :  0.05592105263157895\n",
      "sps_long :  0.05846153846153846\n",
      "user_coverage :  0.5294117647058824\n",
      "item_coverage :  203\n",
      "total_item_coverage :  519\n",
      "uniq_rec :  622\n",
      "ndcg :  0.08849469998471146\n",
      "blockbuster_share :  0.34296724470134876\n",
      "intra_list_similarity :  6.472014175368688\n",
      "-----------------\n",
      "Save model in ks-cooks-1y/models/rnn_cce_ml60_bs32_ne3597.251_gc100_e100_h125_Ug_lr0.1_nt1.hdf5\n"
     ]
    }
   ],
   "source": [
    "!python3 train.py -d ks-cooks-1y -b 32 --max_length 60 --r_emb 100 --min_iter 20 --r_l 125"
   ]
  },
  {
   "cell_type": "code",
   "execution_count": 20,
   "metadata": {},
   "outputs": [
    {
     "name": "stdout",
     "output_type": "stream",
     "text": [
      "2019-12-14 12:53:12.138635: I tensorflow/core/platform/cpu_feature_guard.cc:142] Your CPU supports instructions that this TensorFlow binary was not compiled to use: AVX2 FMA\n",
      "2019-12-14 12:53:12.151544: I tensorflow/compiler/xla/service/service.cc:168] XLA service 0x7ff8f4b07c10 executing computations on platform Host. Devices:\n",
      "2019-12-14 12:53:12.151566: I tensorflow/compiler/xla/service/service.cc:175]   StreamExecutor device (0): Host, Default Version\n",
      "['ks-cooks-1y/models/rnn_cce_ml60_bs32_ne3597.251_gc100_e100_h125_Ug_lr0.1_nt1.hdf5']\n",
      "Opening file (1)\n",
      "Timer:  33.374174\n",
      "-------------------\n",
      "( 1 / 1 ) results on ks-cooks-1y/models/rnn_cce_ml60_bs32_ne3597.251_gc100_e100_h125_Ug_lr0.1_nt1.hdf5\n",
      "sps@10:  0.07631160572337042\n",
      "sps_short@10:  0.05806451612903226\n",
      "sps_long@10:  0.09404388714733543\n",
      "recall@10:  0.04760157773186038\n",
      "precision@10:  0.08521462639109727\n",
      "uniq_rec@10:  681\n",
      "total_item_coverage@10:  536\n",
      "item_coverage@10:  222\n",
      "user_coverage@10:  0.5389507154213037\n",
      "ndcg@10:  0.09095580120732788\n",
      "blockbuster_share@10:  0.333955223880597\n",
      "intra_list_similarity@10:  6.225033755468371\n"
     ]
    }
   ],
   "source": [
    "!python3 test.py -d ks-cooks-1y -b 32 --max_length 60 --r_emb 100 --r_l 125 -i 3597.251"
   ]
  },
  {
   "cell_type": "code",
   "execution_count": 33,
   "metadata": {},
   "outputs": [
    {
     "name": "stdout",
     "output_type": "stream",
     "text": [
      "2019-12-14 17:16:32.166098: I tensorflow/core/platform/cpu_feature_guard.cc:142] Your CPU supports instructions that this TensorFlow binary was not compiled to use: AVX2 FMA\n",
      "2019-12-14 17:16:32.179987: I tensorflow/compiler/xla/service/service.cc:168] XLA service 0x7ff748fe8970 executing computations on platform Host. Devices:\n",
      "2019-12-14 17:16:32.180009: I tensorflow/compiler/xla/service/service.cc:175]   StreamExecutor device (0): Host, Default Version\n",
      "['ks-cooks-1y/models/rnn_cce_ml60_bs32_ne254.16_gc100_e100_h75_Ug_lr0.1_nt1.hdf5']\n",
      "Opening file (1)\n",
      "Timer:  35.256997\n",
      "-------------------\n",
      "( 1 / 1 ) results on ks-cooks-1y/models/rnn_cce_ml60_bs32_ne254.16_gc100_e100_h75_Ug_lr0.1_nt1.hdf5\n",
      "sps@10:  0.0890302066772655\n",
      "sps_short@10:  0.08064516129032258\n",
      "sps_long@10:  0.09717868338557993\n",
      "recall@10:  0.055443100617262396\n",
      "precision@10:  0.09809220985691616\n",
      "uniq_rec@10:  541\n",
      "total_item_coverage@10:  617\n",
      "item_coverage@10:  199\n",
      "user_coverage@10:  0.5739268680445151\n",
      "ndcg@10:  0.10240864547009425\n",
      "blockbuster_share@10:  0.35980551053484605\n",
      "intra_list_similarity@10:  6.849200298723558\n"
     ]
    }
   ],
   "source": [
    "!python3 test.py -d ks-cooks-1y -b 32 --max_length 60 --r_emb 100 --r_l 75 -i 254.16"
   ]
  },
  {
   "cell_type": "code",
   "execution_count": 34,
   "metadata": {},
   "outputs": [
    {
     "name": "stdout",
     "output_type": "stream",
     "text": [
      "2019-12-14 17:17:11.790393: I tensorflow/core/platform/cpu_feature_guard.cc:142] Your CPU supports instructions that this TensorFlow binary was not compiled to use: AVX2 FMA\n",
      "2019-12-14 17:17:11.803442: I tensorflow/compiler/xla/service/service.cc:168] XLA service 0x7fefbccdf210 executing computations on platform Host. Devices:\n",
      "2019-12-14 17:17:11.803460: I tensorflow/compiler/xla/service/service.cc:175]   StreamExecutor device (0): Host, Default Version\n",
      "['ks-cooks-1y/models/rnn_cce_ml60_bs32_ne252.16_gc100_e100_h125_Ug_lr0.1_nt1.hdf5']\n",
      "Opening file (1)\n",
      "Timer:  37.102623\n",
      "-------------------\n",
      "( 1 / 1 ) results on ks-cooks-1y/models/rnn_cce_ml60_bs32_ne252.16_gc100_e100_h125_Ug_lr0.1_nt1.hdf5\n",
      "sps@10:  0.07313195548489666\n",
      "sps_short@10:  0.06774193548387097\n",
      "sps_long@10:  0.07836990595611286\n",
      "recall@10:  0.05322439545164568\n",
      "precision@10:  0.09507154213036598\n",
      "uniq_rec@10:  520\n",
      "total_item_coverage@10:  598\n",
      "item_coverage@10:  196\n",
      "user_coverage@10:  0.5532591414944356\n",
      "ndcg@10:  0.09954280954544317\n",
      "blockbuster_share@10:  0.3695652173913043\n",
      "intra_list_similarity@10:  6.842150853907361\n"
     ]
    }
   ],
   "source": [
    "!python3 test.py -d ks-cooks-1y -b 32 --max_length 60 --r_emb 100 --r_l 125 -i 252.16"
   ]
  },
  {
   "cell_type": "code",
   "execution_count": null,
   "metadata": {
    "scrolled": true
   },
   "outputs": [],
   "source": [
    "!git pull origin tf2.0_tensorboard\n",
    "!git add .\n",
    "!git commit -m 'epoch 20, h100,100-50 train'\n",
    "!git push -u origin tf2.0_tensorboard"
   ]
  },
  {
   "cell_type": "code",
   "execution_count": null,
   "metadata": {},
   "outputs": [],
   "source": [
    "!git pull origin tf2.0_tensorboard\n",
    "!git add .\n",
    "!git commit -m 'epoch 20, h50,150,200'\n",
    "!git push -u origin tf2.0_tensorboard"
   ]
  }
 ],
 "metadata": {
  "kernelspec": {
   "display_name": "Python 3",
   "language": "python",
   "name": "python3"
  },
  "language_info": {
   "codemirror_mode": {
    "name": "ipython",
    "version": 3
   },
   "file_extension": ".py",
   "mimetype": "text/x-python",
   "name": "python",
   "nbconvert_exporter": "python",
   "pygments_lexer": "ipython3",
   "version": "3.7.5"
  }
 },
 "nbformat": 4,
 "nbformat_minor": 2
}
