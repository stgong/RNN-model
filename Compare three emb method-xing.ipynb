{
 "cells": [
  {
   "cell_type": "markdown",
   "metadata": {},
   "source": [
    "### model.fit() fine tune the RNN hidden layer parameter\n",
    "#### layers = [200, 250, 300,'200-100','300-200','200-100-50', '300-200-100']"
   ]
  },
  {
   "cell_type": "code",
   "execution_count": null,
   "metadata": {},
   "outputs": [],
   "source": [
    "!python -V\n",
    "!python -c 'import tensorflow as tf; print(tf.__version__)'\n",
    "!python -c 'import keras; print(keras.__version__)'"
   ]
  },
  {
   "cell_type": "code",
   "execution_count": null,
   "metadata": {},
   "outputs": [],
   "source": [
    "# !python train.py -d ks-cooks-1y -b 32 --max_length 60 --r_emb 100 --min_iter 10 --r_l 100"
   ]
  },
  {
   "cell_type": "code",
   "execution_count": 4,
   "metadata": {
    "scrolled": false
   },
   "outputs": [
    {
     "name": "stdout",
     "output_type": "stream",
     "text": [
      "2019-12-14 19:25:01.067018: I tensorflow/core/platform/cpu_feature_guard.cc:142] Your CPU supports instructions that this TensorFlow binary was not compiled to use: AVX2 FMA\n",
      "2019-12-14 19:25:01.079535: I tensorflow/compiler/xla/service/service.cc:168] XLA service 0x7fed61c225c0 executing computations on platform Host. Devices:\n",
      "2019-12-14 19:25:01.079551: I tensorflow/compiler/xla/service/service.cc:175]   StreamExecutor device (0): Host, Default Version\n",
      "Train on 177316 samples, validate on 629 samples\n",
      "Epoch 1/20\n",
      "2019-12-14 19:25:06.815772: W tensorflow/core/grappler/optimizers/implementation_selector.cc:310] Skipping optimization due to error while loading function libraries: Invalid argument: Functions '__inference___backward_standard_lstm_7390_7989_specialized_for_StatefulPartitionedCall_at___inference_distributed_function_8108' and '__inference___backward_standard_lstm_7390_7989' both implement 'lstm_8a5d957e-7f7a-4495-bec5-d0cb9be03a1a' but their signatures do not match.\n",
      "2019-12-14 19:25:07.215605: I tensorflow/core/profiler/lib/profiler_session.cc:184] Profiler session started.\n",
      "WARNING:tensorflow:Method (on_train_batch_end) is slow compared to the batch update (0.198414). Check your callbacks.\n",
      "2019-12-14 19:27:56.355666: W tensorflow/core/grappler/optimizers/implementation_selector.cc:310] Skipping optimization due to error while loading function libraries: Invalid argument: Functions '__inference_standard_lstm_19436_specialized_for_sequential_lstm_StatefulPartitionedCall_at___inference_distributed_function_21304' and '__inference_standard_lstm_19436' both implement 'lstm_23605ca2-bfa9-4fdd-90ad-62587515d208' but their signatures do not match.\n",
      "\n",
      "Epoch 00001: saving model to ks-cooks-1y/models/rnn_cce_ml60_bs32_ne2.452_gc100_e100_h100_Ug_lr0.1_nt1001.hdf5\n",
      "177316/177316 - 172s - loss: 6.9072 - val_loss: 6.8240\n",
      "Epoch 2/20\n",
      "\n",
      "Epoch 00002: saving model to ks-cooks-1y/models/rnn_cce_ml60_bs32_ne2.452_gc100_e100_h100_Ug_lr0.1_nt1002.hdf5\n",
      "177316/177316 - 162s - loss: 6.7926 - val_loss: 6.7498\n",
      "Epoch 3/20\n",
      "\n",
      "Epoch 00003: saving model to ks-cooks-1y/models/rnn_cce_ml60_bs32_ne2.452_gc100_e100_h100_Ug_lr0.1_nt1003.hdf5\n",
      "177316/177316 - 159s - loss: 6.7403 - val_loss: 6.7105\n",
      "Epoch 4/20\n",
      "\n",
      "Epoch 00004: saving model to ks-cooks-1y/models/rnn_cce_ml60_bs32_ne2.452_gc100_e100_h100_Ug_lr0.1_nt1004.hdf5\n",
      "177316/177316 - 160s - loss: 6.6940 - val_loss: 6.6869\n",
      "Epoch 5/20\n",
      "\n",
      "Epoch 00005: saving model to ks-cooks-1y/models/rnn_cce_ml60_bs32_ne2.452_gc100_e100_h100_Ug_lr0.1_nt1005.hdf5\n",
      "177316/177316 - 159s - loss: 6.6613 - val_loss: 6.6704\n",
      "Epoch 6/20\n",
      "\n",
      "Epoch 00006: saving model to ks-cooks-1y/models/rnn_cce_ml60_bs32_ne2.452_gc100_e100_h100_Ug_lr0.1_nt1006.hdf5\n",
      "177316/177316 - 161s - loss: 6.6334 - val_loss: 6.6496\n",
      "Epoch 7/20\n",
      "\n",
      "Epoch 00007: saving model to ks-cooks-1y/models/rnn_cce_ml60_bs32_ne2.452_gc100_e100_h100_Ug_lr0.1_nt1007.hdf5\n",
      "177316/177316 - 161s - loss: 6.6080 - val_loss: 6.6635\n",
      "Epoch 8/20\n",
      "\n",
      "Epoch 00008: saving model to ks-cooks-1y/models/rnn_cce_ml60_bs32_ne2.452_gc100_e100_h100_Ug_lr0.1_nt1008.hdf5\n",
      "177316/177316 - 162s - loss: 6.5830 - val_loss: 6.6051\n",
      "Epoch 9/20\n",
      "\n",
      "Epoch 00009: saving model to ks-cooks-1y/models/rnn_cce_ml60_bs32_ne2.452_gc100_e100_h100_Ug_lr0.1_nt1009.hdf5\n",
      "177316/177316 - 162s - loss: 6.5580 - val_loss: 6.6123\n",
      "Epoch 10/20\n",
      "\n",
      "Epoch 00010: saving model to ks-cooks-1y/models/rnn_cce_ml60_bs32_ne2.452_gc100_e100_h100_Ug_lr0.1_nt1010.hdf5\n",
      "177316/177316 - 162s - loss: 6.5338 - val_loss: 6.6232\n",
      "Epoch 11/20\n",
      "\n",
      "Epoch 00011: saving model to ks-cooks-1y/models/rnn_cce_ml60_bs32_ne2.452_gc100_e100_h100_Ug_lr0.1_nt1011.hdf5\n",
      "177316/177316 - 160s - loss: 6.5104 - val_loss: 6.6289\n",
      "Epoch 12/20\n",
      "\n",
      "Epoch 00012: saving model to ks-cooks-1y/models/rnn_cce_ml60_bs32_ne2.452_gc100_e100_h100_Ug_lr0.1_nt1012.hdf5\n",
      "177316/177316 - 160s - loss: 6.4866 - val_loss: 6.6276\n",
      "Epoch 13/20\n",
      "\n",
      "Epoch 00013: saving model to ks-cooks-1y/models/rnn_cce_ml60_bs32_ne2.452_gc100_e100_h100_Ug_lr0.1_nt1013.hdf5\n",
      "177316/177316 - 160s - loss: 6.4643 - val_loss: 6.6524\n",
      "Epoch 14/20\n",
      "\n",
      "Epoch 00014: saving model to ks-cooks-1y/models/rnn_cce_ml60_bs32_ne2.452_gc100_e100_h100_Ug_lr0.1_nt1014.hdf5\n",
      "177316/177316 - 161s - loss: 6.4423 - val_loss: 6.7034\n",
      "Epoch 15/20\n",
      "\n",
      "Epoch 00015: saving model to ks-cooks-1y/models/rnn_cce_ml60_bs32_ne2.452_gc100_e100_h100_Ug_lr0.1_nt1015.hdf5\n",
      "177316/177316 - 161s - loss: 6.4208 - val_loss: 6.6872\n",
      "Epoch 16/20\n",
      "\n",
      "Epoch 00016: saving model to ks-cooks-1y/models/rnn_cce_ml60_bs32_ne2.452_gc100_e100_h100_Ug_lr0.1_nt1016.hdf5\n",
      "177316/177316 - 165s - loss: 6.4004 - val_loss: 6.6755\n",
      "Epoch 17/20\n",
      "\n",
      "Epoch 00017: saving model to ks-cooks-1y/models/rnn_cce_ml60_bs32_ne2.452_gc100_e100_h100_Ug_lr0.1_nt1017.hdf5\n",
      "177316/177316 - 173s - loss: 6.3810 - val_loss: 6.6452\n",
      "Epoch 18/20\n",
      "\n",
      "Epoch 00018: saving model to ks-cooks-1y/models/rnn_cce_ml60_bs32_ne2.452_gc100_e100_h100_Ug_lr0.1_nt1018.hdf5\n",
      "177316/177316 - 171s - loss: 6.3611 - val_loss: 6.6650\n",
      "Epoch 19/20\n",
      "\n",
      "Epoch 00019: saving model to ks-cooks-1y/models/rnn_cce_ml60_bs32_ne2.452_gc100_e100_h100_Ug_lr0.1_nt1019.hdf5\n",
      "177316/177316 - 161s - loss: 6.3431 - val_loss: 6.7572\n",
      "Epoch 20/20\n",
      "\n",
      "Epoch 00020: saving model to ks-cooks-1y/models/rnn_cce_ml60_bs32_ne2.452_gc100_e100_h100_Ug_lr0.1_nt1020.hdf5\n",
      "177316/177316 - 160s - loss: 6.3255 - val_loss: 6.6977\n",
      "[6.907218457010528, 6.792607079411928, 6.740330814806989, 6.694027707310467, 6.66133633861229, 6.633437571307964, 6.607968536171198, 6.583026362970327, 6.557957301249228, 6.53375594815851, 6.510436593387701, 6.486633614255239, 6.464300962204286, 6.442251644180991, 6.420842326699352, 6.400409643433145, 6.380971356972579, 6.361077440984653, 6.343126589333993, 6.325533434825628]\n",
      "Opening file (1)\n",
      "RNN with categorical cross entropy 0 batchs,  3251.5567729473114  epochs in 3286.3168120384216 s\n",
      "Last train cost :  6.54236248616435\n",
      "recall :  0.049530638440400676\n",
      "precision :  0.07933227344992091\n",
      "sps :  0.05087440381558029\n",
      "Best  sps :  0.05087440381558029\n",
      "sps_short :  0.046052631578947366\n",
      "sps_long :  0.055384615384615386\n",
      "user_coverage :  0.5103338632750397\n",
      "item_coverage :  147\n",
      "total_item_coverage :  499\n",
      "uniq_rec :  523\n",
      "ndcg :  0.08241586316639994\n",
      "blockbuster_share :  0.42685370741482964\n",
      "intra_list_similarity :  7.085418970747572\n",
      "-----------------\n",
      "Save model in ks-cooks-1y/models/rnn_cce_ml60_bs32_ne3251.557_gc100_e100_h100_Ug_lr0.1_nt1.hdf5\n"
     ]
    }
   ],
   "source": [
    "!python3 train.py -d ks-cooks-1y -b 32 --max_length 60 --r_l 100  --min_iter 20 --r_emb 100 --r_emb_opt lstm"
   ]
  },
  {
   "cell_type": "code",
   "execution_count": 1,
   "metadata": {},
   "outputs": [
    {
     "name": "stdout",
     "output_type": "stream",
     "text": [
      "2019-12-17 02:05:24.832270: I tensorflow/core/platform/cpu_feature_guard.cc:142] Your CPU supports instructions that this TensorFlow binary was not compiled to use: AVX2 FMA\n",
      "2019-12-17 02:05:24.844432: I tensorflow/compiler/xla/service/service.cc:168] XLA service 0x7f9f9f56dc80 executing computations on platform Host. Devices:\n",
      "2019-12-17 02:05:24.844451: I tensorflow/compiler/xla/service/service.cc:175]   StreamExecutor device (0): Host, Default Version\n",
      "['ks-cooks-1y/models/rnn_cce_ml60_bs32_ne3251.557_gc100_e100_h100_Ug_lr0.1_nt1.hdf5']\n",
      "Opening file (1)\n",
      "Timer:  45.571425999999995\n",
      "-------------------\n",
      "( 1 / 1 ) results on ks-cooks-1y/models/rnn_cce_ml60_bs32_ne3251.557_gc100_e100_h100_Ug_lr0.1_nt1.hdf5\n",
      "sps@10:  0.07154213036565978\n",
      "sps_short@10:  0.06774193548387097\n",
      "sps_long@10:  0.07523510971786834\n",
      "recall@10:  0.05413209705901021\n",
      "precision@10:  0.0952305246422897\n",
      "uniq_rec@10:  614\n",
      "total_item_coverage@10:  599\n",
      "item_coverage@10:  198\n",
      "user_coverage@10:  0.5516693163751988\n",
      "ndcg@10:  0.09764414684823007\n",
      "blockbuster_share@10:  0.42070116861435725\n",
      "intra_list_similarity@10:  6.824273320734993\n"
     ]
    }
   ],
   "source": [
    "!python3 test.py -d ks-cooks-1y -b 32 --max_length 60 --r_emb 100 --r_l 100 -i 3251.557"
   ]
  },
  {
   "cell_type": "code",
   "execution_count": 6,
   "metadata": {},
   "outputs": [
    {
     "name": "stdout",
     "output_type": "stream",
     "text": [
      "2019-12-17 02:16:44.529811: I tensorflow/core/platform/cpu_feature_guard.cc:142] Your CPU supports instructions that this TensorFlow binary was not compiled to use: AVX2 FMA\n",
      "2019-12-17 02:16:44.544818: I tensorflow/compiler/xla/service/service.cc:168] XLA service 0x7fba04e377c0 executing computations on platform Host. Devices:\n",
      "2019-12-17 02:16:44.544834: I tensorflow/compiler/xla/service/service.cc:175]   StreamExecutor device (0): Host, Default Version\n",
      "['ks-cooks-1y/models/rnn_cce_ml60_bs32_ne2452.2_gc100_e100_h100_Ug_lr0.1_nt1.hdf5']\n",
      "Opening file (1)\n",
      "Timer:  43.686618\n",
      "-------------------\n",
      "( 1 / 1 ) results on ks-cooks-1y/models/rnn_cce_ml60_bs32_ne2452.2_gc100_e100_h100_Ug_lr0.1_nt1.hdf5\n",
      "sps@10:  0.07154213036565978\n",
      "sps_short@10:  0.06774193548387097\n",
      "sps_long@10:  0.07523510971786834\n",
      "recall@10:  0.05413209705901021\n",
      "precision@10:  0.0952305246422897\n",
      "uniq_rec@10:  614\n",
      "total_item_coverage@10:  599\n",
      "item_coverage@10:  198\n",
      "user_coverage@10:  0.5516693163751988\n",
      "ndcg@10:  0.09764414684823007\n",
      "blockbuster_share@10:  0.42070116861435725\n",
      "intra_list_similarity@10:  6.824273320734993\n"
     ]
    }
   ],
   "source": [
    "# 20the epoch\n",
    "!python3 test.py -d ks-cooks-1y -b 32 --max_length 60 --r_emb 100 --r_l 100 -i 2452.2"
   ]
  },
  {
   "cell_type": "code",
   "execution_count": 7,
   "metadata": {},
   "outputs": [
    {
     "name": "stdout",
     "output_type": "stream",
     "text": [
      "2019-12-17 02:18:19.651602: I tensorflow/core/platform/cpu_feature_guard.cc:142] Your CPU supports instructions that this TensorFlow binary was not compiled to use: AVX2 FMA\n",
      "2019-12-17 02:18:19.661751: I tensorflow/compiler/xla/service/service.cc:168] XLA service 0x7f820d011770 executing computations on platform Host. Devices:\n",
      "2019-12-17 02:18:19.661770: I tensorflow/compiler/xla/service/service.cc:175]   StreamExecutor device (0): Host, Default Version\n",
      "['ks-cooks-1y/models/rnn_cce_ml60_bs32_ne2452.1_gc100_e100_h100_Ug_lr0.1_nt1.hdf5']\n",
      "Opening file (1)\n",
      "Timer:  44.721447\n",
      "-------------------\n",
      "( 1 / 1 ) results on ks-cooks-1y/models/rnn_cce_ml60_bs32_ne2452.1_gc100_e100_h100_Ug_lr0.1_nt1.hdf5\n",
      "sps@10:  0.07154213036565978\n",
      "sps_short@10:  0.06451612903225806\n",
      "sps_long@10:  0.07836990595611286\n",
      "recall@10:  0.05801511616980261\n",
      "precision@10:  0.10190779014308464\n",
      "uniq_rec@10:  387\n",
      "total_item_coverage@10:  641\n",
      "item_coverage@10:  152\n",
      "user_coverage@10:  0.5802861685214626\n",
      "ndcg@10:  0.1094116453991752\n",
      "blockbuster_share@10:  0.46021840873634945\n",
      "intra_list_similarity@10:  7.770008405897089\n"
     ]
    }
   ],
   "source": [
    "# 10the epoch, rnn_cce_ml60_bs32_ne2452.1_gc100_e100_h100_Ug_lr0.1_nt1.hdf5\n",
    "!python3 test.py -d ks-cooks-1y -b 32 --max_length 60 --r_emb 100 --r_l 100 -i 2452.1"
   ]
  },
  {
   "cell_type": "code",
   "execution_count": 8,
   "metadata": {},
   "outputs": [
    {
     "name": "stdout",
     "output_type": "stream",
     "text": [
      "2019-12-17 02:23:52.147713: I tensorflow/core/platform/cpu_feature_guard.cc:142] Your CPU supports instructions that this TensorFlow binary was not compiled to use: AVX2 FMA\n",
      "2019-12-17 02:23:52.160515: I tensorflow/compiler/xla/service/service.cc:168] XLA service 0x7faf3502a5e0 executing computations on platform Host. Devices:\n",
      "2019-12-17 02:23:52.160533: I tensorflow/compiler/xla/service/service.cc:175]   StreamExecutor device (0): Host, Default Version\n",
      "['ks-cooks-1y/models/rnn_cce_ml60_bs32_ne2561.1_gc100_e100_h100_Ug_lr0.1_nt1.hdf5']\n",
      "Opening file (1)\n",
      "Timer:  46.183\n",
      "-------------------\n",
      "( 1 / 1 ) results on ks-cooks-1y/models/rnn_cce_ml60_bs32_ne2561.1_gc100_e100_h100_Ug_lr0.1_nt1.hdf5\n",
      "sps@10:  0.05564387917329094\n",
      "sps_short@10:  0.054838709677419356\n",
      "sps_long@10:  0.05642633228840126\n",
      "recall@10:  0.053701963892371925\n",
      "precision@10:  0.0953895071542134\n",
      "uniq_rec@10:  228\n",
      "total_item_coverage@10:  600\n",
      "item_coverage@10:  113\n",
      "user_coverage@10:  0.5453100158982512\n",
      "ndcg@10:  0.10077884959154321\n",
      "blockbuster_share@10:  0.54\n",
      "intra_list_similarity@10:  8.370583476671507\n"
     ]
    }
   ],
   "source": [
    "# 10th epoch for tfidf, rnn_cce_ml60_bs32_ne2452.1_gc100_e100_h100_Ug_lr0.1_nt1.hdf5\n",
    "!python3 test.py -d ks-cooks-1y -b 32 --max_length 60 --r_emb 100 --r_l 100 -i 2561.1"
   ]
  },
  {
   "cell_type": "code",
   "execution_count": 3,
   "metadata": {},
   "outputs": [
    {
     "name": "stdout",
     "output_type": "stream",
     "text": [
      "2019-12-17 02:07:47.208427: I tensorflow/core/platform/cpu_feature_guard.cc:142] Your CPU supports instructions that this TensorFlow binary was not compiled to use: AVX2 FMA\n",
      "2019-12-17 02:07:47.222503: I tensorflow/compiler/xla/service/service.cc:168] XLA service 0x7fcc01f0f660 executing computations on platform Host. Devices:\n",
      "2019-12-17 02:07:47.222519: I tensorflow/compiler/xla/service/service.cc:175]   StreamExecutor device (0): Host, Default Version\n",
      "['ks-cooks-1y/models/rnn_cce_ml60_bs32_ne2452.8_gc100_e100_h100_Ug_lr0.1_nt1.hdf5']\n",
      "Opening file (1)\n",
      "Timer:  43.937844999999996\n",
      "-------------------\n",
      "( 1 / 1 ) results on ks-cooks-1y/models/rnn_cce_ml60_bs32_ne2452.8_gc100_e100_h100_Ug_lr0.1_nt1.hdf5\n",
      "sps@10:  0.06995230524642289\n",
      "sps_short@10:  0.06451612903225806\n",
      "sps_long@10:  0.07523510971786834\n",
      "recall@10:  0.055431424850798446\n",
      "precision@10:  0.09793322734499237\n",
      "uniq_rec@10:  314\n",
      "total_item_coverage@10:  616\n",
      "item_coverage@10:  139\n",
      "user_coverage@10:  0.5532591414944356\n",
      "ndcg@10:  0.1057333136353465\n",
      "blockbuster_share@10:  0.4318181818181818\n",
      "intra_list_similarity@10:  7.8454680501684155\n"
     ]
    }
   ],
   "source": [
    "# 8th epoch with best val loss for lstm\n",
    "!python3 test.py -d ks-cooks-1y -b 32 --max_length 60 --r_emb 100 --r_l 100 -i 2452.8"
   ]
  },
  {
   "cell_type": "code",
   "execution_count": 4,
   "metadata": {},
   "outputs": [
    {
     "name": "stdout",
     "output_type": "stream",
     "text": [
      "2019-12-17 02:09:37.647786: I tensorflow/core/platform/cpu_feature_guard.cc:142] Your CPU supports instructions that this TensorFlow binary was not compiled to use: AVX2 FMA\n",
      "2019-12-17 02:09:37.659547: I tensorflow/compiler/xla/service/service.cc:168] XLA service 0x7fd9694a7970 executing computations on platform Host. Devices:\n",
      "2019-12-17 02:09:37.659566: I tensorflow/compiler/xla/service/service.cc:175]   StreamExecutor device (0): Host, Default Version\n",
      "['ks-cooks-1y/models/rnn_cce_ml60_bs32_ne2561.8_gc100_e100_h100_Ug_lr0.1_nt1.hdf5']\n",
      "Opening file (1)\n",
      "Timer:  45.956411\n",
      "-------------------\n",
      "( 1 / 1 ) results on ks-cooks-1y/models/rnn_cce_ml60_bs32_ne2561.8_gc100_e100_h100_Ug_lr0.1_nt1.hdf5\n",
      "sps@10:  0.06200317965023847\n",
      "sps_short@10:  0.05806451612903226\n",
      "sps_long@10:  0.06583072100313479\n",
      "recall@10:  0.055562227275624966\n",
      "precision@10:  0.09841017488076349\n",
      "uniq_rec@10:  178\n",
      "total_item_coverage@10:  619\n",
      "item_coverage@10:  105\n",
      "user_coverage@10:  0.5627980922098569\n",
      "ndcg@10:  0.1034985251617255\n",
      "blockbuster_share@10:  0.4927302100161551\n",
      "intra_list_similarity@10:  8.40951544938873\n"
     ]
    }
   ],
   "source": [
    "# 8th epoch with best val loss for tfidf\n",
    "!python3 test.py -d ks-cooks-1y -b 32 --max_length 60 --r_emb 100 --r_l 100 -i 2561.8"
   ]
  },
  {
   "cell_type": "code",
   "execution_count": 5,
   "metadata": {
    "scrolled": false
   },
   "outputs": [
    {
     "name": "stdout",
     "output_type": "stream",
     "text": [
      "2019-12-14 20:19:53.479665: I tensorflow/core/platform/cpu_feature_guard.cc:142] Your CPU supports instructions that this TensorFlow binary was not compiled to use: AVX2 FMA\n",
      "2019-12-14 20:19:53.493573: I tensorflow/compiler/xla/service/service.cc:168] XLA service 0x7f9dd028f6b0 executing computations on platform Host. Devices:\n",
      "2019-12-14 20:19:53.493591: I tensorflow/compiler/xla/service/service.cc:175]   StreamExecutor device (0): Host, Default Version\n",
      "Train on 177316 samples, validate on 629 samples\n",
      "Epoch 1/20\n",
      "2019-12-14 20:19:59.310772: W tensorflow/core/grappler/optimizers/implementation_selector.cc:310] Skipping optimization due to error while loading function libraries: Invalid argument: Functions '__inference___backward_standard_lstm_7390_7989_specialized_for_StatefulPartitionedCall_at___inference_distributed_function_8108' and '__inference___backward_standard_lstm_7390_7989' both implement 'lstm_4007578b-12c8-472e-9f95-d07cdfe2810f' but their signatures do not match.\n",
      "2019-12-14 20:19:59.740179: I tensorflow/core/profiler/lib/profiler_session.cc:184] Profiler session started.\n",
      "WARNING:tensorflow:Method (on_train_batch_end) is slow compared to the batch update (0.186760). Check your callbacks.\n",
      "2019-12-14 20:22:49.076103: W tensorflow/core/grappler/optimizers/implementation_selector.cc:310] Skipping optimization due to error while loading function libraries: Invalid argument: Functions '__inference_standard_lstm_19436_specialized_for_sequential_lstm_StatefulPartitionedCall_at___inference_distributed_function_21304' and '__inference_standard_lstm_19436' both implement 'lstm_4a8844dc-6b82-4ed2-af76-d5c069ddc8f0' but their signatures do not match.\n",
      "\n",
      "Epoch 00001: saving model to ks-cooks-1y/models/rnn_cce_ml60_bs32_ne2.561_gc100_e100_h100_Ug_lr0.1_nt1001.hdf5\n",
      "177316/177316 - 172s - loss: 6.9287 - val_loss: 6.8569\n",
      "Epoch 2/20\n",
      "\n",
      "Epoch 00002: saving model to ks-cooks-1y/models/rnn_cce_ml60_bs32_ne2.561_gc100_e100_h100_Ug_lr0.1_nt1002.hdf5\n",
      "177316/177316 - 163s - loss: 6.8158 - val_loss: 6.7669\n",
      "Epoch 3/20\n",
      "\n",
      "Epoch 00003: saving model to ks-cooks-1y/models/rnn_cce_ml60_bs32_ne2.561_gc100_e100_h100_Ug_lr0.1_nt1003.hdf5\n",
      "177316/177316 - 162s - loss: 6.7799 - val_loss: 6.7579\n",
      "Epoch 4/20\n",
      "\n",
      "Epoch 00004: saving model to ks-cooks-1y/models/rnn_cce_ml60_bs32_ne2.561_gc100_e100_h100_Ug_lr0.1_nt1004.hdf5\n",
      "177316/177316 - 162s - loss: 6.7607 - val_loss: 6.7542\n",
      "Epoch 5/20\n",
      "\n",
      "Epoch 00005: saving model to ks-cooks-1y/models/rnn_cce_ml60_bs32_ne2.561_gc100_e100_h100_Ug_lr0.1_nt1005.hdf5\n",
      "177316/177316 - 164s - loss: 6.7346 - val_loss: 6.7558\n",
      "Epoch 6/20\n",
      "\n",
      "Epoch 00006: saving model to ks-cooks-1y/models/rnn_cce_ml60_bs32_ne2.561_gc100_e100_h100_Ug_lr0.1_nt1006.hdf5\n",
      "177316/177316 - 165s - loss: 6.7073 - val_loss: 6.7096\n",
      "Epoch 7/20\n",
      "\n",
      "Epoch 00007: saving model to ks-cooks-1y/models/rnn_cce_ml60_bs32_ne2.561_gc100_e100_h100_Ug_lr0.1_nt1007.hdf5\n",
      "177316/177316 - 164s - loss: 6.6851 - val_loss: 6.7151\n",
      "Epoch 8/20\n",
      "\n",
      "Epoch 00008: saving model to ks-cooks-1y/models/rnn_cce_ml60_bs32_ne2.561_gc100_e100_h100_Ug_lr0.1_nt1008.hdf5\n",
      "177316/177316 - 164s - loss: 6.6667 - val_loss: 6.6977\n",
      "Epoch 9/20\n",
      "\n",
      "Epoch 00009: saving model to ks-cooks-1y/models/rnn_cce_ml60_bs32_ne2.561_gc100_e100_h100_Ug_lr0.1_nt1009.hdf5\n",
      "177316/177316 - 163s - loss: 6.6495 - val_loss: 6.7134\n",
      "Epoch 10/20\n",
      "\n",
      "Epoch 00010: saving model to ks-cooks-1y/models/rnn_cce_ml60_bs32_ne2.561_gc100_e100_h100_Ug_lr0.1_nt1010.hdf5\n",
      "177316/177316 - 164s - loss: 6.6334 - val_loss: 6.7131\n",
      "Epoch 11/20\n",
      "\n",
      "Epoch 00011: saving model to ks-cooks-1y/models/rnn_cce_ml60_bs32_ne2.561_gc100_e100_h100_Ug_lr0.1_nt1011.hdf5\n",
      "177316/177316 - 164s - loss: 6.6176 - val_loss: 6.7264\n",
      "Epoch 12/20\n",
      "\n",
      "Epoch 00012: saving model to ks-cooks-1y/models/rnn_cce_ml60_bs32_ne2.561_gc100_e100_h100_Ug_lr0.1_nt1012.hdf5\n",
      "177316/177316 - 163s - loss: 6.6010 - val_loss: 6.6997\n",
      "Epoch 13/20\n",
      "\n",
      "Epoch 00013: saving model to ks-cooks-1y/models/rnn_cce_ml60_bs32_ne2.561_gc100_e100_h100_Ug_lr0.1_nt1013.hdf5\n",
      "177316/177316 - 163s - loss: 6.5849 - val_loss: 6.6844\n",
      "Epoch 14/20\n",
      "\n",
      "Epoch 00014: saving model to ks-cooks-1y/models/rnn_cce_ml60_bs32_ne2.561_gc100_e100_h100_Ug_lr0.1_nt1014.hdf5\n",
      "177316/177316 - 163s - loss: 6.5692 - val_loss: 6.7311\n",
      "Epoch 15/20\n",
      "\n",
      "Epoch 00015: saving model to ks-cooks-1y/models/rnn_cce_ml60_bs32_ne2.561_gc100_e100_h100_Ug_lr0.1_nt1015.hdf5\n",
      "177316/177316 - 168s - loss: 6.5537 - val_loss: 6.7356\n",
      "Epoch 16/20\n",
      "\n",
      "Epoch 00016: saving model to ks-cooks-1y/models/rnn_cce_ml60_bs32_ne2.561_gc100_e100_h100_Ug_lr0.1_nt1016.hdf5\n",
      "177316/177316 - 170s - loss: 6.5387 - val_loss: 6.7387\n",
      "Epoch 17/20\n",
      "\n",
      "Epoch 00017: saving model to ks-cooks-1y/models/rnn_cce_ml60_bs32_ne2.561_gc100_e100_h100_Ug_lr0.1_nt1017.hdf5\n",
      "177316/177316 - 175s - loss: 6.5228 - val_loss: 6.7378\n",
      "Epoch 18/20\n",
      "\n",
      "Epoch 00018: saving model to ks-cooks-1y/models/rnn_cce_ml60_bs32_ne2.561_gc100_e100_h100_Ug_lr0.1_nt1018.hdf5\n",
      "177316/177316 - 169s - loss: 6.5089 - val_loss: 6.7327\n",
      "Epoch 19/20\n",
      "\n",
      "Epoch 00019: saving model to ks-cooks-1y/models/rnn_cce_ml60_bs32_ne2.561_gc100_e100_h100_Ug_lr0.1_nt1019.hdf5\n",
      "177316/177316 - 168s - loss: 6.4944 - val_loss: 6.7783\n",
      "Epoch 20/20\n",
      "\n",
      "Epoch 00020: saving model to ks-cooks-1y/models/rnn_cce_ml60_bs32_ne2.561_gc100_e100_h100_Ug_lr0.1_nt1020.hdf5\n",
      "177316/177316 - 170s - loss: 6.4813 - val_loss: 6.8012\n",
      "[6.928741943909089, 6.815830698062571, 6.779852670912099, 6.760679664918169, 6.734639903032852, 6.707336959941272, 6.685133131845124, 6.666745577807483, 6.649484339233459, 6.633372874781545, 6.617564323186234, 6.6009571828456854, 6.584915470218037, 6.569239887013033, 6.553679042710229, 6.538738253615238, 6.522844794940577, 6.508898159203855, 6.4944254946435995, 6.481276634515089]\n",
      "Opening file (1)\n",
      "RNN with categorical cross entropy 0 batchs,  3316.36732506752  epochs in 3351.836025953293 s\n",
      "Last train cost :  6.641717850366762\n",
      "recall :  0.05033146218422208\n",
      "precision :  0.08108108108108145\n",
      "sps :  0.05087440381558029\n",
      "Best  sps :  0.05087440381558029\n",
      "sps_short :  0.039473684210526314\n",
      "sps_long :  0.06153846153846154\n",
      "user_coverage :  0.5437201907790143\n",
      "item_coverage :  112\n",
      "total_item_coverage :  510\n",
      "uniq_rec :  316\n",
      "ndcg :  0.08359777533157384\n",
      "blockbuster_share :  0.5\n",
      "intra_list_similarity :  8.008165556311452\n",
      "-----------------\n",
      "Save model in ks-cooks-1y/models/rnn_cce_ml60_bs32_ne3316.367_gc100_e100_h100_Ug_lr0.1_nt1.hdf5\n"
     ]
    }
   ],
   "source": [
    "!python3 train.py -d ks-cooks-1y -b 32 --max_length 60 --r_l 100  --min_iter 20 --r_emb 100 --r_emb_opt tfidf"
   ]
  },
  {
   "cell_type": "code",
   "execution_count": 1,
   "metadata": {},
   "outputs": [
    {
     "name": "stdout",
     "output_type": "stream",
     "text": [
      "2019-12-15 10:31:26.721071: I tensorflow/core/platform/cpu_feature_guard.cc:142] Your CPU supports instructions that this TensorFlow binary was not compiled to use: AVX2 FMA\n",
      "2019-12-15 10:31:26.732356: I tensorflow/compiler/xla/service/service.cc:168] XLA service 0x7ff241430fb0 executing computations on platform Host. Devices:\n",
      "2019-12-15 10:31:26.732383: I tensorflow/compiler/xla/service/service.cc:175]   StreamExecutor device (0): Host, Default Version\n",
      "['ks-cooks-1y/models/rnn_cce_ml60_bs32_ne3316.367_gc100_e100_h100_Ug_lr0.1_nt1.hdf5']\n",
      "Opening file (1)\n",
      "Timer:  43.432345\n",
      "-------------------\n",
      "( 1 / 1 ) results on ks-cooks-1y/models/rnn_cce_ml60_bs32_ne3316.367_gc100_e100_h100_Ug_lr0.1_nt1.hdf5\n",
      "sps@10:  0.04769475357710652\n",
      "sps_short@10:  0.054838709677419356\n",
      "sps_long@10:  0.04075235109717868\n",
      "recall@10:  0.05047818174937481\n",
      "precision@10:  0.08918918918918958\n",
      "uniq_rec@10:  401\n",
      "total_item_coverage@10:  561\n",
      "item_coverage@10:  160\n",
      "user_coverage@10:  0.5389507154213037\n",
      "ndcg@10:  0.09398083778219202\n",
      "blockbuster_share@10:  0.46880570409982175\n",
      "intra_list_similarity@10:  7.653023476350318\n"
     ]
    }
   ],
   "source": [
    "!python3 test.py -d ks-cooks-1y -b 32 --max_length 60 --r_emb 100 --r_l 100 -i 3316.367"
   ]
  },
  {
   "cell_type": "code",
   "execution_count": null,
   "metadata": {},
   "outputs": [],
   "source": [
    "!python train.py -d ks-cooks-1y -b 32 --max_length 60 --r_l 100 --min_iter 10 --r_emb 300 "
   ]
  },
  {
   "cell_type": "code",
   "execution_count": null,
   "metadata": {},
   "outputs": [],
   "source": [
    "!python train.py -d ks-cooks-1y -b 32 --max_length 60 --r_l 100 --min_iter 10 --r_emb 300 --r_emb_opt lstm"
   ]
  },
  {
   "cell_type": "code",
   "execution_count": null,
   "metadata": {},
   "outputs": [],
   "source": [
    "!python train.py -d ks-cooks-1y -b 32 --max_length 60 --r_l 100 --min_iter 10 --r_emb 300 --r_emb_opt tfidf"
   ]
  }
 ],
 "metadata": {
  "kernelspec": {
   "display_name": "Python 3",
   "language": "python",
   "name": "python3"
  },
  "language_info": {
   "codemirror_mode": {
    "name": "ipython",
    "version": 3
   },
   "file_extension": ".py",
   "mimetype": "text/x-python",
   "name": "python",
   "nbconvert_exporter": "python",
   "pygments_lexer": "ipython3",
   "version": "3.7.2"
  }
 },
 "nbformat": 4,
 "nbformat_minor": 2
}
