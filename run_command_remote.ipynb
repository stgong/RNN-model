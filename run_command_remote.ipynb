{
 "cells": [
  {
   "cell_type": "code",
   "execution_count": 1,
   "metadata": {},
   "outputs": [
    {
     "name": "stdout",
     "output_type": "stream",
     "text": [
      "Cloning into 'RRS'...\n",
      "remote: Enumerating objects: 26, done.\u001b[K\n",
      "remote: Counting objects: 100% (26/26), done.\u001b[K\n",
      "remote: Compressing objects: 100% (22/22), done.\u001b[K\n",
      "^Cceiving objects:  98% (334/339), 61.68 MiB | 13.22 MiB/s   \n",
      "/bin/sh: line 0: cd: RRS/Model/RNN: No such file or directory\n",
      "Traceback (most recent call last):\n",
      "  File \"train.py\", line 3, in <module>\n",
      "    import numpy as np\n",
      "ImportError: No module named numpy\n"
     ]
    }
   ],
   "source": [
    "!git clone https://github.com/stgong/RRS.git\n",
    "\n",
    "!cd RRS/Model/RNN\n",
    "!python train.py -d ks-cooks-1y -b 32 --max_length 30 --r_emb 100 --progress 5000 --min_iter 10 --max_iter 20"
   ]
  },
  {
   "cell_type": "code",
   "execution_count": 1,
   "metadata": {},
   "outputs": [],
   "source": [
    "import numpy"
   ]
  },
  {
   "cell_type": "code",
   "execution_count": 10,
   "metadata": {},
   "outputs": [
    {
     "name": "stdout",
     "output_type": "stream",
     "text": [
      "Python 3.6.9\r\n"
     ]
    }
   ],
   "source": [
    "!python -V"
   ]
  },
  {
   "cell_type": "code",
   "execution_count": 15,
   "metadata": {},
   "outputs": [
    {
     "name": "stdout",
     "output_type": "stream",
     "text": [
      "Using TensorFlow backend.\n",
      "2019-12-02 16:32:55.597411: I tensorflow/core/platform/cpu_feature_guard.cc:142] Your CPU supports instructions that this TensorFlow binary was not compiled to use: AVX2 FMA\n",
      "2019-12-02 16:32:55.621284: I tensorflow/core/platform/profile_utils/cpu_utils.cc:94] CPU Frequency: 1895665000 Hz\n",
      "2019-12-02 16:32:55.621757: I tensorflow/compiler/xla/service/service.cc:168] XLA service 0x3c0b6b0 executing computations on platform Host. Devices:\n",
      "2019-12-02 16:32:55.621793: I tensorflow/compiler/xla/service/service.cc:175]   StreamExecutor device (0): Host, Default Version\n",
      "/afs/tu-berlin.de/home/n/nicolakang/irb-ubuntu/RNN-model/remote/remote_env/local/lib/python3.6/site-packages/tensorflow_core/python/framework/indexed_slices.py:424: UserWarning: Converting sparse IndexedSlices to a dense Tensor of unknown shape. This may consume a large amount of memory.\n",
      "  \"Converting sparse IndexedSlices to a dense Tensor of unknown shape. \"\n",
      "Epoch 1/10\n",
      "Opening file (1)\n",
      "Opening file (1)\n",
      "Opening file (2)\n",
      "Opening file (3)\n",
      "Opening file (4)\n",
      "Opening file (5)\n",
      "Opening file (2)\n",
      " - 47s - loss: 7.0046 - val_loss: 6.7104\n",
      "\n",
      "Epoch 00001: val_loss improved from inf to 6.71039, saving model to ks-cooks-1y/models/rnn_cce_ml60_bs32_ne0.0_gc100_e100_h50_Ug_lr0.1_nt1.hdf5\n",
      "Epoch 2/10\n",
      "Opening file (6)\n",
      "Opening file (7)\n",
      "Opening file (8)\n",
      "Opening file (9)\n",
      " - 43s - loss: 6.9309 - val_loss: 7.1437\n",
      "\n",
      "Epoch 00002: val_loss did not improve from 6.71039\n",
      "Epoch 3/10\n",
      "Opening file (10)\n",
      "Opening file (11)\n",
      "Opening file (12)\n",
      "Opening file (13)\n",
      "Opening file (3)\n",
      " - 42s - loss: 6.9131 - val_loss: 6.4625\n",
      "\n",
      "Epoch 00003: val_loss improved from 6.71039 to 6.46245, saving model to ks-cooks-1y/models/rnn_cce_ml60_bs32_ne0.0_gc100_e100_h50_Ug_lr0.1_nt1.hdf5\n",
      "Epoch 4/10\n",
      "Opening file (14)\n",
      "Opening file (15)\n",
      "Opening file (16)\n",
      "Opening file (17)\n",
      "Opening file (4)\n",
      " - 42s - loss: 6.8686 - val_loss: 7.1929\n",
      "\n",
      "Epoch 00004: val_loss did not improve from 6.46245\n",
      "Epoch 5/10\n",
      "Opening file (18)\n",
      "Opening file (19)\n",
      "Opening file (20)\n",
      "Opening file (21)\n",
      "Opening file (22)\n",
      " - 42s - loss: 6.8293 - val_loss: 6.8696\n",
      "\n",
      "Epoch 00005: val_loss did not improve from 6.46245\n",
      "Epoch 6/10\n",
      "Opening file (23)\n",
      "Opening file (24)\n",
      "Opening file (25)\n",
      "Opening file (26)\n",
      "Opening file (5)\n",
      " - 42s - loss: 6.7797 - val_loss: 6.4068\n",
      "\n",
      "Epoch 00006: val_loss improved from 6.46245 to 6.40682, saving model to ks-cooks-1y/models/rnn_cce_ml60_bs32_ne0.0_gc100_e100_h50_Ug_lr0.1_nt1.hdf5\n",
      "Epoch 7/10\n",
      "Opening file (27)\n",
      "Opening file (28)\n",
      "Opening file (29)\n",
      "Opening file (30)\n",
      "Opening file (6)\n",
      " - 42s - loss: 6.7476 - val_loss: 6.4726\n",
      "\n",
      "Epoch 00007: val_loss did not improve from 6.40682\n",
      "Epoch 8/10\n",
      "Opening file (31)\n",
      "Opening file (32)\n",
      "Opening file (33)\n",
      "Opening file (34)\n",
      " - 43s - loss: 6.7170 - val_loss: 6.9184\n",
      "\n",
      "Epoch 00008: val_loss did not improve from 6.40682\n",
      "Epoch 9/10\n",
      "Opening file (35)\n",
      "Opening file (36)\n",
      "Opening file (37)\n",
      "Opening file (38)\n",
      "Opening file (39)\n",
      "Opening file (7)\n",
      " - 46s - loss: 6.6839 - val_loss: 6.7855\n",
      "\n",
      "Epoch 00009: val_loss did not improve from 6.40682\n",
      "Epoch 10/10\n",
      "Opening file (40)\n",
      "Opening file (41)\n",
      "Opening file (42)\n",
      "Opening file (43)\n",
      "Opening file (8)\n",
      " - 44s - loss: 6.6613 - val_loss: 6.6271\n",
      "\n",
      "Epoch 00010: val_loss did not improve from 6.40682\n",
      "[7.004609078407287, 6.930944134712219, 6.913095351696015, 6.868604128360748, 6.829341281414032, 6.7796623682975765, 6.747580102443695, 6.716964378356933, 6.683924204826355, 6.661282968997956]\n",
      "Opening file (1)\n",
      "RNN with categorical cross entropy 0 batchs,  436.0819993019104  epochs in 440.2906563282013 s\n",
      "Last train cost :  6.813600799751282\n",
      "recall :  0.04623761195980576\n",
      "precision :  0.07472178060413391\n",
      "sps :  0.03815580286168521\n",
      "Best  sps :  0.03815580286168521\n",
      "user_coverage :  0.5278219395866455\n",
      "item_coverage :  69\n",
      "ndcg :  0.07768192055612373\n",
      "blockbuster_share :  0.5595744680851064\n",
      "-----------------\n",
      "Save model in ks-cooks-1y/models/rnn_cce_ml60_bs32_ne436.082_gc100_e100_h50_Ug_lr0.1_nt1.hdf5\n"
     ]
    }
   ],
   "source": [
    "!python train.py -d ks-cooks-1y -b 32 --max_length 60 --r_emb 100 --progress 1000 --min_iter 10"
   ]
  },
  {
   "cell_type": "code",
   "execution_count": 8,
   "metadata": {},
   "outputs": [
    {
     "name": "stdout",
     "output_type": "stream",
     "text": [
      "/afs/tu-berlin.de/home/n/nicolakang/irb-ubuntu/RNN-model/remote/RNN-model/\n"
     ]
    }
   ],
   "source": [
    "import os\n",
    "if 'xun' in os.getcwd():\n",
    "    DEFAULT_DIR = os.getcwd() + '/Dataset/'\n",
    "else:\n",
    "    DEFAULT_DIR = os.getcwd() + '/'\n",
    "print(DEFAULT_DIR)"
   ]
  },
  {
   "cell_type": "code",
   "execution_count": 5,
   "metadata": {},
   "outputs": [
    {
     "data": {
      "text/plain": [
       "'/afs/tu-berlin.de/home/n/nicolakang/irb-ubuntu/RNN-model/remote/RNN-model'"
      ]
     },
     "execution_count": 5,
     "metadata": {},
     "output_type": "execute_result"
    }
   ],
   "source": [
    "os.getcwd()"
   ]
  },
  {
   "cell_type": "code",
   "execution_count": 12,
   "metadata": {},
   "outputs": [
    {
     "ename": "FileNotFoundError",
     "evalue": "[Errno 2] No such file or directory: 'ks-cooks-1ydata/stats'",
     "output_type": "error",
     "traceback": [
      "\u001b[0;31m---------------------------------------------------------------------------\u001b[0m",
      "\u001b[0;31mFileNotFoundError\u001b[0m                         Traceback (most recent call last)",
      "\u001b[0;32m/afs/tu-berlin.de/home/n/nicolakang/irb-ubuntu/RNN-model/remote/RNN-model/train.py\u001b[0m in \u001b[0;36m<module>\u001b[0;34m\u001b[0m\n\u001b[1;32m     59\u001b[0m \u001b[0;34m\u001b[0m\u001b[0m\n\u001b[1;32m     60\u001b[0m \u001b[0;32mif\u001b[0m \u001b[0m__name__\u001b[0m \u001b[0;34m==\u001b[0m \u001b[0;34m'__main__'\u001b[0m\u001b[0;34m:\u001b[0m\u001b[0;34m\u001b[0m\u001b[0;34m\u001b[0m\u001b[0m\n\u001b[0;32m---> 61\u001b[0;31m         \u001b[0mmain\u001b[0m\u001b[0;34m(\u001b[0m\u001b[0;34m)\u001b[0m\u001b[0;34m\u001b[0m\u001b[0;34m\u001b[0m\u001b[0m\n\u001b[0m",
      "\u001b[0;32m/afs/tu-berlin.de/home/n/nicolakang/irb-ubuntu/RNN-model/remote/RNN-model/train.py\u001b[0m in \u001b[0;36mmain\u001b[0;34m()\u001b[0m\n\u001b[1;32m     36\u001b[0m         \u001b[0mpredictor\u001b[0m \u001b[0;34m=\u001b[0m \u001b[0mparse\u001b[0m\u001b[0;34m.\u001b[0m\u001b[0mget_predictor\u001b[0m\u001b[0;34m(\u001b[0m\u001b[0margs\u001b[0m\u001b[0;34m)\u001b[0m\u001b[0;34m\u001b[0m\u001b[0;34m\u001b[0m\u001b[0m\n\u001b[1;32m     37\u001b[0m \u001b[0;34m\u001b[0m\u001b[0m\n\u001b[0;32m---> 38\u001b[0;31m         \u001b[0mdataset\u001b[0m \u001b[0;34m=\u001b[0m \u001b[0mDataHandler\u001b[0m\u001b[0;34m(\u001b[0m\u001b[0mdirname\u001b[0m\u001b[0;34m=\u001b[0m\u001b[0margs\u001b[0m\u001b[0;34m.\u001b[0m\u001b[0mdataset\u001b[0m\u001b[0;34m,\u001b[0m \u001b[0mextended_training_set\u001b[0m\u001b[0;34m=\u001b[0m\u001b[0margs\u001b[0m\u001b[0;34m.\u001b[0m\u001b[0mextended_set\u001b[0m\u001b[0;34m,\u001b[0m \u001b[0mshuffle_training\u001b[0m\u001b[0;34m=\u001b[0m\u001b[0margs\u001b[0m\u001b[0;34m.\u001b[0m\u001b[0mtshuffle\u001b[0m\u001b[0;34m)\u001b[0m\u001b[0;34m\u001b[0m\u001b[0;34m\u001b[0m\u001b[0m\n\u001b[0m\u001b[1;32m     39\u001b[0m         \u001b[0;31m# if args.dataset == \"ml1m\":\u001b[0m\u001b[0;34m\u001b[0m\u001b[0;34m\u001b[0m\u001b[0;34m\u001b[0m\u001b[0m\n\u001b[1;32m     40\u001b[0m         \u001b[0;31m#       args.min_iter = 50000\u001b[0m\u001b[0;34m\u001b[0m\u001b[0;34m\u001b[0m\u001b[0;34m\u001b[0m\u001b[0m\n",
      "\u001b[0;32m/afs/tu-berlin.de/home/n/nicolakang/irb-ubuntu/RNN-model/remote/RNN-model/helpers/data_handling.py\u001b[0m in \u001b[0;36m__init__\u001b[0;34m(self, dirname, extended_training_set, shuffle_training)\u001b[0m\n\u001b[1;32m     51\u001b[0m         \u001b[0mself\u001b[0m\u001b[0;34m.\u001b[0m\u001b[0mtest_set\u001b[0m \u001b[0;34m=\u001b[0m \u001b[0mSequenceGenerator\u001b[0m\u001b[0;34m(\u001b[0m\u001b[0mself\u001b[0m\u001b[0;34m.\u001b[0m\u001b[0mdirname\u001b[0m \u001b[0;34m+\u001b[0m \u001b[0;34m'/data/test_set_sequences'\u001b[0m\u001b[0;34m)\u001b[0m\u001b[0;34m\u001b[0m\u001b[0;34m\u001b[0m\u001b[0m\n\u001b[1;32m     52\u001b[0m \u001b[0;34m\u001b[0m\u001b[0m\n\u001b[0;32m---> 53\u001b[0;31m         \u001b[0mself\u001b[0m\u001b[0;34m.\u001b[0m\u001b[0m_load_stats\u001b[0m\u001b[0;34m(\u001b[0m\u001b[0;34m)\u001b[0m\u001b[0;34m\u001b[0m\u001b[0;34m\u001b[0m\u001b[0m\n\u001b[0m\u001b[1;32m     54\u001b[0m \u001b[0;34m\u001b[0m\u001b[0m\n\u001b[1;32m     55\u001b[0m     \u001b[0;32mdef\u001b[0m \u001b[0mtraining_set_triplets\u001b[0m\u001b[0;34m(\u001b[0m\u001b[0mself\u001b[0m\u001b[0;34m)\u001b[0m\u001b[0;34m:\u001b[0m\u001b[0;34m\u001b[0m\u001b[0;34m\u001b[0m\u001b[0m\n",
      "\u001b[0;32m/afs/tu-berlin.de/home/n/nicolakang/irb-ubuntu/RNN-model/remote/RNN-model/helpers/data_handling.py\u001b[0m in \u001b[0;36m_load_stats\u001b[0;34m(self)\u001b[0m\n\u001b[1;32m    114\u001b[0m         ''' Load informations about the dataset from dirname/data/stats\n\u001b[1;32m    115\u001b[0m \t\t'''\n\u001b[0;32m--> 116\u001b[0;31m         \u001b[0;32mwith\u001b[0m \u001b[0mopen\u001b[0m\u001b[0;34m(\u001b[0m\u001b[0mself\u001b[0m\u001b[0;34m.\u001b[0m\u001b[0mdirname\u001b[0m \u001b[0;34m+\u001b[0m \u001b[0;34m'/data/stats'\u001b[0m\u001b[0;34m,\u001b[0m \u001b[0;34m'r'\u001b[0m\u001b[0;34m)\u001b[0m \u001b[0;32mas\u001b[0m \u001b[0mf\u001b[0m\u001b[0;34m:\u001b[0m\u001b[0;34m\u001b[0m\u001b[0;34m\u001b[0m\u001b[0m\n\u001b[0m\u001b[1;32m    117\u001b[0m             \u001b[0m_\u001b[0m \u001b[0;34m=\u001b[0m \u001b[0mf\u001b[0m\u001b[0;34m.\u001b[0m\u001b[0mreadline\u001b[0m\u001b[0;34m(\u001b[0m\u001b[0;34m)\u001b[0m  \u001b[0;31m# Line with column titles\u001b[0m\u001b[0;34m\u001b[0m\u001b[0;34m\u001b[0m\u001b[0m\n\u001b[1;32m    118\u001b[0m             \u001b[0mstats\u001b[0m \u001b[0;34m=\u001b[0m \u001b[0mf\u001b[0m\u001b[0;34m.\u001b[0m\u001b[0mreadline\u001b[0m\u001b[0;34m(\u001b[0m\u001b[0;34m)\u001b[0m\u001b[0;34m.\u001b[0m\u001b[0msplit\u001b[0m\u001b[0;34m(\u001b[0m\u001b[0;34m)\u001b[0m\u001b[0;34m[\u001b[0m\u001b[0;36m1\u001b[0m\u001b[0;34m:\u001b[0m\u001b[0;34m]\u001b[0m\u001b[0;34m\u001b[0m\u001b[0;34m\u001b[0m\u001b[0m\n",
      "\u001b[0;31mFileNotFoundError\u001b[0m: [Errno 2] No such file or directory: 'ks-cooks-1ydata/stats'"
     ]
    }
   ],
   "source": [
    "%run -i train.py -d ks-cooks-1y -b 32 --max_length 60 --r_emb 100 --progress 1000 --min_iter 10"
   ]
  },
  {
   "cell_type": "code",
   "execution_count": 1,
   "metadata": {},
   "outputs": [
    {
     "name": "stderr",
     "output_type": "stream",
     "text": [
      "Using TensorFlow backend.\n"
     ]
    },
    {
     "name": "stdout",
     "output_type": "stream",
     "text": [
      "WARNING:tensorflow:From /Users/xun/Library/Python/3.7/lib/python/site-packages/tensorflow/python/framework/op_def_library.py:263: colocate_with (from tensorflow.python.framework.ops) is deprecated and will be removed in a future version.\n",
      "Instructions for updating:\n",
      "Colocations handled automatically by placer.\n",
      "['/Users/xun/Documents/Thesis/Improving-RNN-recommendation-model/Dataset/ks-cooks-1y/models/ktf/rnn_cce_ml30_bs32_ne10.0_gc100_e8_h50_Ug_lr0.1_nt1.ktf']\n",
      "WARNING:tensorflow:From /Users/xun/Library/Python/3.7/lib/python/site-packages/tensorflow/python/ops/math_ops.py:3066: to_int32 (from tensorflow.python.ops.math_ops) is deprecated and will be removed in a future version.\n",
      "Instructions for updating:\n",
      "Use tf.cast instead.\n",
      "Opening file (1)\n",
      "Timer:  8.520657\n",
      "-------------------\n",
      "( 1 / 1 ) results on /Users/xun/Documents/Thesis/Improving-RNN-recommendation-model/Dataset/ks-cooks-1y/models/ktf/rnn_cce_ml30_bs32_ne10.0_gc100_e8_h50_Ug_lr0.1_nt1.ktf\n",
      "sps@10:  0.06359300476947535\n",
      "recall@10:  0.052172491229024884\n",
      "precision@10:  0.0872813990461053\n",
      "item_coverage@10:  184\n",
      "user_coverage@10:  0.5421303656597775\n",
      "ndcg@10:  0.09215538207998435\n",
      "blockbuster_share@10:  0.3570127504553734\n"
     ]
    }
   ],
   "source": [
    "%run -i test.py -d ks-cooks-1y -b 32 --max_length 30 -i 10.0"
   ]
  },
  {
   "cell_type": "code",
   "execution_count": 2,
   "metadata": {},
   "outputs": [
    {
     "name": "stdout",
     "output_type": "stream",
     "text": [
      "['/Users/xun/Documents/Thesis/Improving-RNN-recommendation-model/Dataset/ks-cooks-1y/models/ktf/rnn_cce_ml60_bs64_ne1547.55_gc100_e8_h50_Ug_lr0.1_nt1.ktf']\n",
      "Opening file (1)\n",
      "Timer:  15.482088000000001\n",
      "-------------------\n",
      "( 1 / 1 ) results on /Users/xun/Documents/Thesis/Improving-RNN-recommendation-model/Dataset/ks-cooks-1y/models/ktf/rnn_cce_ml60_bs64_ne1547.55_gc100_e8_h50_Ug_lr0.1_nt1.ktf\n",
      "sps@10:  0.06677265500794913\n",
      "recall@10:  0.04846479550385751\n",
      "precision@10:  0.08648648648648685\n",
      "item_coverage@10:  164\n",
      "user_coverage@10:  0.5357710651828299\n",
      "ndcg@10:  0.09286435007582435\n",
      "blockbuster_share@10:  0.3952205882352941\n"
     ]
    }
   ],
   "source": [
    "%run -i test.py -d ks-cooks-1y -b 64 --max_length 60 -i 1547.55"
   ]
  },
  {
   "cell_type": "code",
   "execution_count": null,
   "metadata": {},
   "outputs": [],
   "source": []
  }
 ],
 "metadata": {
  "kernelspec": {
   "display_name": "my_remote_env_py3",
   "language": "python",
   "name": "my_remote_env_py3"
  },
  "language_info": {
   "codemirror_mode": {
    "name": "ipython",
    "version": 3
   },
   "file_extension": ".py",
   "mimetype": "text/x-python",
   "name": "python",
   "nbconvert_exporter": "python",
   "pygments_lexer": "ipython3",
   "version": "3.6.9"
  }
 },
 "nbformat": 4,
 "nbformat_minor": 2
}
