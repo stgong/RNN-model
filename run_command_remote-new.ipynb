{
 "cells": [
  {
   "cell_type": "code",
   "execution_count": 1,
   "metadata": {},
   "outputs": [
    {
     "name": "stdout",
     "output_type": "stream",
     "text": [
      "Cloning into 'RRS'...\n",
      "remote: Enumerating objects: 26, done.\u001b[K\n",
      "remote: Counting objects: 100% (26/26), done.\u001b[K\n",
      "remote: Compressing objects: 100% (22/22), done.\u001b[K\n",
      "^Cceiving objects:  98% (334/339), 61.68 MiB | 13.22 MiB/s   \n",
      "/bin/sh: line 0: cd: RRS/Model/RNN: No such file or directory\n",
      "Traceback (most recent call last):\n",
      "  File \"train.py\", line 3, in <module>\n",
      "    import numpy as np\n",
      "ImportError: No module named numpy\n"
     ]
    }
   ],
   "source": [
    "!git clone https://github.com/stgong/RRN-model.git"
   ]
  },
  {
   "cell_type": "code",
   "execution_count": 6,
   "metadata": {},
   "outputs": [],
   "source": [
    "from IPython.display import SVG\n",
    "from IPython.core.interactiveshell import InteractiveShell\n",
    "InteractiveShell.ast_node_interactivity = \"all\""
   ]
  },
  {
   "cell_type": "code",
   "execution_count": 7,
   "metadata": {},
   "outputs": [
    {
     "name": "stdout",
     "output_type": "stream",
     "text": [
      "Python 2.7.10\r\n"
     ]
    }
   ],
   "source": [
    "!python -V"
   ]
  },
  {
   "cell_type": "code",
   "execution_count": 8,
   "metadata": {},
   "outputs": [],
   "source": [
    "import numpy"
   ]
  },
  {
   "cell_type": "code",
   "execution_count": null,
   "metadata": {},
   "outputs": [],
   "source": [
    "# !git pull\n",
    "# !git add .\n",
    "# !git commit -m 'remote h50 fit'\n",
    "# !git push -u origin master"
   ]
  },
  {
   "cell_type": "code",
   "execution_count": 1,
   "metadata": {},
   "outputs": [
    {
     "name": "stdout",
     "output_type": "stream",
     "text": [
      "Using TensorFlow backend.\n",
      "2019-12-04 19:13:06.991393: I tensorflow/core/platform/cpu_feature_guard.cc:142] Your CPU supports instructions that this TensorFlow binary was not compiled to use: AVX2 FMA\n",
      "2019-12-04 19:13:07.013268: I tensorflow/core/platform/profile_utils/cpu_utils.cc:94] CPU Frequency: 1895540000 Hz\n",
      "2019-12-04 19:13:07.013724: I tensorflow/compiler/xla/service/service.cc:168] XLA service 0x3710f90 executing computations on platform Host. Devices:\n",
      "2019-12-04 19:13:07.013857: I tensorflow/compiler/xla/service/service.cc:175]   StreamExecutor device (0): Host, Default Version\n",
      "/afs/tu-berlin.de/home/n/nicolakang/irb-ubuntu/RNN-model/remote/remote_env/local/lib/python3.6/site-packages/tensorflow_core/python/framework/indexed_slices.py:424: UserWarning: Converting sparse IndexedSlices to a dense Tensor of unknown shape. This may consume a large amount of memory.\n",
      "  \"Converting sparse IndexedSlices to a dense Tensor of unknown shape. \"\n",
      "Epoch 1/10\n",
      " - 249s - loss: 6.8478 - val_loss: 6.5065\n",
      "\n",
      "Epoch 00001: val_loss improved from inf to 6.50654, saving model to ks-cooks-1y/models/rnn_cce_ml60_bs32_emb100_h50_Adagrad_lr0.1_nt1_epoch001_i0.804.hdf5\n",
      "Epoch 2/10\n",
      " - 238s - loss: 6.6926 - val_loss: 6.4965\n",
      "\n",
      "Epoch 00002: val_loss improved from 6.50654 to 6.49649, saving model to ks-cooks-1y/models/rnn_cce_ml60_bs32_emb100_h50_Adagrad_lr0.1_nt1_epoch002_i0.804.hdf5\n",
      "Epoch 3/10\n",
      " - 244s - loss: 6.6049 - val_loss: 6.5284\n",
      "\n",
      "Epoch 00003: val_loss did not improve from 6.49649\n",
      "Epoch 4/10\n",
      " - 243s - loss: 6.5323 - val_loss: 6.5144\n",
      "\n",
      "Epoch 00004: val_loss did not improve from 6.49649\n",
      "Epoch 5/10\n",
      " - 240s - loss: 6.4692 - val_loss: 6.5347\n",
      "\n",
      "Epoch 00005: val_loss did not improve from 6.49649\n",
      "Epoch 6/10\n",
      " - 240s - loss: 6.4151 - val_loss: 6.5451\n",
      "\n",
      "Epoch 00006: val_loss did not improve from 6.49649\n",
      "Epoch 7/10\n",
      " - 239s - loss: 6.3674 - val_loss: 6.6343\n",
      "\n",
      "Epoch 00007: val_loss did not improve from 6.49649\n",
      "Epoch 8/10\n",
      " - 240s - loss: 6.3239 - val_loss: 6.5960\n",
      "\n",
      "Epoch 00008: val_loss did not improve from 6.49649\n",
      "Epoch 9/10\n",
      " - 239s - loss: 6.2870 - val_loss: 6.6032\n",
      "\n",
      "Epoch 00009: val_loss did not improve from 6.49649\n",
      "Epoch 10/10\n",
      " - 252s - loss: 6.2526 - val_loss: 6.6034\n",
      "\n",
      "Epoch 00010: val_loss did not improve from 6.49649\n",
      "Opening file (1)\n",
      "RNN with categorical cross entropy 5541 batchs,  10  epochs in 2429.483806371689 s\n",
      "Last train cost :  6.47926561676236\n",
      "recall :  0.04306821438204958\n",
      "precision :  0.07106518282988901\n",
      "sps :  0.04451510333863275\n",
      "Best  sps :  0.04451510333863275\n",
      "user_coverage :  0.48012718600953896\n",
      "item_coverage :  119\n",
      "ndcg :  0.0751693660715017\n",
      "blockbuster_share :  0.44966442953020136\n",
      "-----------------\n",
      "Save model in ks-cooks-1y/models/rnn_cce_ml60_bs32_emb100_h50_Adagrad_lr0.1_nt1_epoch10_i2425.363.hdf5\n"
     ]
    }
   ],
   "source": [
    "!python train.py -d ks-cooks-1y -b 32 --max_length 60 --r_emb 100 --r_l 50 --epochs 10"
   ]
  },
  {
   "cell_type": "code",
   "execution_count": 3,
   "metadata": {},
   "outputs": [
    {
     "name": "stdout",
     "output_type": "stream",
     "text": [
      "Using TensorFlow backend.\n",
      "2019-12-04 19:58:08.874732: I tensorflow/core/platform/cpu_feature_guard.cc:142] Your CPU supports instructions that this TensorFlow binary was not compiled to use: AVX2 FMA\n",
      "2019-12-04 19:58:08.897369: I tensorflow/core/platform/profile_utils/cpu_utils.cc:94] CPU Frequency: 1895540000 Hz\n",
      "2019-12-04 19:58:08.898547: I tensorflow/compiler/xla/service/service.cc:168] XLA service 0x3ab4a70 executing computations on platform Host. Devices:\n",
      "2019-12-04 19:58:08.898647: I tensorflow/compiler/xla/service/service.cc:175]   StreamExecutor device (0): Host, Default Version\n",
      "['ks-cooks-1y/models/rnn_cce_ml60_bs32_emb100_h50_Adagrad_lr0.1_nt1_epoch10_i2425.363.hdf5']\n",
      "/afs/tu-berlin.de/home/n/nicolakang/irb-ubuntu/RNN-model/remote/remote_env/local/lib/python3.6/site-packages/tensorflow_core/python/framework/indexed_slices.py:424: UserWarning: Converting sparse IndexedSlices to a dense Tensor of unknown shape. This may consume a large amount of memory.\n",
      "  \"Converting sparse IndexedSlices to a dense Tensor of unknown shape. \"\n",
      "Opening file (1)\n",
      "Timer:  10.443673791999998\n",
      "-------------------\n",
      "( 1 / 1 ) results on ks-cooks-1y/models/rnn_cce_ml60_bs32_emb100_h50_Adagrad_lr0.1_nt1_epoch10_i2425.363.hdf5\n",
      "sps@10:  0.057233704292527825\n",
      "recall@10:  0.04741258014003696\n",
      "precision@10:  0.08314785373608932\n",
      "item_coverage@10:  139\n",
      "user_coverage@10:  0.5119236883942766\n",
      "ndcg@10:  0.08864601182187826\n",
      "blockbuster_share@10:  0.4378585086042065\n"
     ]
    }
   ],
   "source": [
    "!python test.py -d ks-cooks-1y -b 32 --max_length 60 --r_emb 100 --r_l 50 -e 10 -i 2425.363"
   ]
  },
  {
   "cell_type": "code",
   "execution_count": 4,
   "metadata": {},
   "outputs": [],
   "source": [
    "#  workers = 4, use_multiprocessing = True,"
   ]
  },
  {
   "cell_type": "code",
   "execution_count": 10,
   "metadata": {},
   "outputs": [
    {
     "name": "stdout",
     "output_type": "stream",
     "text": [
      "Using TensorFlow backend.\n",
      "2019-12-04 22:24:17.353959: I tensorflow/core/platform/cpu_feature_guard.cc:142] Your CPU supports instructions that this TensorFlow binary was not compiled to use: AVX2 FMA\n",
      "2019-12-04 22:24:17.381138: I tensorflow/core/platform/profile_utils/cpu_utils.cc:94] CPU Frequency: 1895540000 Hz\n",
      "2019-12-04 22:24:17.381635: I tensorflow/compiler/xla/service/service.cc:168] XLA service 0x48d2900 executing computations on platform Host. Devices:\n",
      "2019-12-04 22:24:17.381691: I tensorflow/compiler/xla/service/service.cc:175]   StreamExecutor device (0): Host, Default Version\n",
      "/afs/tu-berlin.de/home/n/nicolakang/irb-ubuntu/RNN-model/remote/remote_env/local/lib/python3.6/site-packages/tensorflow_core/python/framework/indexed_slices.py:424: UserWarning: Converting sparse IndexedSlices to a dense Tensor of unknown shape. This may consume a large amount of memory.\n",
      "  \"Converting sparse IndexedSlices to a dense Tensor of unknown shape. \"\n",
      "Epoch 1/10\n",
      "5541/5541 [==============================] - 273s 49ms/step - loss: 6.8517 - val_loss: 6.7842\n",
      "\n",
      "Epoch 00001: val_loss improved from inf to 6.78421, saving model to ks-cooks-1y/models/rnn_cce_ml60_bs32_emb100_h50_Adagrad_lr0.1_nt1_epoch001_i0.801.hdf5\n",
      "Epoch 2/10\n",
      "5541/5541 [==============================] - 276s 50ms/step - loss: 6.6925 - val_loss: 6.5833\n",
      "\n",
      "Epoch 00002: val_loss improved from 6.78421 to 6.58332, saving model to ks-cooks-1y/models/rnn_cce_ml60_bs32_emb100_h50_Adagrad_lr0.1_nt1_epoch002_i0.801.hdf5\n",
      "Epoch 3/10\n",
      "5541/5541 [==============================] - 278s 50ms/step - loss: 6.6019 - val_loss: 6.4652\n",
      "\n",
      "Epoch 00003: val_loss improved from 6.58332 to 6.46521, saving model to ks-cooks-1y/models/rnn_cce_ml60_bs32_emb100_h50_Adagrad_lr0.1_nt1_epoch003_i0.801.hdf5\n",
      "Epoch 4/10\n",
      "5541/5541 [==============================] - 287s 52ms/step - loss: 6.5265 - val_loss: 6.5277\n",
      "\n",
      "Epoch 00004: val_loss did not improve from 6.46521\n",
      "Epoch 5/10\n",
      "5541/5541 [==============================] - 300s 54ms/step - loss: 6.4673 - val_loss: 6.5093\n",
      "\n",
      "Epoch 00005: val_loss did not improve from 6.46521\n",
      "Epoch 6/10\n",
      "5541/5541 [==============================] - 307s 55ms/step - loss: 6.4169 - val_loss: 6.5630\n",
      "\n",
      "Epoch 00006: val_loss did not improve from 6.46521\n",
      "Epoch 7/10\n",
      "5541/5541 [==============================] - 303s 55ms/step - loss: 6.3713 - val_loss: 6.6746\n",
      "\n",
      "Epoch 00007: val_loss did not improve from 6.46521\n",
      "Epoch 8/10\n",
      "5541/5541 [==============================] - 312s 56ms/step - loss: 6.3308 - val_loss: 6.6586\n",
      "\n",
      "Epoch 00008: val_loss did not improve from 6.46521\n",
      "Epoch 9/10\n",
      "5541/5541 [==============================] - 329s 59ms/step - loss: 6.2933 - val_loss: 6.6238\n",
      "\n",
      "Epoch 00009: val_loss did not improve from 6.46521\n",
      "Epoch 10/10\n",
      "5541/5541 [==============================] - 322s 58ms/step - loss: 6.2586 - val_loss: 6.7116\n",
      "\n",
      "Epoch 00010: val_loss did not improve from 6.46521\n",
      "Opening file (1)\n",
      "RNN with categorical cross entropy 5541 batchs,  10  epochs in 2991.860992908478 s\n",
      "Last train cost :  6.481075544568998\n",
      "recall :  0.048594524729013724\n",
      "precision :  0.07869634340222609\n",
      "sps :  0.058823529411764705\n",
      "Best  sps :  0.058823529411764705\n",
      "user_coverage :  0.5135135135135135\n",
      "item_coverage :  125\n",
      "ndcg :  0.08269731304989146\n",
      "blockbuster_share :  0.4484848484848485\n",
      "-----------------\n",
      "Save model in ks-cooks-1y/models/rnn_cce_ml60_bs32_emb100_h50_Adagrad_lr0.1_nt1_epoch10_i2987.709.hdf5\n"
     ]
    }
   ],
   "source": [
    "!python train.py -d ks-cooks-1y -b 32 --max_length 60 --r_emb 100 --r_l 50 --epochs 10"
   ]
  },
  {
   "cell_type": "code",
   "execution_count": null,
   "metadata": {},
   "outputs": [],
   "source": []
  }
 ],
 "metadata": {
  "kernelspec": {
   "display_name": "Python 3",
   "language": "python",
   "name": "python3"
  },
  "language_info": {
   "codemirror_mode": {
    "name": "ipython",
    "version": 3
   },
   "file_extension": ".py",
   "mimetype": "text/x-python",
   "name": "python",
   "nbconvert_exporter": "python",
   "pygments_lexer": "ipython3",
   "version": "3.6.9"
  }
 },
 "nbformat": 4,
 "nbformat_minor": 2
}
